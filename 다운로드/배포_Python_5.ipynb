{
  "cells": [
    {
      "cell_type": "code",
      "execution_count": null,
      "id": "cc2a2fda",
      "metadata": {
        "id": "cc2a2fda"
      },
      "outputs": [],
      "source": [
        "%config Completer.use_jedi = False"
      ]
    },
    {
      "cell_type": "markdown",
      "id": "bb8a4e7f",
      "metadata": {
        "id": "bb8a4e7f"
      },
      "source": [
        "## 디폴트 인자(default argument, = 기본 인자) : \n",
        "- 함수의 매개변수는 기본값을 가질 수 있다.\n",
        "- 인자가 부족하면 기본값을 채워준다."
      ]
    },
    {
      "cell_type": "code",
      "execution_count": null,
      "id": "29afd2ac",
      "metadata": {
        "id": "29afd2ac"
      },
      "outputs": [],
      "source": [
        "def greet(name, msg ):\n",
        "    print('안녕', )"
      ]
    },
    {
      "cell_type": "code",
      "execution_count": null,
      "id": "13a1163d",
      "metadata": {
        "id": "13a1163d"
      },
      "outputs": [],
      "source": [
        "greet('길동', '좋은 아침!!')"
      ]
    },
    {
      "cell_type": "code",
      "execution_count": null,
      "id": "e06dbf57",
      "metadata": {
        "id": "e06dbf57"
      },
      "outputs": [],
      "source": []
    },
    {
      "cell_type": "code",
      "execution_count": null,
      "id": "902a13dd",
      "metadata": {
        "id": "902a13dd"
      },
      "outputs": [],
      "source": [
        "greet('길산')"
      ]
    },
    {
      "cell_type": "code",
      "execution_count": null,
      "id": "4e5d13c7",
      "metadata": {
        "id": "4e5d13c7"
      },
      "outputs": [],
      "source": [
        "greet('길산', '좋은 아침~')"
      ]
    },
    {
      "cell_type": "markdown",
      "id": "075cfb87",
      "metadata": {
        "id": "075cfb87"
      },
      "source": [
        "## keyword argument :\n",
        "- 매개 변수 이름을 지정해서 값을 전달하는 방식 "
      ]
    },
    {
      "cell_type": "code",
      "execution_count": null,
      "id": "52bad9ad",
      "metadata": {
        "id": "52bad9ad"
      },
      "outputs": [],
      "source": [
        "def calc(x, y, z):\n",
        "    return x+y+z"
      ]
    },
    {
      "cell_type": "code",
      "execution_count": null,
      "id": "14a61b5b",
      "metadata": {
        "id": "14a61b5b"
      },
      "outputs": [],
      "source": []
    },
    {
      "cell_type": "code",
      "execution_count": null,
      "id": "4b468138",
      "metadata": {
        "id": "4b468138"
      },
      "outputs": [],
      "source": []
    },
    {
      "cell_type": "code",
      "execution_count": null,
      "id": "bd5e592e",
      "metadata": {
        "id": "bd5e592e"
      },
      "outputs": [],
      "source": []
    },
    {
      "cell_type": "code",
      "execution_count": null,
      "id": "abb161f1",
      "metadata": {
        "id": "abb161f1"
      },
      "outputs": [],
      "source": []
    },
    {
      "cell_type": "markdown",
      "id": "90b07e83",
      "metadata": {
        "id": "90b07e83"
      },
      "source": [
        "## 가변 인자\n",
        "- 몇 개의 인자를 받을지 정해지지 않은 인자\n",
        "- 파이썬에서는 가변 인자를 받을 때 * (Asterisk) 을 붙여서 받는다.\n",
        "- 입력받는 전달 인자의 개수에 상관없음"
      ]
    },
    {
      "cell_type": "code",
      "execution_count": null,
      "id": "f1e2c70f",
      "metadata": {
        "id": "f1e2c70f"
      },
      "outputs": [],
      "source": [
        "def sum_all( ):\n",
        "    result = 0\n",
        "    \n",
        "    for i in args:\n",
        "        result += i\n",
        "    return result"
      ]
    },
    {
      "cell_type": "raw",
      "id": "8f954dae",
      "metadata": {
        "id": "8f954dae"
      },
      "source": [
        "sum_all(1,2,3,4,5,6,7,8,9,10)"
      ]
    },
    {
      "cell_type": "markdown",
      "id": "e1ffd2b6",
      "metadata": {
        "id": "e1ffd2b6"
      },
      "source": [
        "## 키워드 가변 인자: 키워드 + 가변 \n",
        "- ** 을 사용\n",
        "- dictionary 형태로 입력"
      ]
    },
    {
      "cell_type": "code",
      "execution_count": null,
      "id": "6eb12d10",
      "metadata": {
        "id": "6eb12d10"
      },
      "outputs": [],
      "source": [
        "def dic_text( ):\n",
        "    print( )"
      ]
    },
    {
      "cell_type": "code",
      "execution_count": null,
      "id": "81cd1bd6",
      "metadata": {
        "id": "81cd1bd6"
      },
      "outputs": [],
      "source": [
        "dic_text(   )"
      ]
    },
    {
      "cell_type": "markdown",
      "id": "8cc61495",
      "metadata": {
        "id": "8cc61495"
      },
      "source": [
        "## 함수는 객체"
      ]
    },
    {
      "cell_type": "code",
      "execution_count": null,
      "id": "28ce72c9",
      "metadata": {
        "id": "28ce72c9"
      },
      "outputs": [],
      "source": [
        "def func(dx, dy):\n",
        "    '''이것은 여러줄 \n",
        "    주석입니다. \n",
        "    함수의 도움말'''\n",
        "    dx, dy = dy, dx\n",
        "    return dx, dy"
      ]
    },
    {
      "cell_type": "code",
      "execution_count": null,
      "id": "80d3e7a9",
      "metadata": {
        "id": "80d3e7a9"
      },
      "outputs": [],
      "source": []
    },
    {
      "cell_type": "code",
      "execution_count": null,
      "id": "38399db4",
      "metadata": {
        "id": "38399db4"
      },
      "outputs": [],
      "source": []
    },
    {
      "cell_type": "code",
      "execution_count": null,
      "id": "6b3d9260",
      "metadata": {
        "id": "6b3d9260"
      },
      "outputs": [],
      "source": []
    },
    {
      "cell_type": "code",
      "execution_count": null,
      "id": "42518a5b",
      "metadata": {
        "id": "42518a5b"
      },
      "outputs": [],
      "source": []
    },
    {
      "cell_type": "code",
      "execution_count": null,
      "id": "6cca23b4",
      "metadata": {
        "id": "6cca23b4"
      },
      "outputs": [],
      "source": []
    },
    {
      "cell_type": "code",
      "execution_count": null,
      "id": "77e60e6f",
      "metadata": {
        "id": "77e60e6f"
      },
      "outputs": [],
      "source": [
        "def wow(text):\n",
        "    return text.upper()"
      ]
    },
    {
      "cell_type": "code",
      "execution_count": null,
      "id": "28fe984c",
      "metadata": {
        "id": "28fe984c"
      },
      "outputs": [],
      "source": []
    },
    {
      "cell_type": "code",
      "execution_count": null,
      "id": "fb860084",
      "metadata": {
        "id": "fb860084"
      },
      "outputs": [],
      "source": []
    },
    {
      "cell_type": "code",
      "execution_count": null,
      "id": "0ad49529",
      "metadata": {
        "id": "0ad49529"
      },
      "outputs": [],
      "source": []
    },
    {
      "cell_type": "code",
      "execution_count": null,
      "id": "1b5c1e7e",
      "metadata": {
        "id": "1b5c1e7e"
      },
      "outputs": [],
      "source": []
    },
    {
      "cell_type": "code",
      "execution_count": null,
      "id": "e14955b7",
      "metadata": {
        "id": "e14955b7"
      },
      "outputs": [],
      "source": []
    },
    {
      "cell_type": "code",
      "execution_count": null,
      "id": "3803e637",
      "metadata": {
        "id": "3803e637"
      },
      "outputs": [],
      "source": []
    },
    {
      "cell_type": "markdown",
      "id": "2d69149f",
      "metadata": {
        "id": "2d69149f"
      },
      "source": [
        "### Python 함수는 객체이므로 자료구조 속에 넣을 수 있음"
      ]
    },
    {
      "cell_type": "code",
      "execution_count": null,
      "id": "74ff07a4",
      "metadata": {
        "id": "74ff07a4"
      },
      "outputs": [],
      "source": [
        "flst = [oh, str.lower, str.capitalize]"
      ]
    },
    {
      "cell_type": "code",
      "execution_count": null,
      "id": "c31d978e",
      "metadata": {
        "id": "c31d978e"
      },
      "outputs": [],
      "source": [
        "flst"
      ]
    },
    {
      "cell_type": "code",
      "execution_count": null,
      "id": "427a1e04",
      "metadata": {
        "id": "427a1e04"
      },
      "outputs": [],
      "source": [
        "for x in flst:\n",
        "    "
      ]
    },
    {
      "cell_type": "code",
      "execution_count": null,
      "id": "badcbcd7",
      "metadata": {
        "id": "badcbcd7"
      },
      "outputs": [],
      "source": []
    },
    {
      "cell_type": "markdown",
      "id": "ee8acf12",
      "metadata": {
        "id": "ee8acf12"
      },
      "source": [
        "### split()함수와 join() 함수"
      ]
    },
    {
      "cell_type": "code",
      "execution_count": 41,
      "id": "a50e68db",
      "metadata": {
        "id": "a50e68db"
      },
      "outputs": [],
      "source": [
        "color = ['blue', 'red', 'yellow', 'green']"
      ]
    },
    {
      "cell_type": "code",
      "execution_count": 42,
      "id": "f3de42b3",
      "metadata": {
        "id": "f3de42b3",
        "outputId": "cf18091d-616a-4c52-f670-53de594010fb",
        "colab": {
          "base_uri": "https://localhost:8080/",
          "height": 35
        }
      },
      "outputs": [
        {
          "output_type": "execute_result",
          "data": {
            "text/plain": [
              "'blue.red.yellow.green'"
            ],
            "application/vnd.google.colaboratory.intrinsic+json": {
              "type": "string"
            }
          },
          "metadata": {},
          "execution_count": 42
        }
      ],
      "source": [
        "'.'.join(color)"
      ]
    },
    {
      "cell_type": "code",
      "execution_count": 47,
      "id": "bd6fd53c",
      "metadata": {
        "id": "bd6fd53c",
        "outputId": "ecea146a-1864-4e96-84ff-adc6215a7af8",
        "colab": {
          "base_uri": "https://localhost:8080/"
        }
      },
      "outputs": [
        {
          "output_type": "execute_result",
          "data": {
            "text/plain": [
              "['a', 'b', 'c', 'de', 'e']"
            ]
          },
          "metadata": {},
          "execution_count": 47
        }
      ],
      "source": [
        "'a,b,c,de,e'.split(',')"
      ]
    },
    {
      "cell_type": "markdown",
      "id": "29f4742b",
      "metadata": {
        "id": "29f4742b"
      },
      "source": [
        "## lambda 함수 \n",
        "- 한 줄짜리 함수\n",
        "- 콜론(:)을 경계로 앞 : 매개변수 /  뒤 : 표현식(반환값)\n",
        "- return문 필요 없고, 표현식 실행 결과가 자동 반환됨"
      ]
    },
    {
      "cell_type": "code",
      "execution_count": 49,
      "id": "17e53732",
      "metadata": {
        "id": "17e53732",
        "outputId": "7793f95a-2701-4ebb-9ec7-ab2301718174",
        "colab": {
          "base_uri": "https://localhost:8080/"
        }
      },
      "outputs": [
        {
          "output_type": "execute_result",
          "data": {
            "text/plain": [
              "20"
            ]
          },
          "metadata": {},
          "execution_count": 49
        }
      ],
      "source": [
        "a = lambda x,y : x+y\n",
        "a(10,10)"
      ]
    },
    {
      "cell_type": "code",
      "execution_count": null,
      "id": "5e924151",
      "metadata": {
        "id": "5e924151"
      },
      "outputs": [],
      "source": [
        "a(10,10)"
      ]
    },
    {
      "cell_type": "markdown",
      "id": "584fa6ab",
      "metadata": {
        "id": "584fa6ab"
      },
      "source": [
        "## higher-order function\n",
        "- Python은 함수를 전달인자로 넘겨줄 수 있음"
      ]
    },
    {
      "cell_type": "code",
      "execution_count": 50,
      "id": "f682f3dd",
      "metadata": {
        "id": "f682f3dd"
      },
      "outputs": [],
      "source": [
        "def greet(func):\n",
        "    greeting = func('hi, I love python')\n",
        "    print(greeting)"
      ]
    },
    {
      "cell_type": "code",
      "execution_count": 54,
      "id": "89e48a40",
      "metadata": {
        "id": "89e48a40",
        "outputId": "70eda978-388a-4555-ba66-049e5d95195c",
        "colab": {
          "base_uri": "https://localhost:8080/"
        }
      },
      "outputs": [
        {
          "output_type": "stream",
          "name": "stdout",
          "text": [
            "HI, I LOVE PYTHON\n",
            "HI, I LOVE PYTHON\n"
          ]
        }
      ],
      "source": [
        "greet(str.upper)\n",
        "greet(oh)"
      ]
    },
    {
      "cell_type": "markdown",
      "id": "299bbd85",
      "metadata": {
        "id": "299bbd85"
      },
      "source": [
        "## map 함수\n",
        "```\n",
        "map(f, iterable)\n",
        "```\n",
        "\n",
        "- 함수(f)에 반복 가능한 iterable 자료형을 입력받음\n",
        "    - iterable 자료형의 자료가 하나씩 함수 (f)에 인자로 전달\n",
        "    - 함수(f)의 실행 결과를 반환\n",
        "    - 모든 자료에 대해 순차적으로 수행됨"
      ]
    },
    {
      "cell_type": "code",
      "execution_count": 57,
      "id": "32884d6c",
      "metadata": {
        "id": "32884d6c",
        "outputId": "bdfe9618-2484-47b3-8829-db246d12e36f",
        "colab": {
          "base_uri": "https://localhost:8080/"
        }
      },
      "outputs": [
        {
          "output_type": "execute_result",
          "data": {
            "text/plain": [
              "['HI', 'HELLO', 'WELCOME']"
            ]
          },
          "metadata": {},
          "execution_count": 57
        }
      ],
      "source": [
        "list( map( str.upper,  ['hi', 'hello', 'welcome'] ) )\n"
      ]
    },
    {
      "cell_type": "code",
      "execution_count": null,
      "id": "27d038ef",
      "metadata": {
        "id": "27d038ef"
      },
      "outputs": [],
      "source": []
    },
    {
      "cell_type": "markdown",
      "id": "b06ca275",
      "metadata": {
        "id": "b06ca275"
      },
      "source": [
        "## reduce 함수\n",
        "- 반복 가능한 객체의 요소를 지정된 함수로 처리한 뒤 이전 결과와 누적해서 반환 하는 함수\n",
        "    - 파이썬3 부터 내장함수가 아니므로 fuctools 모듈에서 reduce 함수를 가지고와야 함\n"
      ]
    },
    {
      "cell_type": "code",
      "execution_count": 63,
      "id": "c5d1e76f",
      "metadata": {
        "id": "c5d1e76f",
        "outputId": "16e3d2da-8b8a-4ccc-ae26-34fa14b76198",
        "colab": {
          "base_uri": "https://localhost:8080/"
        }
      },
      "outputs": [
        {
          "output_type": "execute_result",
          "data": {
            "text/plain": [
              "15"
            ]
          },
          "metadata": {},
          "execution_count": 63
        }
      ],
      "source": [
        "from functools import reduce\n",
        "\n",
        "reduce(lambda x,y: x + y, [1,2,3,4,5])"
      ]
    },
    {
      "cell_type": "code",
      "execution_count": null,
      "id": "f7242539",
      "metadata": {
        "id": "f7242539"
      },
      "outputs": [],
      "source": []
    },
    {
      "cell_type": "code",
      "execution_count": null,
      "id": "eb3efe4d",
      "metadata": {
        "id": "eb3efe4d"
      },
      "outputs": [],
      "source": []
    },
    {
      "cell_type": "markdown",
      "id": "9b0a1aa1",
      "metadata": {
        "id": "9b0a1aa1"
      },
      "source": [
        "## filter 함수\n",
        "- 반복 가능한 객체에서 지정한 함수의 반환 값이 True인 요소만 골라냄"
      ]
    },
    {
      "cell_type": "code",
      "execution_count": 64,
      "id": "687067c5",
      "metadata": {
        "id": "687067c5",
        "outputId": "13bd491a-77b3-4f73-ccb3-af67c2dc861c",
        "colab": {
          "base_uri": "https://localhost:8080/"
        }
      },
      "outputs": [
        {
          "output_type": "execute_result",
          "data": {
            "text/plain": [
              "[0, 1, 2, 3, 4]"
            ]
          },
          "metadata": {},
          "execution_count": 64
        }
      ],
      "source": [
        "list( filter(lambda x: x<5, range(10)) )"
      ]
    },
    {
      "cell_type": "code",
      "execution_count": 65,
      "id": "bc004f4e",
      "metadata": {
        "id": "bc004f4e",
        "outputId": "1d191b64-de21-437a-b82c-89766b90afd3",
        "colab": {
          "base_uri": "https://localhost:8080/"
        }
      },
      "outputs": [
        {
          "output_type": "execute_result",
          "data": {
            "text/plain": [
              "[6, 7, 8, 9]"
            ]
          },
          "metadata": {},
          "execution_count": 65
        }
      ],
      "source": [
        "list( filter(lambda x: x>5, range(10))       )"
      ]
    },
    {
      "cell_type": "markdown",
      "id": "78cddf43",
      "metadata": {
        "id": "78cddf43"
      },
      "source": [
        "### 중첩함수 (nested function, 내부함수(inner function)\n",
        "- 함수내에 정의 되어 있는 다른함수"
      ]
    },
    {
      "cell_type": "code",
      "execution_count": 86,
      "id": "1725e032",
      "metadata": {
        "id": "1725e032"
      },
      "outputs": [],
      "source": [
        "def speak (text):\n",
        "    def wow(t):\n",
        "        return t.lower()\n",
        "    return wow(text)"
      ]
    },
    {
      "cell_type": "code",
      "execution_count": 90,
      "id": "c7f976e6",
      "metadata": {
        "id": "c7f976e6",
        "outputId": "40f84476-c96a-47ce-ae2f-b9a831007207",
        "colab": {
          "base_uri": "https://localhost:8080/"
        }
      },
      "outputs": [
        {
          "output_type": "stream",
          "name": "stdout",
          "text": [
            "Variable     Type                          Data/Info\n",
            "----------------------------------------------------\n",
            "a            function                      <function <lambda> at 0x7f161180e430>\n",
            "calc         function                      <function calc at 0x7f1625cb7a60>\n",
            "color        list                          n=4\n",
            "flst         list                          n=4\n",
            "greet        function                      <function greet at 0x7f161182ab80>\n",
            "oh           function                      <function wow at 0x7f1625ca9dc0>\n",
            "printCount   function                      <function printCount at 0x7f161186c670>\n",
            "reduce       builtin_function_or_method    <built-in function reduce>\n",
            "speak        function                      <function speak at 0x7f161182a1f0>\n",
            "sum_all      function                      <function sum_all at 0x7f1625d629d0>\n",
            "wow          function                      <function wow at 0x7f1625ca9dc0>\n",
            "x            method_descriptor             <method 'upper' of 'str' objects>\n"
          ]
        }
      ],
      "source": [
        "\n",
        "speak('hi')\n",
        "# 후스에서 내부함수는 보이지 않음\n",
        "%whos"
      ]
    },
    {
      "cell_type": "code",
      "execution_count": 92,
      "id": "b72aafb6",
      "metadata": {
        "id": "b72aafb6"
      },
      "outputs": [],
      "source": [
        "def get_speak_wow(volume):\n",
        "    def wow(text):\n",
        "        return text.lower()\n",
        "    def oh(text):\n",
        "        return text.upper()\n",
        "    \n",
        "    if volume > 0.5:\n",
        "        return oh\n",
        "    else:\n",
        "        return wow\n"
      ]
    },
    {
      "cell_type": "code",
      "execution_count": 97,
      "id": "519cd59d",
      "metadata": {
        "id": "519cd59d",
        "outputId": "60079ae3-a68f-4071-c9cd-d7dd76fc7684",
        "colab": {
          "base_uri": "https://localhost:8080/",
          "height": 35
        }
      },
      "outputs": [
        {
          "output_type": "execute_result",
          "data": {
            "text/plain": [
              "'hello'"
            ],
            "application/vnd.google.colaboratory.intrinsic+json": {
              "type": "string"
            }
          },
          "metadata": {},
          "execution_count": 97
        }
      ],
      "source": [
        "speak_func = get_speak_wow(0.8)\n",
        "speak_func('Hello')\n",
        "\n",
        "get_speak_wow(0.3)('Hello')"
      ]
    },
    {
      "cell_type": "code",
      "execution_count": 102,
      "id": "87946bab",
      "metadata": {
        "id": "87946bab"
      },
      "outputs": [],
      "source": [
        "def math_func1(x, y, op):\n",
        "    def add_():\n",
        "        return x+y\n",
        "    def sub_():\n",
        "        return x-y\n",
        "    def mul_():\n",
        "        return x*y\n",
        "    def div_():\n",
        "        return x/y\n",
        "    \n",
        "    op_func = {'+': add_, '-':sub_, '*': mul_, '/': div_}.get(op)\n",
        "    return op_func()\n"
      ]
    },
    {
      "cell_type": "code",
      "execution_count": 103,
      "id": "796e2304",
      "metadata": {
        "id": "796e2304",
        "outputId": "fc23cb25-8ad5-4afd-f4a1-5e983b1264de",
        "colab": {
          "base_uri": "https://localhost:8080/"
        }
      },
      "outputs": [
        {
          "output_type": "execute_result",
          "data": {
            "text/plain": [
              "6"
            ]
          },
          "metadata": {},
          "execution_count": 103
        }
      ],
      "source": [
        "math_func1( 2,3, '*' )"
      ]
    },
    {
      "cell_type": "markdown",
      "id": "0094f34f",
      "metadata": {
        "id": "0094f34f"
      },
      "source": [
        "### 클로져\n",
        "\n",
        "프로그램의 흐름이 해당 스코프를 벗어나도 유효범위에 있는 값을 기억하는것   \n",
        "\n",
        "예) wow, oh 내부 함수는 text 인자를 가지고 있지 않지만 상위함수에서 받은 text 변수에 접근"
      ]
    },
    {
      "cell_type": "code",
      "execution_count": 106,
      "id": "b9dc976f",
      "metadata": {
        "id": "b9dc976f"
      },
      "outputs": [],
      "source": [
        "def get_speak_func(text, volume):\n",
        "    def wow():\n",
        "        return text.lower()\n",
        "    def oh():\n",
        "        return text.upper()\n",
        "    \n",
        "    if volume > 0.5:\n",
        "        return oh\n",
        "    else:\n",
        "        return wow"
      ]
    },
    {
      "cell_type": "code",
      "execution_count": 110,
      "id": "6ea50219",
      "metadata": {
        "id": "6ea50219",
        "outputId": "85a6c23c-d60d-4506-cfaf-bc2ec3cb0a99",
        "colab": {
          "base_uri": "https://localhost:8080/"
        }
      },
      "outputs": [
        {
          "output_type": "execute_result",
          "data": {
            "text/plain": [
              "<function __main__.get_speak_func.<locals>.wow()>"
            ]
          },
          "metadata": {},
          "execution_count": 110
        }
      ],
      "source": [
        "get_speak_func('Hello, World', 0.3)"
      ]
    },
    {
      "cell_type": "markdown",
      "id": "c1b63fcc",
      "metadata": {
        "id": "c1b63fcc"
      },
      "source": [
        "## enumerate() 함수\n",
        "- List의 요소를 추출할 때 번호를 붙여서 추출\n"
      ]
    },
    {
      "cell_type": "code",
      "execution_count": 111,
      "id": "0f79a212",
      "metadata": {
        "id": "0f79a212"
      },
      "outputs": [],
      "source": [
        "mylist=['a', 'b', 'c', 'd']"
      ]
    },
    {
      "cell_type": "code",
      "execution_count": 113,
      "id": "b742d85e",
      "metadata": {
        "id": "b742d85e",
        "outputId": "eae815fb-153a-4499-80af-d931ba8eb9bd",
        "colab": {
          "base_uri": "https://localhost:8080/"
        }
      },
      "outputs": [
        {
          "output_type": "execute_result",
          "data": {
            "text/plain": [
              "[(0, 'a'), (1, 'b'), (2, 'c'), (3, 'd')]"
            ]
          },
          "metadata": {},
          "execution_count": 113
        }
      ],
      "source": [
        "list(enumerate(mylist))"
      ]
    },
    {
      "cell_type": "code",
      "execution_count": 114,
      "id": "7e9db71a",
      "metadata": {
        "id": "7e9db71a",
        "outputId": "665876fc-963c-421c-b257-c0715672802a",
        "colab": {
          "base_uri": "https://localhost:8080/"
        }
      },
      "outputs": [
        {
          "output_type": "stream",
          "name": "stdout",
          "text": [
            "0 a\n",
            "1 b\n",
            "2 c\n",
            "3 d\n"
          ]
        }
      ],
      "source": [
        "for   i,v in enumerate(mylist) :\n",
        "    print(i,v)"
      ]
    },
    {
      "cell_type": "markdown",
      "id": "b418094e",
      "metadata": {
        "id": "b418094e"
      },
      "source": [
        "## zip() 함수\n",
        "- list/tuple 들에서 같은 위치에 있는 값을 병렬적으로 추출함"
      ]
    },
    {
      "cell_type": "code",
      "execution_count": null,
      "id": "1d9987f1",
      "metadata": {
        "id": "1d9987f1"
      },
      "outputs": [],
      "source": [
        "alist = ['a1', 'a2', 'a3']\n",
        "blist = ['b1', 'b2', 'b3']"
      ]
    },
    {
      "cell_type": "code",
      "execution_count": null,
      "id": "e1cbfa7d",
      "metadata": {
        "id": "e1cbfa7d"
      },
      "outputs": [],
      "source": []
    },
    {
      "cell_type": "code",
      "execution_count": null,
      "id": "89cb9758",
      "metadata": {
        "id": "89cb9758"
      },
      "outputs": [],
      "source": [
        "for "
      ]
    },
    {
      "cell_type": "markdown",
      "id": "5d88e7b2",
      "metadata": {
        "id": "5d88e7b2"
      },
      "source": [
        "## 리스트 조건 제시법\n",
        "- for 반복을 사용하여 자동으로 리스트를 생성하는 방법"
      ]
    },
    {
      "cell_type": "code",
      "execution_count": null,
      "id": "787b6023",
      "metadata": {
        "id": "787b6023"
      },
      "outputs": [],
      "source": [
        "import random "
      ]
    },
    {
      "cell_type": "code",
      "execution_count": null,
      "id": "17a6e4fa",
      "metadata": {
        "id": "17a6e4fa"
      },
      "outputs": [],
      "source": [
        "rlst=[]\n",
        "for x in   :\n",
        "    rlst.append(random.randint(1, 45))\n",
        "else:\n",
        "    print(rlst)"
      ]
    },
    {
      "cell_type": "code",
      "execution_count": null,
      "id": "81427d78",
      "metadata": {
        "id": "81427d78"
      },
      "outputs": [],
      "source": []
    },
    {
      "cell_type": "code",
      "execution_count": null,
      "id": "e7ba01d3",
      "metadata": {
        "id": "e7ba01d3"
      },
      "outputs": [],
      "source": [
        " "
      ]
    },
    {
      "cell_type": "code",
      "execution_count": null,
      "id": "8d0e32fc",
      "metadata": {
        "id": "8d0e32fc"
      },
      "outputs": [],
      "source": [
        "[ i**3 for i in range(10)  ]"
      ]
    },
    {
      "cell_type": "code",
      "execution_count": null,
      "id": "b819a1b0",
      "metadata": {
        "id": "b819a1b0"
      },
      "outputs": [],
      "source": [
        "list('가나다라마바사아자차카타파하')"
      ]
    },
    {
      "cell_type": "markdown",
      "id": "6fcd7941",
      "metadata": {
        "id": "6fcd7941"
      },
      "source": [
        "## iterable 객체 : 반복(순환) 가능한 객체\n",
        "- 대표적 iterable 객체 타입 : range(), map()함수 \n",
        "-반복자(iterator): 함수 next() : iterator를 입력 받아 다음 출력 값을 반환"
      ]
    },
    {
      "cell_type": "code",
      "execution_count": null,
      "id": "d9b15dcc",
      "metadata": {
        "id": "d9b15dcc"
      },
      "outputs": [],
      "source": [
        "lst=[1,2,3]\n",
        "result = "
      ]
    },
    {
      "cell_type": "code",
      "execution_count": null,
      "id": "048cd1f0",
      "metadata": {
        "id": "048cd1f0"
      },
      "outputs": [],
      "source": []
    },
    {
      "cell_type": "code",
      "execution_count": null,
      "id": "3b32e9e6",
      "metadata": {
        "id": "3b32e9e6"
      },
      "outputs": [],
      "source": []
    },
    {
      "cell_type": "code",
      "execution_count": null,
      "id": "bb1028a0",
      "metadata": {
        "id": "bb1028a0"
      },
      "outputs": [],
      "source": []
    },
    {
      "cell_type": "markdown",
      "id": "71047e86",
      "metadata": {
        "id": "71047e86"
      },
      "source": [
        "## Generator\n",
        "- Iterable 자료를 생성하는 함수\n",
        "- next() 함수 사용해서 자료에 접근"
      ]
    },
    {
      "cell_type": "code",
      "execution_count": null,
      "id": "cda4747e",
      "metadata": {
        "id": "cda4747e"
      },
      "outputs": [],
      "source": [
        "def one_to_infinite():\n",
        "    # 1 ~ 무한대의 자연수가 순서대로 나오는 생성기\n",
        "    n = 1\n",
        "    while True:\n",
        "        "
      ]
    },
    {
      "cell_type": "code",
      "execution_count": null,
      "id": "95dbae3b",
      "metadata": {
        "id": "95dbae3b"
      },
      "outputs": [],
      "source": [
        "natural_number = one_to_infinite()"
      ]
    },
    {
      "cell_type": "code",
      "execution_count": null,
      "id": "5001caef",
      "metadata": {
        "id": "5001caef"
      },
      "outputs": [],
      "source": []
    },
    {
      "cell_type": "code",
      "execution_count": null,
      "id": "7e7eeda6",
      "metadata": {
        "id": "7e7eeda6"
      },
      "outputs": [],
      "source": []
    },
    {
      "cell_type": "markdown",
      "id": "b99cb7e5",
      "metadata": {
        "id": "b99cb7e5"
      },
      "source": [
        "### Generator expression\n",
        "- iterable 자료를 생성하는 식"
      ]
    },
    {
      "cell_type": "code",
      "execution_count": null,
      "id": "a39df9b9",
      "metadata": {
        "id": "a39df9b9"
      },
      "outputs": [],
      "source": []
    },
    {
      "cell_type": "code",
      "execution_count": null,
      "id": "347216a7",
      "metadata": {
        "id": "347216a7"
      },
      "outputs": [],
      "source": []
    },
    {
      "cell_type": "code",
      "execution_count": null,
      "id": "74bf6974",
      "metadata": {
        "id": "74bf6974"
      },
      "outputs": [],
      "source": []
    },
    {
      "cell_type": "markdown",
      "id": "94e2fd45",
      "metadata": {
        "id": "94e2fd45"
      },
      "source": [
        "##  리스트와 iterable 객체의 차이점"
      ]
    },
    {
      "cell_type": "code",
      "execution_count": null,
      "id": "0c65a343",
      "metadata": {
        "id": "0c65a343"
      },
      "outputs": [],
      "source": [
        "def input_order(n):   # 리스트를 만들어 반환\n",
        "    return                 \n",
        "\n",
        "# 음료 3개 입력받아 각 음료 제조를 요청\n",
        "for drink in input_order(3):\n",
        "    print(drink, '만들어주세요..')"
      ]
    },
    {
      "cell_type": "code",
      "execution_count": null,
      "id": "57148dc5",
      "metadata": {
        "id": "57148dc5"
      },
      "outputs": [],
      "source": []
    }
  ],
  "metadata": {
    "kernelspec": {
      "display_name": "Python 3 (ipykernel)",
      "language": "python",
      "name": "python3"
    },
    "language_info": {
      "codemirror_mode": {
        "name": "ipython",
        "version": 3
      },
      "file_extension": ".py",
      "mimetype": "text/x-python",
      "name": "python",
      "nbconvert_exporter": "python",
      "pygments_lexer": "ipython3",
      "version": "3.9.13"
    },
    "colab": {
      "provenance": []
    }
  },
  "nbformat": 4,
  "nbformat_minor": 5
}