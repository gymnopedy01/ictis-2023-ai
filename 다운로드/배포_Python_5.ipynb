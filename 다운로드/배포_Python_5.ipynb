{
  "cells": [
    {
      "cell_type": "code",
      "execution_count": null,
      "id": "cc2a2fda",
      "metadata": {
        "id": "cc2a2fda"
      },
      "outputs": [],
      "source": [
        "%config Completer.use_jedi = False"
      ]
    },
    {
      "cell_type": "markdown",
      "id": "bb8a4e7f",
      "metadata": {
        "id": "bb8a4e7f"
      },
      "source": [
        "## 디폴트 인자(default argument, = 기본 인자) : \n",
        "- 함수의 매개변수는 기본값을 가질 수 있다.\n",
        "- 인자가 부족하면 기본값을 채워준다."
      ]
    },
    {
      "cell_type": "code",
      "execution_count": null,
      "id": "29afd2ac",
      "metadata": {
        "id": "29afd2ac"
      },
      "outputs": [],
      "source": [
        "def greet(name, msg ):\n",
        "    print('안녕', )"
      ]
    },
    {
      "cell_type": "code",
      "execution_count": null,
      "id": "13a1163d",
      "metadata": {
        "id": "13a1163d"
      },
      "outputs": [],
      "source": [
        "greet('길동', '좋은 아침!!')"
      ]
    },
    {
      "cell_type": "code",
      "execution_count": null,
      "id": "e06dbf57",
      "metadata": {
        "id": "e06dbf57"
      },
      "outputs": [],
      "source": []
    },
    {
      "cell_type": "code",
      "execution_count": null,
      "id": "902a13dd",
      "metadata": {
        "id": "902a13dd"
      },
      "outputs": [],
      "source": [
        "greet('길산')"
      ]
    },
    {
      "cell_type": "code",
      "execution_count": null,
      "id": "4e5d13c7",
      "metadata": {
        "id": "4e5d13c7"
      },
      "outputs": [],
      "source": [
        "greet('길산', '좋은 아침~')"
      ]
    },
    {
      "cell_type": "markdown",
      "id": "075cfb87",
      "metadata": {
        "id": "075cfb87"
      },
      "source": [
        "## keyword argument :\n",
        "- 매개 변수 이름을 지정해서 값을 전달하는 방식 "
      ]
    },
    {
      "cell_type": "code",
      "execution_count": null,
      "id": "52bad9ad",
      "metadata": {
        "id": "52bad9ad"
      },
      "outputs": [],
      "source": [
        "def calc(x, y, z):\n",
        "    return x+y+z"
      ]
    },
    {
      "cell_type": "code",
      "execution_count": null,
      "id": "14a61b5b",
      "metadata": {
        "id": "14a61b5b"
      },
      "outputs": [],
      "source": []
    },
    {
      "cell_type": "code",
      "execution_count": null,
      "id": "4b468138",
      "metadata": {
        "id": "4b468138"
      },
      "outputs": [],
      "source": []
    },
    {
      "cell_type": "code",
      "execution_count": null,
      "id": "bd5e592e",
      "metadata": {
        "id": "bd5e592e"
      },
      "outputs": [],
      "source": []
    },
    {
      "cell_type": "code",
      "execution_count": null,
      "id": "abb161f1",
      "metadata": {
        "id": "abb161f1"
      },
      "outputs": [],
      "source": []
    },
    {
      "cell_type": "markdown",
      "id": "90b07e83",
      "metadata": {
        "id": "90b07e83"
      },
      "source": [
        "## 가변 인자\n",
        "- 몇 개의 인자를 받을지 정해지지 않은 인자\n",
        "- 파이썬에서는 가변 인자를 받을 때 * (Asterisk) 을 붙여서 받는다.\n",
        "- 입력받는 전달 인자의 개수에 상관없음"
      ]
    },
    {
      "cell_type": "code",
      "execution_count": null,
      "id": "f1e2c70f",
      "metadata": {
        "id": "f1e2c70f"
      },
      "outputs": [],
      "source": [
        "def sum_all( ):\n",
        "    result = 0\n",
        "    \n",
        "    for i in args:\n",
        "        result += i\n",
        "    return result"
      ]
    },
    {
      "cell_type": "raw",
      "id": "8f954dae",
      "metadata": {
        "id": "8f954dae"
      },
      "source": [
        "sum_all(1,2,3,4,5,6,7,8,9,10)"
      ]
    },
    {
      "cell_type": "markdown",
      "id": "e1ffd2b6",
      "metadata": {
        "id": "e1ffd2b6"
      },
      "source": [
        "## 키워드 가변 인자: 키워드 + 가변 \n",
        "- ** 을 사용\n",
        "- dictionary 형태로 입력"
      ]
    },
    {
      "cell_type": "code",
      "execution_count": null,
      "id": "6eb12d10",
      "metadata": {
        "id": "6eb12d10"
      },
      "outputs": [],
      "source": [
        "def dic_text( ):\n",
        "    print( )"
      ]
    },
    {
      "cell_type": "code",
      "execution_count": null,
      "id": "81cd1bd6",
      "metadata": {
        "id": "81cd1bd6"
      },
      "outputs": [],
      "source": [
        "dic_text(   )"
      ]
    },
    {
      "cell_type": "markdown",
      "id": "8cc61495",
      "metadata": {
        "id": "8cc61495"
      },
      "source": [
        "## 함수는 객체"
      ]
    },
    {
      "cell_type": "code",
      "execution_count": null,
      "id": "28ce72c9",
      "metadata": {
        "id": "28ce72c9"
      },
      "outputs": [],
      "source": [
        "def func(dx, dy):\n",
        "    '''이것은 여러줄 \n",
        "    주석입니다. \n",
        "    함수의 도움말'''\n",
        "    dx, dy = dy, dx\n",
        "    return dx, dy"
      ]
    },
    {
      "cell_type": "code",
      "execution_count": null,
      "id": "80d3e7a9",
      "metadata": {
        "id": "80d3e7a9"
      },
      "outputs": [],
      "source": []
    },
    {
      "cell_type": "code",
      "execution_count": null,
      "id": "38399db4",
      "metadata": {
        "id": "38399db4"
      },
      "outputs": [],
      "source": []
    },
    {
      "cell_type": "code",
      "execution_count": null,
      "id": "6b3d9260",
      "metadata": {
        "id": "6b3d9260"
      },
      "outputs": [],
      "source": []
    },
    {
      "cell_type": "code",
      "execution_count": null,
      "id": "42518a5b",
      "metadata": {
        "id": "42518a5b"
      },
      "outputs": [],
      "source": []
    },
    {
      "cell_type": "code",
      "execution_count": null,
      "id": "6cca23b4",
      "metadata": {
        "id": "6cca23b4"
      },
      "outputs": [],
      "source": []
    },
    {
      "cell_type": "code",
      "execution_count": null,
      "id": "77e60e6f",
      "metadata": {
        "id": "77e60e6f"
      },
      "outputs": [],
      "source": [
        "def wow(text):\n",
        "    return text.upper()"
      ]
    },
    {
      "cell_type": "code",
      "execution_count": null,
      "id": "28fe984c",
      "metadata": {
        "id": "28fe984c"
      },
      "outputs": [],
      "source": []
    },
    {
      "cell_type": "code",
      "execution_count": null,
      "id": "fb860084",
      "metadata": {
        "id": "fb860084"
      },
      "outputs": [],
      "source": []
    },
    {
      "cell_type": "code",
      "execution_count": null,
      "id": "0ad49529",
      "metadata": {
        "id": "0ad49529"
      },
      "outputs": [],
      "source": []
    },
    {
      "cell_type": "code",
      "execution_count": null,
      "id": "1b5c1e7e",
      "metadata": {
        "id": "1b5c1e7e"
      },
      "outputs": [],
      "source": []
    },
    {
      "cell_type": "code",
      "execution_count": null,
      "id": "e14955b7",
      "metadata": {
        "id": "e14955b7"
      },
      "outputs": [],
      "source": []
    },
    {
      "cell_type": "code",
      "execution_count": null,
      "id": "3803e637",
      "metadata": {
        "id": "3803e637"
      },
      "outputs": [],
      "source": []
    },
    {
      "cell_type": "markdown",
      "id": "2d69149f",
      "metadata": {
        "id": "2d69149f"
      },
      "source": [
        "### Python 함수는 객체이므로 자료구조 속에 넣을 수 있음"
      ]
    },
    {
      "cell_type": "code",
      "execution_count": null,
      "id": "74ff07a4",
      "metadata": {
        "id": "74ff07a4"
      },
      "outputs": [],
      "source": [
        "flst = [oh, str.lower, str.capitalize]"
      ]
    },
    {
      "cell_type": "code",
      "execution_count": null,
      "id": "c31d978e",
      "metadata": {
        "id": "c31d978e"
      },
      "outputs": [],
      "source": [
        "flst"
      ]
    },
    {
      "cell_type": "code",
      "execution_count": null,
      "id": "427a1e04",
      "metadata": {
        "id": "427a1e04"
      },
      "outputs": [],
      "source": [
        "for x in flst:\n",
        "    "
      ]
    },
    {
      "cell_type": "code",
      "execution_count": null,
      "id": "badcbcd7",
      "metadata": {
        "id": "badcbcd7"
      },
      "outputs": [],
      "source": []
    },
    {
      "cell_type": "markdown",
      "id": "ee8acf12",
      "metadata": {
        "id": "ee8acf12"
      },
      "source": [
        "### split()함수와 join() 함수"
      ]
    },
    {
      "cell_type": "code",
      "execution_count": null,
      "id": "a50e68db",
      "metadata": {
        "id": "a50e68db"
      },
      "outputs": [],
      "source": [
        "color = ['blue', 'red', 'yellow', 'green']"
      ]
    },
    {
      "cell_type": "code",
      "execution_count": null,
      "id": "f3de42b3",
      "metadata": {
        "id": "f3de42b3"
      },
      "outputs": [],
      "source": []
    },
    {
      "cell_type": "code",
      "execution_count": null,
      "id": "bd6fd53c",
      "metadata": {
        "id": "bd6fd53c"
      },
      "outputs": [],
      "source": []
    },
    {
      "cell_type": "markdown",
      "id": "29f4742b",
      "metadata": {
        "id": "29f4742b"
      },
      "source": [
        "## lambda 함수 \n",
        "- 한 줄짜리 함수\n",
        "- 콜론(:)을 경계로 앞 : 매개변수 /  뒤 : 표현식(반환값)\n",
        "- return문 필요 없고, 표현식 실행 결과가 자동 반환됨"
      ]
    },
    {
      "cell_type": "code",
      "execution_count": null,
      "id": "17e53732",
      "metadata": {
        "id": "17e53732"
      },
      "outputs": [],
      "source": [
        "a = "
      ]
    },
    {
      "cell_type": "code",
      "execution_count": null,
      "id": "5e924151",
      "metadata": {
        "id": "5e924151"
      },
      "outputs": [],
      "source": [
        "a(10,10)"
      ]
    },
    {
      "cell_type": "markdown",
      "id": "584fa6ab",
      "metadata": {
        "id": "584fa6ab"
      },
      "source": [
        "## higher-order function\n",
        "- Python은 함수를 전달인자로 넘겨줄 수 있음"
      ]
    },
    {
      "cell_type": "code",
      "execution_count": null,
      "id": "f682f3dd",
      "metadata": {
        "id": "f682f3dd"
      },
      "outputs": [],
      "source": [
        "def greet(  ):\n",
        "    greeting =  ('hi, I love python')\n",
        "    print(greeting)"
      ]
    },
    {
      "cell_type": "code",
      "execution_count": null,
      "id": "89e48a40",
      "metadata": {
        "id": "89e48a40"
      },
      "outputs": [],
      "source": []
    },
    {
      "cell_type": "markdown",
      "id": "299bbd85",
      "metadata": {
        "id": "299bbd85"
      },
      "source": [
        "## map 함수\n",
        "- map(f, iterable)\n",
        "- 모든 자료에 대해 순차적으로 수행됨"
      ]
    },
    {
      "cell_type": "code",
      "execution_count": null,
      "id": "32884d6c",
      "metadata": {
        "id": "32884d6c"
      },
      "outputs": [],
      "source": [
        "list(       ['hi', 'hello', 'welcome']  )"
      ]
    },
    {
      "cell_type": "code",
      "execution_count": null,
      "id": "27d038ef",
      "metadata": {
        "id": "27d038ef"
      },
      "outputs": [],
      "source": []
    },
    {
      "cell_type": "markdown",
      "id": "b06ca275",
      "metadata": {
        "id": "b06ca275"
      },
      "source": [
        "## reduce 함수"
      ]
    },
    {
      "cell_type": "code",
      "execution_count": null,
      "id": "c5d1e76f",
      "metadata": {
        "id": "c5d1e76f"
      },
      "outputs": [],
      "source": [
        "from functools import reduce"
      ]
    },
    {
      "cell_type": "code",
      "execution_count": null,
      "id": "f7242539",
      "metadata": {
        "id": "f7242539"
      },
      "outputs": [],
      "source": []
    },
    {
      "cell_type": "code",
      "execution_count": null,
      "id": "eb3efe4d",
      "metadata": {
        "id": "eb3efe4d"
      },
      "outputs": [],
      "source": []
    },
    {
      "cell_type": "markdown",
      "id": "9b0a1aa1",
      "metadata": {
        "id": "9b0a1aa1"
      },
      "source": [
        "## filter 함수\n",
        "- 반복 가능한 객체에서 지정한 함수의 반환 값이 True인 요소만 골라냄"
      ]
    },
    {
      "cell_type": "code",
      "execution_count": null,
      "id": "687067c5",
      "metadata": {
        "id": "687067c5"
      },
      "outputs": [],
      "source": [
        "list(         )"
      ]
    },
    {
      "cell_type": "code",
      "execution_count": null,
      "id": "bc004f4e",
      "metadata": {
        "id": "bc004f4e"
      },
      "outputs": [],
      "source": [
        "list(        )"
      ]
    },
    {
      "cell_type": "markdown",
      "id": "78cddf43",
      "metadata": {
        "id": "78cddf43"
      },
      "source": [
        "### 내부 함수"
      ]
    },
    {
      "cell_type": "code",
      "execution_count": null,
      "id": "1725e032",
      "metadata": {
        "id": "1725e032"
      },
      "outputs": [],
      "source": [
        "def speak (text):\n",
        "    def wow(t):\n",
        "        return t.lower()\n",
        "    return wow(text)"
      ]
    },
    {
      "cell_type": "code",
      "execution_count": null,
      "id": "c7f976e6",
      "metadata": {
        "id": "c7f976e6"
      },
      "outputs": [],
      "source": []
    },
    {
      "cell_type": "code",
      "execution_count": null,
      "id": "b72aafb6",
      "metadata": {
        "id": "b72aafb6"
      },
      "outputs": [],
      "source": [
        "def get_speak_wow(volume):\n",
        "    def wow(text):\n",
        "        return text.lower()\n",
        "    def oh(text):\n",
        "        return text.upper()\n",
        "    \n",
        "    if volume > 0.5:\n",
        "        return oh\n",
        "    else:\n",
        "        return wow\n"
      ]
    },
    {
      "cell_type": "code",
      "execution_count": null,
      "id": "519cd59d",
      "metadata": {
        "id": "519cd59d"
      },
      "outputs": [],
      "source": [
        "speak_func = get_speak_wow(0.8)\n"
      ]
    },
    {
      "cell_type": "code",
      "execution_count": null,
      "id": "87946bab",
      "metadata": {
        "id": "87946bab"
      },
      "outputs": [],
      "source": [
        "def math_func1(x, y, op):\n",
        "    def add_():\n",
        "        return \n",
        "    def sub_():\n",
        "        return \n",
        "    def mul_():\n",
        "        return \n",
        "    def div_():\n",
        "        return    "
      ]
    },
    {
      "cell_type": "code",
      "execution_count": null,
      "id": "796e2304",
      "metadata": {
        "id": "796e2304"
      },
      "outputs": [],
      "source": [
        "math_func1(   )"
      ]
    },
    {
      "cell_type": "markdown",
      "id": "0094f34f",
      "metadata": {
        "id": "0094f34f"
      },
      "source": [
        "### 클로져"
      ]
    },
    {
      "cell_type": "code",
      "execution_count": null,
      "id": "b9dc976f",
      "metadata": {
        "id": "b9dc976f"
      },
      "outputs": [],
      "source": [
        "def get_speak_func(text, volume):\n",
        "    def wow():\n",
        "        return text.lower()\n",
        "    def oh():\n",
        "        return text.upper()\n",
        "    \n",
        "    if volume > 0.5:\n",
        "        return oh\n",
        "    else:\n",
        "        return wow"
      ]
    },
    {
      "cell_type": "code",
      "execution_count": null,
      "id": "6ea50219",
      "metadata": {
        "id": "6ea50219"
      },
      "outputs": [],
      "source": [
        "get_speak_func"
      ]
    },
    {
      "cell_type": "markdown",
      "id": "c1b63fcc",
      "metadata": {
        "id": "c1b63fcc"
      },
      "source": [
        "## enumerate() 함수\n",
        "- List의 요소를 추출할 때 번호를 붙여서 추출\n"
      ]
    },
    {
      "cell_type": "code",
      "execution_count": null,
      "id": "0f79a212",
      "metadata": {
        "id": "0f79a212"
      },
      "outputs": [],
      "source": [
        "mylist=['a', 'b', 'c', 'd']"
      ]
    },
    {
      "cell_type": "code",
      "execution_count": null,
      "id": "b742d85e",
      "metadata": {
        "id": "b742d85e"
      },
      "outputs": [],
      "source": []
    },
    {
      "cell_type": "code",
      "execution_count": null,
      "id": "7e9db71a",
      "metadata": {
        "id": "7e9db71a"
      },
      "outputs": [],
      "source": [
        "for   "
      ]
    },
    {
      "cell_type": "markdown",
      "id": "b418094e",
      "metadata": {
        "id": "b418094e"
      },
      "source": [
        "## zip() 함수\n",
        "- list/tuple 들에서 같은 위치에 있는 값을 병렬적으로 추출함\n",
        "\n",
        "## *의 기능\n",
        "1. 수치형자료의곱셈\n",
        "2. 문자열 or 리스트의 반복\n",
        "3. a, *b, c = 1,2,3,4,5\n",
        "4. 가변인자\n",
        "5. 키워드 가변인자\n",
        "6. upzip , unpack"
      ]
    },
    {
      "cell_type": "code",
      "source": [],
      "metadata": {
        "id": "R7a0l5ZW1sOR"
      },
      "id": "R7a0l5ZW1sOR",
      "execution_count": null,
      "outputs": []
    },
    {
      "cell_type": "code",
      "execution_count": 1,
      "id": "1d9987f1",
      "metadata": {
        "id": "1d9987f1"
      },
      "outputs": [],
      "source": [
        "alist = ['a1', 'a2', 'a3']\n",
        "blist = ['b1', 'b2', 'b3']"
      ]
    },
    {
      "cell_type": "code",
      "source": [
        "c = zip (alist, blist)\n",
        "d,e = zip(*c)\n",
        "\n",
        "print(d,e)\n",
        "\n",
        "type (c)"
      ],
      "metadata": {
        "id": "eJCDiiQH0xox",
        "outputId": "b1a011b0-f216-4383-ad71-061e46f5495f",
        "colab": {
          "base_uri": "https://localhost:8080/"
        }
      },
      "id": "eJCDiiQH0xox",
      "execution_count": 5,
      "outputs": [
        {
          "output_type": "stream",
          "name": "stdout",
          "text": [
            "('a1', 'a2', 'a3') ('b1', 'b2', 'b3')\n"
          ]
        },
        {
          "output_type": "execute_result",
          "data": {
            "text/plain": [
              "zip"
            ]
          },
          "metadata": {},
          "execution_count": 5
        }
      ]
    },
    {
      "cell_type": "code",
      "execution_count": null,
      "id": "e1cbfa7d",
      "metadata": {
        "id": "e1cbfa7d"
      },
      "outputs": [],
      "source": []
    },
    {
      "cell_type": "code",
      "execution_count": null,
      "id": "89cb9758",
      "metadata": {
        "id": "89cb9758"
      },
      "outputs": [],
      "source": [
        "for "
      ]
    },
    {
      "cell_type": "markdown",
      "id": "5d88e7b2",
      "metadata": {
        "id": "5d88e7b2"
      },
      "source": [
        "## 리스트 조건 제시법 List Comprehension\n",
        "- for 반복을 사용하여 자동으로 리스트를 생성하는 방법"
      ]
    },
    {
      "cell_type": "code",
      "execution_count": 7,
      "id": "787b6023",
      "metadata": {
        "id": "787b6023"
      },
      "outputs": [],
      "source": [
        "import random "
      ]
    },
    {
      "cell_type": "code",
      "execution_count": 9,
      "id": "17a6e4fa",
      "metadata": {
        "id": "17a6e4fa",
        "outputId": "9051f103-1c37-4d45-ce4d-4ece0c462cbf",
        "colab": {
          "base_uri": "https://localhost:8080/"
        }
      },
      "outputs": [
        {
          "output_type": "stream",
          "name": "stdout",
          "text": [
            "[37, 23, 17, 4, 20, 45]\n"
          ]
        }
      ],
      "source": [
        "rlst=[]\n",
        "for x in  range(6) :\n",
        "    rlst.append(random.randint(1, 45))\n",
        "else:\n",
        "    print(rlst)"
      ]
    },
    {
      "cell_type": "code",
      "execution_count": 10,
      "id": "81427d78",
      "metadata": {
        "id": "81427d78",
        "outputId": "136b1fe0-1423-4e37-d051-6c36462ee7cf",
        "colab": {
          "base_uri": "https://localhost:8080/"
        }
      },
      "outputs": [
        {
          "output_type": "execute_result",
          "data": {
            "text/plain": [
              "[21, 35, 33, 45, 32, 39]"
            ]
          },
          "metadata": {},
          "execution_count": 10
        }
      ],
      "source": [
        "[random.randint(1,45) for x in range(6) ]"
      ]
    },
    {
      "cell_type": "code",
      "execution_count": 12,
      "id": "e7ba01d3",
      "metadata": {
        "id": "e7ba01d3",
        "outputId": "ced60ab1-4975-484b-d25e-d2d80ea6ecc3",
        "colab": {
          "base_uri": "https://localhost:8080/"
        }
      },
      "outputs": [
        {
          "name": "stdout",
          "output_type": "stream",
          "text": [
            "정수를 입력1\n",
            "정수를 입력3\n",
            "정수를 입력6\n",
            "정수를 입력7\n",
            "정수를 입력8\n"
          ]
        },
        {
          "output_type": "execute_result",
          "data": {
            "text/plain": [
              "[1, 3, 6, 7, 8]"
            ]
          },
          "metadata": {},
          "execution_count": 12
        }
      ],
      "source": [
        " [int (input('정수를 입력')) for i in range(5)]"
      ]
    },
    {
      "cell_type": "code",
      "execution_count": 11,
      "id": "8d0e32fc",
      "metadata": {
        "id": "8d0e32fc",
        "outputId": "6cf59fe3-586d-4550-d03e-4a6303fda5e9",
        "colab": {
          "base_uri": "https://localhost:8080/"
        }
      },
      "outputs": [
        {
          "output_type": "execute_result",
          "data": {
            "text/plain": [
              "[0, 1, 8, 27, 64, 125, 216, 343, 512, 729]"
            ]
          },
          "metadata": {},
          "execution_count": 11
        }
      ],
      "source": [
        "[ i**3 for i in range(10)  ]"
      ]
    },
    {
      "cell_type": "code",
      "execution_count": 21,
      "id": "b819a1b0",
      "metadata": {
        "id": "b819a1b0",
        "outputId": "92b01f1f-0d7a-406e-ebbc-d6e0d5ba1025",
        "colab": {
          "base_uri": "https://localhost:8080/"
        }
      },
      "outputs": [
        {
          "output_type": "execute_result",
          "data": {
            "text/plain": [
              "{'가': 0,\n",
              " '나': 1,\n",
              " '다': 2,\n",
              " '라': 3,\n",
              " '마': 4,\n",
              " '바': 5,\n",
              " '사': 6,\n",
              " '아': 7,\n",
              " '자': 8,\n",
              " '차': 9,\n",
              " '카': 10,\n",
              " '타': 11,\n",
              " '파': 12,\n",
              " '하': 13}"
            ]
          },
          "metadata": {},
          "execution_count": 21
        }
      ],
      "source": [
        "list('가나다라마바사아자차카타파하')\n",
        "\n",
        "# dict Comprehension\n",
        "{ char : idx for idx, char in enumerate(list('가나다라마바사아자차카타파하')) }\n",
        "    \n"
      ]
    },
    {
      "cell_type": "markdown",
      "id": "6fcd7941",
      "metadata": {
        "id": "6fcd7941"
      },
      "source": [
        "## iterable 객체 : 반복(순환) 가능한 객체\n",
        "- 대표적 iterable 객체 타입 : range(), map()함수 \n",
        "-반복자(iterator): 함수 next() : iterator를 입력 받아 다음 출력 값을 반환"
      ]
    },
    {
      "cell_type": "code",
      "execution_count": null,
      "id": "d9b15dcc",
      "metadata": {
        "id": "d9b15dcc"
      },
      "outputs": [],
      "source": [
        "lst=[1,2,3]\n",
        "result = "
      ]
    },
    {
      "cell_type": "code",
      "execution_count": null,
      "id": "048cd1f0",
      "metadata": {
        "id": "048cd1f0"
      },
      "outputs": [],
      "source": []
    },
    {
      "cell_type": "code",
      "execution_count": null,
      "id": "3b32e9e6",
      "metadata": {
        "id": "3b32e9e6"
      },
      "outputs": [],
      "source": []
    },
    {
      "cell_type": "code",
      "execution_count": null,
      "id": "bb1028a0",
      "metadata": {
        "id": "bb1028a0"
      },
      "outputs": [],
      "source": []
    },
    {
      "cell_type": "markdown",
      "id": "71047e86",
      "metadata": {
        "id": "71047e86"
      },
      "source": [
        "## Generator\n",
        "- Iterable 자료를 생성하는 함수\n",
        "- next() 함수 사용해서 자료에 접근"
      ]
    },
    {
      "cell_type": "code",
      "execution_count": 31,
      "id": "cda4747e",
      "metadata": {
        "id": "cda4747e"
      },
      "outputs": [],
      "source": [
        "def one_to_infinite():\n",
        "    # 1 ~ 무한대의 자연수가 순서대로 나오는 생성기\n",
        "    n = 1\n",
        "    while True:\n",
        "        yield n\n",
        "        n += 1\n",
        "        "
      ]
    },
    {
      "cell_type": "code",
      "execution_count": 33,
      "id": "95dbae3b",
      "metadata": {
        "id": "95dbae3b"
      },
      "outputs": [],
      "source": [
        "natural_number = one_to_infinite()"
      ]
    },
    {
      "cell_type": "code",
      "execution_count": 36,
      "id": "5001caef",
      "metadata": {
        "id": "5001caef",
        "outputId": "61b3ebd5-6070-41d2-867e-691f9ac1e014",
        "colab": {
          "base_uri": "https://localhost:8080/"
        }
      },
      "outputs": [
        {
          "output_type": "execute_result",
          "data": {
            "text/plain": [
              "2"
            ]
          },
          "metadata": {},
          "execution_count": 36
        }
      ],
      "source": [
        "next(natural_number)"
      ]
    },
    {
      "cell_type": "code",
      "execution_count": 37,
      "id": "7e7eeda6",
      "metadata": {
        "id": "7e7eeda6",
        "outputId": "3804fb81-ed64-418a-b248-1eea4d9081e0",
        "colab": {
          "base_uri": "https://localhost:8080/",
          "height": 174
        }
      },
      "outputs": [
        {
          "output_type": "error",
          "ename": "TypeError",
          "evalue": "ignored",
          "traceback": [
            "\u001b[0;31m---------------------------------------------------------------------------\u001b[0m",
            "\u001b[0;31mTypeError\u001b[0m                                 Traceback (most recent call last)",
            "\u001b[0;32m<ipython-input-37-2e5bf507289a>\u001b[0m in \u001b[0;36m<module>\u001b[0;34m\u001b[0m\n\u001b[0;32m----> 1\u001b[0;31m \u001b[0mnatural_number\u001b[0m\u001b[0;34m[\u001b[0m\u001b[0;36m3\u001b[0m\u001b[0;34m]\u001b[0m\u001b[0;34m\u001b[0m\u001b[0;34m\u001b[0m\u001b[0m\n\u001b[0m",
            "\u001b[0;31mTypeError\u001b[0m: 'generator' object is not subscriptable"
          ]
        }
      ],
      "source": [
        "next(natural_number)"
      ]
    },
    {
      "cell_type": "markdown",
      "id": "b99cb7e5",
      "metadata": {
        "id": "b99cb7e5"
      },
      "source": [
        "### Generator expression\n",
        "- iterable 자료를 생성하는 식"
      ]
    },
    {
      "cell_type": "code",
      "execution_count": 24,
      "id": "a39df9b9",
      "metadata": {
        "id": "a39df9b9"
      },
      "outputs": [],
      "source": [
        "k = (x for x in range(10))"
      ]
    },
    {
      "cell_type": "code",
      "execution_count": null,
      "id": "347216a7",
      "metadata": {
        "id": "347216a7"
      },
      "outputs": [],
      "source": [
        "next(k)"
      ]
    },
    {
      "cell_type": "code",
      "execution_count": 27,
      "id": "74bf6974",
      "metadata": {
        "id": "74bf6974",
        "outputId": "022a1337-4a66-4241-eea4-804147724f9e",
        "colab": {
          "base_uri": "https://localhost:8080/"
        }
      },
      "outputs": [
        {
          "output_type": "execute_result",
          "data": {
            "text/plain": [
              "2"
            ]
          },
          "metadata": {},
          "execution_count": 27
        }
      ],
      "source": [
        "next(k)"
      ]
    },
    {
      "cell_type": "markdown",
      "id": "94e2fd45",
      "metadata": {
        "id": "94e2fd45"
      },
      "source": [
        "##  리스트와 iterable 객체의 차이점"
      ]
    },
    {
      "cell_type": "code",
      "execution_count": 22,
      "id": "0c65a343",
      "metadata": {
        "id": "0c65a343",
        "outputId": "62814c54-81a1-436f-8355-a3b372eb2e53",
        "colab": {
          "base_uri": "https://localhost:8080/"
        }
      },
      "outputs": [
        {
          "output_type": "stream",
          "name": "stdout",
          "text": [
            "음료 주문하세요:아\n",
            "음료 주문하세요:이\n",
            "음료 주문하세요:스\n",
            "아 만들어주세요..\n",
            "이 만들어주세요..\n",
            "스 만들어주세요..\n"
          ]
        }
      ],
      "source": [
        "# 리스트 컴프렌션\n",
        "\n",
        "def input_order(n):   # 리스트를 만들어 반환\n",
        "    return [input('음료 주문하세요:')  for x in range(n)] \n",
        "\n",
        "# 음료 3개 입력받아 각 음료 제조를 요청\n",
        "for drink in input_order(3):\n",
        "    print(drink, '만들어주세요..')"
      ]
    },
    {
      "cell_type": "code",
      "execution_count": 23,
      "id": "57148dc5",
      "metadata": {
        "id": "57148dc5",
        "outputId": "0cf53c2a-2d6b-4277-94cc-f39e302ee2fd",
        "colab": {
          "base_uri": "https://localhost:8080/"
        }
      },
      "outputs": [
        {
          "output_type": "stream",
          "name": "stdout",
          "text": [
            "음료 주문하세요:3\n",
            "3 만들어주세요..\n",
            "음료 주문하세요:2\n",
            "음료 주문하세요:1\n",
            "2 만들어주세요..\n",
            "1 만들어주세요..\n"
          ]
        }
      ],
      "source": [
        "# 제네레이터 \n",
        "\n",
        "def input_order(n):   # 리스트를 만들어 반환\n",
        "    return (input('음료 주문하세요:')  for x in range(n))\n",
        "\n",
        "# 음료 3개 입력받아 각 음료 제조를 요청\n",
        "for drink in input_order(3):\n",
        "    print(drink, '만들어주세요..')"
      ]
    }
  ],
  "metadata": {
    "kernelspec": {
      "display_name": "Python 3 (ipykernel)",
      "language": "python",
      "name": "python3"
    },
    "language_info": {
      "codemirror_mode": {
        "name": "ipython",
        "version": 3
      },
      "file_extension": ".py",
      "mimetype": "text/x-python",
      "name": "python",
      "nbconvert_exporter": "python",
      "pygments_lexer": "ipython3",
      "version": "3.9.13"
    },
    "colab": {
      "provenance": []
    }
  },
  "nbformat": 4,
  "nbformat_minor": 5
}