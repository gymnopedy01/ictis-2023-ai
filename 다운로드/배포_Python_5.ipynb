{
 "cells": [
  {
   "cell_type": "code",
   "execution_count": 1,
   "id": "cc2a2fda",
   "metadata": {},
   "outputs": [],
   "source": [
    "%config Completer.use_jedi = False"
   ]
  },
  {
   "cell_type": "markdown",
   "id": "bb8a4e7f",
   "metadata": {},
   "source": [
    "## 디폴트 인자(default argument, = 기본 인자) : \n",
    "- 함수의 매개변수는 기본값을 가질 수 있다.\n",
    "- 인자가 부족하면 기본값을 채워준다."
   ]
  },
  {
   "cell_type": "code",
   "execution_count": null,
   "id": "29afd2ac",
   "metadata": {},
   "outputs": [],
   "source": [
    "def greet(name, msg ):\n",
    "    print('안녕', )"
   ]
  },
  {
   "cell_type": "code",
   "execution_count": null,
   "id": "13a1163d",
   "metadata": {},
   "outputs": [],
   "source": [
    "greet('길동', '좋은 아침!!')"
   ]
  },
  {
   "cell_type": "code",
   "execution_count": null,
   "id": "e06dbf57",
   "metadata": {},
   "outputs": [],
   "source": []
  },
  {
   "cell_type": "code",
   "execution_count": null,
   "id": "902a13dd",
   "metadata": {},
   "outputs": [],
   "source": [
    "greet('길산')"
   ]
  },
  {
   "cell_type": "code",
   "execution_count": null,
   "id": "4e5d13c7",
   "metadata": {},
   "outputs": [],
   "source": [
    "greet('길산', '좋은 아침~')"
   ]
  },
  {
   "cell_type": "markdown",
   "id": "075cfb87",
   "metadata": {},
   "source": [
    "## keyword argument :\n",
    "- 매개 변수 이름을 지정해서 값을 전달하는 방식 "
   ]
  },
  {
   "cell_type": "code",
   "execution_count": null,
   "id": "52bad9ad",
   "metadata": {},
   "outputs": [],
   "source": [
    "def calc(x, y, z):\n",
    "    return x+y+z"
   ]
  },
  {
   "cell_type": "code",
   "execution_count": null,
   "id": "14a61b5b",
   "metadata": {},
   "outputs": [],
   "source": []
  },
  {
   "cell_type": "code",
   "execution_count": null,
   "id": "4b468138",
   "metadata": {},
   "outputs": [],
   "source": []
  },
  {
   "cell_type": "code",
   "execution_count": null,
   "id": "bd5e592e",
   "metadata": {},
   "outputs": [],
   "source": []
  },
  {
   "cell_type": "code",
   "execution_count": null,
   "id": "abb161f1",
   "metadata": {},
   "outputs": [],
   "source": []
  },
  {
   "cell_type": "markdown",
   "id": "90b07e83",
   "metadata": {},
   "source": [
    "## 가변 인자\n",
    "- 몇 개의 인자를 받을지 정해지지 않은 인자\n",
    "- 파이썬에서는 가변 인자를 받을 때 * (Asterisk) 을 붙여서 받는다.\n",
    "- 입력받는 전달 인자의 개수에 상관없음"
   ]
  },
  {
   "cell_type": "code",
   "execution_count": null,
   "id": "f1e2c70f",
   "metadata": {},
   "outputs": [],
   "source": [
    "def sum_all( ):\n",
    "    result = 0\n",
    "    \n",
    "    for i in args:\n",
    "        result += i\n",
    "    return result"
   ]
  },
  {
   "cell_type": "raw",
   "id": "8f954dae",
   "metadata": {},
   "source": [
    "sum_all(1,2,3,4,5,6,7,8,9,10)"
   ]
  },
  {
   "cell_type": "markdown",
   "id": "e1ffd2b6",
   "metadata": {},
   "source": [
    "## 키워드 가변 인자: 키워드 + 가변 \n",
    "- ** 을 사용\n",
    "- dictionary 형태로 입력"
   ]
  },
  {
   "cell_type": "code",
   "execution_count": null,
   "id": "6eb12d10",
   "metadata": {},
   "outputs": [],
   "source": [
    "def dic_text( ):\n",
    "    print( )"
   ]
  },
  {
   "cell_type": "code",
   "execution_count": null,
   "id": "81cd1bd6",
   "metadata": {},
   "outputs": [],
   "source": [
    "dic_text(   )"
   ]
  },
  {
   "cell_type": "markdown",
   "id": "8cc61495",
   "metadata": {},
   "source": [
    "## 함수는 객체"
   ]
  },
  {
   "cell_type": "code",
   "execution_count": null,
   "id": "28ce72c9",
   "metadata": {},
   "outputs": [],
   "source": [
    "def func(dx, dy):\n",
    "    '''이것은 여러줄 \n",
    "    주석입니다. \n",
    "    함수의 도움말'''\n",
    "    dx, dy = dy, dx\n",
    "    return dx, dy"
   ]
  },
  {
   "cell_type": "code",
   "execution_count": null,
   "id": "80d3e7a9",
   "metadata": {},
   "outputs": [],
   "source": []
  },
  {
   "cell_type": "code",
   "execution_count": null,
   "id": "38399db4",
   "metadata": {},
   "outputs": [],
   "source": []
  },
  {
   "cell_type": "code",
   "execution_count": null,
   "id": "6b3d9260",
   "metadata": {},
   "outputs": [],
   "source": []
  },
  {
   "cell_type": "code",
   "execution_count": null,
   "id": "42518a5b",
   "metadata": {},
   "outputs": [],
   "source": []
  },
  {
   "cell_type": "code",
   "execution_count": null,
   "id": "6cca23b4",
   "metadata": {},
   "outputs": [],
   "source": []
  },
  {
   "cell_type": "code",
   "execution_count": null,
   "id": "77e60e6f",
   "metadata": {},
   "outputs": [],
   "source": [
    "def wow(text):\n",
    "    return text.upper()"
   ]
  },
  {
   "cell_type": "code",
   "execution_count": null,
   "id": "28fe984c",
   "metadata": {},
   "outputs": [],
   "source": []
  },
  {
   "cell_type": "code",
   "execution_count": null,
   "id": "fb860084",
   "metadata": {},
   "outputs": [],
   "source": []
  },
  {
   "cell_type": "code",
   "execution_count": null,
   "id": "0ad49529",
   "metadata": {},
   "outputs": [],
   "source": []
  },
  {
   "cell_type": "code",
   "execution_count": null,
   "id": "1b5c1e7e",
   "metadata": {},
   "outputs": [],
   "source": []
  },
  {
   "cell_type": "code",
   "execution_count": null,
   "id": "e14955b7",
   "metadata": {},
   "outputs": [],
   "source": []
  },
  {
   "cell_type": "code",
   "execution_count": null,
   "id": "3803e637",
   "metadata": {},
   "outputs": [],
   "source": []
  },
  {
   "cell_type": "markdown",
   "id": "2d69149f",
   "metadata": {},
   "source": [
    "### Python 함수는 객체이므로 자료구조 속에 넣을 수 있음"
   ]
  },
  {
   "cell_type": "code",
   "execution_count": null,
   "id": "74ff07a4",
   "metadata": {},
   "outputs": [],
   "source": [
    "flst = [oh, str.lower, str.capitalize]"
   ]
  },
  {
   "cell_type": "code",
   "execution_count": null,
   "id": "c31d978e",
   "metadata": {},
   "outputs": [],
   "source": [
    "flst"
   ]
  },
  {
   "cell_type": "code",
   "execution_count": null,
   "id": "427a1e04",
   "metadata": {},
   "outputs": [],
   "source": [
    "for x in flst:\n",
    "    "
   ]
  },
  {
   "cell_type": "code",
   "execution_count": null,
   "id": "badcbcd7",
   "metadata": {},
   "outputs": [],
   "source": []
  },
  {
   "cell_type": "markdown",
   "id": "ee8acf12",
   "metadata": {},
   "source": [
    "### split()함수와 join() 함수"
   ]
  },
  {
   "cell_type": "code",
   "execution_count": null,
   "id": "a50e68db",
   "metadata": {},
   "outputs": [],
   "source": [
    "color = ['blue', 'red', 'yellow', 'green']"
   ]
  },
  {
   "cell_type": "code",
   "execution_count": null,
   "id": "f3de42b3",
   "metadata": {},
   "outputs": [],
   "source": []
  },
  {
   "cell_type": "code",
   "execution_count": null,
   "id": "bd6fd53c",
   "metadata": {},
   "outputs": [],
   "source": []
  },
  {
   "cell_type": "markdown",
   "id": "29f4742b",
   "metadata": {},
   "source": [
    "## lambda 함수 \n",
    "- 한 줄짜리 함수\n",
    "- 콜론(:)을 경계로 앞 : 매개변수 /  뒤 : 표현식(반환값)\n",
    "- return문 필요 없고, 표현식 실행 결과가 자동 반환됨"
   ]
  },
  {
   "cell_type": "code",
   "execution_count": null,
   "id": "17e53732",
   "metadata": {},
   "outputs": [],
   "source": [
    "a = "
   ]
  },
  {
   "cell_type": "code",
   "execution_count": null,
   "id": "5e924151",
   "metadata": {},
   "outputs": [],
   "source": [
    "a(10,10)"
   ]
  },
  {
   "cell_type": "markdown",
   "id": "584fa6ab",
   "metadata": {},
   "source": [
    "## higher-order function\n",
    "- Python은 함수를 전달인자로 넘겨줄 수 있음"
   ]
  },
  {
   "cell_type": "code",
   "execution_count": null,
   "id": "f682f3dd",
   "metadata": {},
   "outputs": [],
   "source": [
    "def greet(  ):\n",
    "    greeting =  ('hi, I love python')\n",
    "    print(greeting)"
   ]
  },
  {
   "cell_type": "code",
   "execution_count": null,
   "id": "89e48a40",
   "metadata": {},
   "outputs": [],
   "source": []
  },
  {
   "cell_type": "markdown",
   "id": "299bbd85",
   "metadata": {},
   "source": [
    "## map 함수\n",
    "- map(f, iterable)\n",
    "- 모든 자료에 대해 순차적으로 수행됨"
   ]
  },
  {
   "cell_type": "code",
   "execution_count": null,
   "id": "32884d6c",
   "metadata": {},
   "outputs": [],
   "source": [
    "list(       ['hi', 'hello', 'welcome']  )"
   ]
  },
  {
   "cell_type": "code",
   "execution_count": null,
   "id": "27d038ef",
   "metadata": {},
   "outputs": [],
   "source": []
  },
  {
   "cell_type": "markdown",
   "id": "b06ca275",
   "metadata": {},
   "source": [
    "## reduce 함수"
   ]
  },
  {
   "cell_type": "code",
   "execution_count": null,
   "id": "c5d1e76f",
   "metadata": {},
   "outputs": [],
   "source": [
    "from functools import reduce"
   ]
  },
  {
   "cell_type": "code",
   "execution_count": null,
   "id": "f7242539",
   "metadata": {},
   "outputs": [],
   "source": []
  },
  {
   "cell_type": "code",
   "execution_count": null,
   "id": "eb3efe4d",
   "metadata": {},
   "outputs": [],
   "source": []
  },
  {
   "cell_type": "markdown",
   "id": "9b0a1aa1",
   "metadata": {},
   "source": [
    "## filter 함수\n",
    "- 반복 가능한 객체에서 지정한 함수의 반환 값이 True인 요소만 골라냄"
   ]
  },
  {
   "cell_type": "code",
   "execution_count": null,
   "id": "687067c5",
   "metadata": {},
   "outputs": [],
   "source": [
    "list(         )"
   ]
  },
  {
   "cell_type": "code",
   "execution_count": null,
   "id": "bc004f4e",
   "metadata": {},
   "outputs": [],
   "source": [
    "list(        )"
   ]
  },
  {
   "cell_type": "markdown",
   "id": "78cddf43",
   "metadata": {},
   "source": [
    "### 내부 함수"
   ]
  },
  {
   "cell_type": "code",
   "execution_count": null,
   "id": "1725e032",
   "metadata": {},
   "outputs": [],
   "source": [
    "def speak (text):\n",
    "    def wow(t):\n",
    "        return t.lower()\n",
    "    return wow(text)"
   ]
  },
  {
   "cell_type": "code",
   "execution_count": null,
   "id": "c7f976e6",
   "metadata": {},
   "outputs": [],
   "source": []
  },
  {
   "cell_type": "code",
   "execution_count": null,
   "id": "b72aafb6",
   "metadata": {},
   "outputs": [],
   "source": [
    "def get_speak_wow(volume):\n",
    "    def wow(text):\n",
    "        return text.lower()\n",
    "    def oh(text):\n",
    "        return text.upper()\n",
    "    \n",
    "    if volume > 0.5:\n",
    "        return oh\n",
    "    else:\n",
    "        return wow\n"
   ]
  },
  {
   "cell_type": "code",
   "execution_count": null,
   "id": "519cd59d",
   "metadata": {},
   "outputs": [],
   "source": [
    "speak_func = get_speak_wow(0.8)\n"
   ]
  },
  {
   "cell_type": "code",
   "execution_count": null,
   "id": "87946bab",
   "metadata": {},
   "outputs": [],
   "source": [
    "def math_func1(x, y, op):\n",
    "    def add_():\n",
    "        return \n",
    "    def sub_():\n",
    "        return \n",
    "    def mul_():\n",
    "        return \n",
    "    def div_():\n",
    "        return    "
   ]
  },
  {
   "cell_type": "code",
   "execution_count": null,
   "id": "796e2304",
   "metadata": {},
   "outputs": [],
   "source": [
    "math_func1(   )"
   ]
  },
  {
   "cell_type": "markdown",
   "id": "0094f34f",
   "metadata": {},
   "source": [
    "### 클로져"
   ]
  },
  {
   "cell_type": "code",
   "execution_count": null,
   "id": "b9dc976f",
   "metadata": {},
   "outputs": [],
   "source": [
    "def get_speak_func(text, volume):\n",
    "    def wow():\n",
    "        return text.lower()\n",
    "    def oh():\n",
    "        return text.upper()\n",
    "    \n",
    "    if volume > 0.5:\n",
    "        return oh\n",
    "    else:\n",
    "        return wow"
   ]
  },
  {
   "cell_type": "code",
   "execution_count": null,
   "id": "6ea50219",
   "metadata": {},
   "outputs": [],
   "source": [
    "get_speak_func"
   ]
  },
  {
   "cell_type": "markdown",
   "id": "c1b63fcc",
   "metadata": {},
   "source": [
    "## enumerate() 함수\n",
    "- List의 요소를 추출할 때 번호를 붙여서 추출\n"
   ]
  },
  {
   "cell_type": "code",
   "execution_count": null,
   "id": "0f79a212",
   "metadata": {},
   "outputs": [],
   "source": [
    "mylist=['a', 'b', 'c', 'd']"
   ]
  },
  {
   "cell_type": "code",
   "execution_count": null,
   "id": "b742d85e",
   "metadata": {},
   "outputs": [],
   "source": []
  },
  {
   "cell_type": "code",
   "execution_count": null,
   "id": "7e9db71a",
   "metadata": {},
   "outputs": [],
   "source": [
    "for   "
   ]
  },
  {
   "cell_type": "markdown",
   "id": "b418094e",
   "metadata": {},
   "source": [
    "## zip() 함수\n",
    "- list/tuple 들에서 같은 위치에 있는 값을 병렬적으로 추출함"
   ]
  },
  {
   "cell_type": "code",
   "execution_count": null,
   "id": "1d9987f1",
   "metadata": {},
   "outputs": [],
   "source": [
    "alist = ['a1', 'a2', 'a3']\n",
    "blist = ['b1', 'b2', 'b3']"
   ]
  },
  {
   "cell_type": "code",
   "execution_count": null,
   "id": "e1cbfa7d",
   "metadata": {},
   "outputs": [],
   "source": []
  },
  {
   "cell_type": "code",
   "execution_count": null,
   "id": "89cb9758",
   "metadata": {},
   "outputs": [],
   "source": [
    "for "
   ]
  },
  {
   "cell_type": "markdown",
   "id": "5d88e7b2",
   "metadata": {},
   "source": [
    "## 리스트 조건 제시법\n",
    "- for 반복을 사용하여 자동으로 리스트를 생성하는 방법"
   ]
  },
  {
   "cell_type": "code",
   "execution_count": null,
   "id": "787b6023",
   "metadata": {},
   "outputs": [],
   "source": [
    "import random "
   ]
  },
  {
   "cell_type": "code",
   "execution_count": null,
   "id": "17a6e4fa",
   "metadata": {},
   "outputs": [],
   "source": [
    "rlst=[]\n",
    "for x in   :\n",
    "    rlst.append(random.randint(1, 45))\n",
    "else:\n",
    "    print(rlst)"
   ]
  },
  {
   "cell_type": "code",
   "execution_count": null,
   "id": "81427d78",
   "metadata": {},
   "outputs": [],
   "source": []
  },
  {
   "cell_type": "code",
   "execution_count": null,
   "id": "e7ba01d3",
   "metadata": {},
   "outputs": [],
   "source": [
    " "
   ]
  },
  {
   "cell_type": "code",
   "execution_count": null,
   "id": "8d0e32fc",
   "metadata": {},
   "outputs": [],
   "source": [
    "[ i**3 for i in range(10)  ]"
   ]
  },
  {
   "cell_type": "code",
   "execution_count": null,
   "id": "b819a1b0",
   "metadata": {},
   "outputs": [],
   "source": [
    "list('가나다라마바사아자차카타파하')"
   ]
  },
  {
   "cell_type": "markdown",
   "id": "6fcd7941",
   "metadata": {},
   "source": [
    "## iterable 객체 : 반복(순환) 가능한 객체\n",
    "- 대표적 iterable 객체 타입 : range(), map()함수 \n",
    "-반복자(iterator): 함수 next() : iterator를 입력 받아 다음 출력 값을 반환"
   ]
  },
  {
   "cell_type": "code",
   "execution_count": null,
   "id": "d9b15dcc",
   "metadata": {},
   "outputs": [],
   "source": [
    "lst=[1,2,3]\n",
    "result = "
   ]
  },
  {
   "cell_type": "code",
   "execution_count": null,
   "id": "048cd1f0",
   "metadata": {},
   "outputs": [],
   "source": []
  },
  {
   "cell_type": "code",
   "execution_count": null,
   "id": "3b32e9e6",
   "metadata": {},
   "outputs": [],
   "source": []
  },
  {
   "cell_type": "code",
   "execution_count": null,
   "id": "bb1028a0",
   "metadata": {},
   "outputs": [],
   "source": []
  },
  {
   "cell_type": "markdown",
   "id": "71047e86",
   "metadata": {},
   "source": [
    "## Generator\n",
    "- Iterable 자료를 생성하는 함수\n",
    "- next() 함수 사용해서 자료에 접근"
   ]
  },
  {
   "cell_type": "code",
   "execution_count": null,
   "id": "cda4747e",
   "metadata": {},
   "outputs": [],
   "source": [
    "def one_to_infinite():\n",
    "    # 1 ~ 무한대의 자연수가 순서대로 나오는 생성기\n",
    "    n = 1\n",
    "    while True:\n",
    "        "
   ]
  },
  {
   "cell_type": "code",
   "execution_count": null,
   "id": "95dbae3b",
   "metadata": {},
   "outputs": [],
   "source": [
    "natural_number = one_to_infinite()"
   ]
  },
  {
   "cell_type": "code",
   "execution_count": null,
   "id": "5001caef",
   "metadata": {},
   "outputs": [],
   "source": []
  },
  {
   "cell_type": "code",
   "execution_count": null,
   "id": "7e7eeda6",
   "metadata": {},
   "outputs": [],
   "source": []
  },
  {
   "cell_type": "markdown",
   "id": "b99cb7e5",
   "metadata": {},
   "source": [
    "### Generator expression\n",
    "- iterable 자료를 생성하는 식"
   ]
  },
  {
   "cell_type": "code",
   "execution_count": null,
   "id": "a39df9b9",
   "metadata": {},
   "outputs": [],
   "source": []
  },
  {
   "cell_type": "code",
   "execution_count": null,
   "id": "347216a7",
   "metadata": {},
   "outputs": [],
   "source": []
  },
  {
   "cell_type": "code",
   "execution_count": null,
   "id": "74bf6974",
   "metadata": {},
   "outputs": [],
   "source": []
  },
  {
   "cell_type": "markdown",
   "id": "94e2fd45",
   "metadata": {},
   "source": [
    "##  리스트와 iterable 객체의 차이점"
   ]
  },
  {
   "cell_type": "code",
   "execution_count": null,
   "id": "0c65a343",
   "metadata": {},
   "outputs": [],
   "source": [
    "def input_order(n):   # 리스트를 만들어 반환\n",
    "    return                 \n",
    "\n",
    "# 음료 3개 입력받아 각 음료 제조를 요청\n",
    "for drink in input_order(3):\n",
    "    print(drink, '만들어주세요..')"
   ]
  },
  {
   "cell_type": "code",
   "execution_count": null,
   "id": "57148dc5",
   "metadata": {},
   "outputs": [],
   "source": []
  }
 ],
 "metadata": {
  "kernelspec": {
   "display_name": "Python 3 (ipykernel)",
   "language": "python",
   "name": "python3"
  },
  "language_info": {
   "codemirror_mode": {
    "name": "ipython",
    "version": 3
   },
   "file_extension": ".py",
   "mimetype": "text/x-python",
   "name": "python",
   "nbconvert_exporter": "python",
   "pygments_lexer": "ipython3",
   "version": "3.9.13"
  }
 },
 "nbformat": 4,
 "nbformat_minor": 5
}
