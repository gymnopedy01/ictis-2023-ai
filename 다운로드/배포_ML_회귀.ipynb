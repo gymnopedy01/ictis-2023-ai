{
  "cells": [
    {
      "cell_type": "markdown",
      "id": "a7685b2c",
      "metadata": {
        "id": "a7685b2c"
      },
      "source": [
        "# 회귀 분석"
      ]
    },
    {
      "cell_type": "code",
      "execution_count": 1,
      "id": "032b327e",
      "metadata": {
        "id": "032b327e"
      },
      "outputs": [],
      "source": [
        "import pandas as pd\n",
        "import numpy as np\n",
        "import matplotlib.pyplot as plt\n",
        "import seaborn as sns\n",
        "sns.set()"
      ]
    },
    {
      "cell_type": "markdown",
      "id": "a40562fd",
      "metadata": {
        "id": "a40562fd"
      },
      "source": [
        "##  경사하강법"
      ]
    },
    {
      "cell_type": "markdown",
      "id": "540eaddb",
      "metadata": {
        "id": "540eaddb"
      },
      "source": [
        "### (1) 수치 미분법 "
      ]
    },
    {
      "cell_type": "markdown",
      "id": "4e5f499d",
      "metadata": {
        "id": "4e5f499d"
      },
      "source": [
        "#### 중심 차분법"
      ]
    },
    {
      "cell_type": "code",
      "execution_count": 3,
      "id": "6a57906a",
      "metadata": {
        "id": "6a57906a"
      },
      "outputs": [],
      "source": [
        "def numerical_derivative(func, x):\n",
        "    delta = 1E-4 # 0.0001       # 1.0* 10의-4승\n",
        "    return (func(x+delta) - func(x-delta)) / (2*delta)"
      ]
    },
    {
      "cell_type": "code",
      "execution_count": 4,
      "id": "a37fcb8b",
      "metadata": {
        "id": "a37fcb8b"
      },
      "outputs": [],
      "source": [
        "def func1(x):\n",
        "    return x**2"
      ]
    },
    {
      "cell_type": "code",
      "execution_count": 5,
      "id": "2682253c",
      "metadata": {
        "id": "2682253c",
        "outputId": "090f9bf2-2787-482b-e254-6d358ff85738",
        "colab": {
          "base_uri": "https://localhost:8080/"
        }
      },
      "outputs": [
        {
          "output_type": "execute_result",
          "data": {
            "text/plain": [
              "4.000000000004"
            ]
          },
          "metadata": {},
          "execution_count": 5
        }
      ],
      "source": [
        "numerical_derivative(func1, 2.0)"
      ]
    },
    {
      "cell_type": "code",
      "execution_count": 7,
      "id": "d326355d",
      "metadata": {
        "id": "d326355d",
        "outputId": "b327c2cf-9457-484f-b062-78dd18a45a1c",
        "colab": {
          "base_uri": "https://localhost:8080/"
        }
      },
      "outputs": [
        {
          "output_type": "stream",
          "name": "stdout",
          "text": [
            "0 : 0.0\n",
            "1 : 1.9999999999992246\n",
            "2 : 4.000000000004\n",
            "3 : 6.000000000012662\n",
            "4 : 7.999999999999119\n",
            "5 : 9.999999999976694\n",
            "6 : 11.999999999972033\n",
            "7 : 13.999999999967372\n",
            "8 : 15.999999999927184\n",
            "9 : 17.99999999995805\n",
            "10 : 19.99999999995339\n"
          ]
        }
      ],
      "source": [
        "for i in range(0,11):\n",
        "    print(i, ':', numerical_derivative(func1, float(i)))"
      ]
    },
    {
      "cell_type": "code",
      "execution_count": null,
      "id": "21b5ad57",
      "metadata": {
        "id": "21b5ad57"
      },
      "outputs": [],
      "source": []
    },
    {
      "cell_type": "markdown",
      "id": "b5a488e7",
      "metadata": {
        "id": "b5a488e7"
      },
      "source": [
        "### 다중 변수 미분 계수 구하기\n",
        "수치 미분법에 의한 "
      ]
    },
    {
      "cell_type": "code",
      "execution_count": 30,
      "id": "73b0ce0d",
      "metadata": {
        "id": "73b0ce0d"
      },
      "outputs": [],
      "source": [
        "# def numerical_derivative(f, a): #f:다변수 함수, a:모든 변수값을 포함하고 있는 1차원 numpy배열\n",
        "#     delta = 1E-4\n",
        "    \n",
        "#     grad = np.zeors_like(a) # 각 변수마다, 계산된 수치 미분계수 값\n",
        "    \n",
        "#     for idx in range(len(a)):\n",
        "        \n",
        "#         tmp_val = a[idx]  #임시보관\n",
        "#         a[idx] = tmp_val + delta\n",
        "#         fx1 = f(a)      # f(x+delta, y) 계산\n",
        "        \n",
        "#         a[idx] = tmp_val - delta\n",
        "#         fx2 = f(a)      # f(x-delta, y) 계산        \n",
        "#         grad[idx] = (fx1-fx2) / (2+delta)\n",
        "        \n",
        "#         a[idx] = tmp_val\n",
        "#     else:\n",
        "#         return grad\n",
        "\n",
        "\n",
        "def numerical_derivative(f, a): #f:다변수 함수, \n",
        "    import numpy as np  #a:모든 변수값을 포함하고 있는 1차원 numpy배열\n",
        "    delta = 1E-4\n",
        "    \n",
        "    grad = np.zeros_like(a) # 각 변수마다, 계산된 수치 미분계수 값\n",
        "    \n",
        "    for idx in range(len(a)):\n",
        "        \n",
        "        tmp_val = a[idx]  #임시보관\n",
        "        a[idx] = tmp_val + delta\n",
        "        fx1 = f(a)      # f(x+delta, y) 계산\n",
        "        \n",
        "        a[idx] = tmp_val - delta\n",
        "        fx2 = f(a)      # f(x-delta, y) 계산        \n",
        "        grad[idx] = (fx1-fx2) /(2*delta)\n",
        "        \n",
        "        a[idx] = tmp_val\n",
        "    else:\n",
        "        return grad"
      ]
    },
    {
      "cell_type": "code",
      "execution_count": 31,
      "id": "c81d857b",
      "metadata": {
        "id": "c81d857b"
      },
      "outputs": [],
      "source": [
        "def MSE(p):  # p : array([W,b])\n",
        "    global x, y\n",
        "    y_pred =  x*p[0]+p[1]\n",
        "    return  np.mean((y-y_pred)**2)"
      ]
    },
    {
      "cell_type": "code",
      "execution_count": 32,
      "id": "0faf4d51",
      "metadata": {
        "id": "0faf4d51"
      },
      "outputs": [],
      "source": [
        "def predict(x, p): # p : array([W,b])\n",
        "    return x * p[0]+p[1]"
      ]
    },
    {
      "cell_type": "code",
      "execution_count": 33,
      "id": "b4607fb3",
      "metadata": {
        "id": "b4607fb3"
      },
      "outputs": [],
      "source": [
        "def drawGraphs(x, y, W, b, W_history, b_history):\n",
        "    fig, axes = plt.subplots(1,2, figsize=(10,5))\n",
        "    axes[0].plot(W_history, 'b-', b_history, 'r--')\n",
        "\n",
        "    xx = np.linspace(x.min()-1,x.max()+1, 100)\n",
        "    yy = W*xx + b\n",
        "    axes[1].scatter(x, y)\n",
        "    axes[1].plot(xx, yy, c='r')\n",
        "    plt.show()   "
      ]
    },
    {
      "cell_type": "code",
      "execution_count": 34,
      "id": "84027aab",
      "metadata": {
        "id": "84027aab"
      },
      "outputs": [],
      "source": [
        "def numericalderiv_LinearRegression(x, y, lr=0.01, max_iters=1000):\n",
        "    import random\n",
        "\n",
        "    W =float(random.randint(-10, 10))\n",
        "    b =float(random.randint(-10, 10))\n",
        "\n",
        "\n",
        "    W_history =  [W]\n",
        "    b_history =  [b]\n",
        "\n",
        "    cost =  MSE(np.array([W,b]))\n",
        "    print(\"Epochs:\",0,\"\\tW:\",W,\"\\tb:\",b,\"\\tcost:\",cost)\n",
        "\n",
        "    rate =   lr # Learning rate\n",
        "    MaxItrs = max_iters\n",
        "\n",
        "    for epoch in range(1,MaxItrs+1):  #epoch: 반복 횟수\n",
        "        gradientW, gradientB  =  numerical_derivative(MSE, np.array([W, b]))\n",
        "        W =  W - rate * gradientW      #Grad descent 경사하강법\n",
        "        b =  b - rate * gradientB       #Grad descent   경사하강법\n",
        "        W_history.append(W)\n",
        "        b_history.append(b)\n",
        "\n",
        "        cost =  MSE(np.array([W,b]))\n",
        "\n",
        "        if len(str(epoch))==1 or epoch %100==0 or epoch==MaxItrs:\n",
        "            print('Epochs:', epoch, \n",
        "                  'gradient W: %.2f, gradient b:%.2f, ' %(gradientW, gradientB), \n",
        "                  end=' ')\n",
        "            print(\"W:%.2f, b:%.2f, cost: %.2f\" % (W, b, cost)) #Print result \n",
        "            \n",
        "    else:\n",
        "        print('W=', W, 'b=', b)\n",
        "        print('참값:', y)\n",
        "        print('예측:', predict(x, np.array([W,b])))\n",
        "        drawGraphs(x, y, W,b, W_history, b_history)\n",
        "        return W, b"
      ]
    },
    {
      "cell_type": "code",
      "execution_count": 35,
      "id": "c5d12297",
      "metadata": {
        "id": "c5d12297",
        "outputId": "709fbcf8-8c99-4cb9-9a6a-76c5bc433344",
        "colab": {
          "base_uri": "https://localhost:8080/",
          "height": 879
        }
      },
      "outputs": [
        {
          "output_type": "stream",
          "name": "stdout",
          "text": [
            "Epochs: 0 \tW: 0.0 \tb: 6.0 \tcost: 29.0\n",
            "Epochs: 1 gradient W: -8.00, gradient b:10.00,  W:0.08, b:5.90, cost: 27.40\n",
            "Epochs: 2 gradient W: -7.36, gradient b:9.80,  W:0.15, b:5.80, cost: 25.92\n",
            "Epochs: 3 gradient W: -6.77, gradient b:9.60,  W:0.22, b:5.71, cost: 24.57\n",
            "Epochs: 4 gradient W: -6.23, gradient b:9.41,  W:0.28, b:5.61, cost: 23.32\n",
            "Epochs: 5 gradient W: -5.73, gradient b:9.22,  W:0.34, b:5.52, cost: 22.16\n",
            "Epochs: 6 gradient W: -5.27, gradient b:9.04,  W:0.39, b:5.43, cost: 21.09\n",
            "Epochs: 7 gradient W: -4.85, gradient b:8.86,  W:0.44, b:5.34, cost: 20.09\n",
            "Epochs: 8 gradient W: -4.46, gradient b:8.68,  W:0.49, b:5.25, cost: 19.15\n",
            "Epochs: 9 gradient W: -4.11, gradient b:8.51,  W:0.53, b:5.17, cost: 18.27\n",
            "Epochs: 100 gradient W: -0.00, gradient b:1.35,  W:1.00, b:1.66, cost: 0.44\n",
            "Epochs: 200 gradient W: -0.00, gradient b:0.18,  W:1.00, b:1.09, cost: 0.01\n",
            "Epochs: 300 gradient W: -0.00, gradient b:0.02,  W:1.00, b:1.01, cost: 0.00\n",
            "Epochs: 400 gradient W: -0.00, gradient b:0.00,  W:1.00, b:1.00, cost: 0.00\n",
            "Epochs: 500 gradient W: -0.00, gradient b:0.00,  W:1.00, b:1.00, cost: 0.00\n",
            "Epochs: 600 gradient W: -0.00, gradient b:0.00,  W:1.00, b:1.00, cost: 0.00\n",
            "Epochs: 700 gradient W: -0.00, gradient b:0.00,  W:1.00, b:1.00, cost: 0.00\n",
            "Epochs: 800 gradient W: -0.00, gradient b:0.00,  W:1.00, b:1.00, cost: 0.00\n",
            "Epochs: 900 gradient W: -0.00, gradient b:0.00,  W:1.00, b:1.00, cost: 0.00\n",
            "Epochs: 1000 gradient W: -0.00, gradient b:0.00,  W:1.00, b:1.00, cost: 0.00\n",
            "W= 0.9999999999999994 b= 1.0000000084148368\n",
            "참값: [-2 -1  0  1  2  3  4]\n",
            "예측: [-1.99999999e+00 -9.99999992e-01  8.41483738e-09  1.00000001e+00\n",
            "  2.00000001e+00  3.00000001e+00  4.00000001e+00]\n"
          ]
        },
        {
          "output_type": "display_data",
          "data": {
            "text/plain": [
              "<Figure size 1000x500 with 2 Axes>"
            ],
            "image/png": "[encoded data removed]"
          },
          "metadata": {}
        }
      ],
      "source": [
        "x = np.array( [-3, -2, -1, 0, 1, 2, 3] )\n",
        "y = np.array([-2, -1, 0, 1, 2, 3, 4] )\n",
        "W, b = numericalderiv_LinearRegression(x, y)"
      ]
    },
    {
      "cell_type": "code",
      "execution_count": 36,
      "id": "120add87",
      "metadata": {
        "id": "120add87",
        "outputId": "b6813b31-6b60-4bd4-a349-960398bd1d21",
        "colab": {
          "base_uri": "https://localhost:8080/",
          "height": 879
        }
      },
      "outputs": [
        {
          "output_type": "stream",
          "name": "stdout",
          "text": [
            "Epochs: 0 \tW: -1.0 \tb: 6.0 \tcost: 16.215714285714288\n",
            "Epochs: 1 gradient W: -15.69, gradient b:1.80,  W:-0.84, b:5.98, cost: 13.82\n",
            "Epochs: 2 gradient W: -14.43, gradient b:1.76,  W:-0.70, b:5.96, cost: 11.79\n",
            "Epochs: 3 gradient W: -13.28, gradient b:1.73,  W:-0.57, b:5.95, cost: 10.07\n",
            "Epochs: 4 gradient W: -12.21, gradient b:1.69,  W:-0.44, b:5.93, cost: 8.61\n",
            "Epochs: 5 gradient W: -11.24, gradient b:1.66,  W:-0.33, b:5.91, cost: 7.37\n",
            "Epochs: 6 gradient W: -10.34, gradient b:1.63,  W:-0.23, b:5.90, cost: 6.32\n",
            "Epochs: 7 gradient W: -9.51, gradient b:1.59,  W:-0.13, b:5.88, cost: 5.42\n",
            "Epochs: 8 gradient W: -8.75, gradient b:1.56,  W:-0.05, b:5.87, cost: 4.66\n",
            "Epochs: 9 gradient W: -8.05, gradient b:1.53,  W:0.03, b:5.85, cost: 4.02\n",
            "Epochs: 100 gradient W: -0.00, gradient b:0.24,  W:0.96, b:5.22, cost: 0.04\n",
            "Epochs: 200 gradient W: -0.00, gradient b:0.03,  W:0.96, b:5.12, cost: 0.03\n",
            "Epochs: 300 gradient W: -0.00, gradient b:0.00,  W:0.96, b:5.10, cost: 0.03\n",
            "Epochs: 400 gradient W: 0.00, gradient b:0.00,  W:0.96, b:5.10, cost: 0.03\n",
            "Epochs: 500 gradient W: 0.00, gradient b:0.00,  W:0.96, b:5.10, cost: 0.03\n",
            "Epochs: 600 gradient W: -0.00, gradient b:0.00,  W:0.96, b:5.10, cost: 0.03\n",
            "Epochs: 700 gradient W: 0.00, gradient b:0.00,  W:0.96, b:5.10, cost: 0.03\n",
            "Epochs: 800 gradient W: -0.00, gradient b:0.00,  W:0.96, b:5.10, cost: 0.03\n",
            "Epochs: 900 gradient W: 0.00, gradient b:0.00,  W:0.96, b:5.10, cost: 0.03\n",
            "Epochs: 1000 gradient W: 0.00, gradient b:0.00,  W:0.96, b:5.10, cost: 0.03\n",
            "W= 0.9607142857142896 b= 5.100000001514671\n",
            "참값: [2.  3.5 4.  5.2 6.  7.1 7.9]\n",
            "예측: [2.21785714 3.17857143 4.13928572 5.1        6.06071429 7.02142857\n",
            " 7.98214286]\n"
          ]
        },
        {
          "output_type": "display_data",
          "data": {
            "text/plain": [
              "<Figure size 1000x500 with 2 Axes>"
            ],
            "image/png": "[encoded data removed]"
          },
          "metadata": {}
        }
      ],
      "source": [
        "x = np.array( [-3, -2, -1, 0, 1, 2, 3]  )\n",
        "y = np.array( [2, 3.5, 4, 5.2, 6, 7.1, 7.9] )\n",
        "W, b = numericalderiv_LinearRegression(x,y)"
      ]
    },
    {
      "cell_type": "markdown",
      "id": "f72ff992",
      "metadata": {
        "id": "f72ff992"
      },
      "source": [
        "### (2) 해석적 미분법"
      ]
    },
    {
      "cell_type": "markdown",
      "id": "6436743a",
      "metadata": {
        "id": "6436743a"
      },
      "source": [
        "### Python으로 미분식 구하는 방법"
      ]
    },
    {
      "cell_type": "code",
      "execution_count": null,
      "id": "db64eb05",
      "metadata": {
        "id": "db64eb05"
      },
      "outputs": [],
      "source": [
        "from sympy import symbols, Derivative"
      ]
    },
    {
      "cell_type": "code",
      "execution_count": null,
      "id": "3b678b18",
      "metadata": {
        "id": "3b678b18"
      },
      "outputs": [],
      "source": [
        "x = \n",
        "fx = 3*x**2 -4*x +1    # 함수식"
      ]
    },
    {
      "cell_type": "code",
      "execution_count": null,
      "id": "452271d4",
      "metadata": {
        "id": "452271d4"
      },
      "outputs": [],
      "source": []
    },
    {
      "cell_type": "code",
      "execution_count": null,
      "id": "929879f4",
      "metadata": {
        "id": "929879f4"
      },
      "outputs": [],
      "source": []
    },
    {
      "cell_type": "code",
      "execution_count": null,
      "id": "e6251b85",
      "metadata": {
        "id": "e6251b85"
      },
      "outputs": [],
      "source": [
        "n, x, W, b, y =\n",
        "fx =  # MSE 함수식"
      ]
    },
    {
      "cell_type": "code",
      "execution_count": null,
      "id": "43fa3d9a",
      "metadata": {
        "id": "43fa3d9a"
      },
      "outputs": [],
      "source": []
    },
    {
      "cell_type": "code",
      "execution_count": null,
      "id": "19977e2a",
      "metadata": {
        "id": "19977e2a"
      },
      "outputs": [],
      "source": []
    },
    {
      "cell_type": "code",
      "execution_count": null,
      "id": "b879d454",
      "metadata": {
        "id": "b879d454"
      },
      "outputs": [],
      "source": [
        "del W, b, y, x, n"
      ]
    },
    {
      "cell_type": "markdown",
      "id": "da50b575",
      "metadata": {
        "id": "da50b575"
      },
      "source": [
        "### 해석적 방법에 의한 회귀 분석"
      ]
    },
    {
      "cell_type": "code",
      "execution_count": null,
      "id": "9a81af0a",
      "metadata": {
        "id": "9a81af0a"
      },
      "outputs": [],
      "source": [
        "#Gradient\n",
        "def gradient(x, y, w, b):\n"
      ]
    },
    {
      "cell_type": "code",
      "execution_count": null,
      "id": "507f0c76",
      "metadata": {
        "id": "507f0c76"
      },
      "outputs": [],
      "source": [
        "def analytical_LinearRegression(x, y, lr=0.01, max_iters=1000):\n",
        "    import random\n",
        "\n",
        "    W =float(random.randint(-10, 10))\n",
        "    b =float(random.randint(-10, 10))\n",
        "\n",
        "\n",
        "    W_history =  \n",
        "    b_history = \n",
        "\n",
        "    cost =  \n",
        "    print(\"Epochs:\",0,\"\\tW:\",W,\"\\tb:\",b,\"\\tcost:\",cost)\n",
        "\n",
        "    rate =   lr # Learning rate\n",
        "    MaxItrs = max_iters\n",
        "\n",
        "    for epoch in range(1,MaxItrs+1):  #epoch: 반복 횟수\n",
        "        gradientW, gradientB  =  \n",
        "        W =  \n",
        "        b = \n",
        "        W_history.append(W)\n",
        "        b_history.append(b)\n",
        "\n",
        "        cost =  \n",
        "\n",
        "        if len(str(epoch))==1 or epoch %100==0 or epoch==MaxItrs:\n",
        "            print('Epochs:', epoch, \n",
        "                  'gradient W: %.2f, gradient b:%.2f, ' %(gradientW, gradientB), \n",
        "                  end=' ')\n",
        "            print(\"W:%.2f, b:%.2f, cost: %.2f\" % (W, b, cost)) #Print result \n",
        "            \n",
        "    else:\n",
        "        print('W=', W, 'b=', b)\n",
        "        print('참값:', y)\n",
        "        print('예측:',    )\n",
        "        drawGraphs(x, y, W,b, W_history, b_history)\n",
        "        return W, b"
      ]
    },
    {
      "cell_type": "code",
      "execution_count": null,
      "id": "7fb8da90",
      "metadata": {
        "id": "7fb8da90"
      },
      "outputs": [],
      "source": [
        "x = np.array( [-3, -2, -1, 0, 1, 2, 3] )\n",
        "y = np.array( [-2, -1, 0, 1, 2, 3, 4])\n",
        "W, b = "
      ]
    },
    {
      "cell_type": "code",
      "execution_count": null,
      "id": "6d55de65",
      "metadata": {
        "id": "6d55de65"
      },
      "outputs": [],
      "source": [
        "x = np.array( [-3, -2, -1, 0, 1, 2, 3]  )\n",
        "y = np.array( [2, 3.5, 4, 5.2, 6, 7.1, 7.9] )\n",
        "W, b = "
      ]
    },
    {
      "cell_type": "markdown",
      "id": "961c4c96",
      "metadata": {
        "id": "961c4c96"
      },
      "source": [
        "## 랜덤 자료에 대한 단순 선형 회귀 분석"
      ]
    },
    {
      "cell_type": "code",
      "execution_count": null,
      "id": "d4b6cfef",
      "metadata": {
        "id": "d4b6cfef"
      },
      "outputs": [],
      "source": [
        "rng = np.random.RandomState(42)\n",
        "x = \n",
        "y = 2*x -1\n",
        "\n",
        "plt.figure(figsize=(4,4))\n",
        "plt.scatter(x, y)\n",
        "plt.show()"
      ]
    },
    {
      "cell_type": "code",
      "execution_count": null,
      "id": "9560ccc6",
      "metadata": {
        "id": "9560ccc6"
      },
      "outputs": [],
      "source": [
        "df=pd.DataFrame()\n",
        "df['x']= x\n",
        "df['y']= y\n",
        "\n",
        "plt.figure(figsize=(4,4))\n",
        "sns.regplot(x='x', y='y', data=df)\n",
        "plt.show()"
      ]
    },
    {
      "cell_type": "markdown",
      "id": "aef3f2f0",
      "metadata": {
        "id": "aef3f2f0"
      },
      "source": [
        "### Scikit Learn 활용"
      ]
    },
    {
      "cell_type": "code",
      "execution_count": null,
      "id": "61ec687d",
      "metadata": {
        "id": "61ec687d"
      },
      "outputs": [],
      "source": [
        "x = \n",
        "print(x.shape)    \n",
        "print(y.shape) "
      ]
    },
    {
      "cell_type": "code",
      "execution_count": null,
      "id": "faef886d",
      "metadata": {
        "id": "faef886d"
      },
      "outputs": [],
      "source": [
        "from sklearn.linear_model import \n",
        "model = \n"
      ]
    },
    {
      "cell_type": "code",
      "execution_count": null,
      "id": "233e6c0b",
      "metadata": {
        "id": "233e6c0b"
      },
      "outputs": [],
      "source": [
        "print('기울기:', model.coef_)\n",
        "print('y절편:', model.intercept_)"
      ]
    },
    {
      "cell_type": "code",
      "execution_count": null,
      "id": "601f8480",
      "metadata": {
        "id": "601f8480"
      },
      "outputs": [],
      "source": [
        "xx =  \n",
        "yy =  \n",
        "\n",
        "plt.figure(figsize=(5,5))\n",
        "plt.scatter(x, y)\n",
        "plt.plot(xx, yy, c='r', marker='o')\n",
        "plt.show() "
      ]
    },
    {
      "cell_type": "code",
      "execution_count": null,
      "id": "643977b3",
      "metadata": {
        "id": "643977b3"
      },
      "outputs": [],
      "source": []
    },
    {
      "cell_type": "markdown",
      "id": "02e914e4",
      "metadata": {
        "id": "02e914e4"
      },
      "source": [
        "## 다중 선형 회귀 분석"
      ]
    },
    {
      "cell_type": "code",
      "execution_count": null,
      "id": "0a6ee36d",
      "metadata": {
        "id": "0a6ee36d"
      },
      "outputs": [],
      "source": [
        "from google.colab import drive\n",
        "drive.mount('/content/drive')\n",
        "df = pd.read_csv(\"/content/drive/MyDrive/ICTIS_2023/data/boston_house_price.csv\", \n",
        "                 index_col= )"
      ]
    },
    {
      "cell_type": "code",
      "execution_count": null,
      "id": "128a112c",
      "metadata": {
        "id": "128a112c"
      },
      "outputs": [],
      "source": [
        "# 다중회귀 자료 준비\n",
        "x = \n",
        "y ="
      ]
    },
    {
      "cell_type": "code",
      "execution_count": null,
      "id": "3353d250",
      "metadata": {
        "id": "3353d250"
      },
      "outputs": [],
      "source": []
    },
    {
      "cell_type": "code",
      "execution_count": null,
      "id": "47928ce0",
      "metadata": {
        "id": "47928ce0"
      },
      "outputs": [],
      "source": [
        "print('계수:', model.coef_)\n",
        "print('y절편:', model.intercept_)"
      ]
    },
    {
      "cell_type": "code",
      "execution_count": null,
      "id": "6615d593",
      "metadata": {
        "id": "6615d593"
      },
      "outputs": [],
      "source": [
        "y_pred ="
      ]
    },
    {
      "cell_type": "code",
      "execution_count": null,
      "id": "b00a87ad",
      "metadata": {
        "id": "b00a87ad"
      },
      "outputs": [],
      "source": [
        "from sklearn.metrics import mean_squared_error\n",
        "print('score=', model.(x , y))\n",
        "print('MSE=', mean_squared_error(  ,y_pred ))"
      ]
    },
    {
      "cell_type": "code",
      "execution_count": null,
      "id": "1899f1fd",
      "metadata": {
        "id": "1899f1fd"
      },
      "outputs": [],
      "source": []
    },
    {
      "cell_type": "markdown",
      "id": "a46d9c7e",
      "metadata": {
        "id": "a46d9c7e"
      },
      "source": [
        "# Logistic Regression"
      ]
    },
    {
      "cell_type": "markdown",
      "id": "dfcf51b6",
      "metadata": {
        "id": "dfcf51b6"
      },
      "source": [
        "## iris 종 분류 사례"
      ]
    },
    {
      "cell_type": "code",
      "execution_count": null,
      "id": "2db46821",
      "metadata": {
        "id": "2db46821"
      },
      "outputs": [],
      "source": [
        "from sklearn.datasets import load_iris\n",
        "iris = load_iris(as_frame= True)\n",
        "df = iris.frame\n",
        "df.info()"
      ]
    },
    {
      "cell_type": "code",
      "execution_count": null,
      "id": "a3e9c2bc",
      "metadata": {
        "id": "a3e9c2bc"
      },
      "outputs": [],
      "source": [
        "sdf = pd.DataFrame()\n",
        "sdf['petal_length'] = df['petal length (cm)']\n",
        "sdf['species'] = df['target']\n",
        "sdf = "
      ]
    },
    {
      "cell_type": "code",
      "execution_count": null,
      "id": "f7de55f8",
      "metadata": {
        "id": "f7de55f8"
      },
      "outputs": [],
      "source": []
    },
    {
      "cell_type": "code",
      "execution_count": null,
      "id": "def950fa",
      "metadata": {
        "id": "def950fa"
      },
      "outputs": [],
      "source": []
    },
    {
      "cell_type": "code",
      "execution_count": null,
      "id": "fd5594d5",
      "metadata": {
        "id": "fd5594d5"
      },
      "outputs": [],
      "source": [
        "sns.pairplot(data=sdf, vars=['petal_length', 'species'], hue='species')\n",
        "plt.show()"
      ]
    },
    {
      "cell_type": "code",
      "execution_count": null,
      "id": "f866412c",
      "metadata": {
        "id": "f866412c"
      },
      "outputs": [],
      "source": [
        "sns. (x='petal_length', y='species', data=sdf, logistic= )\n",
        "plt.show()"
      ]
    },
    {
      "cell_type": "code",
      "execution_count": null,
      "id": "08d04387",
      "metadata": {
        "id": "08d04387"
      },
      "outputs": [],
      "source": [
        "# 학습 데이터, 테스트 데이터 나누기\n",
        "from sklearn.model_selection import train_test_split\n",
        "x_train, x_test, y_train, y_test = train_test_split( , \n",
        "                                                     , \n",
        "                                                    test_size=0.33)\n",
        "\n",
        "x_train.shape, y_train.shape"
      ]
    },
    {
      "cell_type": "code",
      "execution_count": null,
      "id": "27aea2e4",
      "metadata": {
        "id": "27aea2e4"
      },
      "outputs": [],
      "source": [
        "from sklearn.linear_model import LogisticRegression\n",
        "\n",
        "\n",
        "print('계수:', model.coef_)\n",
        "print('y절편:', model.intercept_)"
      ]
    },
    {
      "cell_type": "code",
      "execution_count": null,
      "id": "e611cf31",
      "metadata": {
        "id": "e611cf31"
      },
      "outputs": [],
      "source": [
        "def sigmoid(z):\n",
        "    "
      ]
    },
    {
      "cell_type": "code",
      "execution_count": null,
      "id": "6e164784",
      "metadata": {
        "id": "6e164784"
      },
      "outputs": [],
      "source": [
        "xx = np.linspace(1,sl_df['petal_length'].max(),1000)\n",
        "z = \n",
        "yy = "
      ]
    },
    {
      "cell_type": "code",
      "execution_count": null,
      "id": "8de81375",
      "metadata": {
        "id": "8de81375"
      },
      "outputs": [],
      "source": [
        "plt.scatter(sl_df['petal_length'], sl_df['species'])\n",
        "plt.plot(xx, yy, 'r')\n",
        "plt.xlim(sdf['petal_length'].min()-0.1, sdf['petal_length'].max()+0.1)\n",
        "plt.show()"
      ]
    },
    {
      "cell_type": "code",
      "execution_count": null,
      "id": "6103c012",
      "metadata": {
        "id": "6103c012"
      },
      "outputs": [],
      "source": [
        "from sklearn.metrics import classification_report, confusion_matrix\n",
        "print(confusion_matrix(  ,    ))"
      ]
    },
    {
      "cell_type": "code",
      "execution_count": null,
      "id": "27e214bc",
      "metadata": {
        "id": "27e214bc"
      },
      "outputs": [],
      "source": [
        "def dispConfusionMatrix(y_true, y_pred):\n",
        "    sns.heatmap(  , annot=True)\n",
        "    plt.xlabel('Predicted')\n",
        "    plt.ylabel('Ground truth')\n",
        "    plt.show()"
      ]
    },
    {
      "cell_type": "code",
      "execution_count": null,
      "id": "d5ac6b30",
      "metadata": {
        "id": "d5ac6b30"
      },
      "outputs": [],
      "source": [
        "dispConfusionMatrix( ,  )"
      ]
    },
    {
      "cell_type": "code",
      "execution_count": null,
      "id": "588842e0",
      "metadata": {
        "id": "588842e0"
      },
      "outputs": [],
      "source": [
        "print(classification_report(  ))"
      ]
    },
    {
      "cell_type": "code",
      "execution_count": null,
      "id": "1c37c81f",
      "metadata": {
        "id": "1c37c81f"
      },
      "outputs": [],
      "source": [
        "print(confusion_matrix(y_test, ))"
      ]
    },
    {
      "cell_type": "code",
      "execution_count": null,
      "id": "4f81b5cb",
      "metadata": {
        "id": "4f81b5cb"
      },
      "outputs": [],
      "source": [
        "dispConfusionMatrix(y_test, )"
      ]
    },
    {
      "cell_type": "code",
      "execution_count": null,
      "id": "584be7c2",
      "metadata": {
        "id": "584be7c2"
      },
      "outputs": [],
      "source": [
        "print(classification_report(y_test, ))"
      ]
    }
  ],
  "metadata": {
    "kernelspec": {
      "display_name": "Python 3 (ipykernel)",
      "language": "python",
      "name": "python3"
    },
    "language_info": {
      "codemirror_mode": {
        "name": "ipython",
        "version": 3
      },
      "file_extension": ".py",
      "mimetype": "text/x-python",
      "name": "python",
      "nbconvert_exporter": "python",
      "pygments_lexer": "ipython3",
      "version": "3.8.10"
    },
    "colab": {
      "provenance": []
    }
  },
  "nbformat": 4,
  "nbformat_minor": 5
}