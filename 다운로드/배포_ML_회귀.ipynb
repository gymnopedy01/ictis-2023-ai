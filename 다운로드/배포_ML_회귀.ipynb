{
 "cells": [
  {
   "cell_type": "markdown",
   "id": "a7685b2c",
   "metadata": {},
   "source": [
    "# 회귀 분석"
   ]
  },
  {
   "cell_type": "code",
   "execution_count": null,
   "id": "032b327e",
   "metadata": {},
   "outputs": [],
   "source": [
    "import pandas as pd\n",
    "import numpy as np\n",
    "import matplotlib.pyplot as plt\n",
    "import seaborn as sns\n",
    "sns.set()"
   ]
  },
  {
   "cell_type": "markdown",
   "id": "a40562fd",
   "metadata": {},
   "source": [
    "##  경사하강법"
   ]
  },
  {
   "cell_type": "markdown",
   "id": "540eaddb",
   "metadata": {},
   "source": [
    "### (1) 수치 미분법 "
   ]
  },
  {
   "cell_type": "markdown",
   "id": "4e5f499d",
   "metadata": {},
   "source": [
    "#### 중심 차분법"
   ]
  },
  {
   "cell_type": "code",
   "execution_count": null,
   "id": "6a57906a",
   "metadata": {},
   "outputs": [],
   "source": [
    "def numerical_derivative(func, x):\n",
    "    delta = \n",
    "    "
   ]
  },
  {
   "cell_type": "code",
   "execution_count": null,
   "id": "a37fcb8b",
   "metadata": {},
   "outputs": [],
   "source": [
    "def func1(x):"
   ]
  },
  {
   "cell_type": "code",
   "execution_count": null,
   "id": "2682253c",
   "metadata": {},
   "outputs": [],
   "source": []
  },
  {
   "cell_type": "code",
   "execution_count": null,
   "id": "d326355d",
   "metadata": {},
   "outputs": [],
   "source": []
  },
  {
   "cell_type": "code",
   "execution_count": null,
   "id": "21b5ad57",
   "metadata": {},
   "outputs": [],
   "source": []
  },
  {
   "cell_type": "markdown",
   "id": "b5a488e7",
   "metadata": {},
   "source": [
    "### 다중 변수 미분 계수 구하기"
   ]
  },
  {
   "cell_type": "code",
   "execution_count": null,
   "id": "73b0ce0d",
   "metadata": {},
   "outputs": [],
   "source": [
    "def numerical_derivative(f, a): #f:다변수 함수, x:모든 변수값을 포함하고 있는 1차원 numpy배열\n",
    "    delta = \n",
    "    \n",
    "    grad = np.(a) # 각 변수마다, 계산된 수치 미분계수 값\n",
    "    \n",
    "    for idx in :\n",
    "        \n",
    "        tmp_val =  #임시보관\n",
    "        a[idx] = \n",
    "        fx1 =       # f(x+delta, y) 계산\n",
    "        \n",
    "        a[idx] = \n",
    "        fx2 =       # f(x-delta, y) 계산        \n",
    "        grad[idx] = \n",
    "        \n",
    "        a[idx] = \n",
    "    else:\n",
    "        return "
   ]
  },
  {
   "cell_type": "code",
   "execution_count": null,
   "id": "0faf4d51",
   "metadata": {},
   "outputs": [],
   "source": [
    "def predict(x, p):\n",
    "    "
   ]
  },
  {
   "cell_type": "code",
   "execution_count": null,
   "id": "b4607fb3",
   "metadata": {},
   "outputs": [],
   "source": [
    "def drawGraphs(x, y, W, b, W_history, b_history):\n",
    "    fig, axes = plt.subplots(1,2, figsize=(10,5))\n",
    "    axes[0].plot(W_history, 'b-', b_history, 'r--')\n",
    "\n",
    "    xx = np.linspace(x.min()-1,x.max()+1, 100)\n",
    "    yy = \n",
    "    axes[1].scatter(x, y)\n",
    "    axes[1].plot(xx, yy, c='r')\n",
    "    plt.show()   "
   ]
  },
  {
   "cell_type": "code",
   "execution_count": null,
   "id": "84027aab",
   "metadata": {},
   "outputs": [],
   "source": [
    "def numericalderiv_LinearRegression(x, y, lr=0.01, max_iters=1000):\n",
    "    import random\n",
    "\n",
    "    W =float(random.randint(-10, 10))\n",
    "    b =float(random.randint(-10, 10))\n",
    "\n",
    "\n",
    "    W_history =  \n",
    "    b_history = \n",
    "\n",
    "    cost =  \n",
    "    print(\"Epochs:\",0,\"\\tW:\",W,\"\\tb:\",b,\"\\tcost:\",cost)\n",
    "\n",
    "    rate =   lr # Learning rate\n",
    "    MaxItrs = max_iters\n",
    "\n",
    "    for epoch in range(1,MaxItrs+1):  #epoch: 반복 횟수\n",
    "        gradientW, gradientB  =  \n",
    "        W =  \n",
    "        b = \n",
    "        W_history.append(W)\n",
    "        b_history.append(b)\n",
    "\n",
    "        cost =  \n",
    "\n",
    "        if len(str(epoch))==1 or epoch %100==0 or epoch==MaxItrs:\n",
    "            print('Epochs:', epoch, \n",
    "                  'gradient W: %.2f, gradient b:%.2f, ' %(gradientW, gradientB), \n",
    "                  end=' ')\n",
    "            print(\"W:%.2f, b:%.2f, cost: %.2f\" % (W, b, cost)) #Print result \n",
    "            \n",
    "    else:\n",
    "        print('W=', W, 'b=', b)\n",
    "        print('참값:', y)\n",
    "        print('예측:',    )\n",
    "        drawGraphs(x, y, W,b, W_history, b_history)\n",
    "        return W, b"
   ]
  },
  {
   "cell_type": "code",
   "execution_count": null,
   "id": "c81d857b",
   "metadata": {},
   "outputs": [],
   "source": [
    "def MSE(p):  \n",
    "    global x, y\n",
    "    y_pred =  \n",
    "    return  "
   ]
  },
  {
   "cell_type": "code",
   "execution_count": null,
   "id": "c5d12297",
   "metadata": {},
   "outputs": [],
   "source": [
    "x = np.array( [-3, -2, -1, 0, 1, 2, 3] )\n",
    "y = np.array([-2, -1, 0, 1, 2, 3, 4] )\n",
    "W, b = "
   ]
  },
  {
   "cell_type": "code",
   "execution_count": null,
   "id": "120add87",
   "metadata": {},
   "outputs": [],
   "source": [
    "x = np.array( [-3, -2, -1, 0, 1, 2, 3]  )\n",
    "y = np.array( [2, 3.5, 4, 5.2, 6, 7.1, 7.9] )\n",
    "W, b = "
   ]
  },
  {
   "cell_type": "markdown",
   "id": "f72ff992",
   "metadata": {},
   "source": [
    "### (2) 해석적 미분법"
   ]
  },
  {
   "cell_type": "markdown",
   "id": "6436743a",
   "metadata": {},
   "source": [
    "### Python으로 미분식 구하는 방법"
   ]
  },
  {
   "cell_type": "code",
   "execution_count": null,
   "id": "db64eb05",
   "metadata": {},
   "outputs": [],
   "source": [
    "from sympy import symbols, Derivative"
   ]
  },
  {
   "cell_type": "code",
   "execution_count": null,
   "id": "3b678b18",
   "metadata": {},
   "outputs": [],
   "source": [
    "x = \n",
    "fx = 3*x**2 -4*x +1    # 함수식"
   ]
  },
  {
   "cell_type": "code",
   "execution_count": null,
   "id": "452271d4",
   "metadata": {},
   "outputs": [],
   "source": []
  },
  {
   "cell_type": "code",
   "execution_count": null,
   "id": "929879f4",
   "metadata": {},
   "outputs": [],
   "source": []
  },
  {
   "cell_type": "code",
   "execution_count": null,
   "id": "e6251b85",
   "metadata": {},
   "outputs": [],
   "source": [
    "n, x, W, b, y =\n",
    "fx =  # MSE 함수식"
   ]
  },
  {
   "cell_type": "code",
   "execution_count": null,
   "id": "43fa3d9a",
   "metadata": {},
   "outputs": [],
   "source": []
  },
  {
   "cell_type": "code",
   "execution_count": null,
   "id": "19977e2a",
   "metadata": {},
   "outputs": [],
   "source": []
  },
  {
   "cell_type": "code",
   "execution_count": null,
   "id": "b879d454",
   "metadata": {},
   "outputs": [],
   "source": [
    "del W, b, y, x, n"
   ]
  },
  {
   "cell_type": "markdown",
   "id": "da50b575",
   "metadata": {},
   "source": [
    "### 해석적 방법에 의한 회귀 분석"
   ]
  },
  {
   "cell_type": "code",
   "execution_count": null,
   "id": "9a81af0a",
   "metadata": {},
   "outputs": [],
   "source": [
    "#Gradient\n",
    "def gradient(x, y, w, b):\n"
   ]
  },
  {
   "cell_type": "code",
   "execution_count": null,
   "id": "507f0c76",
   "metadata": {},
   "outputs": [],
   "source": [
    "def analytical_LinearRegression(x, y, lr=0.01, max_iters=1000):\n",
    "    import random\n",
    "\n",
    "    W =float(random.randint(-10, 10))\n",
    "    b =float(random.randint(-10, 10))\n",
    "\n",
    "\n",
    "    W_history =  \n",
    "    b_history = \n",
    "\n",
    "    cost =  \n",
    "    print(\"Epochs:\",0,\"\\tW:\",W,\"\\tb:\",b,\"\\tcost:\",cost)\n",
    "\n",
    "    rate =   lr # Learning rate\n",
    "    MaxItrs = max_iters\n",
    "\n",
    "    for epoch in range(1,MaxItrs+1):  #epoch: 반복 횟수\n",
    "        gradientW, gradientB  =  \n",
    "        W =  \n",
    "        b = \n",
    "        W_history.append(W)\n",
    "        b_history.append(b)\n",
    "\n",
    "        cost =  \n",
    "\n",
    "        if len(str(epoch))==1 or epoch %100==0 or epoch==MaxItrs:\n",
    "            print('Epochs:', epoch, \n",
    "                  'gradient W: %.2f, gradient b:%.2f, ' %(gradientW, gradientB), \n",
    "                  end=' ')\n",
    "            print(\"W:%.2f, b:%.2f, cost: %.2f\" % (W, b, cost)) #Print result \n",
    "            \n",
    "    else:\n",
    "        print('W=', W, 'b=', b)\n",
    "        print('참값:', y)\n",
    "        print('예측:',    )\n",
    "        drawGraphs(x, y, W,b, W_history, b_history)\n",
    "        return W, b"
   ]
  },
  {
   "cell_type": "code",
   "execution_count": null,
   "id": "7fb8da90",
   "metadata": {},
   "outputs": [],
   "source": [
    "x = np.array( [-3, -2, -1, 0, 1, 2, 3] )\n",
    "y = np.array( [-2, -1, 0, 1, 2, 3, 4])\n",
    "W, b = "
   ]
  },
  {
   "cell_type": "code",
   "execution_count": null,
   "id": "6d55de65",
   "metadata": {},
   "outputs": [],
   "source": [
    "x = np.array( [-3, -2, -1, 0, 1, 2, 3]  )\n",
    "y = np.array( [2, 3.5, 4, 5.2, 6, 7.1, 7.9] )\n",
    "W, b = "
   ]
  },
  {
   "cell_type": "markdown",
   "id": "961c4c96",
   "metadata": {},
   "source": [
    "## 랜덤 자료에 대한 단순 선형 회귀 분석"
   ]
  },
  {
   "cell_type": "code",
   "execution_count": null,
   "id": "d4b6cfef",
   "metadata": {},
   "outputs": [],
   "source": [
    "rng = np.random.RandomState(42)\n",
    "x = \n",
    "y = 2*x -1\n",
    "\n",
    "plt.figure(figsize=(4,4))\n",
    "plt.scatter(x, y)\n",
    "plt.show()"
   ]
  },
  {
   "cell_type": "code",
   "execution_count": null,
   "id": "9560ccc6",
   "metadata": {},
   "outputs": [],
   "source": [
    "df=pd.DataFrame()\n",
    "df['x']= x\n",
    "df['y']= y\n",
    "\n",
    "plt.figure(figsize=(4,4))\n",
    "sns.regplot(x='x', y='y', data=df)\n",
    "plt.show()"
   ]
  },
  {
   "cell_type": "markdown",
   "id": "aef3f2f0",
   "metadata": {},
   "source": [
    "### Scikit Learn 활용"
   ]
  },
  {
   "cell_type": "code",
   "execution_count": null,
   "id": "61ec687d",
   "metadata": {},
   "outputs": [],
   "source": [
    "x = \n",
    "print(x.shape)    \n",
    "print(y.shape) "
   ]
  },
  {
   "cell_type": "code",
   "execution_count": null,
   "id": "faef886d",
   "metadata": {},
   "outputs": [],
   "source": [
    "from sklearn.linear_model import \n",
    "model = \n"
   ]
  },
  {
   "cell_type": "code",
   "execution_count": null,
   "id": "233e6c0b",
   "metadata": {},
   "outputs": [],
   "source": [
    "print('기울기:', model.coef_)\n",
    "print('y절편:', model.intercept_)"
   ]
  },
  {
   "cell_type": "code",
   "execution_count": null,
   "id": "601f8480",
   "metadata": {},
   "outputs": [],
   "source": [
    "xx =  \n",
    "yy =  \n",
    "\n",
    "plt.figure(figsize=(5,5))\n",
    "plt.scatter(x, y)\n",
    "plt.plot(xx, yy, c='r', marker='o')\n",
    "plt.show() "
   ]
  },
  {
   "cell_type": "code",
   "execution_count": null,
   "id": "643977b3",
   "metadata": {},
   "outputs": [],
   "source": []
  },
  {
   "cell_type": "markdown",
   "id": "02e914e4",
   "metadata": {},
   "source": [
    "## 다중 선형 회귀 분석"
   ]
  },
  {
   "cell_type": "code",
   "execution_count": null,
   "id": "0a6ee36d",
   "metadata": {},
   "outputs": [],
   "source": [
    "from google.colab import drive\n",
    "drive.mount('/content/drive')\n",
    "df = pd.read_csv(\"/content/drive/MyDrive/ICTIS_2023/data/boston_house_price.csv\", \n",
    "                 index_col= )"
   ]
  },
  {
   "cell_type": "code",
   "execution_count": null,
   "id": "128a112c",
   "metadata": {},
   "outputs": [],
   "source": [
    "# 다중회귀 자료 준비\n",
    "x = \n",
    "y ="
   ]
  },
  {
   "cell_type": "code",
   "execution_count": null,
   "id": "3353d250",
   "metadata": {},
   "outputs": [],
   "source": []
  },
  {
   "cell_type": "code",
   "execution_count": null,
   "id": "47928ce0",
   "metadata": {},
   "outputs": [],
   "source": [
    "print('계수:', model.coef_)\n",
    "print('y절편:', model.intercept_)"
   ]
  },
  {
   "cell_type": "code",
   "execution_count": null,
   "id": "6615d593",
   "metadata": {},
   "outputs": [],
   "source": [
    "y_pred ="
   ]
  },
  {
   "cell_type": "code",
   "execution_count": null,
   "id": "b00a87ad",
   "metadata": {},
   "outputs": [],
   "source": [
    "from sklearn.metrics import mean_squared_error\n",
    "print('score=', model.(x , y))\n",
    "print('MSE=', mean_squared_error(  ,y_pred ))"
   ]
  },
  {
   "cell_type": "code",
   "execution_count": null,
   "id": "1899f1fd",
   "metadata": {},
   "outputs": [],
   "source": []
  },
  {
   "cell_type": "markdown",
   "id": "a46d9c7e",
   "metadata": {},
   "source": [
    "# Logistic Regression"
   ]
  },
  {
   "cell_type": "markdown",
   "id": "dfcf51b6",
   "metadata": {},
   "source": [
    "## iris 종 분류 사례"
   ]
  },
  {
   "cell_type": "code",
   "execution_count": null,
   "id": "2db46821",
   "metadata": {},
   "outputs": [],
   "source": [
    "from sklearn.datasets import load_iris\n",
    "iris = load_iris(as_frame= True)\n",
    "df = iris.frame\n",
    "df.info()"
   ]
  },
  {
   "cell_type": "code",
   "execution_count": null,
   "id": "a3e9c2bc",
   "metadata": {},
   "outputs": [],
   "source": [
    "sdf = pd.DataFrame()\n",
    "sdf['petal_length'] = df['petal length (cm)']\n",
    "sdf['species'] = df['target']\n",
    "sdf = "
   ]
  },
  {
   "cell_type": "code",
   "execution_count": null,
   "id": "f7de55f8",
   "metadata": {},
   "outputs": [],
   "source": []
  },
  {
   "cell_type": "code",
   "execution_count": null,
   "id": "def950fa",
   "metadata": {},
   "outputs": [],
   "source": []
  },
  {
   "cell_type": "code",
   "execution_count": null,
   "id": "fd5594d5",
   "metadata": {},
   "outputs": [],
   "source": [
    "sns.pairplot(data=sdf, vars=['petal_length', 'species'], hue='species')\n",
    "plt.show()"
   ]
  },
  {
   "cell_type": "code",
   "execution_count": null,
   "id": "f866412c",
   "metadata": {},
   "outputs": [],
   "source": [
    "sns. (x='petal_length', y='species', data=sdf, logistic= )\n",
    "plt.show()"
   ]
  },
  {
   "cell_type": "code",
   "execution_count": null,
   "id": "08d04387",
   "metadata": {},
   "outputs": [],
   "source": [
    "# 학습 데이터, 테스트 데이터 나누기\n",
    "from sklearn.model_selection import train_test_split\n",
    "x_train, x_test, y_train, y_test = train_test_split( , \n",
    "                                                     , \n",
    "                                                    test_size=0.33)\n",
    "\n",
    "x_train.shape, y_train.shape"
   ]
  },
  {
   "cell_type": "code",
   "execution_count": null,
   "id": "27aea2e4",
   "metadata": {},
   "outputs": [],
   "source": [
    "from sklearn.linear_model import LogisticRegression\n",
    "\n",
    "\n",
    "print('계수:', model.coef_)\n",
    "print('y절편:', model.intercept_)"
   ]
  },
  {
   "cell_type": "code",
   "execution_count": null,
   "id": "e611cf31",
   "metadata": {},
   "outputs": [],
   "source": [
    "def sigmoid(z):\n",
    "    "
   ]
  },
  {
   "cell_type": "code",
   "execution_count": null,
   "id": "6e164784",
   "metadata": {},
   "outputs": [],
   "source": [
    "xx = np.linspace(1,sl_df['petal_length'].max(),1000)\n",
    "z = \n",
    "yy = "
   ]
  },
  {
   "cell_type": "code",
   "execution_count": null,
   "id": "8de81375",
   "metadata": {},
   "outputs": [],
   "source": [
    "plt.scatter(sl_df['petal_length'], sl_df['species'])\n",
    "plt.plot(xx, yy, 'r')\n",
    "plt.xlim(sdf['petal_length'].min()-0.1, sdf['petal_length'].max()+0.1)\n",
    "plt.show()"
   ]
  },
  {
   "cell_type": "code",
   "execution_count": null,
   "id": "6103c012",
   "metadata": {},
   "outputs": [],
   "source": [
    "from sklearn.metrics import classification_report, confusion_matrix\n",
    "print(confusion_matrix(  ,    ))"
   ]
  },
  {
   "cell_type": "code",
   "execution_count": null,
   "id": "27e214bc",
   "metadata": {},
   "outputs": [],
   "source": [
    "def dispConfusionMatrix(y_true, y_pred):\n",
    "    sns.heatmap(  , annot=True)\n",
    "    plt.xlabel('Predicted')\n",
    "    plt.ylabel('Ground truth')\n",
    "    plt.show()"
   ]
  },
  {
   "cell_type": "code",
   "execution_count": null,
   "id": "d5ac6b30",
   "metadata": {},
   "outputs": [],
   "source": [
    "dispConfusionMatrix( ,  )"
   ]
  },
  {
   "cell_type": "code",
   "execution_count": null,
   "id": "588842e0",
   "metadata": {},
   "outputs": [],
   "source": [
    "print(classification_report(  ))"
   ]
  },
  {
   "cell_type": "code",
   "execution_count": null,
   "id": "1c37c81f",
   "metadata": {},
   "outputs": [],
   "source": [
    "print(confusion_matrix(y_test, ))"
   ]
  },
  {
   "cell_type": "code",
   "execution_count": null,
   "id": "4f81b5cb",
   "metadata": {},
   "outputs": [],
   "source": [
    "dispConfusionMatrix(y_test, )"
   ]
  },
  {
   "cell_type": "code",
   "execution_count": null,
   "id": "584be7c2",
   "metadata": {},
   "outputs": [],
   "source": [
    "print(classification_report(y_test, ))"
   ]
  }
 ],
 "metadata": {
  "kernelspec": {
   "display_name": "Python 3 (ipykernel)",
   "language": "python",
   "name": "python3"
  },
  "language_info": {
   "codemirror_mode": {
    "name": "ipython",
    "version": 3
   },
   "file_extension": ".py",
   "mimetype": "text/x-python",
   "name": "python",
   "nbconvert_exporter": "python",
   "pygments_lexer": "ipython3",
   "version": "3.8.10"
  }
 },
 "nbformat": 4,
 "nbformat_minor": 5
}
