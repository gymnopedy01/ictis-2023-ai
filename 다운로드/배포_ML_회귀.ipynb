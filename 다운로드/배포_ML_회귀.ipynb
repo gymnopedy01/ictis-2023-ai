{
  "cells": [
    {
      "cell_type": "markdown",
      "id": "a7685b2c",
      "metadata": {
        "id": "a7685b2c"
      },
      "source": [
        "# 회귀 분석"
      ]
    },
    {
      "cell_type": "code",
      "execution_count": 1,
      "id": "032b327e",
      "metadata": {
        "id": "032b327e"
      },
      "outputs": [],
      "source": [
        "import pandas as pd\n",
        "import numpy as np\n",
        "import matplotlib.pyplot as plt\n",
        "import seaborn as sns\n",
        "sns.set()"
      ]
    },
    {
      "cell_type": "markdown",
      "id": "a40562fd",
      "metadata": {
        "id": "a40562fd"
      },
      "source": [
        "##  경사하강법"
      ]
    },
    {
      "cell_type": "markdown",
      "id": "540eaddb",
      "metadata": {
        "id": "540eaddb"
      },
      "source": [
        "### (1) 수치 미분법 "
      ]
    },
    {
      "cell_type": "markdown",
      "id": "4e5f499d",
      "metadata": {
        "id": "4e5f499d"
      },
      "source": [
        "#### 중심 차분법"
      ]
    },
    {
      "cell_type": "code",
      "execution_count": 2,
      "id": "6a57906a",
      "metadata": {
        "id": "6a57906a"
      },
      "outputs": [],
      "source": [
        "def numerical_derivative(func, x):\n",
        "    delta = 1E-4 # 0.0001       # 1.0* 10의-4승\n",
        "    return (func(x+delta) - func(x-delta)) / (2*delta)"
      ]
    },
    {
      "cell_type": "code",
      "execution_count": 3,
      "id": "a37fcb8b",
      "metadata": {
        "id": "a37fcb8b"
      },
      "outputs": [],
      "source": [
        "def func1(x):\n",
        "    return x**2"
      ]
    },
    {
      "cell_type": "code",
      "execution_count": 4,
      "id": "2682253c",
      "metadata": {
        "id": "2682253c",
        "outputId": "bf3589ba-49a2-4a65-e77f-35155bb068da",
        "colab": {
          "base_uri": "https://localhost:8080/"
        }
      },
      "outputs": [
        {
          "output_type": "execute_result",
          "data": {
            "text/plain": [
              "4.000000000004"
            ]
          },
          "metadata": {},
          "execution_count": 4
        }
      ],
      "source": [
        "numerical_derivative(func1, 2.0)"
      ]
    },
    {
      "cell_type": "code",
      "execution_count": 5,
      "id": "d326355d",
      "metadata": {
        "id": "d326355d",
        "outputId": "364ed5ae-53ef-409f-d728-2ce6c861c971",
        "colab": {
          "base_uri": "https://localhost:8080/"
        }
      },
      "outputs": [
        {
          "output_type": "stream",
          "name": "stdout",
          "text": [
            "0 : 0.0\n",
            "1 : 1.9999999999992246\n",
            "2 : 4.000000000004\n",
            "3 : 6.000000000012662\n",
            "4 : 7.999999999999119\n",
            "5 : 9.999999999976694\n",
            "6 : 11.999999999972033\n",
            "7 : 13.999999999967372\n",
            "8 : 15.999999999927184\n",
            "9 : 17.99999999995805\n",
            "10 : 19.99999999995339\n"
          ]
        }
      ],
      "source": [
        "for i in range(0,11):\n",
        "    print(i, ':', numerical_derivative(func1, float(i)))"
      ]
    },
    {
      "cell_type": "code",
      "execution_count": null,
      "id": "21b5ad57",
      "metadata": {
        "id": "21b5ad57"
      },
      "outputs": [],
      "source": []
    },
    {
      "cell_type": "markdown",
      "id": "b5a488e7",
      "metadata": {
        "id": "b5a488e7"
      },
      "source": [
        "### 다중 변수 미분 계수 구하기\n",
        "수치 미분법에 의한 "
      ]
    },
    {
      "cell_type": "code",
      "execution_count": 6,
      "id": "73b0ce0d",
      "metadata": {
        "id": "73b0ce0d"
      },
      "outputs": [],
      "source": [
        "# def numerical_derivative(f, a): #f:다변수 함수, a:모든 변수값을 포함하고 있는 1차원 numpy배열\n",
        "#     delta = 1E-4\n",
        "    \n",
        "#     grad = np.zeors_like(a) # 각 변수마다, 계산된 수치 미분계수 값\n",
        "    \n",
        "#     for idx in range(len(a)):\n",
        "        \n",
        "#         tmp_val = a[idx]  #임시보관\n",
        "#         a[idx] = tmp_val + delta\n",
        "#         fx1 = f(a)      # f(x+delta, y) 계산\n",
        "        \n",
        "#         a[idx] = tmp_val - delta\n",
        "#         fx2 = f(a)      # f(x-delta, y) 계산        \n",
        "#         grad[idx] = (fx1-fx2) / (2+delta)\n",
        "        \n",
        "#         a[idx] = tmp_val\n",
        "#     else:\n",
        "#         return grad\n",
        "\n",
        "\n",
        "def numerical_derivative(f, a): #f:다변수 함수, \n",
        "    import numpy as np  #a:모든 변수값을 포함하고 있는 1차원 numpy배열\n",
        "    delta = 1E-4\n",
        "    \n",
        "    grad = np.zeros_like(a) # 각 변수마다, 계산된 수치 미분계수 값\n",
        "    \n",
        "    for idx in range(len(a)):\n",
        "        \n",
        "        tmp_val = a[idx]  #임시보관\n",
        "        a[idx] = tmp_val + delta\n",
        "        fx1 = f(a)      # f(x+delta, y) 계산\n",
        "        \n",
        "        a[idx] = tmp_val - delta\n",
        "        fx2 = f(a)      # f(x-delta, y) 계산        \n",
        "        grad[idx] = (fx1-fx2) /(2*delta)\n",
        "        \n",
        "        a[idx] = tmp_val\n",
        "    else:\n",
        "        return grad"
      ]
    },
    {
      "cell_type": "code",
      "execution_count": 7,
      "id": "c81d857b",
      "metadata": {
        "id": "c81d857b"
      },
      "outputs": [],
      "source": [
        "def MSE(p):  # p : array([W,b])\n",
        "    global x, y\n",
        "    y_pred =  x*p[0]+p[1]\n",
        "    return  np.mean((y-y_pred)**2)"
      ]
    },
    {
      "cell_type": "code",
      "execution_count": 8,
      "id": "0faf4d51",
      "metadata": {
        "id": "0faf4d51"
      },
      "outputs": [],
      "source": [
        "def predict(x, p): # p : array([W,b])\n",
        "    return x * p[0]+p[1]"
      ]
    },
    {
      "cell_type": "code",
      "execution_count": 9,
      "id": "b4607fb3",
      "metadata": {
        "id": "b4607fb3"
      },
      "outputs": [],
      "source": [
        "def drawGraphs(x, y, W, b, W_history, b_history):\n",
        "    fig, axes = plt.subplots(1,2, figsize=(10,5))\n",
        "    axes[0].plot(W_history, 'b-', b_history, 'r--')\n",
        "\n",
        "    xx = np.linspace(x.min()-1,x.max()+1, 100)\n",
        "    yy = W*xx + b\n",
        "    axes[1].scatter(x, y)\n",
        "    axes[1].plot(xx, yy, c='r')\n",
        "    plt.show()   "
      ]
    },
    {
      "cell_type": "code",
      "execution_count": 10,
      "id": "84027aab",
      "metadata": {
        "id": "84027aab"
      },
      "outputs": [],
      "source": [
        "def numericalderiv_LinearRegression(x, y, lr=0.01, max_iters=1000):\n",
        "    import random\n",
        "\n",
        "    W =float(random.randint(-10, 10))\n",
        "    b =float(random.randint(-10, 10))\n",
        "\n",
        "\n",
        "    W_history =  [W]\n",
        "    b_history =  [b]\n",
        "\n",
        "    cost =  MSE(np.array([W,b]))\n",
        "    print(\"Epochs:\",0,\"\\tW:\",W,\"\\tb:\",b,\"\\tcost:\",cost)\n",
        "\n",
        "    rate =   lr # Learning rate\n",
        "    MaxItrs = max_iters\n",
        "\n",
        "    for epoch in range(1,MaxItrs+1):  #epoch: 반복 횟수\n",
        "        gradientW, gradientB  =  numerical_derivative(MSE, np.array([W, b]))\n",
        "        W =  W - rate * gradientW      #Grad descent 경사하강법\n",
        "        b =  b - rate * gradientB       #Grad descent   경사하강법\n",
        "        W_history.append(W)\n",
        "        b_history.append(b)\n",
        "\n",
        "        cost =  MSE(np.array([W,b]))\n",
        "\n",
        "        if len(str(epoch))==1 or epoch %100==0 or epoch==MaxItrs:\n",
        "            print('Epochs:', epoch, \n",
        "                  'gradient W: %.2f, gradient b:%.2f, ' %(gradientW, gradientB), \n",
        "                  end=' ')\n",
        "            print(\"W:%.2f, b:%.2f, cost: %.2f\" % (W, b, cost)) #Print result \n",
        "            \n",
        "    else:\n",
        "        print('W=', W, 'b=', b)\n",
        "        print('참값:', y)\n",
        "        print('예측:', predict(x, np.array([W,b])))\n",
        "        drawGraphs(x, y, W,b, W_history, b_history)\n",
        "        return W, b"
      ]
    },
    {
      "cell_type": "code",
      "execution_count": 15,
      "id": "c5d12297",
      "metadata": {
        "id": "c5d12297",
        "outputId": "d8e165a6-99b8-44aa-a218-8656611183ea",
        "colab": {
          "base_uri": "https://localhost:8080/",
          "height": 891
        }
      },
      "outputs": [
        {
          "output_type": "stream",
          "name": "stdout",
          "text": [
            "Epochs: 0 \tW: -6.0 \tb: -9.0 \tcost: 296.0\n",
            "Epochs: 1 gradient W: -56.00, gradient b:-20.00,  W:-5.44, b:-8.80, cost: 261.93\n",
            "Epochs: 2 gradient W: -51.52, gradient b:-19.60,  W:-4.92, b:-8.60, cost: 232.65\n",
            "Epochs: 3 gradient W: -47.40, gradient b:-19.21,  W:-4.45, b:-8.41, cost: 207.43\n",
            "Epochs: 4 gradient W: -43.61, gradient b:-18.82,  W:-4.01, b:-8.22, cost: 185.67\n",
            "Epochs: 5 gradient W: -40.12, gradient b:-18.45,  W:-3.61, b:-8.04, cost: 166.85\n",
            "Epochs: 6 gradient W: -36.91, gradient b:-18.08,  W:-3.24, b:-7.86, cost: 150.53\n",
            "Epochs: 7 gradient W: -33.96, gradient b:-17.72,  W:-2.90, b:-7.68, cost: 136.36\n",
            "Epochs: 8 gradient W: -31.24, gradient b:-17.36,  W:-2.59, b:-7.51, cost: 124.00\n",
            "Epochs: 9 gradient W: -28.74, gradient b:-17.02,  W:-2.31, b:-7.34, cost: 113.21\n",
            "Epochs: 100 gradient W: -0.01, gradient b:-2.71,  W:1.00, b:-0.33, cost: 1.76\n",
            "Epochs: 200 gradient W: -0.00, gradient b:-0.36,  W:1.00, b:0.82, cost: 0.03\n",
            "Epochs: 300 gradient W: -0.00, gradient b:-0.05,  W:1.00, b:0.98, cost: 0.00\n",
            "Epochs: 400 gradient W: -0.00, gradient b:-0.01,  W:1.00, b:1.00, cost: 0.00\n",
            "Epochs: 500 gradient W: -0.00, gradient b:-0.00,  W:1.00, b:1.00, cost: 0.00\n",
            "Epochs: 600 gradient W: -0.00, gradient b:-0.00,  W:1.00, b:1.00, cost: 0.00\n",
            "Epochs: 700 gradient W: -0.00, gradient b:-0.00,  W:1.00, b:1.00, cost: 0.00\n",
            "Epochs: 800 gradient W: -0.00, gradient b:-0.00,  W:1.00, b:1.00, cost: 0.00\n",
            "Epochs: 900 gradient W: -0.00, gradient b:-0.00,  W:1.00, b:1.00, cost: 0.00\n",
            "Epochs: 1000 gradient W: -0.00, gradient b:-0.00,  W:1.00, b:1.00, cost: 0.00\n",
            "W= 0.9999999999999994 b= 0.9999999831703266\n",
            "참값: [-2 -1  0  1  2  3  4]\n",
            "예측: [-2.00000002e+00 -1.00000002e+00 -1.68296729e-08  9.99999983e-01\n",
            "  1.99999998e+00  2.99999998e+00  3.99999998e+00]\n"
          ]
        },
        {
          "output_type": "display_data",
          "data": {
            "text/plain": [
              "<Figure size 1000x500 with 2 Axes>"
            ],
            "image/png": "[encoded data removed]"
          },
          "metadata": {}
        }
      ],
      "source": [
        "x = np.array( [-3, -2, -1, 0, 1, 2, 3] )\n",
        "y = np.array([-2, -1, 0, 1, 2, 3, 4] )\n",
        "W, b = numericalderiv_LinearRegression(x, y)"
      ]
    },
    {
      "cell_type": "code",
      "execution_count": 14,
      "id": "120add87",
      "metadata": {
        "id": "120add87",
        "outputId": "55449624-356d-4845-b031-61d0de069396",
        "colab": {
          "base_uri": "https://localhost:8080/",
          "height": 891
        }
      },
      "outputs": [
        {
          "output_type": "stream",
          "name": "stdout",
          "text": [
            "Epochs: 0 \tW: -1.0 \tb: 6.0 \tcost: 16.215714285714288\n",
            "Epochs: 1 gradient W: -15.69, gradient b:1.80,  W:-0.84, b:5.98, cost: 13.82\n",
            "Epochs: 2 gradient W: -14.43, gradient b:1.76,  W:-0.70, b:5.96, cost: 11.79\n",
            "Epochs: 3 gradient W: -13.28, gradient b:1.73,  W:-0.57, b:5.95, cost: 10.07\n",
            "Epochs: 4 gradient W: -12.21, gradient b:1.69,  W:-0.44, b:5.93, cost: 8.61\n",
            "Epochs: 5 gradient W: -11.24, gradient b:1.66,  W:-0.33, b:5.91, cost: 7.37\n",
            "Epochs: 6 gradient W: -10.34, gradient b:1.63,  W:-0.23, b:5.90, cost: 6.32\n",
            "Epochs: 7 gradient W: -9.51, gradient b:1.59,  W:-0.13, b:5.88, cost: 5.42\n",
            "Epochs: 8 gradient W: -8.75, gradient b:1.56,  W:-0.05, b:5.87, cost: 4.66\n",
            "Epochs: 9 gradient W: -8.05, gradient b:1.53,  W:0.03, b:5.85, cost: 4.02\n",
            "Epochs: 100 gradient W: -0.00, gradient b:0.24,  W:0.96, b:5.22, cost: 0.04\n",
            "Epochs: 200 gradient W: -0.00, gradient b:0.03,  W:0.96, b:5.12, cost: 0.03\n",
            "Epochs: 300 gradient W: -0.00, gradient b:0.00,  W:0.96, b:5.10, cost: 0.03\n",
            "Epochs: 400 gradient W: 0.00, gradient b:0.00,  W:0.96, b:5.10, cost: 0.03\n",
            "Epochs: 500 gradient W: 0.00, gradient b:0.00,  W:0.96, b:5.10, cost: 0.03\n",
            "Epochs: 600 gradient W: -0.00, gradient b:0.00,  W:0.96, b:5.10, cost: 0.03\n",
            "Epochs: 700 gradient W: 0.00, gradient b:0.00,  W:0.96, b:5.10, cost: 0.03\n",
            "Epochs: 800 gradient W: -0.00, gradient b:0.00,  W:0.96, b:5.10, cost: 0.03\n",
            "Epochs: 900 gradient W: 0.00, gradient b:0.00,  W:0.96, b:5.10, cost: 0.03\n",
            "Epochs: 1000 gradient W: 0.00, gradient b:0.00,  W:0.96, b:5.10, cost: 0.03\n",
            "W= 0.9607142857142896 b= 5.100000001514671\n",
            "참값: [2.  3.5 4.  5.2 6.  7.1 7.9]\n",
            "예측: [2.21785714 3.17857143 4.13928572 5.1        6.06071429 7.02142857\n",
            " 7.98214286]\n"
          ]
        },
        {
          "output_type": "display_data",
          "data": {
            "text/plain": [
              "<Figure size 1000x500 with 2 Axes>"
            ],
            "image/png": "[encoded data removed]"
          },
          "metadata": {}
        }
      ],
      "source": [
        "x = np.array( [-3, -2, -1, 0, 1, 2, 3]  )\n",
        "y = np.array( [2, 3.5, 4, 5.2, 6, 7.1, 7.9] )\n",
        "W, b = numericalderiv_LinearRegression(x,y)"
      ]
    },
    {
      "cell_type": "code",
      "source": [
        "미분법의 기본공식\n",
        "1. f(x)=c (단, c는 상수) 이면 f`(x)=0\n",
        "2. f(x) = xn승 (단, nd는 자연수 이면\n",
        "                f`(x) = nx ** (n-1)"
      ],
      "metadata": {
        "id": "n0Pu7s08vAIW"
      },
      "id": "n0Pu7s08vAIW",
      "execution_count": null,
      "outputs": []
    },
    {
      "cell_type": "markdown",
      "source": [],
      "metadata": {
        "id": "KdzIc8-7u--h"
      },
      "id": "KdzIc8-7u--h"
    },
    {
      "cell_type": "markdown",
      "id": "f72ff992",
      "metadata": {
        "id": "f72ff992"
      },
      "source": [
        "### (2) 해석적 미분법"
      ]
    },
    {
      "cell_type": "markdown",
      "id": "6436743a",
      "metadata": {
        "id": "6436743a"
      },
      "source": [
        "### Python으로 미분식 구하는 방법"
      ]
    },
    {
      "cell_type": "code",
      "execution_count": 16,
      "id": "db64eb05",
      "metadata": {
        "id": "db64eb05"
      },
      "outputs": [],
      "source": [
        "from sympy import symbols, Derivative       #Derivative 가 미분임"
      ]
    },
    {
      "cell_type": "code",
      "execution_count": 17,
      "id": "3b678b18",
      "metadata": {
        "id": "3b678b18"
      },
      "outputs": [],
      "source": [
        "x = symbols('x')    # 함수에 사용될 변수를 심볼화\n",
        "fx = 3*x**2 -4*x +1    # 함수식"
      ]
    },
    {
      "cell_type": "code",
      "execution_count": 18,
      "id": "452271d4",
      "metadata": {
        "id": "452271d4",
        "outputId": "8fabf96a-1a4a-4e3d-f293-caea7271fd0d",
        "colab": {
          "base_uri": "https://localhost:8080/",
          "height": 38
        }
      },
      "outputs": [
        {
          "output_type": "execute_result",
          "data": {
            "text/plain": [
              "6*x - 4"
            ],
            "text/latex": "$\\displaystyle 6 x - 4$"
          },
          "metadata": {},
          "execution_count": 18
        }
      ],
      "source": [
        "Derivative(fx, x).doit() # x에 대한 도함수 구하기"
      ]
    },
    {
      "cell_type": "code",
      "execution_count": 19,
      "id": "929879f4",
      "metadata": {
        "id": "929879f4"
      },
      "outputs": [],
      "source": [
        "d= Derivative(fx,x).doit()"
      ]
    },
    {
      "cell_type": "code",
      "execution_count": 21,
      "id": "e6251b85",
      "metadata": {
        "id": "e6251b85"
      },
      "outputs": [],
      "source": [
        "# MSE 편미분하기\n",
        "n, x, W, b, y = symbols('n, x, W, b, y')    # 함수에 사용될 변수를 심볼화\n",
        "fx = (y - W *x -b) **2                       # MSE 함수식"
      ]
    },
    {
      "cell_type": "code",
      "execution_count": 22,
      "id": "43fa3d9a",
      "metadata": {
        "id": "43fa3d9a",
        "outputId": "2c358eab-672c-4d20-8736-ea9fdc438dc8",
        "colab": {
          "base_uri": "https://localhost:8080/",
          "height": 38
        }
      },
      "outputs": [
        {
          "output_type": "execute_result",
          "data": {
            "text/plain": [
              "-2*x*(-W*x - b + y)"
            ],
            "text/latex": "$\\displaystyle - 2 x \\left(- W x - b + y\\right)$"
          },
          "metadata": {},
          "execution_count": 22
        }
      ],
      "source": [
        "Derivative(fx, W).doit() # W에 대한 편미분식 구하기"
      ]
    },
    {
      "cell_type": "code",
      "execution_count": 23,
      "id": "19977e2a",
      "metadata": {
        "id": "19977e2a",
        "outputId": "1c984ef5-f567-49c5-f171-785bd79cb59d",
        "colab": {
          "base_uri": "https://localhost:8080/",
          "height": 38
        }
      },
      "outputs": [
        {
          "output_type": "execute_result",
          "data": {
            "text/plain": [
              "2*W*x + 2*b - 2*y"
            ],
            "text/latex": "$\\displaystyle 2 W x + 2 b - 2 y$"
          },
          "metadata": {},
          "execution_count": 23
        }
      ],
      "source": [
        "Derivative(fx, b).doit() # b에 대한 편미분식 구하기"
      ]
    },
    {
      "cell_type": "code",
      "execution_count": 24,
      "id": "b879d454",
      "metadata": {
        "id": "b879d454"
      },
      "outputs": [],
      "source": [
        "del W, b, y, x, n   #symbol을 변수로 사용하기 위해 지움\n",
        "### 함수식을 정의하기 위해 symbol로 정해진 name은 변수로 사용될 수 없기때문"
      ]
    },
    {
      "cell_type": "markdown",
      "id": "da50b575",
      "metadata": {
        "id": "da50b575"
      },
      "source": [
        "### 해석적 방법에 의한 회귀 분석"
      ]
    },
    {
      "cell_type": "code",
      "execution_count": 26,
      "id": "9a81af0a",
      "metadata": {
        "id": "9a81af0a"
      },
      "outputs": [],
      "source": [
        "#gradient descent 구현하기\n",
        "\n",
        "# y = xW + b\n",
        "#Gradient\n",
        "def gradient(x, y, w, b):\n",
        "    return np.mean(-2*x*(-w*x -b +y)) , np.mean(2*(w*x + b -y) )# gradient W, gradient b"
      ]
    },
    {
      "cell_type": "code",
      "execution_count": 30,
      "id": "507f0c76",
      "metadata": {
        "id": "507f0c76"
      },
      "outputs": [],
      "source": [
        "def analytical_LinearRegression(x, y, lr=0.01, max_iters=1000):\n",
        "    import random\n",
        "\n",
        "    W =float(random.randint(-10, 10))\n",
        "    b =float(random.randint(-10, 10))\n",
        "\n",
        "\n",
        "    W_history =  [W]\n",
        "    b_history = [b]\n",
        "\n",
        "    cost =  MSE(np.array([W, b]))\n",
        "    print(\"Epochs:\",0,\"\\tW:\",W,\"\\tb:\",b,\"\\tcost:\",cost)\n",
        "\n",
        "    rate =   lr # Learning rate\n",
        "    MaxItrs = max_iters\n",
        "\n",
        "    for epoch in range(1,MaxItrs+1):  #epoch: 반복 횟수\n",
        "        gradientW, gradientB  =  gradient(x, y, W, b)\n",
        "        W =  W - rate * gradientW       #Grad descent\n",
        "        b =  b - rate * gradientB       #Grad descent\n",
        "        W_history.append(W)\n",
        "        b_history.append(b)\n",
        "\n",
        "        cost =  MSE(np.array([W, b]))\n",
        "\n",
        "        if len(str(epoch))==1 or epoch %100==0 or epoch==MaxItrs:\n",
        "            print('Epochs:', epoch, \n",
        "                  'gradient W: %.2f, gradient b:%.2f, ' %(gradientW, gradientB), \n",
        "                  end=' ')\n",
        "            print(\"W:%.2f, b:%.2f, cost: %.2f\" % (W, b, cost)) #Print result \n",
        "            \n",
        "    else:\n",
        "        print('W=', W, 'b=', b)\n",
        "        print('참값:', y)\n",
        "        print('예측:', predict(x, np.array([W,b])))\n",
        "        drawGraphs(x, y, W,b, W_history, b_history)\n",
        "        return W, b"
      ]
    },
    {
      "cell_type": "code",
      "execution_count": 32,
      "id": "7fb8da90",
      "metadata": {
        "id": "7fb8da90",
        "outputId": "7fe4c36d-abef-4f9c-e83d-62df600ece96",
        "colab": {
          "base_uri": "https://localhost:8080/",
          "height": 891
        }
      },
      "outputs": [
        {
          "output_type": "stream",
          "name": "stdout",
          "text": [
            "Epochs: 0 \tW: -3.0 \tb: 6.0 \tcost: 89.0\n",
            "Epochs: 1 gradient W: -32.00, gradient b:10.00,  W:-2.68, b:5.90, cost: 78.18\n",
            "Epochs: 2 gradient W: -29.44, gradient b:9.80,  W:-2.39, b:5.80, cost: 68.91\n",
            "Epochs: 3 gradient W: -27.08, gradient b:9.60,  W:-2.11, b:5.71, cost: 60.95\n",
            "Epochs: 4 gradient W: -24.92, gradient b:9.41,  W:-1.87, b:5.61, cost: 54.12\n",
            "Epochs: 5 gradient W: -22.92, gradient b:9.22,  W:-1.64, b:5.52, cost: 48.23\n",
            "Epochs: 6 gradient W: -21.09, gradient b:9.04,  W:-1.43, b:5.43, cost: 43.15\n",
            "Epochs: 7 gradient W: -19.40, gradient b:8.86,  W:-1.23, b:5.34, cost: 38.76\n",
            "Epochs: 8 gradient W: -17.85, gradient b:8.68,  W:-1.05, b:5.25, cost: 34.95\n",
            "Epochs: 9 gradient W: -16.42, gradient b:8.51,  W:-0.89, b:5.17, cost: 31.65\n",
            "Epochs: 100 gradient W: -0.01, gradient b:1.35,  W:1.00, b:1.66, cost: 0.44\n",
            "Epochs: 200 gradient W: -0.00, gradient b:0.18,  W:1.00, b:1.09, cost: 0.01\n",
            "Epochs: 300 gradient W: -0.00, gradient b:0.02,  W:1.00, b:1.01, cost: 0.00\n",
            "Epochs: 400 gradient W: -0.00, gradient b:0.00,  W:1.00, b:1.00, cost: 0.00\n",
            "Epochs: 500 gradient W: -0.00, gradient b:0.00,  W:1.00, b:1.00, cost: 0.00\n",
            "Epochs: 600 gradient W: -0.00, gradient b:0.00,  W:1.00, b:1.00, cost: 0.00\n",
            "Epochs: 700 gradient W: -0.00, gradient b:0.00,  W:1.00, b:1.00, cost: 0.00\n",
            "Epochs: 800 gradient W: -0.00, gradient b:0.00,  W:1.00, b:1.00, cost: 0.00\n",
            "Epochs: 900 gradient W: -0.00, gradient b:0.00,  W:1.00, b:1.00, cost: 0.00\n",
            "Epochs: 1000 gradient W: -0.00, gradient b:0.00,  W:1.00, b:1.00, cost: 0.00\n",
            "W= 0.9999999999999993 b= 1.0000000084148368\n",
            "참값: [-2 -1  0  1  2  3  4]\n",
            "예측: [-1.99999999e+00 -9.99999992e-01  8.41483749e-09  1.00000001e+00\n",
            "  2.00000001e+00  3.00000001e+00  4.00000001e+00]\n"
          ]
        },
        {
          "output_type": "display_data",
          "data": {
            "text/plain": [
              "<Figure size 1000x500 with 2 Axes>"
            ],
            "image/png": "[encoded data removed]"
          },
          "metadata": {}
        }
      ],
      "source": [
        "x = np.array( [-3, -2, -1, 0, 1, 2, 3] )\n",
        "y = np.array( [-2, -1, 0, 1, 2, 3, 4])\n",
        "W, b = analytical_LinearRegression(x, y, lr= 0.01, max_iters=1000)"
      ]
    },
    {
      "cell_type": "code",
      "execution_count": 34,
      "id": "6d55de65",
      "metadata": {
        "id": "6d55de65",
        "outputId": "6e19f0a3-3d74-4d08-86cb-6820de09baca",
        "colab": {
          "base_uri": "https://localhost:8080/",
          "height": 891
        }
      },
      "outputs": [
        {
          "output_type": "stream",
          "name": "stdout",
          "text": [
            "Epochs: 0 \tW: 8.0 \tb: 6.0 \tcost: 199.0442857142857\n",
            "Epochs: 1 gradient W: 56.31, gradient b:1.80,  W:7.44, b:5.98, cost: 168.57\n",
            "Epochs: 2 gradient W: 51.81, gradient b:1.76,  W:6.92, b:5.96, cost: 142.77\n",
            "Epochs: 3 gradient W: 47.66, gradient b:1.73,  W:6.44, b:5.95, cost: 120.93\n",
            "Epochs: 4 gradient W: 43.85, gradient b:1.69,  W:6.00, b:5.93, cost: 102.44\n",
            "Epochs: 5 gradient W: 40.34, gradient b:1.66,  W:5.60, b:5.91, cost: 86.79\n",
            "Epochs: 6 gradient W: 37.12, gradient b:1.63,  W:5.23, b:5.90, cost: 73.54\n",
            "Epochs: 7 gradient W: 34.15, gradient b:1.59,  W:4.89, b:5.88, cost: 62.32\n",
            "Epochs: 8 gradient W: 31.41, gradient b:1.56,  W:4.57, b:5.87, cost: 52.82\n",
            "Epochs: 9 gradient W: 28.90, gradient b:1.53,  W:4.28, b:5.85, cost: 44.78\n",
            "Epochs: 100 gradient W: 0.01, gradient b:0.24,  W:0.96, b:5.22, cost: 0.04\n",
            "Epochs: 200 gradient W: 0.00, gradient b:0.03,  W:0.96, b:5.12, cost: 0.03\n",
            "Epochs: 300 gradient W: 0.00, gradient b:0.00,  W:0.96, b:5.10, cost: 0.03\n",
            "Epochs: 400 gradient W: 0.00, gradient b:0.00,  W:0.96, b:5.10, cost: 0.03\n",
            "Epochs: 500 gradient W: 0.00, gradient b:0.00,  W:0.96, b:5.10, cost: 0.03\n",
            "Epochs: 600 gradient W: 0.00, gradient b:0.00,  W:0.96, b:5.10, cost: 0.03\n",
            "Epochs: 700 gradient W: 0.00, gradient b:0.00,  W:0.96, b:5.10, cost: 0.03\n",
            "Epochs: 800 gradient W: 0.00, gradient b:0.00,  W:0.96, b:5.10, cost: 0.03\n",
            "Epochs: 900 gradient W: 0.00, gradient b:0.00,  W:0.96, b:5.10, cost: 0.03\n",
            "Epochs: 1000 gradient W: 0.00, gradient b:0.00,  W:0.96, b:5.10, cost: 0.03\n",
            "W= 0.9607142857142863 b= 5.10000000151467\n",
            "참값: [2.  3.5 4.  5.2 6.  7.1 7.9]\n",
            "예측: [2.21785714 3.17857143 4.13928572 5.1        6.06071429 7.02142857\n",
            " 7.98214286]\n"
          ]
        },
        {
          "output_type": "display_data",
          "data": {
            "text/plain": [
              "<Figure size 1000x500 with 2 Axes>"
            ],
            "image/png": "[encoded data removed]"
          },
          "metadata": {}
        }
      ],
      "source": [
        "x = np.array( [-3, -2, -1, 0, 1, 2, 3]  )\n",
        "y = np.array( [2, 3.5, 4, 5.2, 6, 7.1, 7.9] )\n",
        "W, b = analytical_LinearRegression(x, y)"
      ]
    },
    {
      "cell_type": "markdown",
      "id": "961c4c96",
      "metadata": {
        "id": "961c4c96"
      },
      "source": [
        "## 랜덤 자료에 대한 단순 선형 회귀 분석"
      ]
    },
    {
      "cell_type": "code",
      "execution_count": 39,
      "id": "d4b6cfef",
      "metadata": {
        "id": "d4b6cfef",
        "outputId": "620eca6f-9627-47a3-d2f4-23c4e6722305",
        "colab": {
          "base_uri": "https://localhost:8080/",
          "height": 703
        }
      },
      "outputs": [
        {
          "output_type": "stream",
          "name": "stdout",
          "text": [
            "[3.74540119 9.50714306 7.31993942 5.98658484 1.5601864  1.5599452\n",
            " 0.58083612 8.66176146 6.01115012 7.08072578 0.20584494 9.69909852\n",
            " 8.32442641 2.12339111 1.81824967 1.8340451  3.04242243 5.24756432\n",
            " 4.31945019 2.9122914  6.11852895 1.39493861 2.92144649 3.66361843\n",
            " 4.56069984 7.85175961 1.99673782 5.14234438 5.92414569 0.46450413\n",
            " 6.07544852 1.70524124 0.65051593 9.48885537 9.65632033 8.08397348\n",
            " 3.04613769 0.97672114 6.84233027 4.40152494 1.22038235 4.9517691\n",
            " 0.34388521 9.09320402 2.58779982 6.62522284 3.11711076 5.20068021\n",
            " 5.46710279 1.84854456]\n",
            "[ 7.22926896 18.18565441 13.52423055 10.67206599  0.64185082  1.4000462\n",
            " -0.29896653 17.38064514 11.36591852 11.3984114  -0.26422614 18.01311476\n",
            " 14.97193082  3.8584585   3.66749887  3.59937032  4.24562734  9.18591626\n",
            "  7.9701638   5.80012793 10.75788366  1.60421824  3.736558    5.13103024\n",
            "  8.93392551 16.05975926  2.92146552 10.28822167 11.2099274  -0.7161115\n",
            " 11.51229264  3.94851904  0.26520582 19.5423544  15.69289556 15.98984947\n",
            "  5.17932245  0.65443493 12.77642131  5.81548096  1.22109281  9.26065077\n",
            "  1.16566447 16.66813782  3.36710603 11.74868864  6.14962364  9.73011153\n",
            "  9.40444538  3.21035654]\n"
          ]
        },
        {
          "output_type": "display_data",
          "data": {
            "text/plain": [
              "<Figure size 400x400 with 1 Axes>"
            ],
            "image/png": "[encoded data removed]"
          },
          "metadata": {}
        }
      ],
      "source": [
        "rng = np.random.RandomState(42) #객체화 42는 seed\n",
        "x = 10 * rng.rand(50)\n",
        "y = 2*x -1 + rng.randn(50)\n",
        "print(x)\n",
        "print(y)\n",
        "plt.figure(figsize=(4,4))\n",
        "plt.scatter(x, y)\n",
        "plt.show()"
      ]
    },
    {
      "cell_type": "code",
      "execution_count": 37,
      "id": "9560ccc6",
      "metadata": {
        "id": "9560ccc6",
        "outputId": "a5504cc8-1a05-473a-c7a9-e359567728bf",
        "colab": {
          "base_uri": "https://localhost:8080/",
          "height": 396
        }
      },
      "outputs": [
        {
          "output_type": "display_data",
          "data": {
            "text/plain": [
              "<Figure size 400x400 with 1 Axes>"
            ],
            "image/png": "[encoded data removed]"
          },
          "metadata": {}
        }
      ],
      "source": [
        "df=pd.DataFrame()\n",
        "df['x']= x\n",
        "df['y']= y\n",
        "\n",
        "plt.figure(figsize=(4,4))\n",
        "sns.regplot(x='x', y='y', data=df)\n",
        "plt.show()"
      ]
    },
    {
      "cell_type": "code",
      "source": [
        "W, b = numericalderiv_LinearRegression(x,y, lr=0.01, max_iters=2000)"
      ],
      "metadata": {
        "id": "h19zwqrx6hz5",
        "outputId": "ff6965c0-b6b1-42c7-bcfe-61de3fc68540",
        "colab": {
          "base_uri": "https://localhost:8080/",
          "height": 1000
        }
      },
      "id": "h19zwqrx6hz5",
      "execution_count": 40,
      "outputs": [
        {
          "output_type": "stream",
          "name": "stdout",
          "text": [
            "Epochs: 0 \tW: 6.0 \tb: -8.0 \tcost: 250.64758553469264\n",
            "Epochs: 1 gradient W: 162.47, gradient b:21.68,  W:4.38, b:-8.22, cost: 59.25\n",
            "Epochs: 2 gradient W: 69.35, gradient b:6.76,  W:3.68, b:-8.28, cost: 24.62\n",
            "Epochs: 3 gradient W: 29.82, gradient b:0.44,  W:3.38, b:-8.29, cost: 18.23\n",
            "Epochs: 4 gradient W: 13.05, gradient b:-2.23,  W:3.25, b:-8.27, cost: 16.94\n",
            "Epochs: 5 gradient W: 5.92, gradient b:-3.35,  W:3.19, b:-8.23, cost: 16.55\n",
            "Epochs: 6 gradient W: 2.90, gradient b:-3.81,  W:3.16, b:-8.19, cost: 16.34\n",
            "Epochs: 7 gradient W: 1.61, gradient b:-3.99,  W:3.15, b:-8.15, cost: 16.16\n",
            "Epochs: 8 gradient W: 1.06, gradient b:-4.06,  W:3.14, b:-8.11, cost: 15.98\n",
            "Epochs: 9 gradient W: 0.83, gradient b:-4.07,  W:3.13, b:-8.07, cost: 15.81\n",
            "Epochs: 100 gradient W: 0.39, gradient b:-2.44,  W:2.66, b:-5.17, cost: 6.13\n",
            "Epochs: 200 gradient W: 0.22, gradient b:-1.38,  W:2.37, b:-3.32, cost: 2.52\n",
            "Epochs: 300 gradient W: 0.13, gradient b:-0.78,  W:2.20, b:-2.27, cost: 1.37\n",
            "Epochs: 400 gradient W: 0.07, gradient b:-0.44,  W:2.10, b:-1.68, cost: 1.00\n",
            "Epochs: 500 gradient W: 0.04, gradient b:-0.25,  W:2.05, b:-1.34, cost: 0.88\n",
            "Epochs: 600 gradient W: 0.02, gradient b:-0.14,  W:2.02, b:-1.15, cost: 0.84\n",
            "Epochs: 700 gradient W: 0.01, gradient b:-0.08,  W:2.00, b:-1.04, cost: 0.83\n",
            "Epochs: 800 gradient W: 0.01, gradient b:-0.05,  W:1.99, b:-0.98, cost: 0.82\n",
            "Epochs: 900 gradient W: 0.00, gradient b:-0.03,  W:1.98, b:-0.95, cost: 0.82\n",
            "Epochs: 1000 gradient W: 0.00, gradient b:-0.01,  W:1.98, b:-0.93, cost: 0.82\n",
            "Epochs: 1100 gradient W: 0.00, gradient b:-0.01,  W:1.98, b:-0.92, cost: 0.82\n",
            "Epochs: 1200 gradient W: 0.00, gradient b:-0.00,  W:1.98, b:-0.91, cost: 0.82\n",
            "Epochs: 1300 gradient W: 0.00, gradient b:-0.00,  W:1.98, b:-0.91, cost: 0.82\n",
            "Epochs: 1400 gradient W: 0.00, gradient b:-0.00,  W:1.98, b:-0.91, cost: 0.82\n",
            "Epochs: 1500 gradient W: 0.00, gradient b:-0.00,  W:1.98, b:-0.90, cost: 0.82\n",
            "Epochs: 1600 gradient W: 0.00, gradient b:-0.00,  W:1.98, b:-0.90, cost: 0.82\n",
            "Epochs: 1700 gradient W: 0.00, gradient b:-0.00,  W:1.98, b:-0.90, cost: 0.82\n",
            "Epochs: 1800 gradient W: 0.00, gradient b:-0.00,  W:1.98, b:-0.90, cost: 0.82\n",
            "Epochs: 1900 gradient W: 0.00, gradient b:-0.00,  W:1.98, b:-0.90, cost: 0.82\n",
            "Epochs: 2000 gradient W: 0.00, gradient b:-0.00,  W:1.98, b:-0.90, cost: 0.82\n",
            "W= 1.9776701700721213 b= -0.9033952586447997\n",
            "참값: [ 7.22926896 18.18565441 13.52423055 10.67206599  0.64185082  1.4000462\n",
            " -0.29896653 17.38064514 11.36591852 11.3984114  -0.26422614 18.01311476\n",
            " 14.97193082  3.8584585   3.66749887  3.59937032  4.24562734  9.18591626\n",
            "  7.9701638   5.80012793 10.75788366  1.60421824  3.736558    5.13103024\n",
            "  8.93392551 16.05975926  2.92146552 10.28822167 11.2099274  -0.7161115\n",
            " 11.51229264  3.94851904  0.26520582 19.5423544  15.69289556 15.98984947\n",
            "  5.17932245  0.65443493 12.77642131  5.81548096  1.22109281  9.26065077\n",
            "  1.16566447 16.66813782  3.36710603 11.74868864  6.14962364  9.73011153\n",
            "  9.40444538  3.21035654]\n",
            "예측: [ 6.50377295e+00  1.78985980e+01  1.35730306e+01  1.09360950e+01\n",
            "  2.18213885e+00  2.18166184e+00  2.45307013e-01  1.62267120e+01\n",
            "  1.09846770e+01  1.30999449e+01 -4.96301855e-01  1.82782226e+01\n",
            "  1.55595745e+01  3.29597199e+00  2.69250288e+00  2.72374102e+00\n",
            "  5.11351283e+00  9.47455616e+00  7.63905253e+00  4.85615657e+00\n",
            "  1.11970369e+01  1.85533321e+00  4.87426231e+00  6.34203363e+00\n",
            "  8.11616477e+00  1.46247955e+01  3.04549357e+00  9.26646583e+00\n",
            "  1.08126110e+01  1.52406976e-02  1.11118380e+01  2.46900947e+00\n",
            "  3.83110691e-01  1.78624310e+01  1.81936214e+01  1.50840380e+01\n",
            "  5.12086039e+00  1.02823700e+00  1.26284772e+01  7.80136931e+00\n",
            "  1.51011851e+00  8.88957078e+00 -2.23303735e-01  1.70799631e+01\n",
            "  4.21441924e+00  1.21991103e+01  5.26122171e+00  9.38183486e+00\n",
            "  9.90873085e+00  2.75241617e+00]\n"
          ]
        },
        {
          "output_type": "display_data",
          "data": {
            "text/plain": [
              "<Figure size 1000x500 with 2 Axes>"
            ],
            "image/png": "[encoded data removed]"
          },
          "metadata": {}
        }
      ]
    },
    {
      "cell_type": "markdown",
      "id": "aef3f2f0",
      "metadata": {
        "id": "aef3f2f0"
      },
      "source": [
        "### Scikit Learn 활용\n",
        "데이터를 특징과 대상 벡터로 배치"
      ]
    },
    {
      "cell_type": "code",
      "execution_count": 44,
      "id": "61ec687d",
      "metadata": {
        "id": "61ec687d",
        "outputId": "9885f883-2c8c-489f-cb00-7dc400083979",
        "colab": {
          "base_uri": "https://localhost:8080/"
        }
      },
      "outputs": [
        {
          "output_type": "stream",
          "name": "stdout",
          "text": [
            "(50, 1)\n",
            "(50,)\n",
            "[[3.74540119]\n",
            " [9.50714306]\n",
            " [7.31993942]\n",
            " [5.98658484]\n",
            " [1.5601864 ]\n",
            " [1.5599452 ]\n",
            " [0.58083612]\n",
            " [8.66176146]\n",
            " [6.01115012]\n",
            " [7.08072578]\n",
            " [0.20584494]\n",
            " [9.69909852]\n",
            " [8.32442641]\n",
            " [2.12339111]\n",
            " [1.81824967]\n",
            " [1.8340451 ]\n",
            " [3.04242243]\n",
            " [5.24756432]\n",
            " [4.31945019]\n",
            " [2.9122914 ]\n",
            " [6.11852895]\n",
            " [1.39493861]\n",
            " [2.92144649]\n",
            " [3.66361843]\n",
            " [4.56069984]\n",
            " [7.85175961]\n",
            " [1.99673782]\n",
            " [5.14234438]\n",
            " [5.92414569]\n",
            " [0.46450413]\n",
            " [6.07544852]\n",
            " [1.70524124]\n",
            " [0.65051593]\n",
            " [9.48885537]\n",
            " [9.65632033]\n",
            " [8.08397348]\n",
            " [3.04613769]\n",
            " [0.97672114]\n",
            " [6.84233027]\n",
            " [4.40152494]\n",
            " [1.22038235]\n",
            " [4.9517691 ]\n",
            " [0.34388521]\n",
            " [9.09320402]\n",
            " [2.58779982]\n",
            " [6.62522284]\n",
            " [3.11711076]\n",
            " [5.20068021]\n",
            " [5.46710279]\n",
            " [1.84854456]]\n",
            "[ 7.22926896 18.18565441 13.52423055 10.67206599  0.64185082  1.4000462\n",
            " -0.29896653 17.38064514 11.36591852 11.3984114  -0.26422614 18.01311476\n",
            " 14.97193082  3.8584585   3.66749887  3.59937032  4.24562734  9.18591626\n",
            "  7.9701638   5.80012793 10.75788366  1.60421824  3.736558    5.13103024\n",
            "  8.93392551 16.05975926  2.92146552 10.28822167 11.2099274  -0.7161115\n",
            " 11.51229264  3.94851904  0.26520582 19.5423544  15.69289556 15.98984947\n",
            "  5.17932245  0.65443493 12.77642131  5.81548096  1.22109281  9.26065077\n",
            "  1.16566447 16.66813782  3.36710603 11.74868864  6.14962364  9.73011153\n",
            "  9.40444538  3.21035654]\n"
          ]
        }
      ],
      "source": [
        "# 기계학습\n",
        "x = x.reshape(-1,1)\n",
        "print(x.shape)    \n",
        "print(y.shape) \n",
        "\n",
        "# scikit-learn의 입력은 feature x값을 한 행씩으로 입력\n",
        "# y는 1차원\n",
        "print(x)"
      ]
    },
    {
      "cell_type": "code",
      "execution_count": 45,
      "id": "faef886d",
      "metadata": {
        "id": "faef886d",
        "outputId": "ec97a96c-5659-4730-d839-a2d273eebc8c",
        "colab": {
          "base_uri": "https://localhost:8080/",
          "height": 75
        }
      },
      "outputs": [
        {
          "output_type": "execute_result",
          "data": {
            "text/plain": [
              "LinearRegression()"
            ],
            "text/html": [
              "<style>#sk-container-id-1 {color: black;background-color: white;}#sk-container-id-1 pre{padding: 0;}#sk-container-id-1 div.sk-toggleable {background-color: white;}#sk-container-id-1 label.sk-toggleable__label {cursor: pointer;display: block;width: 100%;margin-bottom: 0;padding: 0.3em;box-sizing: border-box;text-align: center;}#sk-container-id-1 label.sk-toggleable__label-arrow:before {content: \"▸\";float: left;margin-right: 0.25em;color: #696969;}#sk-container-id-1 label.sk-toggleable__label-arrow:hover:before {color: black;}#sk-container-id-1 div.sk-estimator:hover label.sk-toggleable__label-arrow:before {color: black;}#sk-container-id-1 div.sk-toggleable__content {max-height: 0;max-width: 0;overflow: hidden;text-align: left;background-color: #f0f8ff;}#sk-container-id-1 div.sk-toggleable__content pre {margin: 0.2em;color: black;border-radius: 0.25em;background-color: #f0f8ff;}#sk-container-id-1 input.sk-toggleable__control:checked~div.sk-toggleable__content {max-height: 200px;max-width: 100%;overflow: auto;}#sk-container-id-1 input.sk-toggleable__control:checked~label.sk-toggleable__label-arrow:before {content: \"▾\";}#sk-container-id-1 div.sk-estimator input.sk-toggleable__control:checked~label.sk-toggleable__label {background-color: #d4ebff;}#sk-container-id-1 div.sk-label input.sk-toggleable__control:checked~label.sk-toggleable__label {background-color: #d4ebff;}#sk-container-id-1 input.sk-hidden--visually {border: 0;clip: rect(1px 1px 1px 1px);clip: rect(1px, 1px, 1px, 1px);height: 1px;margin: -1px;overflow: hidden;padding: 0;position: absolute;width: 1px;}#sk-container-id-1 div.sk-estimator {font-family: monospace;background-color: #f0f8ff;border: 1px dotted black;border-radius: 0.25em;box-sizing: border-box;margin-bottom: 0.5em;}#sk-container-id-1 div.sk-estimator:hover {background-color: #d4ebff;}#sk-container-id-1 div.sk-parallel-item::after {content: \"\";width: 100%;border-bottom: 1px solid gray;flex-grow: 1;}#sk-container-id-1 div.sk-label:hover label.sk-toggleable__label {background-color: #d4ebff;}#sk-container-id-1 div.sk-serial::before {content: \"\";position: absolute;border-left: 1px solid gray;box-sizing: border-box;top: 0;bottom: 0;left: 50%;z-index: 0;}#sk-container-id-1 div.sk-serial {display: flex;flex-direction: column;align-items: center;background-color: white;padding-right: 0.2em;padding-left: 0.2em;position: relative;}#sk-container-id-1 div.sk-item {position: relative;z-index: 1;}#sk-container-id-1 div.sk-parallel {display: flex;align-items: stretch;justify-content: center;background-color: white;position: relative;}#sk-container-id-1 div.sk-item::before, #sk-container-id-1 div.sk-parallel-item::before {content: \"\";position: absolute;border-left: 1px solid gray;box-sizing: border-box;top: 0;bottom: 0;left: 50%;z-index: -1;}#sk-container-id-1 div.sk-parallel-item {display: flex;flex-direction: column;z-index: 1;position: relative;background-color: white;}#sk-container-id-1 div.sk-parallel-item:first-child::after {align-self: flex-end;width: 50%;}#sk-container-id-1 div.sk-parallel-item:last-child::after {align-self: flex-start;width: 50%;}#sk-container-id-1 div.sk-parallel-item:only-child::after {width: 0;}#sk-container-id-1 div.sk-dashed-wrapped {border: 1px dashed gray;margin: 0 0.4em 0.5em 0.4em;box-sizing: border-box;padding-bottom: 0.4em;background-color: white;}#sk-container-id-1 div.sk-label label {font-family: monospace;font-weight: bold;display: inline-block;line-height: 1.2em;}#sk-container-id-1 div.sk-label-container {text-align: center;}#sk-container-id-1 div.sk-container {/* jupyter's `normalize.less` sets `[hidden] { display: none; }` but bootstrap.min.css set `[hidden] { display: none !important; }` so we also need the `!important` here to be able to override the default hidden behavior on the sphinx rendered scikit-learn.org. See: https://github.com/scikit-learn/scikit-learn/issues/21755 */display: inline-block !important;position: relative;}#sk-container-id-1 div.sk-text-repr-fallback {display: none;}</style><div id=\"sk-container-id-1\" class=\"sk-top-container\"><div class=\"sk-text-repr-fallback\"><pre>LinearRegression()</pre><b>In a Jupyter environment, please rerun this cell to show the HTML representation or trust the notebook. <br />On GitHub, the HTML representation is unable to render, please try loading this page with nbviewer.org.</b></div><div class=\"sk-container\" hidden><div class=\"sk-item\"><div class=\"sk-estimator sk-toggleable\"><input class=\"sk-toggleable__control sk-hidden--visually\" id=\"sk-estimator-id-1\" type=\"checkbox\" checked><label for=\"sk-estimator-id-1\" class=\"sk-toggleable__label sk-toggleable__label-arrow\">LinearRegression</label><div class=\"sk-toggleable__content\"><pre>LinearRegression()</pre></div></div></div></div></div>"
            ]
          },
          "metadata": {},
          "execution_count": 45
        }
      ],
      "source": [
        "from sklearn.linear_model import LinearRegression       #모델 클래스\n",
        "model = LinearRegression (fit_intercept=True)           # y 절편 있음\n",
        "model.fit(x,y)\n"
      ]
    },
    {
      "cell_type": "code",
      "execution_count": 46,
      "id": "233e6c0b",
      "metadata": {
        "id": "233e6c0b",
        "outputId": "713eaa4e-07ed-4058-c9e4-d65fd1c59c00",
        "colab": {
          "base_uri": "https://localhost:8080/"
        }
      },
      "outputs": [
        {
          "output_type": "stream",
          "name": "stdout",
          "text": [
            "기울기: [1.9776566]\n",
            "y절편: -0.9033107255311146\n"
          ]
        }
      ],
      "source": [
        "print('기울기:', model.coef_)\n",
        "print('y절편:', model.intercept_)"
      ]
    },
    {
      "cell_type": "code",
      "execution_count": 48,
      "id": "601f8480",
      "metadata": {
        "id": "601f8480",
        "outputId": "fb3339c4-361c-4cce-8833-cb09a8675f37",
        "colab": {
          "base_uri": "https://localhost:8080/",
          "height": 450
        }
      },
      "outputs": [
        {
          "output_type": "display_data",
          "data": {
            "text/plain": [
              "<Figure size 500x500 with 1 Axes>"
            ],
            "image/png": "[encoded data removed]"
          },
          "metadata": {}
        }
      ],
      "source": [
        "xx =  np.linspace(-1,10,10)\n",
        "yy =  model.predict(xx.reshape(-1,1))\n",
        "\n",
        "plt.figure(figsize=(5,5))\n",
        "plt.scatter(x, y)\n",
        "plt.plot(xx, yy, c='r', marker='o')\n",
        "plt.show()"
      ]
    },
    {
      "cell_type": "code",
      "execution_count": null,
      "id": "643977b3",
      "metadata": {
        "id": "643977b3"
      },
      "outputs": [],
      "source": []
    },
    {
      "cell_type": "markdown",
      "id": "02e914e4",
      "metadata": {
        "id": "02e914e4"
      },
      "source": [
        "## 다중 선형 회귀 분석"
      ]
    },
    {
      "cell_type": "code",
      "execution_count": 49,
      "id": "0a6ee36d",
      "metadata": {
        "id": "0a6ee36d",
        "outputId": "df0e7eaf-c41c-4704-f246-ae45dc51e6a2",
        "colab": {
          "base_uri": "https://localhost:8080/"
        }
      },
      "outputs": [
        {
          "output_type": "stream",
          "name": "stdout",
          "text": [
            "Mounted at /content/drive\n"
          ]
        }
      ],
      "source": [
        "from google.colab import drive\n",
        "drive.mount('/content/drive')\n",
        "df = pd.read_csv(\"/content/drive/MyDrive/ICTIS_2023/data/boston_house_price.csv\", \n",
        "                 index_col= 0)\n"
      ]
    },
    {
      "cell_type": "code",
      "source": [
        "df.info()"
      ],
      "metadata": {
        "id": "Hu9us4DaBeKn",
        "outputId": "d97c2a65-a12f-4353-aaa2-ffec778516b1",
        "colab": {
          "base_uri": "https://localhost:8080/"
        }
      },
      "id": "Hu9us4DaBeKn",
      "execution_count": 50,
      "outputs": [
        {
          "output_type": "stream",
          "name": "stdout",
          "text": [
            "<class 'pandas.core.frame.DataFrame'>\n",
            "Int64Index: 506 entries, 0 to 505\n",
            "Data columns (total 14 columns):\n",
            " #   Column   Non-Null Count  Dtype  \n",
            "---  ------   --------------  -----  \n",
            " 0   CRIM     506 non-null    float64\n",
            " 1   ZN       506 non-null    float64\n",
            " 2   INDUS    506 non-null    float64\n",
            " 3   CHAS     506 non-null    int64  \n",
            " 4   NOX      506 non-null    float64\n",
            " 5   RM       506 non-null    float64\n",
            " 6   AGE      506 non-null    float64\n",
            " 7   DIS      506 non-null    float64\n",
            " 8   RAD      506 non-null    int64  \n",
            " 9   TAX      506 non-null    int64  \n",
            " 10  PTRATIO  506 non-null    float64\n",
            " 11  B        506 non-null    float64\n",
            " 12  LSTAT    506 non-null    float64\n",
            " 13  MEDV     506 non-null    float64\n",
            "dtypes: float64(11), int64(3)\n",
            "memory usage: 59.3 KB\n"
          ]
        }
      ]
    },
    {
      "cell_type": "code",
      "source": [
        "df.describe()"
      ],
      "metadata": {
        "id": "Y7kYALbPB14d",
        "outputId": "ce1dc18c-c4c4-44cb-9d57-9024e60a76f7",
        "colab": {
          "base_uri": "https://localhost:8080/",
          "height": 300
        }
      },
      "id": "Y7kYALbPB14d",
      "execution_count": 51,
      "outputs": [
        {
          "output_type": "execute_result",
          "data": {
            "text/plain": [
              "             CRIM          ZN       INDUS        CHAS         NOX          RM  \\\n",
              "count  506.000000  506.000000  506.000000  506.000000  506.000000  506.000000   \n",
              "mean     3.613524   11.363636   11.136779    0.069170    0.554695    6.284634   \n",
              "std      8.601545   23.322453    6.860353    0.253994    0.115878    0.702617   \n",
              "min      0.006320    0.000000    0.460000    0.000000    0.385000    3.561000   \n",
              "25%      0.082045    0.000000    5.190000    0.000000    0.449000    5.885500   \n",
              "50%      0.256510    0.000000    9.690000    0.000000    0.538000    6.208500   \n",
              "75%      3.677083   12.500000   18.100000    0.000000    0.624000    6.623500   \n",
              "max     88.976200  100.000000   27.740000    1.000000    0.871000    8.780000   \n",
              "\n",
              "              AGE         DIS         RAD         TAX     PTRATIO           B  \\\n",
              "count  506.000000  506.000000  506.000000  506.000000  506.000000  506.000000   \n",
              "mean    68.574901    3.795043    9.549407  408.237154   18.455534  356.674032   \n",
              "std     28.148861    2.105710    8.707259  168.537116    2.164946   91.294864   \n",
              "min      2.900000    1.129600    1.000000  187.000000   12.600000    0.320000   \n",
              "25%     45.025000    2.100175    4.000000  279.000000   17.400000  375.377500   \n",
              "50%     77.500000    3.207450    5.000000  330.000000   19.050000  391.440000   \n",
              "75%     94.075000    5.188425   24.000000  666.000000   20.200000  396.225000   \n",
              "max    100.000000   12.126500   24.000000  711.000000   22.000000  396.900000   \n",
              "\n",
              "            LSTAT        MEDV  \n",
              "count  506.000000  506.000000  \n",
              "mean    12.653063   22.532806  \n",
              "std      7.141062    9.197104  \n",
              "min      1.730000    5.000000  \n",
              "25%      6.950000   17.025000  \n",
              "50%     11.360000   21.200000  \n",
              "75%     16.955000   25.000000  \n",
              "max     37.970000   50.000000  "
            ],
            "text/html": [
              "\n",
              "  <div id=\"df-c6113c7a-9473-4be6-9f21-a47822bcd1c9\">\n",
              "    <div class=\"colab-df-container\">\n",
              "      <div>\n",
              "<style scoped>\n",
              "    .dataframe tbody tr th:only-of-type {\n",
              "        vertical-align: middle;\n",
              "    }\n",
              "\n",
              "    .dataframe tbody tr th {\n",
              "        vertical-align: top;\n",
              "    }\n",
              "\n",
              "    .dataframe thead th {\n",
              "        text-align: right;\n",
              "    }\n",
              "</style>\n",
              "<table border=\"1\" class=\"dataframe\">\n",
              "  <thead>\n",
              "    <tr style=\"text-align: right;\">\n",
              "      <th></th>\n",
              "      <th>CRIM</th>\n",
              "      <th>ZN</th>\n",
              "      <th>INDUS</th>\n",
              "      <th>CHAS</th>\n",
              "      <th>NOX</th>\n",
              "      <th>RM</th>\n",
              "      <th>AGE</th>\n",
              "      <th>DIS</th>\n",
              "      <th>RAD</th>\n",
              "      <th>TAX</th>\n",
              "      <th>PTRATIO</th>\n",
              "      <th>B</th>\n",
              "      <th>LSTAT</th>\n",
              "      <th>MEDV</th>\n",
              "    </tr>\n",
              "  </thead>\n",
              "  <tbody>\n",
              "    <tr>\n",
              "      <th>count</th>\n",
              "      <td>506.000000</td>\n",
              "      <td>506.000000</td>\n",
              "      <td>506.000000</td>\n",
              "      <td>506.000000</td>\n",
              "      <td>506.000000</td>\n",
              "      <td>506.000000</td>\n",
              "      <td>506.000000</td>\n",
              "      <td>506.000000</td>\n",
              "      <td>506.000000</td>\n",
              "      <td>506.000000</td>\n",
              "      <td>506.000000</td>\n",
              "      <td>506.000000</td>\n",
              "      <td>506.000000</td>\n",
              "      <td>506.000000</td>\n",
              "    </tr>\n",
              "    <tr>\n",
              "      <th>mean</th>\n",
              "      <td>3.613524</td>\n",
              "      <td>11.363636</td>\n",
              "      <td>11.136779</td>\n",
              "      <td>0.069170</td>\n",
              "      <td>0.554695</td>\n",
              "      <td>6.284634</td>\n",
              "      <td>68.574901</td>\n",
              "      <td>3.795043</td>\n",
              "      <td>9.549407</td>\n",
              "      <td>408.237154</td>\n",
              "      <td>18.455534</td>\n",
              "      <td>356.674032</td>\n",
              "      <td>12.653063</td>\n",
              "      <td>22.532806</td>\n",
              "    </tr>\n",
              "    <tr>\n",
              "      <th>std</th>\n",
              "      <td>8.601545</td>\n",
              "      <td>23.322453</td>\n",
              "      <td>6.860353</td>\n",
              "      <td>0.253994</td>\n",
              "      <td>0.115878</td>\n",
              "      <td>0.702617</td>\n",
              "      <td>28.148861</td>\n",
              "      <td>2.105710</td>\n",
              "      <td>8.707259</td>\n",
              "      <td>168.537116</td>\n",
              "      <td>2.164946</td>\n",
              "      <td>91.294864</td>\n",
              "      <td>7.141062</td>\n",
              "      <td>9.197104</td>\n",
              "    </tr>\n",
              "    <tr>\n",
              "      <th>min</th>\n",
              "      <td>0.006320</td>\n",
              "      <td>0.000000</td>\n",
              "      <td>0.460000</td>\n",
              "      <td>0.000000</td>\n",
              "      <td>0.385000</td>\n",
              "      <td>3.561000</td>\n",
              "      <td>2.900000</td>\n",
              "      <td>1.129600</td>\n",
              "      <td>1.000000</td>\n",
              "      <td>187.000000</td>\n",
              "      <td>12.600000</td>\n",
              "      <td>0.320000</td>\n",
              "      <td>1.730000</td>\n",
              "      <td>5.000000</td>\n",
              "    </tr>\n",
              "    <tr>\n",
              "      <th>25%</th>\n",
              "      <td>0.082045</td>\n",
              "      <td>0.000000</td>\n",
              "      <td>5.190000</td>\n",
              "      <td>0.000000</td>\n",
              "      <td>0.449000</td>\n",
              "      <td>5.885500</td>\n",
              "      <td>45.025000</td>\n",
              "      <td>2.100175</td>\n",
              "      <td>4.000000</td>\n",
              "      <td>279.000000</td>\n",
              "      <td>17.400000</td>\n",
              "      <td>375.377500</td>\n",
              "      <td>6.950000</td>\n",
              "      <td>17.025000</td>\n",
              "    </tr>\n",
              "    <tr>\n",
              "      <th>50%</th>\n",
              "      <td>0.256510</td>\n",
              "      <td>0.000000</td>\n",
              "      <td>9.690000</td>\n",
              "      <td>0.000000</td>\n",
              "      <td>0.538000</td>\n",
              "      <td>6.208500</td>\n",
              "      <td>77.500000</td>\n",
              "      <td>3.207450</td>\n",
              "      <td>5.000000</td>\n",
              "      <td>330.000000</td>\n",
              "      <td>19.050000</td>\n",
              "      <td>391.440000</td>\n",
              "      <td>11.360000</td>\n",
              "      <td>21.200000</td>\n",
              "    </tr>\n",
              "    <tr>\n",
              "      <th>75%</th>\n",
              "      <td>3.677083</td>\n",
              "      <td>12.500000</td>\n",
              "      <td>18.100000</td>\n",
              "      <td>0.000000</td>\n",
              "      <td>0.624000</td>\n",
              "      <td>6.623500</td>\n",
              "      <td>94.075000</td>\n",
              "      <td>5.188425</td>\n",
              "      <td>24.000000</td>\n",
              "      <td>666.000000</td>\n",
              "      <td>20.200000</td>\n",
              "      <td>396.225000</td>\n",
              "      <td>16.955000</td>\n",
              "      <td>25.000000</td>\n",
              "    </tr>\n",
              "    <tr>\n",
              "      <th>max</th>\n",
              "      <td>88.976200</td>\n",
              "      <td>100.000000</td>\n",
              "      <td>27.740000</td>\n",
              "      <td>1.000000</td>\n",
              "      <td>0.871000</td>\n",
              "      <td>8.780000</td>\n",
              "      <td>100.000000</td>\n",
              "      <td>12.126500</td>\n",
              "      <td>24.000000</td>\n",
              "      <td>711.000000</td>\n",
              "      <td>22.000000</td>\n",
              "      <td>396.900000</td>\n",
              "      <td>37.970000</td>\n",
              "      <td>50.000000</td>\n",
              "    </tr>\n",
              "  </tbody>\n",
              "</table>\n",
              "</div>\n",
              "      <button class=\"colab-df-convert\" onclick=\"convertToInteractive('df-c6113c7a-9473-4be6-9f21-a47822bcd1c9')\"\n",
              "              title=\"Convert this dataframe to an interactive table.\"\n",
              "              style=\"display:none;\">\n",
              "        \n",
              "  <svg xmlns=\"http://www.w3.org/2000/svg\" height=\"24px\"viewBox=\"0 0 24 24\"\n",
              "       width=\"24px\">\n",
              "    <path d=\"M0 0h24v24H0V0z\" fill=\"none\"/>\n",
              "    <path d=\"M18.56 5.44l.94 2.06.94-2.06 2.06-.94-2.06-.94-.94-2.06-.94 2.06-2.06.94zm-11 1L8.5 8.5l.94-2.06 2.06-.94-2.06-.94L8.5 2.5l-.94 2.06-2.06.94zm10 10l.94 2.06.94-2.06 2.06-.94-2.06-.94-.94-2.06-.94 2.06-2.06.94z\"/><path d=\"M17.41 7.96l-1.37-1.37c-.4-.4-.92-.59-1.43-.59-.52 0-1.04.2-1.43.59L10.3 9.45l-7.72 7.72c-.78.78-.78 2.05 0 2.83L4 21.41c.39.39.9.59 1.41.59.51 0 1.02-.2 1.41-.59l7.78-7.78 2.81-2.81c.8-.78.8-2.07 0-2.86zM5.41 20L4 18.59l7.72-7.72 1.47 1.35L5.41 20z\"/>\n",
              "  </svg>\n",
              "      </button>\n",
              "      \n",
              "  <style>\n",
              "    .colab-df-container {\n",
              "      display:flex;\n",
              "      flex-wrap:wrap;\n",
              "      gap: 12px;\n",
              "    }\n",
              "\n",
              "    .colab-df-convert {\n",
              "      background-color: #E8F0FE;\n",
              "      border: none;\n",
              "      border-radius: 50%;\n",
              "      cursor: pointer;\n",
              "      display: none;\n",
              "      fill: #1967D2;\n",
              "      height: 32px;\n",
              "      padding: 0 0 0 0;\n",
              "      width: 32px;\n",
              "    }\n",
              "\n",
              "    .colab-df-convert:hover {\n",
              "      background-color: #E2EBFA;\n",
              "      box-shadow: 0px 1px 2px rgba(60, 64, 67, 0.3), 0px 1px 3px 1px rgba(60, 64, 67, 0.15);\n",
              "      fill: #174EA6;\n",
              "    }\n",
              "\n",
              "    [theme=dark] .colab-df-convert {\n",
              "      background-color: #3B4455;\n",
              "      fill: #D2E3FC;\n",
              "    }\n",
              "\n",
              "    [theme=dark] .colab-df-convert:hover {\n",
              "      background-color: #434B5C;\n",
              "      box-shadow: 0px 1px 3px 1px rgba(0, 0, 0, 0.15);\n",
              "      filter: drop-shadow(0px 1px 2px rgba(0, 0, 0, 0.3));\n",
              "      fill: #FFFFFF;\n",
              "    }\n",
              "  </style>\n",
              "\n",
              "      <script>\n",
              "        const buttonEl =\n",
              "          document.querySelector('#df-c6113c7a-9473-4be6-9f21-a47822bcd1c9 button.colab-df-convert');\n",
              "        buttonEl.style.display =\n",
              "          google.colab.kernel.accessAllowed ? 'block' : 'none';\n",
              "\n",
              "        async function convertToInteractive(key) {\n",
              "          const element = document.querySelector('#df-c6113c7a-9473-4be6-9f21-a47822bcd1c9');\n",
              "          const dataTable =\n",
              "            await google.colab.kernel.invokeFunction('convertToInteractive',\n",
              "                                                     [key], {});\n",
              "          if (!dataTable) return;\n",
              "\n",
              "          const docLinkHtml = 'Like what you see? Visit the ' +\n",
              "            '<a target=\"_blank\" href=https://colab.research.google.com/notebooks/data_table.ipynb>data table notebook</a>'\n",
              "            + ' to learn more about interactive tables.';\n",
              "          element.innerHTML = '';\n",
              "          dataTable['output_type'] = 'display_data';\n",
              "          await google.colab.output.renderOutput(dataTable, element);\n",
              "          const docLink = document.createElement('div');\n",
              "          docLink.innerHTML = docLinkHtml;\n",
              "          element.appendChild(docLink);\n",
              "        }\n",
              "      </script>\n",
              "    </div>\n",
              "  </div>\n",
              "  "
            ]
          },
          "metadata": {},
          "execution_count": 51
        }
      ]
    },
    {
      "cell_type": "code",
      "source": [
        "#상관관계 분석\n",
        "df.corr()['MEDV']"
      ],
      "metadata": {
        "id": "RpS6ZOn3B9Uf",
        "outputId": "ddbc06fe-e633-4da8-cd08-ca5ebdf17c6a",
        "colab": {
          "base_uri": "https://localhost:8080/"
        }
      },
      "id": "RpS6ZOn3B9Uf",
      "execution_count": 54,
      "outputs": [
        {
          "output_type": "execute_result",
          "data": {
            "text/plain": [
              "CRIM      -0.388305\n",
              "ZN         0.360445\n",
              "INDUS     -0.483725\n",
              "CHAS       0.175260\n",
              "NOX       -0.427321\n",
              "RM         0.695360\n",
              "AGE       -0.376955\n",
              "DIS        0.249929\n",
              "RAD       -0.381626\n",
              "TAX       -0.468536\n",
              "PTRATIO   -0.507787\n",
              "B          0.333461\n",
              "LSTAT     -0.737663\n",
              "MEDV       1.000000\n",
              "Name: MEDV, dtype: float64"
            ]
          },
          "metadata": {},
          "execution_count": 54
        }
      ]
    },
    {
      "cell_type": "code",
      "execution_count": 55,
      "id": "128a112c",
      "metadata": {
        "id": "128a112c"
      },
      "outputs": [],
      "source": [
        "# 다중회귀 자료 준비\n",
        "x = df.copy()\n",
        "y = x.pop('MEDV')"
      ]
    },
    {
      "cell_type": "code",
      "execution_count": 56,
      "id": "3353d250",
      "metadata": {
        "id": "3353d250",
        "outputId": "99fbfabb-3010-4d9f-f2c4-e04a083e95f1",
        "colab": {
          "base_uri": "https://localhost:8080/",
          "height": 206
        }
      },
      "outputs": [
        {
          "output_type": "execute_result",
          "data": {
            "text/plain": [
              "      CRIM    ZN  INDUS  CHAS    NOX     RM   AGE     DIS  RAD  TAX  PTRATIO  \\\n",
              "0  0.00632  18.0   2.31     0  0.538  6.575  65.2  4.0900    1  296     15.3   \n",
              "1  0.02731   0.0   7.07     0  0.469  6.421  78.9  4.9671    2  242     17.8   \n",
              "2  0.02729   0.0   7.07     0  0.469  7.185  61.1  4.9671    2  242     17.8   \n",
              "3  0.03237   0.0   2.18     0  0.458  6.998  45.8  6.0622    3  222     18.7   \n",
              "4  0.06905   0.0   2.18     0  0.458  7.147  54.2  6.0622    3  222     18.7   \n",
              "\n",
              "        B  LSTAT  \n",
              "0  396.90   4.98  \n",
              "1  396.90   9.14  \n",
              "2  392.83   4.03  \n",
              "3  394.63   2.94  \n",
              "4  396.90   5.33  "
            ],
            "text/html": [
              "\n",
              "  <div id=\"df-3e0e8902-de8b-4c69-86ce-a12e70909e65\">\n",
              "    <div class=\"colab-df-container\">\n",
              "      <div>\n",
              "<style scoped>\n",
              "    .dataframe tbody tr th:only-of-type {\n",
              "        vertical-align: middle;\n",
              "    }\n",
              "\n",
              "    .dataframe tbody tr th {\n",
              "        vertical-align: top;\n",
              "    }\n",
              "\n",
              "    .dataframe thead th {\n",
              "        text-align: right;\n",
              "    }\n",
              "</style>\n",
              "<table border=\"1\" class=\"dataframe\">\n",
              "  <thead>\n",
              "    <tr style=\"text-align: right;\">\n",
              "      <th></th>\n",
              "      <th>CRIM</th>\n",
              "      <th>ZN</th>\n",
              "      <th>INDUS</th>\n",
              "      <th>CHAS</th>\n",
              "      <th>NOX</th>\n",
              "      <th>RM</th>\n",
              "      <th>AGE</th>\n",
              "      <th>DIS</th>\n",
              "      <th>RAD</th>\n",
              "      <th>TAX</th>\n",
              "      <th>PTRATIO</th>\n",
              "      <th>B</th>\n",
              "      <th>LSTAT</th>\n",
              "    </tr>\n",
              "  </thead>\n",
              "  <tbody>\n",
              "    <tr>\n",
              "      <th>0</th>\n",
              "      <td>0.00632</td>\n",
              "      <td>18.0</td>\n",
              "      <td>2.31</td>\n",
              "      <td>0</td>\n",
              "      <td>0.538</td>\n",
              "      <td>6.575</td>\n",
              "      <td>65.2</td>\n",
              "      <td>4.0900</td>\n",
              "      <td>1</td>\n",
              "      <td>296</td>\n",
              "      <td>15.3</td>\n",
              "      <td>396.90</td>\n",
              "      <td>4.98</td>\n",
              "    </tr>\n",
              "    <tr>\n",
              "      <th>1</th>\n",
              "      <td>0.02731</td>\n",
              "      <td>0.0</td>\n",
              "      <td>7.07</td>\n",
              "      <td>0</td>\n",
              "      <td>0.469</td>\n",
              "      <td>6.421</td>\n",
              "      <td>78.9</td>\n",
              "      <td>4.9671</td>\n",
              "      <td>2</td>\n",
              "      <td>242</td>\n",
              "      <td>17.8</td>\n",
              "      <td>396.90</td>\n",
              "      <td>9.14</td>\n",
              "    </tr>\n",
              "    <tr>\n",
              "      <th>2</th>\n",
              "      <td>0.02729</td>\n",
              "      <td>0.0</td>\n",
              "      <td>7.07</td>\n",
              "      <td>0</td>\n",
              "      <td>0.469</td>\n",
              "      <td>7.185</td>\n",
              "      <td>61.1</td>\n",
              "      <td>4.9671</td>\n",
              "      <td>2</td>\n",
              "      <td>242</td>\n",
              "      <td>17.8</td>\n",
              "      <td>392.83</td>\n",
              "      <td>4.03</td>\n",
              "    </tr>\n",
              "    <tr>\n",
              "      <th>3</th>\n",
              "      <td>0.03237</td>\n",
              "      <td>0.0</td>\n",
              "      <td>2.18</td>\n",
              "      <td>0</td>\n",
              "      <td>0.458</td>\n",
              "      <td>6.998</td>\n",
              "      <td>45.8</td>\n",
              "      <td>6.0622</td>\n",
              "      <td>3</td>\n",
              "      <td>222</td>\n",
              "      <td>18.7</td>\n",
              "      <td>394.63</td>\n",
              "      <td>2.94</td>\n",
              "    </tr>\n",
              "    <tr>\n",
              "      <th>4</th>\n",
              "      <td>0.06905</td>\n",
              "      <td>0.0</td>\n",
              "      <td>2.18</td>\n",
              "      <td>0</td>\n",
              "      <td>0.458</td>\n",
              "      <td>7.147</td>\n",
              "      <td>54.2</td>\n",
              "      <td>6.0622</td>\n",
              "      <td>3</td>\n",
              "      <td>222</td>\n",
              "      <td>18.7</td>\n",
              "      <td>396.90</td>\n",
              "      <td>5.33</td>\n",
              "    </tr>\n",
              "  </tbody>\n",
              "</table>\n",
              "</div>\n",
              "      <button class=\"colab-df-convert\" onclick=\"convertToInteractive('df-3e0e8902-de8b-4c69-86ce-a12e70909e65')\"\n",
              "              title=\"Convert this dataframe to an interactive table.\"\n",
              "              style=\"display:none;\">\n",
              "        \n",
              "  <svg xmlns=\"http://www.w3.org/2000/svg\" height=\"24px\"viewBox=\"0 0 24 24\"\n",
              "       width=\"24px\">\n",
              "    <path d=\"M0 0h24v24H0V0z\" fill=\"none\"/>\n",
              "    <path d=\"M18.56 5.44l.94 2.06.94-2.06 2.06-.94-2.06-.94-.94-2.06-.94 2.06-2.06.94zm-11 1L8.5 8.5l.94-2.06 2.06-.94-2.06-.94L8.5 2.5l-.94 2.06-2.06.94zm10 10l.94 2.06.94-2.06 2.06-.94-2.06-.94-.94-2.06-.94 2.06-2.06.94z\"/><path d=\"M17.41 7.96l-1.37-1.37c-.4-.4-.92-.59-1.43-.59-.52 0-1.04.2-1.43.59L10.3 9.45l-7.72 7.72c-.78.78-.78 2.05 0 2.83L4 21.41c.39.39.9.59 1.41.59.51 0 1.02-.2 1.41-.59l7.78-7.78 2.81-2.81c.8-.78.8-2.07 0-2.86zM5.41 20L4 18.59l7.72-7.72 1.47 1.35L5.41 20z\"/>\n",
              "  </svg>\n",
              "      </button>\n",
              "      \n",
              "  <style>\n",
              "    .colab-df-container {\n",
              "      display:flex;\n",
              "      flex-wrap:wrap;\n",
              "      gap: 12px;\n",
              "    }\n",
              "\n",
              "    .colab-df-convert {\n",
              "      background-color: #E8F0FE;\n",
              "      border: none;\n",
              "      border-radius: 50%;\n",
              "      cursor: pointer;\n",
              "      display: none;\n",
              "      fill: #1967D2;\n",
              "      height: 32px;\n",
              "      padding: 0 0 0 0;\n",
              "      width: 32px;\n",
              "    }\n",
              "\n",
              "    .colab-df-convert:hover {\n",
              "      background-color: #E2EBFA;\n",
              "      box-shadow: 0px 1px 2px rgba(60, 64, 67, 0.3), 0px 1px 3px 1px rgba(60, 64, 67, 0.15);\n",
              "      fill: #174EA6;\n",
              "    }\n",
              "\n",
              "    [theme=dark] .colab-df-convert {\n",
              "      background-color: #3B4455;\n",
              "      fill: #D2E3FC;\n",
              "    }\n",
              "\n",
              "    [theme=dark] .colab-df-convert:hover {\n",
              "      background-color: #434B5C;\n",
              "      box-shadow: 0px 1px 3px 1px rgba(0, 0, 0, 0.15);\n",
              "      filter: drop-shadow(0px 1px 2px rgba(0, 0, 0, 0.3));\n",
              "      fill: #FFFFFF;\n",
              "    }\n",
              "  </style>\n",
              "\n",
              "      <script>\n",
              "        const buttonEl =\n",
              "          document.querySelector('#df-3e0e8902-de8b-4c69-86ce-a12e70909e65 button.colab-df-convert');\n",
              "        buttonEl.style.display =\n",
              "          google.colab.kernel.accessAllowed ? 'block' : 'none';\n",
              "\n",
              "        async function convertToInteractive(key) {\n",
              "          const element = document.querySelector('#df-3e0e8902-de8b-4c69-86ce-a12e70909e65');\n",
              "          const dataTable =\n",
              "            await google.colab.kernel.invokeFunction('convertToInteractive',\n",
              "                                                     [key], {});\n",
              "          if (!dataTable) return;\n",
              "\n",
              "          const docLinkHtml = 'Like what you see? Visit the ' +\n",
              "            '<a target=\"_blank\" href=https://colab.research.google.com/notebooks/data_table.ipynb>data table notebook</a>'\n",
              "            + ' to learn more about interactive tables.';\n",
              "          element.innerHTML = '';\n",
              "          dataTable['output_type'] = 'display_data';\n",
              "          await google.colab.output.renderOutput(dataTable, element);\n",
              "          const docLink = document.createElement('div');\n",
              "          docLink.innerHTML = docLinkHtml;\n",
              "          element.appendChild(docLink);\n",
              "        }\n",
              "      </script>\n",
              "    </div>\n",
              "  </div>\n",
              "  "
            ]
          },
          "metadata": {},
          "execution_count": 56
        }
      ],
      "source": [
        "x.head()"
      ]
    },
    {
      "cell_type": "code",
      "source": [
        "y.head()"
      ],
      "metadata": {
        "id": "-M8hWZ6oDC3g",
        "outputId": "2931d277-e050-4355-a300-3154da35e49c",
        "colab": {
          "base_uri": "https://localhost:8080/"
        }
      },
      "id": "-M8hWZ6oDC3g",
      "execution_count": 57,
      "outputs": [
        {
          "output_type": "execute_result",
          "data": {
            "text/plain": [
              "0    24.0\n",
              "1    21.6\n",
              "2    34.7\n",
              "3    33.4\n",
              "4    36.2\n",
              "Name: MEDV, dtype: float64"
            ]
          },
          "metadata": {},
          "execution_count": 57
        }
      ]
    },
    {
      "cell_type": "code",
      "source": [
        "# 모델 인스턴스화 및 학습\n",
        "from sklearn.linear_model import LinearRegression\n",
        "model = LinearRegression()\n",
        "model.fit(x,y)"
      ],
      "metadata": {
        "id": "Pat2N2nLDMFg",
        "outputId": "98f50113-1309-4c0f-b00b-8c6383f44a02",
        "colab": {
          "base_uri": "https://localhost:8080/",
          "height": 75
        }
      },
      "id": "Pat2N2nLDMFg",
      "execution_count": 59,
      "outputs": [
        {
          "output_type": "execute_result",
          "data": {
            "text/plain": [
              "LinearRegression()"
            ],
            "text/html": [
              "<style>#sk-container-id-2 {color: black;background-color: white;}#sk-container-id-2 pre{padding: 0;}#sk-container-id-2 div.sk-toggleable {background-color: white;}#sk-container-id-2 label.sk-toggleable__label {cursor: pointer;display: block;width: 100%;margin-bottom: 0;padding: 0.3em;box-sizing: border-box;text-align: center;}#sk-container-id-2 label.sk-toggleable__label-arrow:before {content: \"▸\";float: left;margin-right: 0.25em;color: #696969;}#sk-container-id-2 label.sk-toggleable__label-arrow:hover:before {color: black;}#sk-container-id-2 div.sk-estimator:hover label.sk-toggleable__label-arrow:before {color: black;}#sk-container-id-2 div.sk-toggleable__content {max-height: 0;max-width: 0;overflow: hidden;text-align: left;background-color: #f0f8ff;}#sk-container-id-2 div.sk-toggleable__content pre {margin: 0.2em;color: black;border-radius: 0.25em;background-color: #f0f8ff;}#sk-container-id-2 input.sk-toggleable__control:checked~div.sk-toggleable__content {max-height: 200px;max-width: 100%;overflow: auto;}#sk-container-id-2 input.sk-toggleable__control:checked~label.sk-toggleable__label-arrow:before {content: \"▾\";}#sk-container-id-2 div.sk-estimator input.sk-toggleable__control:checked~label.sk-toggleable__label {background-color: #d4ebff;}#sk-container-id-2 div.sk-label input.sk-toggleable__control:checked~label.sk-toggleable__label {background-color: #d4ebff;}#sk-container-id-2 input.sk-hidden--visually {border: 0;clip: rect(1px 1px 1px 1px);clip: rect(1px, 1px, 1px, 1px);height: 1px;margin: -1px;overflow: hidden;padding: 0;position: absolute;width: 1px;}#sk-container-id-2 div.sk-estimator {font-family: monospace;background-color: #f0f8ff;border: 1px dotted black;border-radius: 0.25em;box-sizing: border-box;margin-bottom: 0.5em;}#sk-container-id-2 div.sk-estimator:hover {background-color: #d4ebff;}#sk-container-id-2 div.sk-parallel-item::after {content: \"\";width: 100%;border-bottom: 1px solid gray;flex-grow: 1;}#sk-container-id-2 div.sk-label:hover label.sk-toggleable__label {background-color: #d4ebff;}#sk-container-id-2 div.sk-serial::before {content: \"\";position: absolute;border-left: 1px solid gray;box-sizing: border-box;top: 0;bottom: 0;left: 50%;z-index: 0;}#sk-container-id-2 div.sk-serial {display: flex;flex-direction: column;align-items: center;background-color: white;padding-right: 0.2em;padding-left: 0.2em;position: relative;}#sk-container-id-2 div.sk-item {position: relative;z-index: 1;}#sk-container-id-2 div.sk-parallel {display: flex;align-items: stretch;justify-content: center;background-color: white;position: relative;}#sk-container-id-2 div.sk-item::before, #sk-container-id-2 div.sk-parallel-item::before {content: \"\";position: absolute;border-left: 1px solid gray;box-sizing: border-box;top: 0;bottom: 0;left: 50%;z-index: -1;}#sk-container-id-2 div.sk-parallel-item {display: flex;flex-direction: column;z-index: 1;position: relative;background-color: white;}#sk-container-id-2 div.sk-parallel-item:first-child::after {align-self: flex-end;width: 50%;}#sk-container-id-2 div.sk-parallel-item:last-child::after {align-self: flex-start;width: 50%;}#sk-container-id-2 div.sk-parallel-item:only-child::after {width: 0;}#sk-container-id-2 div.sk-dashed-wrapped {border: 1px dashed gray;margin: 0 0.4em 0.5em 0.4em;box-sizing: border-box;padding-bottom: 0.4em;background-color: white;}#sk-container-id-2 div.sk-label label {font-family: monospace;font-weight: bold;display: inline-block;line-height: 1.2em;}#sk-container-id-2 div.sk-label-container {text-align: center;}#sk-container-id-2 div.sk-container {/* jupyter's `normalize.less` sets `[hidden] { display: none; }` but bootstrap.min.css set `[hidden] { display: none !important; }` so we also need the `!important` here to be able to override the default hidden behavior on the sphinx rendered scikit-learn.org. See: https://github.com/scikit-learn/scikit-learn/issues/21755 */display: inline-block !important;position: relative;}#sk-container-id-2 div.sk-text-repr-fallback {display: none;}</style><div id=\"sk-container-id-2\" class=\"sk-top-container\"><div class=\"sk-text-repr-fallback\"><pre>LinearRegression()</pre><b>In a Jupyter environment, please rerun this cell to show the HTML representation or trust the notebook. <br />On GitHub, the HTML representation is unable to render, please try loading this page with nbviewer.org.</b></div><div class=\"sk-container\" hidden><div class=\"sk-item\"><div class=\"sk-estimator sk-toggleable\"><input class=\"sk-toggleable__control sk-hidden--visually\" id=\"sk-estimator-id-2\" type=\"checkbox\" checked><label for=\"sk-estimator-id-2\" class=\"sk-toggleable__label sk-toggleable__label-arrow\">LinearRegression</label><div class=\"sk-toggleable__content\"><pre>LinearRegression()</pre></div></div></div></div></div>"
            ]
          },
          "metadata": {},
          "execution_count": 59
        }
      ]
    },
    {
      "cell_type": "code",
      "execution_count": 60,
      "id": "47928ce0",
      "metadata": {
        "id": "47928ce0",
        "outputId": "5e4cf093-2408-4dc3-af80-41280d751a58",
        "colab": {
          "base_uri": "https://localhost:8080/"
        }
      },
      "outputs": [
        {
          "output_type": "stream",
          "name": "stdout",
          "text": [
            "계수: [-1.08011358e-01  4.64204584e-02  2.05586264e-02  2.68673382e+00\n",
            " -1.77666112e+01  3.80986521e+00  6.92224640e-04 -1.47556685e+00\n",
            "  3.06049479e-01 -1.23345939e-02 -9.52747232e-01  9.31168327e-03\n",
            " -5.24758378e-01]\n",
            "y절편: 36.459488385089955\n"
          ]
        }
      ],
      "source": [
        "print('계수:', model.coef_)\n",
        "print('y절편:', model.intercept_)"
      ]
    },
    {
      "cell_type": "code",
      "execution_count": 61,
      "id": "6615d593",
      "metadata": {
        "id": "6615d593"
      },
      "outputs": [],
      "source": [
        "y_pred = model.predict(x)"
      ]
    },
    {
      "cell_type": "code",
      "execution_count": 69,
      "id": "b00a87ad",
      "metadata": {
        "id": "b00a87ad",
        "outputId": "4d3d901e-85cb-4328-dc37-7d4c089b5f24",
        "colab": {
          "base_uri": "https://localhost:8080/"
        }
      },
      "outputs": [
        {
          "output_type": "stream",
          "name": "stdout",
          "text": [
            "score= 0.7406426641094095\n",
            "MSE= 21.894831181729202\n"
          ]
        }
      ],
      "source": [
        "from sklearn.metrics import mean_squared_error\n",
        "print('score=', model.score(x , y))\n",
        "print('MSE=', mean_squared_error(df['MEDV'], y_pred ))"
      ]
    },
    {
      "cell_type": "code",
      "execution_count": 72,
      "id": "1899f1fd",
      "metadata": {
        "id": "1899f1fd",
        "outputId": "5795bf8f-93be-46b3-ddc9-1e730accfb5d",
        "colab": {
          "base_uri": "https://localhost:8080/",
          "height": 174
        }
      },
      "outputs": [
        {
          "output_type": "error",
          "ename": "NameError",
          "evalue": "ignored",
          "traceback": [
            "\u001b[0;31m---------------------------------------------------------------------------\u001b[0m",
            "\u001b[0;31mNameError\u001b[0m                                 Traceback (most recent call last)",
            "\u001b[0;32m<ipython-input-72-944a727dcdf3>\u001b[0m in \u001b[0;36m<cell line: 1>\u001b[0;34m()\u001b[0m\n\u001b[0;32m----> 1\u001b[0;31m \u001b[0mboston_house_regression\u001b[0m\u001b[0;34m(\u001b[0m\u001b[0mdf\u001b[0m\u001b[0;34m,\u001b[0m \u001b[0;34m[\u001b[0m\u001b[0;34m'NOX'\u001b[0m\u001b[0;34m]\u001b[0m\u001b[0;34m,\u001b[0m \u001b[0;34m'MEDV'\u001b[0m\u001b[0;34m)\u001b[0m\u001b[0;34m\u001b[0m\u001b[0;34m\u001b[0m\u001b[0m\n\u001b[0m",
            "\u001b[0;31mNameError\u001b[0m: name 'boston_house_regression' is not defined"
          ]
        }
      ],
      "source": [
        "boston_house_regression(df, ['NOX'], 'MEDV')"
      ]
    },
    {
      "cell_type": "markdown",
      "id": "a46d9c7e",
      "metadata": {
        "id": "a46d9c7e"
      },
      "source": [
        "# Logistic Regression\n",
        "방정식으로 푸는거\n",
        "- 적용분야:\n",
        "  - 종속변수가 예/아니오, 1/0, 합격/불합격, 구매/비구매 같은 범주형(categorial)으로 표현되는 경우\n",
        "- 분류모델임\n",
        "- 회귀식 형태: 로지스틱(logistic, =시그모이드, sigmoid) 함수\n",
        "\n",
        "2) 로지스틱 회귀 분석\n",
        "선형회귀 -> Sigmoid\n",
        "\n",
        "경사 하강에 의한 로지스틱 회귀 분석 방법\n",
        "연습시간 결과\n",
        "\n",
        "10\n",
        "7\n",
        "3\n",
        "\n",
        "cross entropy\n",
        " - 출력 결과 y는 0 혹은 1이므로 MSE 와 다른 손실 함수 필요\n",
        " - sigmoid는 확률\n",
        "\n",
        "Sigmoid 함수\n",
        "```\n",
        " def sigmoid(z):\n",
        "    e= 1E-7\n",
        "    return np.exp(z) / 1+np.exp(z)+e)\n",
        "```\n",
        "\n",
        "\n"
      ]
    },
    {
      "cell_type": "markdown",
      "id": "dfcf51b6",
      "metadata": {
        "id": "dfcf51b6"
      },
      "source": [
        "## iris 종 분류 사례"
      ]
    },
    {
      "cell_type": "code",
      "execution_count": null,
      "id": "2db46821",
      "metadata": {
        "id": "2db46821"
      },
      "outputs": [],
      "source": [
        "from sklearn.datasets import load_iris\n",
        "iris = load_iris(as_frame= True)\n",
        "df = iris.frame\n",
        "df.info()"
      ]
    },
    {
      "cell_type": "code",
      "execution_count": null,
      "id": "a3e9c2bc",
      "metadata": {
        "id": "a3e9c2bc"
      },
      "outputs": [],
      "source": [
        "sdf = pd.DataFrame()\n",
        "sdf['petal_length'] = df['petal length (cm)']\n",
        "sdf['species'] = df['target']\n",
        "sdf = "
      ]
    },
    {
      "cell_type": "code",
      "execution_count": null,
      "id": "f7de55f8",
      "metadata": {
        "id": "f7de55f8"
      },
      "outputs": [],
      "source": []
    },
    {
      "cell_type": "code",
      "execution_count": null,
      "id": "def950fa",
      "metadata": {
        "id": "def950fa"
      },
      "outputs": [],
      "source": []
    },
    {
      "cell_type": "code",
      "execution_count": null,
      "id": "fd5594d5",
      "metadata": {
        "id": "fd5594d5"
      },
      "outputs": [],
      "source": [
        "sns.pairplot(data=sdf, vars=['petal_length', 'species'], hue='species')\n",
        "plt.show()"
      ]
    },
    {
      "cell_type": "code",
      "execution_count": null,
      "id": "f866412c",
      "metadata": {
        "id": "f866412c"
      },
      "outputs": [],
      "source": [
        "sns. (x='petal_length', y='species', data=sdf, logistic= )\n",
        "plt.show()"
      ]
    },
    {
      "cell_type": "code",
      "execution_count": null,
      "id": "08d04387",
      "metadata": {
        "id": "08d04387"
      },
      "outputs": [],
      "source": [
        "# 학습 데이터, 테스트 데이터 나누기\n",
        "from sklearn.model_selection import train_test_split\n",
        "x_train, x_test, y_train, y_test = train_test_split( , \n",
        "                                                     , \n",
        "                                                    test_size=0.33)\n",
        "\n",
        "x_train.shape, y_train.shape"
      ]
    },
    {
      "cell_type": "code",
      "execution_count": null,
      "id": "27aea2e4",
      "metadata": {
        "id": "27aea2e4"
      },
      "outputs": [],
      "source": [
        "from sklearn.linear_model import LogisticRegression\n",
        "\n",
        "\n",
        "print('계수:', model.coef_)\n",
        "print('y절편:', model.intercept_)"
      ]
    },
    {
      "cell_type": "code",
      "execution_count": null,
      "id": "e611cf31",
      "metadata": {
        "id": "e611cf31"
      },
      "outputs": [],
      "source": [
        "def sigmoid(z):\n",
        "    "
      ]
    },
    {
      "cell_type": "code",
      "execution_count": null,
      "id": "6e164784",
      "metadata": {
        "id": "6e164784"
      },
      "outputs": [],
      "source": [
        "xx = np.linspace(1,sl_df['petal_length'].max(),1000)\n",
        "z = \n",
        "yy = "
      ]
    },
    {
      "cell_type": "code",
      "execution_count": null,
      "id": "8de81375",
      "metadata": {
        "id": "8de81375"
      },
      "outputs": [],
      "source": [
        "plt.scatter(sl_df['petal_length'], sl_df['species'])\n",
        "plt.plot(xx, yy, 'r')\n",
        "plt.xlim(sdf['petal_length'].min()-0.1, sdf['petal_length'].max()+0.1)\n",
        "plt.show()"
      ]
    },
    {
      "cell_type": "code",
      "execution_count": null,
      "id": "6103c012",
      "metadata": {
        "id": "6103c012"
      },
      "outputs": [],
      "source": [
        "from sklearn.metrics import classification_report, confusion_matrix\n",
        "print(confusion_matrix(  ,    ))"
      ]
    },
    {
      "cell_type": "code",
      "execution_count": null,
      "id": "27e214bc",
      "metadata": {
        "id": "27e214bc"
      },
      "outputs": [],
      "source": [
        "def dispConfusionMatrix(y_true, y_pred):\n",
        "    sns.heatmap(  , annot=True)\n",
        "    plt.xlabel('Predicted')\n",
        "    plt.ylabel('Ground truth')\n",
        "    plt.show()"
      ]
    },
    {
      "cell_type": "code",
      "execution_count": null,
      "id": "d5ac6b30",
      "metadata": {
        "id": "d5ac6b30"
      },
      "outputs": [],
      "source": [
        "dispConfusionMatrix( ,  )"
      ]
    },
    {
      "cell_type": "code",
      "execution_count": null,
      "id": "588842e0",
      "metadata": {
        "id": "588842e0"
      },
      "outputs": [],
      "source": [
        "print(classification_report(  ))"
      ]
    },
    {
      "cell_type": "code",
      "execution_count": null,
      "id": "1c37c81f",
      "metadata": {
        "id": "1c37c81f"
      },
      "outputs": [],
      "source": [
        "print(confusion_matrix(y_test, ))"
      ]
    },
    {
      "cell_type": "code",
      "execution_count": null,
      "id": "4f81b5cb",
      "metadata": {
        "id": "4f81b5cb"
      },
      "outputs": [],
      "source": [
        "dispConfusionMatrix(y_test, )"
      ]
    },
    {
      "cell_type": "code",
      "execution_count": null,
      "id": "584be7c2",
      "metadata": {
        "id": "584be7c2"
      },
      "outputs": [],
      "source": [
        "print(classification_report(y_test, ))"
      ]
    }
  ],
  "metadata": {
    "kernelspec": {
      "display_name": "Python 3 (ipykernel)",
      "language": "python",
      "name": "python3"
    },
    "language_info": {
      "codemirror_mode": {
        "name": "ipython",
        "version": 3
      },
      "file_extension": ".py",
      "mimetype": "text/x-python",
      "name": "python",
      "nbconvert_exporter": "python",
      "pygments_lexer": "ipython3",
      "version": "3.8.10"
    },
    "colab": {
      "provenance": []
    }
  },
  "nbformat": 4,
  "nbformat_minor": 5
}