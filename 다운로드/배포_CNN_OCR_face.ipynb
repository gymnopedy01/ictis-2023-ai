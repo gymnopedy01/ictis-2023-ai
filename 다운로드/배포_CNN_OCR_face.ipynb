{
 "cells": [
  {
   "cell_type": "code",
   "execution_count": null,
   "metadata": {
    "colab": {
     "base_uri": "https://localhost:8080/",
     "height": 35
    },
    "id": "9kzjDMKvrTBE",
    "outputId": "fca8f7c2-24f6-4255-8c65-5d832c81d9db"
   },
   "outputs": [],
   "source": [
    "import tensorflow as tf\n",
    "tf.__version__"
   ]
  },
  {
   "cell_type": "markdown",
   "metadata": {
    "id": "eOuftFD2rTBF"
   },
   "source": [
    "# 1. CNN을 활용한 MNIST 손글씨 인식"
   ]
  },
  {
   "cell_type": "code",
   "execution_count": null,
   "metadata": {
    "id": "SFS68MJdrTBG"
   },
   "outputs": [],
   "source": [
    "import tensorflow as tf\n",
    "from tensorflow.keras.datasets import mnist\n",
    "from tensorflow.keras.models import Sequential\n",
    "from tensorflow.keras.layers import Dense, Dropout, Flatten, Conv2D, MaxPooling2D\n",
    "from tensorflow.keras.callbacks import ModelCheckpoint, EarlyStopping\n",
    "\n",
    "import numpy as np\n",
    "import matplotlib.pyplot as plt"
   ]
  },
  {
   "cell_type": "code",
   "execution_count": null,
   "metadata": {
    "colab": {
     "base_uri": "https://localhost:8080/"
    },
    "id": "Myn3NgsvrTBG",
    "outputId": "4efd86be-5074-4a86-99e8-f8ef4a9da760"
   },
   "outputs": [],
   "source": [
    "# data 불러오기\n",
    "(X_train, Y_train), (X_test, Y_test) = mnist.load_data()\n",
    "\n",
    "print('학습셋 이미지: %d 개' % (X_train.shape[0]))\n",
    "print('테스트셋 이미지: %d 개' % (X_test.shape[0]))"
   ]
  },
  {
   "cell_type": "code",
   "execution_count": null,
   "metadata": {
    "colab": {
     "base_uri": "https://localhost:8080/",
     "height": 1000
    },
    "id": "hyYAJtpsrTBH",
    "outputId": "7fff38c0-fc10-45b0-e1ee-2c5037843b07"
   },
   "outputs": [],
   "source": [
    "# 숫자 출력\n",
    "import random\n",
    "n_samples=100\n",
    "indices = random.sample(range(X_train.shape[0]), n_samples)\n",
    "\n",
    "plt.figure(figsize=(15, 20))\n",
    "for i, idx in enumerate(indices):\n",
    "    plt.subplot(10,10, i+1)\n",
    "    plt.imshow(X_train[idx], cmap='gray', vmin=0, vmax=255)\n",
    "    plt.title(Y_train[idx])\n",
    "    plt.axis('off')\n",
    "plt.show()"
   ]
  },
  {
   "cell_type": "markdown",
   "metadata": {
    "id": "3-4zhhIgrTBH"
   },
   "source": [
    "## 데이터 전처리"
   ]
  },
  {
   "cell_type": "code",
   "execution_count": null,
   "metadata": {
    "colab": {
     "base_uri": "https://localhost:8080/"
    },
    "id": "eaXqoidkrTBH",
    "outputId": "847dafec-b07e-4453-d975-6e940b4266a7"
   },
   "outputs": [],
   "source": [
    "# 2차원 영상, 1 channel\n",
    "X_train = X_train.reshape(X_train.shape[0],28,28,1)  # X_train.shape[0] : number of samples\n",
    "\n",
    "# 0~255 값을 0~1 사이 값으로 Min_Max 정규화\n",
    "X_train = X_train / 255.\n",
    "\n",
    "# 테스트셋 변환\n",
    "X_test = X_test.reshape(X_test.shape[0],  )/255.\n",
    "\n",
    "Y_train = Y_train.reshape(-1,1)\n",
    "Y_test = Y_test.reshape(-1,1)\n",
    "\n",
    "print(X_train[0].shape)\n",
    "print(X_train.shape, X_test.shape)\n",
    "print(Y_train.shape, Y_test.shape)"
   ]
  },
  {
   "cell_type": "code",
   "execution_count": null,
   "metadata": {
    "colab": {
     "base_uri": "https://localhost:8080/"
    },
    "id": "IiYLrgjJrTBH",
    "outputId": "a2099f02-b1a5-4e16-e157-9e1dc43266f0"
   },
   "outputs": [],
   "source": [
    "np.max(X_train)"
   ]
  },
  {
   "cell_type": "code",
   "execution_count": null,
   "metadata": {
    "colab": {
     "base_uri": "https://localhost:8080/"
    },
    "id": "XAED9nPFrTBH",
    "outputId": "4cbf4541-2180-4700-f565-e5e2318cc978"
   },
   "outputs": [],
   "source": [
    "from google.colab import drive\n",
    "drive.mount('/content/drive')\n",
    "MODEL_DIR = '/content/drive/MyDrive/ICTIS_2023/data/'"
   ]
  },
  {
   "cell_type": "code",
   "execution_count": null,
   "metadata": {
    "id": "PZuhkdbxrTBH"
   },
   "outputs": [],
   "source": [
    "model = Sequential()\n",
    "\n",
    "\n",
    "model.compile(loss='sparse_categorical_crossentropy', \n",
    "              optimizer='adam',\n",
    "             metrics=['accuracy'])\n"
   ]
  },
  {
   "cell_type": "code",
   "execution_count": null,
   "metadata": {
    "colab": {
     "base_uri": "https://localhost:8080/"
    },
    "id": "lAuUwQA0rTBI",
    "outputId": "6e85d1dd-5fcd-4c28-945b-67496609d3e5"
   },
   "outputs": [],
   "source": [
    "# 모델 저장 조건 설정\n",
    "modelfile = MODEL_DIR+ 'MnistCNN_best.h5'  \n",
    "checkpointer = ModelCheckpoint(filepath=modelfile, \n",
    "                               monitor='val_loss', verbose=1, \n",
    "                               save_best_only=True)\n",
    "\n",
    "# 학습의 자동 중단 설정\n",
    "early_stopping_callback = EarlyStopping(monitor='val_loss',\n",
    "                                        patience=10)\n",
    "\n",
    "fit_history = model.fit(X_train, Y_train, \n",
    "                          validation_data=(X_test, Y_test),\n",
    "                          epochs=50,\n",
    "                          batch_size=200,\n",
    "                          verbose=0,\n",
    "                          callbacks=[early_stopping_callback, checkpointer])\n",
    "\n",
    "print(\"Train Accuracy:\", model.evaluate(X_train, Y_train)[1])\n",
    "print(\"Test Accuracy:\",  model.evaluate(X_test, Y_test)[1])"
   ]
  },
  {
   "cell_type": "code",
   "execution_count": null,
   "metadata": {
    "colab": {
     "base_uri": "https://localhost:8080/",
     "height": 820
    },
    "id": "mVJ1c4bLrTBI",
    "outputId": "1ba701a2-e161-4886-8108-150f7ebc558b",
    "scrolled": true
   },
   "outputs": [],
   "source": [
    "#학습 이력 확인하기\n",
    "vloss = fit_history.history['val_loss'] # 테스트셋 loss\n",
    "loss = fit_history.history['loss'] # 학습셋  \n",
    "\n",
    "plt.figure(figsize=(12,5))\n",
    "epoch = np.arange(len(loss))\n",
    "plt.plot(epoch, vloss, c='r', marker='.', label='validation_loss')\n",
    "plt.plot(epoch, loss, c='b',  marker='.',label='loss')\n",
    "plt.legend(loc='best')\n",
    "\n",
    "vacc = fit_history.history['val_accuracy'] # 테스트셋 \n",
    "acc = fit_history.history['accuracy'] # 학습셋 정확도\n",
    "\n",
    "plt.figure(figsize=(12,5))\n",
    "epoch = np.arange(len(acc))\n",
    "plt.plot(epoch, vacc, 'r', marker='.', label='validation_acc')\n",
    "plt.plot(epoch, acc, 'b',  marker='.', label='accuracy')\n",
    "plt.legend(loc='best')\n",
    "plt.show()"
   ]
  },
  {
   "cell_type": "markdown",
   "metadata": {
    "id": "eWFwzEtZdJv7"
   },
   "source": [
    "## ◆ CNN 모델 분석"
   ]
  },
  {
   "cell_type": "code",
   "execution_count": null,
   "metadata": {
    "colab": {
     "base_uri": "https://localhost:8080/"
    },
    "id": "_sk1XwAgdJv7",
    "outputId": "e7929e73-674b-4c46-d268-04d9bf937aee"
   },
   "outputs": [],
   "source": [
    "from tensorflow import keras\n",
    "from tensorflow.keras.datasets import mnist\n",
    "\n",
    "(x_train, y_train), (x_test, y_test) = mnist.load_data()\n",
    "\n",
    "x = x_test.reshape(-1,  )/255.\n",
    "print(x.shape, x.min(), x.max())\n",
    "\n",
    "from tensorflow.keras.models import load_model\n",
    "modelfile = MODEL_DIR + 'MnistCNN_best.h5'\n",
    "model = load_model(modelfile)"
   ]
  },
  {
   "cell_type": "code",
   "execution_count": null,
   "metadata": {
    "colab": {
     "base_uri": "https://localhost:8080/"
    },
    "id": "Jd-HUmttdJv7",
    "outputId": "50d8c044-6b31-4601-ba3f-844627a328d8"
   },
   "outputs": [],
   "source": [
    "model.summary()"
   ]
  },
  {
   "cell_type": "code",
   "execution_count": null,
   "metadata": {
    "colab": {
     "base_uri": "https://localhost:8080/"
    },
    "id": "bo0mNc4VdJv7",
    "outputId": "7775431c-54ff-4c22-e5fb-9d5a8bfa44ee"
   },
   "outputs": [],
   "source": [
    "model.layers"
   ]
  },
  {
   "cell_type": "code",
   "execution_count": null,
   "metadata": {
    "id": "0QD0c5oxdJv7"
   },
   "outputs": [],
   "source": [
    "conv1 = keras.Model(inputs= model.input, outputs= model.layers[0].output)\n",
    "conv2 = keras.Model(inputs= model.input, outputs= model.layers[2].output)\n",
    "pool1 = keras.Model(inputs= model.input, outputs= model.layers[1].output)\n",
    "pool2 = keras.Model(inputs= model.input, outputs= model.layers[3].output)\n"
   ]
  },
  {
   "cell_type": "markdown",
   "metadata": {
    "id": "zq8LXWpBdJv7"
   },
   "source": [
    "## - Kernel 확인"
   ]
  },
  {
   "cell_type": "code",
   "execution_count": null,
   "metadata": {
    "colab": {
     "base_uri": "https://localhost:8080/"
    },
    "id": "458kAgphdJv7",
    "outputId": "c35e6ede-8361-4d85-c762-2b445124bb61"
   },
   "outputs": [],
   "source": [
    "conv = model.layers\n",
    "\n",
    "print(conv.weights[0].shape, conv.weights[1].shape)"
   ]
  },
  {
   "cell_type": "code",
   "execution_count": null,
   "metadata": {
    "colab": {
     "base_uri": "https://localhost:8080/"
    },
    "id": "xC8gxHvodJv7",
    "outputId": "e4873ff1-15a4-4212-b724-dd3c7779345b"
   },
   "outputs": [],
   "source": [
    "conv.weights"
   ]
  },
  {
   "cell_type": "code",
   "execution_count": null,
   "metadata": {
    "id": "K1WNgkoEdJv7"
   },
   "outputs": [],
   "source": [
    "conv_weights = conv.weights[0].numpy()"
   ]
  },
  {
   "cell_type": "code",
   "execution_count": null,
   "metadata": {
    "colab": {
     "base_uri": "https://localhost:8080/",
     "height": 481
    },
    "id": "apOXkfafdJv8",
    "outputId": "d88ee5fa-e279-498b-95ed-c06e563012fa"
   },
   "outputs": [],
   "source": [
    "import matplotlib.pyplot as plt\n",
    "\n",
    "fig, axs = plt.subplots(4, 8, figsize=(10,6))\n",
    "\n",
    "for i in range(4):\n",
    "    for j in range(8):\n",
    "        axs[i, j].imshow(conv_weights[:,:,  , i*8 + j], \n",
    "                          cmap='gray')\n",
    "        axs[i, j].axis('off')\n",
    "\n",
    "plt.show()"
   ]
  },
  {
   "cell_type": "markdown",
   "metadata": {
    "id": "brdR-9wMdJv8"
   },
   "source": [
    "## - Feature map 확인"
   ]
  },
  {
   "cell_type": "code",
   "execution_count": null,
   "metadata": {
    "colab": {
     "base_uri": "https://localhost:8080/"
    },
    "id": "v6kKh0KQdJv8",
    "outputId": "7c31119a-51b7-43da-c6bf-1798b4aba285"
   },
   "outputs": [],
   "source": [
    "samples = [3, 2, 1, 18, 4, 8, 11, 0, 61, 7]\n",
    "inputs = x[samples]\n",
    "print(inputs.shape)\n",
    "y_true = y_test[samples]\n",
    "print(y_true)"
   ]
  },
  {
   "cell_type": "code",
   "execution_count": null,
   "metadata": {
    "colab": {
     "base_uri": "https://localhost:8080/"
    },
    "id": "-lIIaC_HdJv8",
    "outputId": "3e2b55e6-3240-4ab9-bc73-5629a8346ce5"
   },
   "outputs": [],
   "source": [
    "feature_maps_1 = conv1.predict(inputs)\n",
    "type(feature_maps_1), feature_maps_1.shape"
   ]
  },
  {
   "cell_type": "code",
   "execution_count": null,
   "metadata": {
    "colab": {
     "base_uri": "https://localhost:8080/"
    },
    "id": "GMHqhAkPdJv8",
    "outputId": "80364676-3c27-4acc-f9b2-f191cf904dcc"
   },
   "outputs": [],
   "source": [
    "pool_maps_1 = pool1.predict(inputs)\n",
    "type(pool_maps_1), pool_maps_1.shape"
   ]
  },
  {
   "cell_type": "code",
   "execution_count": null,
   "metadata": {
    "colab": {
     "base_uri": "https://localhost:8080/"
    },
    "id": "jTMN24SzdJv8",
    "outputId": "682641d5-36ce-4bb6-dc73-eb8ce4b8a1a2"
   },
   "outputs": [],
   "source": [
    "feature_maps_2 = conv2.predict(inputs)\n",
    "type(feature_maps_2), feature_maps_2.shape"
   ]
  },
  {
   "cell_type": "code",
   "execution_count": null,
   "metadata": {
    "colab": {
     "base_uri": "https://localhost:8080/"
    },
    "id": "2ZGGcCFmdJv8",
    "outputId": "6282932e-62c8-496f-c8a3-5083818f8f17"
   },
   "outputs": [],
   "source": [
    "pool_maps_2 = pool2.predict(inputs)\n",
    "type(pool_maps_2), pool_maps_2.shape"
   ]
  },
  {
   "cell_type": "code",
   "execution_count": null,
   "metadata": {
    "id": "Uvua0YIQdJv8"
   },
   "outputs": [],
   "source": [
    "def feature_map_1(k):\n",
    "    fig, axs = plt.subplots(4, 8, figsize=(10,5))\n",
    "    for j  in range(4):\n",
    "        for i in range(8):\n",
    "            axs[j, i].imshow(feature_maps_1[k,:,:,i+j*8], cmap='gray')\n",
    "            axs[j, i].axis('off')\n",
    "            axs[j, i].grid(False)\n",
    "\n",
    "    plt.show()"
   ]
  },
  {
   "cell_type": "code",
   "execution_count": null,
   "metadata": {
    "id": "q0sN8JlEdJv8"
   },
   "outputs": [],
   "source": [
    "def pooling_layer_1(k):\n",
    "    fig, axs = plt.subplots(4, 8, figsize=(5,3))\n",
    "    for j  in range(4):\n",
    "        for i in range(8):\n",
    "            axs[j, i].imshow(pool_maps_1[k,:,:,i+j*8], cmap='gray')\n",
    "            axs[j, i].axis('off')\n",
    "            axs[j, i].grid(False)\n",
    "\n",
    "    plt.show() "
   ]
  },
  {
   "cell_type": "code",
   "execution_count": null,
   "metadata": {
    "id": "BGLsSUtFdJv8"
   },
   "outputs": [],
   "source": [
    "def feature_map_2(k):\n",
    "    fig, axs = plt.subplots(8, 8, figsize=(5,5))\n",
    "    for j  in range(8):\n",
    "        for i in range(8):\n",
    "            axs[j, i].imshow(feature_maps_2[k,:,:,i+j*8], cmap='gray')\n",
    "            axs[j, i].axis('off')\n",
    "            axs[j, i].grid(False)\n",
    "\n",
    "    plt.show()"
   ]
  },
  {
   "cell_type": "code",
   "execution_count": null,
   "metadata": {
    "id": "SY6IisEpdJv8"
   },
   "outputs": [],
   "source": [
    "def pooling_layer_2(k):\n",
    "    fig, axs = plt.subplots(8, 8, figsize=(3,3))\n",
    "    for j  in range(8):\n",
    "        for i in range(8):\n",
    "            axs[j, i].imshow(pool_maps_2[k,:,:,i+j*8], cmap='gray')\n",
    "            axs[j, i].axis('off')\n",
    "            axs[j, i].grid(False)\n",
    "\n",
    "    plt.show()"
   ]
  },
  {
   "cell_type": "code",
   "execution_count": null,
   "metadata": {
    "id": "ns5cD46idJv9"
   },
   "outputs": [],
   "source": [
    "def disp_featuremaps(k):  # 0 ~ 9\n",
    "    feature_map_1(k)\n",
    "    pooling_layer_1(k)\n",
    "    feature_map_2(k)\n",
    "    pooling_layer_2(k)"
   ]
  },
  {
   "cell_type": "code",
   "execution_count": null,
   "metadata": {
    "colab": {
     "base_uri": "https://localhost:8080/",
     "height": 1000
    },
    "id": "nOrSdgtDdJv9",
    "outputId": "2d701a84-4aae-4ba7-e3ca-2d1bf82d56da"
   },
   "outputs": [],
   "source": [
    "disp_featuremaps(k=0)"
   ]
  },
  {
   "cell_type": "code",
   "execution_count": null,
   "metadata": {
    "id": "YZ_tssNHdJv9"
   },
   "outputs": [],
   "source": []
  },
  {
   "cell_type": "markdown",
   "metadata": {
    "id": "ko6CgeR0rTBI"
   },
   "source": [
    "# 2. 이미지 OCR- 연속 문자 인식 프로젝트"
   ]
  },
  {
   "cell_type": "markdown",
   "metadata": {
    "id": "aogtX3VsrTBI"
   },
   "source": [
    "- imutils 설치 후 kernel 재부팅하지 않고 아래 코드 바로실행 가능"
   ]
  },
  {
   "cell_type": "code",
   "execution_count": null,
   "metadata": {
    "id": "6JyzsCM5rTBI"
   },
   "outputs": [],
   "source": [
    "import cv2\n",
    "\n",
    "IMG_DIR=\"/content/drive/MyDrive/ICTIS_2023/img/ocr/\""
   ]
  },
  {
   "cell_type": "markdown",
   "metadata": {
    "id": "VMze86OurTBJ"
   },
   "source": [
    "## (1) 이미지에서 글자가 있는 영역 추출"
   ]
  },
  {
   "cell_type": "code",
   "execution_count": null,
   "metadata": {
    "colab": {
     "base_uri": "https://localhost:8080/"
    },
    "id": "I7Ua2KVIrTBJ",
    "outputId": "8a7b7fa1-c2a9-479d-c893-056d1bbc6643"
   },
   "outputs": [],
   "source": [
    "# 이미지 읽어 들이기 \n",
    "im = cv2.imread(IMG_DIR+'numbers.png')\n",
    "\n",
    "# 그레이스케일로 변환하고 블러링 후 이진화\n",
    "gray = cv2.cvtColor(im, cv2.COLOR_BGR2GRAY)\n",
    "blur = cv2.GaussianBlur(gray, (5, 5), 0)\n",
    "thresh = cv2.adaptiveThreshold(blur, 255, 1, 1, 11, 2)\n",
    "\n",
    "# 윤곽 추출 \n",
    "contours, _ = cv2.findContours(thresh, \n",
    "                            cv2.RETR_ , \n",
    "                            cv2.CHAIN_APPROX_SIMPLE)\n",
    "\n",
    "# 추출한 윤곽을 bounding box 처리\n",
    "for cnt in contours:\n",
    "    x, y, w, h = cv2.boundingRect(cnt) \n",
    "    if h < 20: continue # 너무 작으면 건너뛰기\n",
    "    red = (0, 0, 255)\n",
    "    cv2.rectangle(im, (x, y), (x+w, y+h), red, 2)\n",
    "    \n",
    "cv2.imwrite(IMG_DIR+'numbers-cnt.png', im)"
   ]
  },
  {
   "cell_type": "markdown",
   "metadata": {
    "id": "E19S9WJyrTBJ"
   },
   "source": [
    "- https://docs.opencv.org/3.0-beta/modules/imgproc/doc/structural_analysis_and_shape_descriptors.html?highlight=find%20contours#cv2.findContours"
   ]
  },
  {
   "cell_type": "code",
   "execution_count": null,
   "metadata": {
    "colab": {
     "base_uri": "https://localhost:8080/",
     "height": 265
    },
    "id": "6uColhF7rTBJ",
    "outputId": "469fb18f-d1d7-4c7a-e1cb-5ef61c72ee01"
   },
   "outputs": [],
   "source": [
    "plt.figure(figsize=(5,4))\n",
    "plt.imshow(im)\n",
    "plt.grid(False)\n",
    "plt.show()"
   ]
  },
  {
   "cell_type": "markdown",
   "metadata": {
    "id": "GP13GPTWrTBK"
   },
   "source": [
    "## (2) 개별 숫자 영역 추출하여 영상 리스트 만들기"
   ]
  },
  {
   "cell_type": "code",
   "execution_count": null,
   "metadata": {
    "colab": {
     "base_uri": "https://localhost:8080/"
    },
    "id": "X3qK-bkRrTBK",
    "outputId": "51a319ee-4503-475e-f55b-b112756dfdb2"
   },
   "outputs": [],
   "source": [
    "# 추출한 좌표 정렬하기 \n",
    "rects = []\n",
    "im_w = im.shape[1]\n",
    "for i, cnt in enumerate(contours):\n",
    "    x, y, w, h = cv2.boundingRect(cnt)\n",
    "    if w < 10 or h < 10: continue # 너무 작으면 생략하기\n",
    "    if w > im_w / 5: continue # 너무 크면 생략하기\n",
    "    y2 = round(y / 10) * 10 # Y좌표 맞추기\n",
    "    index = y2 * im_w  + x\n",
    "    rects.append((index, x, y, w, h))\n",
    "rects = sorted(rects, key=lambda x: ) # 정렬하기\n",
    "print(rects[:5])"
   ]
  },
  {
   "cell_type": "code",
   "execution_count": null,
   "metadata": {
    "colab": {
     "base_uri": "https://localhost:8080/"
    },
    "id": "FH2CRo_ErTBK",
    "outputId": "3350ea96-3edb-4a09-c9c4-e8209229164d"
   },
   "outputs": [],
   "source": [
    "# 해당 영역의 이미지 데이터 추출하기 \n",
    "X = []\n",
    "for i, r in enumerate(rects):\n",
    "    index, x, y, w, h = r\n",
    "    num = gray[y:y+h, x:x+w] # 부분 이미지 추출하기\n",
    "    # 반전하기\n",
    "    # 정사각형 내부에 그림 옮기기\n",
    "    ww = round((w if w > h else h) * 1.85) \n",
    "    spc = np.zeros((ww, ww))\n",
    "    wy = (ww-h)//2\n",
    "    wx = (ww-w)//2\n",
    "    spc[wy:wy+h, wx:wx+w] = num\n",
    "    num = cv2.resize(spc, (28, 28)) # MNIST 크기 맞추기\n",
    "    X.append(num)\n",
    "print(len(X))"
   ]
  },
  {
   "cell_type": "code",
   "execution_count": null,
   "metadata": {
    "colab": {
     "base_uri": "https://localhost:8080/"
    },
    "id": "dAZam-UurTBL",
    "outputId": "324b39b5-9f53-45a0-b0f6-89c42858afc6"
   },
   "outputs": [],
   "source": [
    "X = np.array(X)\n",
    "X.shape"
   ]
  },
  {
   "cell_type": "markdown",
   "metadata": {
    "id": "PuK9pPWgrTBL"
   },
   "source": [
    "##  (3) MLP 모델로 인식하기"
   ]
  },
  {
   "cell_type": "code",
   "execution_count": null,
   "metadata": {
    "id": "4PCk6S0TrTBL"
   },
   "outputs": [],
   "source": [
    "X_test = X.copy()"
   ]
  },
  {
   "cell_type": "code",
   "execution_count": null,
   "metadata": {
    "colab": {
     "base_uri": "https://localhost:8080/"
    },
    "id": "hvzPZqbqrTBL",
    "outputId": "133b2423-5796-4126-ee3a-4f293bdf0779"
   },
   "outputs": [],
   "source": [
    "X_test = X_test \n",
    "X_test.min(), X_test.max(), X_test.shape"
   ]
  },
  {
   "cell_type": "code",
   "execution_count": null,
   "metadata": {
    "id": "eVleO71WrTBL"
   },
   "outputs": [],
   "source": [
    "from tensorflow.keras.models import load_model\n",
    "modelfile = MODEL_DIR+\"MnistMLP_best.h5\"\n",
    "model = load_model(modelfile)"
   ]
  },
  {
   "cell_type": "code",
   "execution_count": null,
   "metadata": {
    "colab": {
     "base_uri": "https://localhost:8080/",
     "height": 422
    },
    "id": "Fz3v0xMCrTBM",
    "outputId": "5f587317-9615-41d7-b0e2-5ba3cf4ec6eb"
   },
   "outputs": [],
   "source": [
    "from tensorflow.keras.utils import plot_model\n",
    "plot_model(model,  show_shapes=True)"
   ]
  },
  {
   "cell_type": "code",
   "execution_count": null,
   "metadata": {
    "colab": {
     "base_uri": "https://localhost:8080/"
    },
    "id": "Bb-Yj6YOrTBM",
    "outputId": "24e12197-da4d-4995-e225-c8f190ea25df"
   },
   "outputs": [],
   "source": [
    "# 예측하기 \n",
    "s = \"31415926535897932384\" + \\\n",
    "    \"62643383279502884197\" + \\\n",
    "    \"16939937510582097494\" + \\\n",
    "    \"45923078164062862089\" + \\\n",
    "    \"98628034825342117067\"\n",
    "answer = list(s)\n",
    "\n",
    "ng_list=[]\n",
    "ok = 0\n",
    "nlist = model.predict(X_test)\n",
    "for i, n in enumerate(nlist):\n",
    "    ans = n\n",
    "    if ans == int(answer[i]):\n",
    "        ok += 1\n",
    "    else:\n",
    "        print(\"[ng]\", i, \"번째\", ans, \"!=\", answer[i], np.int32(n*100))\n",
    "        ng_list.append(i)\n",
    "print('오답 수:', len(ng_list),'\\n 정답률:', ok / len(nlist))"
   ]
  },
  {
   "cell_type": "code",
   "execution_count": null,
   "metadata": {
    "colab": {
     "base_uri": "https://localhost:8080/",
     "height": 215
    },
    "id": "UTBVXrT2rTBM",
    "outputId": "eb4c7f21-3e1e-4697-e103-8de44dc9df80"
   },
   "outputs": [],
   "source": [
    "# 오답 출력\n",
    "plt.figure(figsize=(8, 2))\n",
    "for i, idx in enumerate(ng_list):\n",
    "    plt.subplot(2,8, i+1)\n",
    "    plt.imshow( , cmap='gray')\n",
    "plt.show()"
   ]
  },
  {
   "cell_type": "markdown",
   "metadata": {
    "id": "PACiJ6N5rTBM"
   },
   "source": [
    "## (4) CNN 모델로 인식하기"
   ]
  },
  {
   "cell_type": "code",
   "execution_count": null,
   "metadata": {
    "colab": {
     "base_uri": "https://localhost:8080/"
    },
    "id": "yE02mFKarTBM",
    "outputId": "2441e566-3fcc-4ac6-ee80-6c493c180877"
   },
   "outputs": [],
   "source": [
    "X_test = X\n",
    "X_test.shape"
   ]
  },
  {
   "cell_type": "code",
   "execution_count": null,
   "metadata": {
    "colab": {
     "base_uri": "https://localhost:8080/",
     "height": 1000
    },
    "id": "6hWIoY_6rTBM",
    "outputId": "cb64cd3c-47de-48bd-c846-857d03e877a6"
   },
   "outputs": [],
   "source": [
    "from tensorflow.keras.models import load_model\n",
    "modelfile =MODEL_DIR+'MnistCNN_best.h5'\n",
    "model = load_model(modelfile)\n",
    "\n",
    "plot_model(model, show_shapes=True)"
   ]
  },
  {
   "cell_type": "code",
   "execution_count": null,
   "metadata": {
    "colab": {
     "base_uri": "https://localhost:8080/"
    },
    "id": "d4RjopZyrTBM",
    "outputId": "c52d9bba-7159-468a-f694-71e089aa6689"
   },
   "outputs": [],
   "source": [
    "# 예측하기 \n",
    "s = \"31415926535897932384\" + \\\n",
    "    \"62643383279502884197\" + \\\n",
    "    \"16939937510582097494\" + \\\n",
    "    \"45923078164062862089\" + \\\n",
    "    \"98628034825342117067\"\n",
    "answer = list(s)\n",
    "\n",
    "type\n",
    "ng_list=[]\n",
    "ok = 0\n",
    "nlist = model.predict(X_test)\n",
    "for i, n in enumerate(nlist):\n",
    "    ans = n\n",
    "    if ans == int(answer[i]):\n",
    "        ok += 1\n",
    "    else:\n",
    "        print(\"[ng]\", i, \"번째\", ans, \"!=\", answer[i], np.int32(n*100))\n",
    "        ng_list.append(i)\n",
    "print(\"정답률:\", ok / len(nlist))"
   ]
  },
  {
   "cell_type": "code",
   "execution_count": null,
   "metadata": {
    "id": "x6ssBIbPrTBN"
   },
   "outputs": [],
   "source": []
  },
  {
   "cell_type": "markdown",
   "metadata": {
    "id": "YWKNTW5SrTBN"
   },
   "source": [
    "#  3. OpenCV로 얼굴 인식하기"
   ]
  },
  {
   "cell_type": "code",
   "execution_count": null,
   "metadata": {
    "id": "d26ZdRCurTBN"
   },
   "outputs": [],
   "source": [
    "import matplotlib.pyplot as plt\n",
    "import cv2\n",
    "\n",
    "IMG_DIR = \"/content/drive/MyDrive/ICTIS_2023/img/face/\""
   ]
  },
  {
   "cell_type": "markdown",
   "metadata": {
    "id": "VqIEUhVCrTBN"
   },
   "source": [
    "## (1) 사진에서 얼굴부분 찾기"
   ]
  },
  {
   "cell_type": "markdown",
   "metadata": {
    "id": "aRP4jX_gNgxL"
   },
   "source": [
    "- https://docs.opencv.org/3.4/db/d28/tutorial_cascade_classifier.html"
   ]
  },
  {
   "cell_type": "code",
   "execution_count": null,
   "metadata": {
    "id": "DPYoFJXYrTBN"
   },
   "outputs": [],
   "source": [
    "def face_detection(IMG_DIR, image_file, rst_file, min_size=(150,150)):\n",
    "    # 이미지 읽어 들이기 \n",
    "    image = cv2.imread(image_file)\n",
    "\n",
    "    # 그레이스케일로 변환하기\n",
    "    image_gs = cv2.cvtColor(image, cv2.COLOR_ )\n",
    "\n",
    "    # 캐스케이드 파일의 경로 지정하기 \n",
    "    cascade_file = IMG_DIR+\"haarcascade_frontalface_alt.xml\"\n",
    "\n",
    "    # 얼굴 인식 특징 파일 읽어 들이기 \n",
    "    cascade = cv2.CascadeClassifier(cascade_file)\n",
    "\n",
    "    # 얼굴 인식 실행하기\n",
    "    face_list = cascade.detectMultiScale(image_gs,\n",
    "        scaleFactor=1.1,\n",
    "        minNeighbors=1,\n",
    "        minSize=min_size)\n",
    "    \n",
    "    if len(face_list) > 0:\n",
    "        # 인식한 부분 표시하기 \n",
    "        color = (0, 0, 255)  # Red\n",
    "        for face in face_list:\n",
    "            x,y,w,h = face\n",
    "            cv2.rectangle(image, (x,y), (x+w, y+h), color, thickness=8)\n",
    "        # 파일로 출력하기 \n",
    "        cv2.imwrite(rst_file, image)\n",
    "        return face_list\n",
    "    else:\n",
    "        return None"
   ]
  },
  {
   "cell_type": "code",
   "execution_count": null,
   "metadata": {
    "id": "YEbbl_T7rTBN"
   },
   "outputs": [],
   "source": [
    "def displayResult(image_file, rst_file):\n",
    "    plt.figure(figsize=(10,10))\n",
    "    plt.subplot(1,2,1)\n",
    "    im = plt.imread(image_file)\n",
    "    plt.xlabel('Original')\n",
    "    plt.imshow(im)\n",
    "    \n",
    "    plt.subplot(1,2,2)\n",
    "    im = plt.imread(rst_file)\n",
    "    plt.xlabel('Result')\n",
    "    plt.imshow(im)\n",
    "    plt.show()"
   ]
  },
  {
   "cell_type": "code",
   "execution_count": null,
   "metadata": {
    "colab": {
     "base_uri": "https://localhost:8080/",
     "height": 455
    },
    "id": "w9HTp20orTBN",
    "outputId": "6680d54e-e89d-4fda-fff8-96ad8d9c3308"
   },
   "outputs": [],
   "source": [
    "image_file =IMG_DIR+ \"Lena.jpg\"\n",
    "rst_file= IMG_DIR+\"Lena_facedetect-output.png\"\n",
    "\n",
    "face_list = face_detection(IMG_DIR, image_file, rst_file)\n",
    "print(face_list)\n",
    "displayResult(image_file, rst_file)"
   ]
  },
  {
   "cell_type": "code",
   "execution_count": null,
   "metadata": {
    "colab": {
     "base_uri": "https://localhost:8080/",
     "height": 447
    },
    "id": "hEZkF1ANrTBO",
    "outputId": "4e1c5d81-1ff2-44e4-b70f-5df6c72d0244"
   },
   "outputs": [],
   "source": [
    "image_file =IMG_DIR+ \"people.png\"\n",
    "rst_file= IMG_DIR+\"people_facedetect-output.png\"\n",
    "\n",
    "face_list = face_detection(IMG_DIR, image_file, rst_file, (100,100))\n",
    "print(face_list)\n",
    "displayResult(image_file, rst_file)"
   ]
  },
  {
   "cell_type": "markdown",
   "metadata": {
    "id": "SWa9hBGmrTBO"
   },
   "source": [
    "##  (2) 얼굴 비식별화: 모자이크 방식 & Blurring"
   ]
  },
  {
   "cell_type": "markdown",
   "metadata": {
    "id": "NvgodffwrTBO"
   },
   "source": [
    "###  ㉠ 모자이크 방식"
   ]
  },
  {
   "cell_type": "code",
   "execution_count": null,
   "metadata": {
    "id": "GPYoNtZ0Yey9"
   },
   "outputs": [],
   "source": [
    "def make_mosaic(image_file, rst_file, face_list, mosaic_rate=10 ):\n",
    "    image = cv2.imread(image_file)\n",
    "\n",
    "    color = (0, 0, 255)\n",
    "    for (x,y,w,h) in face_list:\n",
    "        # 얼굴 부분 자르기 \n",
    "        face_img = image[y:y+h, x:x+w]\n",
    "        # 자른 이미지를 지정한 배율로 확대/축소\n",
    "        face_img = cv2. (face_img, (w//mosaic_rate, h//mosaic_rate))\n",
    "        # 확대/축소한 그림을 원래 크기로\n",
    "        face_img = cv2. (face_img, (w, h), \n",
    "            interpolation=cv2.INTER_AREA)\n",
    "        # 원래 이미지에 붙이기 \n",
    "        image[y:y+h, x:x+w] = face_img\n",
    "    # 렌더링 결과를 파일에 출력\n",
    "    cv2.imwrite(rst_file, image)"
   ]
  },
  {
   "cell_type": "code",
   "execution_count": null,
   "metadata": {
    "colab": {
     "base_uri": "https://localhost:8080/",
     "height": 455
    },
    "id": "MGq9-EOFYPl2",
    "outputId": "a900ee0b-d4ab-475f-c013-bfe657a6c983"
   },
   "outputs": [],
   "source": [
    "image_file =IMG_DIR+ \"Lena.jpg\"\n",
    "rst_file= IMG_DIR+\"Lena-mosaic.jpg\"\n",
    "\n",
    "face_list= face_detection(IMG_DIR, image_file, rst_file, (70,70))\n",
    "print(face_list)\n",
    "make_mosaic(image_file, rst_file, face_list, mosaic_rate=10 )\n",
    "displayResult(image_file, rst_file)"
   ]
  },
  {
   "cell_type": "markdown",
   "metadata": {
    "id": "081mdN_ArTBO"
   },
   "source": [
    "###  ㉡ Blurring 방식"
   ]
  },
  {
   "cell_type": "code",
   "execution_count": null,
   "metadata": {
    "id": "xTAqWK-GZgEy"
   },
   "outputs": [],
   "source": [
    "def make_blur(image_file, rst_file, face_list, ksize=23, sigma_X=30):\n",
    "    image = cv2.imread(image_file)\n",
    "\n",
    "    color = (0, 0, 255)\n",
    "    for (x,y,w,h) in face_list:\n",
    "        # 얼굴 부분 자르기 \n",
    "        face_img = image[y:y+h, x:x+w]\n",
    "        # 블러링\n",
    "        face_img = cv2.GaussianBlur(face_img, (ksize, ksize), sigma_X)\n",
    "        # 원래 이미지에 붙이기 \n",
    "        image[y:y+h, x:x+w] = face_img\n",
    "    # 렌더링 결과를 파일에 출력\n",
    "    cv2.imwrite(rst_file, image)"
   ]
  },
  {
   "cell_type": "code",
   "execution_count": null,
   "metadata": {
    "colab": {
     "base_uri": "https://localhost:8080/",
     "height": 455
    },
    "id": "fK5ij9maaVXs",
    "outputId": "96379501-bf4e-412b-fe27-995a449fd84a"
   },
   "outputs": [],
   "source": [
    "image_file =IMG_DIR+ \"Lena.jpg\"\n",
    "rst_file= IMG_DIR+\"Lena-mosaic.jpg\"\n",
    "face_list= face_detection(IMG_DIR, image_file, rst_file, (70,70))\n",
    "print(face_list)\n",
    "make_blur(image_file, rst_file, face_list, sigma_X=30 )\n",
    "displayResult(image_file, rst_file)"
   ]
  },
  {
   "cell_type": "code",
   "execution_count": null,
   "metadata": {
    "id": "95UyO_AFrTBP"
   },
   "outputs": [],
   "source": []
  }
 ],
 "metadata": {
  "colab": {
   "gpuType": "T4",
   "provenance": []
  },
  "gpuClass": "standard",
  "kernelspec": {
   "display_name": "Python 3 (ipykernel)",
   "language": "python",
   "name": "python3"
  },
  "language_info": {
   "codemirror_mode": {
    "name": "ipython",
    "version": 3
   },
   "file_extension": ".py",
   "mimetype": "text/x-python",
   "name": "python",
   "nbconvert_exporter": "python",
   "pygments_lexer": "ipython3",
   "version": "3.8.10"
  }
 },
 "nbformat": 4,
 "nbformat_minor": 1
}
