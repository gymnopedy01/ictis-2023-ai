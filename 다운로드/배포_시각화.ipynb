{
  "cells": [
    {
      "cell_type": "markdown",
      "metadata": {
        "id": "mNmzLjqZRgwQ"
      },
      "source": [
        "## 자료 읽기"
      ]
    },
    {
      "cell_type": "code",
      "source": [
        "from google.colab import drive\n",
        "drive.mount('/content/drive')\n",
        "PATH='/content/drive/MyDrive/ICTIS_2023/data/'"
      ],
      "metadata": {
        "id": "j2jYtaTIRthT"
      },
      "execution_count": null,
      "outputs": []
    },
    {
      "cell_type": "code",
      "execution_count": null,
      "metadata": {
        "id": "Yjiih8d7RgwQ"
      },
      "outputs": [],
      "source": [
        "\n",
        "d = pd.read_csv(PATH+'scores_1.csv',  ,   )\n",
        "d"
      ]
    },
    {
      "cell_type": "code",
      "execution_count": null,
      "metadata": {
        "id": "NggDano6RgwR"
      },
      "outputs": [],
      "source": [
        "d['Gender']=['M','F','M','F','F','M']\n",
        "d"
      ]
    },
    {
      "cell_type": "code",
      "execution_count": null,
      "metadata": {
        "id": "CNqLHROsRgwR"
      },
      "outputs": [],
      "source": [
        "d['Avg']=\n",
        "d"
      ]
    },
    {
      "cell_type": "code",
      "execution_count": null,
      "metadata": {
        "id": "zR4IMWE0RgwR"
      },
      "outputs": [],
      "source": [
        "p = list(  map(    , d['Avg']) )\n",
        "p"
      ]
    },
    {
      "cell_type": "code",
      "execution_count": null,
      "metadata": {
        "id": "eTgNWb1nRgwR"
      },
      "outputs": [],
      "source": [
        "d['Pass/Fail']=p\n",
        "d"
      ]
    },
    {
      "cell_type": "code",
      "execution_count": null,
      "metadata": {
        "id": "me-VQsssRgwR"
      },
      "outputs": [],
      "source": []
    },
    {
      "cell_type": "code",
      "execution_count": null,
      "metadata": {
        "id": "iCV94W0_RgwR"
      },
      "outputs": [],
      "source": [
        "df = pd.read_csv(PATH+'iris.csv', names=['sepal_length', 'sepal_width', \n",
        "                                         'petal_length', 'petal_width', \n",
        "                                         'species'])\n",
        "df.head()"
      ]
    },
    {
      "cell_type": "code",
      "execution_count": null,
      "metadata": {
        "scrolled": true,
        "id": "mv8z67tLRgwR"
      },
      "outputs": [],
      "source": [
        "df. "
      ]
    },
    {
      "cell_type": "code",
      "execution_count": null,
      "metadata": {
        "id": "bm14z13ERgwR"
      },
      "outputs": [],
      "source": [
        "df['species']"
      ]
    },
    {
      "cell_type": "code",
      "source": [],
      "metadata": {
        "id": "d5EGb2RvSPvv"
      },
      "execution_count": null,
      "outputs": []
    },
    {
      "cell_type": "code",
      "source": [],
      "metadata": {
        "id": "kqg6sWqDSPq0"
      },
      "execution_count": null,
      "outputs": []
    },
    {
      "cell_type": "markdown",
      "metadata": {
        "id": "k0ctPGzYRgwS"
      },
      "source": [
        "# 1. Matplotlib"
      ]
    },
    {
      "cell_type": "code",
      "execution_count": null,
      "metadata": {
        "id": "exsC6BtQRgwS"
      },
      "outputs": [],
      "source": [
        "import matplotlib.pyplot as plt\n",
        "import numpy as np"
      ]
    },
    {
      "cell_type": "markdown",
      "metadata": {
        "id": "Prngg9RLRgwS"
      },
      "source": [
        "## 선 그래프"
      ]
    },
    {
      "cell_type": "markdown",
      "metadata": {
        "id": "N7rgdT0qRgwS"
      },
      "source": [
        "- https://matplotlib.org/stable/api/_as_gen/matplotlib.pyplot.plot.html"
      ]
    },
    {
      "cell_type": "code",
      "execution_count": null,
      "metadata": {
        "id": "Vtxtuv7XRgwS"
      },
      "outputs": [],
      "source": [
        "x =  \n",
        "y =  \n",
        "y2 = \n",
        "plt.plot( , , marker=  , markersize= , marker =  )\n",
        "plt.plot( , , marker=  , markersize= , marker =  )\n",
        "plt.grid( )\n",
        "plt.show()"
      ]
    },
    {
      "cell_type": "code",
      "execution_count": null,
      "metadata": {
        "scrolled": false,
        "id": "RrsaUU9GRgwS"
      },
      "outputs": [],
      "source": [
        "plt.plot( ,  , '-r', label='Korean')\n",
        "plt.plot( ,  , '-g', label='English')\n",
        "plt.plot( ,  , '-b', label='Math')\n",
        "plt.legend(loc=\"best\")\n",
        "plt.title('Mid-Exam Score')\n",
        "plt.xlabel('Name')\n",
        "plt.ylabel('Score')\n",
        "plt.grid(True)\n",
        "plt.show()"
      ]
    },
    {
      "cell_type": "markdown",
      "metadata": {
        "id": "Tirvope4RgwS"
      },
      "source": [
        "## 막대 그래프"
      ]
    },
    {
      "cell_type": "markdown",
      "metadata": {
        "id": "1yPI3s2GRgwS"
      },
      "source": [
        "- https://pandas.pydata.org/pandas-docs/version/0.18/generated/pandas.DataFrame.plot.html"
      ]
    },
    {
      "cell_type": "code",
      "execution_count": null,
      "metadata": {
        "id": "FXl_IHNZRgwS"
      },
      "outputs": [],
      "source": [
        "d.plot( )\n",
        "\n",
        "\n",
        "plt.show()"
      ]
    },
    {
      "cell_type": "code",
      "execution_count": null,
      "metadata": {
        "id": "2wko-p_wRgwT"
      },
      "outputs": [],
      "source": [
        "    ttitle='Mid-exam: Korean'\n",
        "plt.ylabel('Name')\n",
        "plt.xlabel('Score')\n",
        "plt.show()"
      ]
    },
    {
      "cell_type": "markdown",
      "metadata": {
        "id": "NLXsQmHIRgwT"
      },
      "source": [
        "## 히스토그램"
      ]
    },
    {
      "cell_type": "code",
      "execution_count": null,
      "metadata": {
        "id": "QsP4H2oFRgwT"
      },
      "outputs": [],
      "source": [
        ".plot(kind='hist', grid=True)\n",
        "plt.xlabel('petal_length')\n",
        "plt.show()"
      ]
    },
    {
      "cell_type": "code",
      "execution_count": null,
      "metadata": {
        "scrolled": true,
        "id": "X_-ja-seRgwT"
      },
      "outputs": [],
      "source": [
        "plt.figure( figsize=(12,4))\n",
        "plt.subplot(1,3,1)\n",
        "df[ ][ ].plot(kind='hist', grid=True)\n",
        "plt.xlabel('petal_length')\n"
      ]
    },
    {
      "cell_type": "markdown",
      "metadata": {
        "id": "SaYAp1VeRgwT"
      },
      "source": [
        "## 박스 플롯"
      ]
    },
    {
      "cell_type": "code",
      "execution_count": null,
      "metadata": {
        "id": "1ASq8_8ERgwT"
      },
      "outputs": [],
      "source": []
    },
    {
      "cell_type": "markdown",
      "metadata": {
        "id": "WuxrcUx-RgwT"
      },
      "source": [
        " ## 화면 분할\n",
        " - https://matplotlib.org/3.5.0/api/_as_gen/matplotlib.pyplot.subplot.html"
      ]
    },
    {
      "cell_type": "code",
      "execution_count": null,
      "metadata": {
        "id": "I9V-oRjaRgwT"
      },
      "outputs": [],
      "source": [
        "dg = df.groupby( )\n",
        "\n",
        "plt.figure(figsize=(15,5))\n",
        "for   :\n",
        "    \n",
        "    plt.xlabel('petal_length')\n",
        "    plt.ylabel('petal_width')\n",
        "    plt.xlim( df.petal_length.min()-1, df.petal_length.max()+1 )\n",
        "    plt.ylim( df.petal_width.min()-1, df.petal_width.max()+1 )\n",
        "    plt.grid(True)    \n",
        "plt.show()"
      ]
    },
    {
      "cell_type": "markdown",
      "metadata": {
        "id": "8kBZAM2fRgwT"
      },
      "source": [
        "## 이미지 출력"
      ]
    },
    {
      "cell_type": "code",
      "execution_count": null,
      "metadata": {
        "id": "n4hxp0XtRgwT"
      },
      "outputs": [],
      "source": [
        "im = plt.imread(PATH+'icecream.jpg')"
      ]
    },
    {
      "cell_type": "code",
      "execution_count": null,
      "metadata": {
        "id": "YSz-4WS3RgwT"
      },
      "outputs": [],
      "source": [
        "plt.imshow(im)\n"
      ]
    },
    {
      "cell_type": "code",
      "execution_count": null,
      "metadata": {
        "id": "7KXESuVURgwU"
      },
      "outputs": [],
      "source": []
    },
    {
      "cell_type": "code",
      "source": [],
      "metadata": {
        "id": "8egtMk16TaIu"
      },
      "execution_count": null,
      "outputs": []
    },
    {
      "cell_type": "code",
      "source": [],
      "metadata": {
        "id": "WE18DpJoTVpl"
      },
      "execution_count": null,
      "outputs": []
    },
    {
      "cell_type": "code",
      "execution_count": null,
      "metadata": {
        "id": "W3iNnFdCRgwU"
      },
      "outputs": [],
      "source": [
        "plt.imshow(im[  ], cmap= 'Reds')  # Red ,0: 흰색, 255:짙은 빨강\n",
        "plt.grid(False)\n",
        "plt.show()"
      ]
    },
    {
      "cell_type": "code",
      "execution_count": null,
      "metadata": {
        "id": "GGCW297IRgwU"
      },
      "outputs": [],
      "source": [
        "plt.imshow(im[   ], cmap= 'gray')  # Red ,0: 흰색, 255:짙은 빨강\n",
        "plt.grid(False)\n",
        "plt.show()"
      ]
    },
    {
      "cell_type": "code",
      "execution_count": null,
      "metadata": {
        "id": "N-OiXQMvRgwU"
      },
      "outputs": [],
      "source": [
        "plt.imshow(im[ ], cmap= 'Greens')  # Green\n",
        "plt.grid(False)\n",
        "plt.show()"
      ]
    },
    {
      "cell_type": "code",
      "execution_count": null,
      "metadata": {
        "id": "du1QnxPQRgwU"
      },
      "outputs": [],
      "source": [
        "plt.imshow(im[   ], cmap= 'gray')  # Green\n",
        "plt.grid(False)\n",
        "plt.show()"
      ]
    },
    {
      "cell_type": "code",
      "execution_count": null,
      "metadata": {
        "id": "ZD6kgiTtRgwU"
      },
      "outputs": [],
      "source": [
        "plt.imshow(im[   ], cmap='Blues' )  # Blue\n",
        "plt.grid(False)\n",
        "plt.show()"
      ]
    },
    {
      "cell_type": "code",
      "execution_count": null,
      "metadata": {
        "id": "qnO0hcSqRgwV"
      },
      "outputs": [],
      "source": [
        "plt.imshow(im[    ], cmap='gray' )  # Blue\n",
        "plt.grid(False)\n",
        "plt.show()"
      ]
    },
    {
      "cell_type": "markdown",
      "metadata": {
        "id": "jPBhIGD0RgwV"
      },
      "source": [
        "# 2. Seaborn"
      ]
    },
    {
      "cell_type": "code",
      "execution_count": null,
      "metadata": {
        "id": "dYeAo8qnRgwV"
      },
      "outputs": [],
      "source": [
        "import seaborn as sns\n",
        "sns.set()"
      ]
    },
    {
      "cell_type": "markdown",
      "metadata": {
        "id": "phTIo4k8RgwV"
      },
      "source": [
        "## 산점도"
      ]
    },
    {
      "cell_type": "code",
      "execution_count": null,
      "metadata": {
        "id": "5QrIi2gLRgwV"
      },
      "outputs": [],
      "source": [
        "plt.figure(figsize=(5,5))\n",
        "'petal_length',  'petal_width'"
      ]
    },
    {
      "cell_type": "code",
      "execution_count": null,
      "metadata": {
        "id": "Tf8YAm7hRgwV"
      },
      "outputs": [],
      "source": [
        "# 회귀선이 있는 산점도\n"
      ]
    },
    {
      "cell_type": "code",
      "execution_count": null,
      "metadata": {
        "id": "n1sfMvB2RgwV"
      },
      "outputs": [],
      "source": [
        "df[['petal_length', 'petal_width']]."
      ]
    },
    {
      "cell_type": "markdown",
      "metadata": {
        "id": "fAZbVgjeRgwV"
      },
      "source": [
        "## 히스토그램"
      ]
    },
    {
      "cell_type": "code",
      "execution_count": null,
      "metadata": {
        "id": "FwzvNHIWRgwV"
      },
      "outputs": [],
      "source": [
        "\n",
        "\n",
        " \n"
      ]
    },
    {
      "cell_type": "markdown",
      "metadata": {
        "id": "pvT1q_RKRgwW"
      },
      "source": [
        "## 히트맵"
      ]
    },
    {
      "cell_type": "code",
      "execution_count": null,
      "metadata": {
        "id": "cShfvkADRgwW"
      },
      "outputs": [],
      "source": [
        "d3=d[['Korean','English','Math',  ]]\n",
        "\n",
        "plt.figure(figsize=(5,3))\n",
        "sns.heatmap( , annot=, fmt=, cmap='YlGnBu', linewidth= )\n",
        "plt.show()"
      ]
    },
    {
      "cell_type": "code",
      "source": [],
      "metadata": {
        "id": "IIBqUs5RUCZx"
      },
      "execution_count": null,
      "outputs": []
    },
    {
      "cell_type": "markdown",
      "metadata": {
        "id": "utyK4bkjRgwW"
      },
      "source": [
        "## 범주형 데이터의 산점도 "
      ]
    },
    {
      "cell_type": "code",
      "execution_count": null,
      "metadata": {
        "id": "acFvyrrSRgwW"
      },
      "outputs": [],
      "source": []
    },
    {
      "cell_type": "code",
      "execution_count": null,
      "metadata": {
        "id": "aYTU0RI5RgwW"
      },
      "outputs": [],
      "source": []
    },
    {
      "cell_type": "markdown",
      "metadata": {
        "id": "4mySnz_RRgwW"
      },
      "source": [
        "## 막대 그래프\n",
        "- https://seaborn.pydata.org/generated/seaborn.barplot.html"
      ]
    },
    {
      "cell_type": "code",
      "execution_count": null,
      "metadata": {
        "id": "9O3IUTtZRgwW"
      },
      "outputs": [],
      "source": []
    },
    {
      "cell_type": "code",
      "execution_count": null,
      "metadata": {
        "id": "0e56ApNGRgwW"
      },
      "outputs": [],
      "source": [
        "g = "
      ]
    },
    {
      "cell_type": "code",
      "execution_count": null,
      "metadata": {
        "id": "ZlsoA4kpRgwW"
      },
      "outputs": [],
      "source": []
    },
    {
      "cell_type": "markdown",
      "metadata": {
        "id": "Icq0AG1JRgwW"
      },
      "source": [
        "## 빈도 그래프"
      ]
    },
    {
      "cell_type": "code",
      "execution_count": null,
      "metadata": {
        "scrolled": true,
        "id": "0cm19o_ZRgwW"
      },
      "outputs": [],
      "source": []
    },
    {
      "cell_type": "markdown",
      "metadata": {
        "id": "Qo2pBgnZRgwW"
      },
      "source": [
        "## 박스 플롯"
      ]
    },
    {
      "cell_type": "code",
      "execution_count": null,
      "metadata": {
        "id": "2_wh2FXFRgwW"
      },
      "outputs": [],
      "source": []
    },
    {
      "cell_type": "code",
      "execution_count": null,
      "metadata": {
        "id": "fL8lUhFCRgwW"
      },
      "outputs": [],
      "source": [
        "plt.figure(figsize=(15,15))\n",
        "\n",
        "for i, col in enumerate(df.columns[:-1]):\n",
        "    plt.subplot(    )\n",
        "    sns.boxplot(x=    ,y=    , data= )\n",
        "\n",
        "plt.show()"
      ]
    },
    {
      "cell_type": "markdown",
      "metadata": {
        "id": "3zOIy_rGRgwX"
      },
      "source": [
        "## 조인트 그래프"
      ]
    },
    {
      "cell_type": "code",
      "execution_count": null,
      "metadata": {
        "id": "PbVDQ25MRgwX"
      },
      "outputs": [],
      "source": [
        "sns.jointplot(x='petal_length', y='petal_width', kind='reg', data=df)"
      ]
    },
    {
      "cell_type": "code",
      "source": [],
      "metadata": {
        "id": "0aq4oSXiUYpE"
      },
      "execution_count": null,
      "outputs": []
    },
    {
      "cell_type": "markdown",
      "metadata": {
        "id": "NWVyERuLRgwX"
      },
      "source": [
        "## 화면 분할\n",
        "### 그리드로 분할하기"
      ]
    },
    {
      "cell_type": "code",
      "execution_count": null,
      "metadata": {
        "id": "6MYAX2twRgwX"
      },
      "outputs": [],
      "source": [
        "# iris 자료의 정규 분포 확인\n",
        "g = sns.FacetGrid(  ,   )\n",
        "\n"
      ]
    },
    {
      "cell_type": "code",
      "source": [
        "g = sns.FacetGrid(   )\n"
      ],
      "metadata": {
        "id": "P8oxZzCtUhyq"
      },
      "execution_count": null,
      "outputs": []
    },
    {
      "cell_type": "markdown",
      "metadata": {
        "id": "quLCflQiRgwX"
      },
      "source": [
        "## 이변수 데이터의 분포"
      ]
    },
    {
      "cell_type": "code",
      "execution_count": null,
      "metadata": {
        "id": "-G1tcjnBRgwX"
      },
      "outputs": [],
      "source": []
    },
    {
      "cell_type": "code",
      "execution_count": null,
      "metadata": {
        "id": "zfJ9XqtNRgwX"
      },
      "outputs": [],
      "source": []
    },
    {
      "cell_type": "code",
      "execution_count": null,
      "metadata": {
        "id": "Q4pK5XWMRgwX"
      },
      "outputs": [],
      "source": []
    }
  ],
  "metadata": {
    "kernelspec": {
      "display_name": "Python 3 (ipykernel)",
      "language": "python",
      "name": "python3"
    },
    "language_info": {
      "codemirror_mode": {
        "name": "ipython",
        "version": 3
      },
      "file_extension": ".py",
      "mimetype": "text/x-python",
      "name": "python",
      "nbconvert_exporter": "python",
      "pygments_lexer": "ipython3",
      "version": "3.9.13"
    },
    "colab": {
      "provenance": []
    }
  },
  "nbformat": 4,
  "nbformat_minor": 0
}