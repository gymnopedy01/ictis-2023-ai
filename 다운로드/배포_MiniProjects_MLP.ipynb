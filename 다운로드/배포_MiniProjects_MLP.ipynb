{
 "cells": [
  {
   "cell_type": "code",
   "execution_count": null,
   "metadata": {
    "executionInfo": {
     "elapsed": 1837,
     "status": "ok",
     "timestamp": 1677994299464,
     "user": {
      "displayName": "Victoria Kim",
      "userId": "08333052824334996602"
     },
     "user_tz": -540
    },
    "id": "_e6SJ1DUQDwE"
   },
   "outputs": [],
   "source": [
    "import numpy as np\n",
    "import pandas as pd\n",
    "import matplotlib.pyplot as plt\n",
    "import seaborn as sns; sns.set()\n",
    "import os\n",
    "\n",
    "from sklearn.metrics import confusion_matrix\n",
    "from sklearn.metrics import classification_report\n",
    "from sklearn.metrics import mean_squared_error\n",
    "from sklearn.model_selection import train_test_split\n",
    "\n",
    "import tensorflow as tf\n",
    "from tensorflow import keras\n",
    "from tensorflow.keras import layers\n",
    "\n",
    "from tensorflow.keras.layers import Dense\n",
    "\n",
    "from tensorflow.keras.models import load_model\n",
    "from tensorflow.keras.callbacks import ModelCheckpoint, EarlyStopping\n",
    "\n",
    "PATH = '/content/drive/MyDrive/ICTIS_2023/data/'"
   ]
  },
  {
   "cell_type": "code",
   "execution_count": null,
   "metadata": {
    "colab": {
     "base_uri": "https://localhost:8080/",
     "height": 35
    },
    "executionInfo": {
     "elapsed": 364,
     "status": "ok",
     "timestamp": 1677994301766,
     "user": {
      "displayName": "Victoria Kim",
      "userId": "08333052824334996602"
     },
     "user_tz": -540
    },
    "id": "ednF-ar5QDwF",
    "outputId": "64e89f96-1ef9-4c3f-f176-7255b81a414c"
   },
   "outputs": [],
   "source": [
    "tf.__version__, keras.__version__"
   ]
  },
  {
   "cell_type": "markdown",
   "metadata": {
    "id": "twSSmaGnQDwH"
   },
   "source": [
    "# XOR"
   ]
  },
  {
   "cell_type": "markdown",
   "metadata": {
    "id": "1re5QmK-QDwH"
   },
   "source": [
    "- 목표: 논리 XOR 문제 풀이"
   ]
  },
  {
   "cell_type": "code",
   "execution_count": null,
   "metadata": {
    "executionInfo": {
     "elapsed": 373,
     "status": "ok",
     "timestamp": 1677994310036,
     "user": {
      "displayName": "Victoria Kim",
      "userId": "08333052824334996602"
     },
     "user_tz": -540
    },
    "id": "0gT1KaHIQDwH"
   },
   "outputs": [],
   "source": [
    "x = np.array([[0,0],\n",
    "              [0,1],\n",
    "              [1,0],\n",
    "              [1,1]])\n",
    "y = np.array([[0],[1],[1], [0]])"
   ]
  },
  {
   "cell_type": "markdown",
   "metadata": {
    "id": "DQ2ZRegSQDwI"
   },
   "source": [
    "- https://keras.io/ko/\n",
    "- https://keras.io/ko/models/sequential/\n",
    "- https://www.tensorflow.org/guide?hl=ko"
   ]
  },
  {
   "cell_type": "code",
   "execution_count": null,
   "metadata": {},
   "outputs": [],
   "source": []
  },
  {
   "cell_type": "code",
   "execution_count": null,
   "metadata": {},
   "outputs": [],
   "source": []
  },
  {
   "cell_type": "code",
   "execution_count": null,
   "metadata": {
    "executionInfo": {
     "elapsed": 341,
     "status": "ok",
     "timestamp": 1677994333097,
     "user": {
      "displayName": "Victoria Kim",
      "userId": "08333052824334996602"
     },
     "user_tz": -540
    },
    "id": "X9AGcMrtQDwI"
   },
   "outputs": [],
   "source": []
  },
  {
   "cell_type": "code",
   "execution_count": null,
   "metadata": {
    "colab": {
     "base_uri": "https://localhost:8080/"
    },
    "executionInfo": {
     "elapsed": 143083,
     "status": "ok",
     "timestamp": 1677994484367,
     "user": {
      "displayName": "Victoria Kim",
      "userId": "08333052824334996602"
     },
     "user_tz": -540
    },
    "id": "wqPrSaFZQDwI",
    "outputId": "bcd5131a-85aa-40aa-8868-5180c3fadef8"
   },
   "outputs": [],
   "source": []
  },
  {
   "cell_type": "code",
   "execution_count": null,
   "metadata": {
    "colab": {
     "base_uri": "https://localhost:8080/"
    },
    "executionInfo": {
     "elapsed": 351,
     "status": "ok",
     "timestamp": 1677994520599,
     "user": {
      "displayName": "Victoria Kim",
      "userId": "08333052824334996602"
     },
     "user_tz": -540
    },
    "id": "k2pF0G6hQDwI",
    "outputId": "95ba3f79-cb78-412e-f9a8-6aa2c9016d3e"
   },
   "outputs": [],
   "source": [
    "\n",
    "print(type(pred), pred, sep='\\n')"
   ]
  },
  {
   "cell_type": "code",
   "execution_count": null,
   "metadata": {
    "colab": {
     "base_uri": "https://localhost:8080/"
    },
    "executionInfo": {
     "elapsed": 2,
     "status": "ok",
     "timestamp": 1677994523430,
     "user": {
      "displayName": "Victoria Kim",
      "userId": "08333052824334996602"
     },
     "user_tz": -540
    },
    "id": "tHmPwk_dQDwJ",
    "outputId": "dc8878d4-4c28-404c-baf9-923e83010551"
   },
   "outputs": [],
   "source": [
    "     # 학습 후 가중치"
   ]
  },
  {
   "cell_type": "code",
   "execution_count": null,
   "metadata": {
    "colab": {
     "base_uri": "https://localhost:8080/"
    },
    "executionInfo": {
     "elapsed": 362,
     "status": "ok",
     "timestamp": 1677994526061,
     "user": {
      "displayName": "Victoria Kim",
      "userId": "08333052824334996602"
     },
     "user_tz": -540
    },
    "id": "MdYKukTfQDwJ",
    "outputId": "37a1f158-e255-45a4-8c41-aa19018b7f7f",
    "scrolled": false
   },
   "outputs": [],
   "source": []
  },
  {
   "cell_type": "code",
   "execution_count": null,
   "metadata": {
    "id": "IAPk_bV6Raqz"
   },
   "outputs": [],
   "source": []
  },
  {
   "cell_type": "code",
   "execution_count": null,
   "metadata": {
    "colab": {
     "base_uri": "https://localhost:8080/",
     "height": 422
    },
    "executionInfo": {
     "elapsed": 401,
     "status": "ok",
     "timestamp": 1677994707449,
     "user": {
      "displayName": "Victoria Kim",
      "userId": "08333052824334996602"
     },
     "user_tz": -540
    },
    "id": "UsF1ud7OQDwJ",
    "outputId": "bccc4119-ed83-4d78-99e9-702ed731221b"
   },
   "outputs": [],
   "source": [
    "from keras.utils import plot_model\n",
    "plot_model(model, show_shapes=True)"
   ]
  },
  {
   "cell_type": "code",
   "execution_count": null,
   "metadata": {
    "colab": {
     "base_uri": "https://localhost:8080/"
    },
    "executionInfo": {
     "elapsed": 21898,
     "status": "ok",
     "timestamp": 1677994653550,
     "user": {
      "displayName": "Victoria Kim",
      "userId": "08333052824334996602"
     },
     "user_tz": -540
    },
    "id": "_0DO-Q_cRXHt",
    "outputId": "e782f866-81d5-4b8a-e186-71d9093a1f9f"
   },
   "outputs": [],
   "source": [
    "from google.colab import drive\n",
    "drive.mount('/content/drive')"
   ]
  },
  {
   "cell_type": "code",
   "execution_count": null,
   "metadata": {
    "colab": {
     "base_uri": "https://localhost:8080/",
     "height": 369
    },
    "executionInfo": {
     "elapsed": 367,
     "status": "ok",
     "timestamp": 1677994714158,
     "user": {
      "displayName": "Victoria Kim",
      "userId": "08333052824334996602"
     },
     "user_tz": -540
    },
    "id": "bRVISdX4QDwJ",
    "outputId": "b0342ed3-9b32-4396-f731-8cd2547f8731"
   },
   "outputs": [],
   "source": [
    "plot_model(model, to_file='/content/drive/MyDrive/ICTIS_2023/data/model_shapes.png')"
   ]
  },
  {
   "cell_type": "markdown",
   "metadata": {
    "id": "BBfe63rWQDwM"
   },
   "source": [
    "# 1. Pima Indian 당뇨병 예측: MinMaxScaling"
   ]
  },
  {
   "cell_type": "markdown",
   "metadata": {
    "id": "ja_hKdztQDwM"
   },
   "source": [
    "- https://www.kaggle.com/datasets/kumargh/pimaindiansdiabetescsv"
   ]
  },
  {
   "cell_type": "code",
   "execution_count": null,
   "metadata": {
    "executionInfo": {
     "elapsed": 534,
     "status": "ok",
     "timestamp": 1677995412431,
     "user": {
      "displayName": "Victoria Kim",
      "userId": "08333052824334996602"
     },
     "user_tz": -540
    },
    "id": "n8azUnVjQDwM"
   },
   "outputs": [],
   "source": [
    "df = pd.read_csv(PATH+'pima-indians-diabetes.csv', \n",
    "                names=['pregnant', 'plasma', 'pressure', 'thickness', \n",
    "                       'insulin', 'BMI', 'pedigree', 'age', 'class'])"
   ]
  },
  {
   "cell_type": "code",
   "execution_count": null,
   "metadata": {
    "colab": {
     "base_uri": "https://localhost:8080/",
     "height": 206
    },
    "executionInfo": {
     "elapsed": 3,
     "status": "ok",
     "timestamp": 1677995414431,
     "user": {
      "displayName": "Victoria Kim",
      "userId": "08333052824334996602"
     },
     "user_tz": -540
    },
    "id": "hFGimYIoQDwM",
    "outputId": "c96ce736-f76d-4456-ab93-e91acbae11e7",
    "scrolled": false
   },
   "outputs": [],
   "source": []
  },
  {
   "cell_type": "code",
   "execution_count": null,
   "metadata": {
    "colab": {
     "base_uri": "https://localhost:8080/"
    },
    "executionInfo": {
     "elapsed": 1,
     "status": "ok",
     "timestamp": 1677995415894,
     "user": {
      "displayName": "Victoria Kim",
      "userId": "08333052824334996602"
     },
     "user_tz": -540
    },
    "id": "94VVUBzIQDwM",
    "outputId": "033482cd-7eac-4a35-99e0-6ac86405e87a",
    "scrolled": true
   },
   "outputs": [],
   "source": []
  },
  {
   "cell_type": "code",
   "execution_count": null,
   "metadata": {
    "colab": {
     "base_uri": "https://localhost:8080/",
     "height": 364
    },
    "executionInfo": {
     "elapsed": 3,
     "status": "ok",
     "timestamp": 1677995417718,
     "user": {
      "displayName": "Victoria Kim",
      "userId": "08333052824334996602"
     },
     "user_tz": -540
    },
    "id": "U-dQSCj5QDwM",
    "outputId": "571e6e1a-1afb-44fd-dd8c-524ad41050d4",
    "scrolled": false
   },
   "outputs": [],
   "source": []
  },
  {
   "cell_type": "code",
   "execution_count": null,
   "metadata": {
    "colab": {
     "base_uri": "https://localhost:8080/",
     "height": 364
    },
    "executionInfo": {
     "elapsed": 3,
     "status": "ok",
     "timestamp": 1677995422650,
     "user": {
      "displayName": "Victoria Kim",
      "userId": "08333052824334996602"
     },
     "user_tz": -540
    },
    "id": "zpBEMDg8QDwN",
    "outputId": "fe9a6fb5-3943-48d4-9a4d-daa09c14afc3"
   },
   "outputs": [],
   "source": [
    "df[df['class']==0].describe()"
   ]
  },
  {
   "cell_type": "code",
   "execution_count": null,
   "metadata": {
    "colab": {
     "base_uri": "https://localhost:8080/",
     "height": 364
    },
    "executionInfo": {
     "elapsed": 3,
     "status": "ok",
     "timestamp": 1677995424073,
     "user": {
      "displayName": "Victoria Kim",
      "userId": "08333052824334996602"
     },
     "user_tz": -540
    },
    "id": "zI9bd3wiQDwN",
    "outputId": "97621192-0b2a-4f8e-e800-24e38306d00e",
    "scrolled": true
   },
   "outputs": [],
   "source": []
  },
  {
   "cell_type": "code",
   "execution_count": null,
   "metadata": {},
   "outputs": [],
   "source": []
  },
  {
   "cell_type": "code",
   "execution_count": null,
   "metadata": {
    "colab": {
     "base_uri": "https://localhost:8080/",
     "height": 725
    },
    "executionInfo": {
     "elapsed": 3931,
     "status": "ok",
     "timestamp": 1677995429935,
     "user": {
      "displayName": "Victoria Kim",
      "userId": "08333052824334996602"
     },
     "user_tz": -540
    },
    "id": "V4PSe8etQDwN",
    "outputId": "71979f05-c9aa-44b1-b8ea-ed5d76f95514"
   },
   "outputs": [],
   "source": [
    "plt.subplots(3,3, figsize=(10,10) )\n",
    "for idx, col in enumerate(df.columns[:-1]):\n",
    "    ax = plt.subplot(3,3, idx+1)\n",
    "    ax.yaxis.set_ticklabels([])\n",
    "    sns.kdeplot(data = df, x =  ,  hue= )\n",
    "    ax.set_title(col)\n",
    "plt.subplot(3,3,9).set_visible(False)\n",
    "plt.tight_layout()\n",
    "plt.show()"
   ]
  },
  {
   "cell_type": "code",
   "execution_count": null,
   "metadata": {
    "colab": {
     "base_uri": "https://localhost:8080/",
     "height": 725
    },
    "executionInfo": {
     "elapsed": 1374,
     "status": "ok",
     "timestamp": 1677995431307,
     "user": {
      "displayName": "Victoria Kim",
      "userId": "08333052824334996602"
     },
     "user_tz": -540
    },
    "id": "Y-alavhmQDwN",
    "outputId": "fa46571b-7257-47ea-b533-a5dd2b0ee957"
   },
   "outputs": [],
   "source": [
    "plt.subplots(3,3, figsize=(10,10) )\n",
    "for idx, col in enumerate(df.columns[:-1]):\n",
    "    ax = plt.subplot(3,3, idx+1)\n",
    "    ax.yaxis.set_ticklabels([])\n",
    "    sns.  (x='class', y=col, data=df)\n",
    "    ax.set_title(col)\n",
    "plt.subplot(3,3,9).set_visible(False)\n",
    "plt.tight_layout()\n",
    "plt.show()"
   ]
  },
  {
   "cell_type": "code",
   "execution_count": null,
   "metadata": {
    "colab": {
     "base_uri": "https://localhost:8080/",
     "height": 423
    },
    "executionInfo": {
     "elapsed": 1221,
     "status": "ok",
     "timestamp": 1677995436561,
     "user": {
      "displayName": "Victoria Kim",
      "userId": "08333052824334996602"
     },
     "user_tz": -540
    },
    "id": "HfD7ri8oQDwN",
    "outputId": "2ddaee19-cdba-4104-b4d7-df563adeee52"
   },
   "outputs": [],
   "source": [
    "plt.figure(figsize=(7,6))\n",
    "sns.heatmap( , linewidths=0.1, linecolor='white',\n",
    "            cmap=plt.cm.gist_heat, annot=True, fmt='.2f')\n",
    "plt.show()"
   ]
  },
  {
   "cell_type": "code",
   "execution_count": null,
   "metadata": {
    "colab": {
     "base_uri": "https://localhost:8080/",
     "height": 221
    },
    "executionInfo": {
     "elapsed": 667,
     "status": "ok",
     "timestamp": 1677995439398,
     "user": {
      "displayName": "Victoria Kim",
      "userId": "08333052824334996602"
     },
     "user_tz": -540
    },
    "id": "aeNs9NarQDwN",
    "outputId": "bcfd0722-55a4-421f-b565-ce323bf2971f"
   },
   "outputs": [],
   "source": [
    "# ‘class’ 속성과의 관계를 그래프로 확인 \n",
    "grid=sns.FacetGrid(df, col='class')\n",
    "grid.map(  ,  , bins=10)\n",
    "plt.show()"
   ]
  },
  {
   "cell_type": "code",
   "execution_count": null,
   "metadata": {
    "colab": {
     "base_uri": "https://localhost:8080/"
    },
    "executionInfo": {
     "elapsed": 1,
     "status": "ok",
     "timestamp": 1677995441677,
     "user": {
      "displayName": "Victoria Kim",
      "userId": "08333052824334996602"
     },
     "user_tz": -540
    },
    "id": "7LHCw7PyQDwN",
    "outputId": "6625086e-067e-4f5d-f5d9-a97cd5c982c7",
    "scrolled": true
   },
   "outputs": [],
   "source": []
  },
  {
   "cell_type": "code",
   "execution_count": null,
   "metadata": {
    "colab": {
     "base_uri": "https://localhost:8080/"
    },
    "executionInfo": {
     "elapsed": 1,
     "status": "ok",
     "timestamp": 1677995443049,
     "user": {
      "displayName": "Victoria Kim",
      "userId": "08333052824334996602"
     },
     "user_tz": -540
    },
    "id": "rk27G7E7QDwN",
    "outputId": "440e66e3-7046-42fc-aee5-9f0be86f6637"
   },
   "outputs": [],
   "source": [
    "x =  \n",
    "y =  \n",
    "x.shape, y.shape"
   ]
  },
  {
   "cell_type": "code",
   "execution_count": null,
   "metadata": {
    "colab": {
     "base_uri": "https://localhost:8080/"
    },
    "executionInfo": {
     "elapsed": 351,
     "status": "ok",
     "timestamp": 1677995444996,
     "user": {
      "displayName": "Victoria Kim",
      "userId": "08333052824334996602"
     },
     "user_tz": -540
    },
    "id": "rY_92WwXQDwN",
    "outputId": "158c60bb-45b2-48ca-b45d-7543f4da885c"
   },
   "outputs": [],
   "source": [
    "from sklearn.preprocessing import MinMaxScaler\n",
    "scaler = MinMaxScaler().fit(x)\n",
    "sx = scaler.\n",
    "type(sx), sx.shape, sx.min(axis=0), sx.max(axis=0)"
   ]
  },
  {
   "cell_type": "code",
   "execution_count": null,
   "metadata": {
    "colab": {
     "base_uri": "https://localhost:8080/"
    },
    "executionInfo": {
     "elapsed": 204662,
     "status": "ok",
     "timestamp": 1677995715267,
     "user": {
      "displayName": "Victoria Kim",
      "userId": "08333052824334996602"
     },
     "user_tz": -540
    },
    "id": "sCx8u8PlQDwO",
    "outputId": "316731ce-bacb-4ca8-e92d-6e44ce065c2d"
   },
   "outputs": [],
   "source": [
    "model = \n",
    "print(\"Accuracy:\",  model.evaluate(sx, y)[1])"
   ]
  },
  {
   "cell_type": "code",
   "execution_count": null,
   "metadata": {
    "colab": {
     "base_uri": "https://localhost:8080/"
    },
    "executionInfo": {
     "elapsed": 358,
     "status": "ok",
     "timestamp": 1677995823641,
     "user": {
      "displayName": "Victoria Kim",
      "userId": "08333052824334996602"
     },
     "user_tz": -540
    },
    "id": "2TV8dN6WQDwO",
    "outputId": "4cb4543d-4abb-4001-d066-a7713a381432"
   },
   "outputs": [],
   "source": [
    "type(fit_history)"
   ]
  },
  {
   "cell_type": "code",
   "execution_count": null,
   "metadata": {
    "colab": {
     "base_uri": "https://localhost:8080/"
    },
    "executionInfo": {
     "elapsed": 345,
     "status": "ok",
     "timestamp": 1677995831308,
     "user": {
      "displayName": "Victoria Kim",
      "userId": "08333052824334996602"
     },
     "user_tz": -540
    },
    "id": "We5-b-7lQDwO",
    "outputId": "268a7d11-4a27-41eb-8e52-ecaf2f1208bc"
   },
   "outputs": [],
   "source": [
    "type(fit_history.history)"
   ]
  },
  {
   "cell_type": "code",
   "execution_count": null,
   "metadata": {
    "colab": {
     "base_uri": "https://localhost:8080/"
    },
    "executionInfo": {
     "elapsed": 2,
     "status": "ok",
     "timestamp": 1677995832932,
     "user": {
      "displayName": "Victoria Kim",
      "userId": "08333052824334996602"
     },
     "user_tz": -540
    },
    "id": "DT8eFQNfQDwO",
    "outputId": "4f8a02d8-c1e4-4b79-cd75-f0d36e881f41"
   },
   "outputs": [],
   "source": [
    "fit_history.history.keys()"
   ]
  },
  {
   "cell_type": "code",
   "execution_count": null,
   "metadata": {
    "executionInfo": {
     "elapsed": 2,
     "status": "ok",
     "timestamp": 1677995834267,
     "user": {
      "displayName": "Victoria Kim",
      "userId": "08333052824334996602"
     },
     "user_tz": -540
    },
    "id": "ReSEJGANQDwP"
   },
   "outputs": [],
   "source": []
  },
  {
   "cell_type": "code",
   "execution_count": null,
   "metadata": {
    "executionInfo": {
     "elapsed": 2,
     "status": "ok",
     "timestamp": 1677995835442,
     "user": {
      "displayName": "Victoria Kim",
      "userId": "08333052824334996602"
     },
     "user_tz": -540
    },
    "id": "uwMFEAv4QDwP"
   },
   "outputs": [],
   "source": [
    "def history_plot(fit_history):\n",
    "    # 학습이력 그래프로 확인하기\n",
    "    vloss = fit_history.history.get('val_loss') # 검증셋 loss\n",
    "    loss = fit_history.history.get('loss') # 학습셋  \n",
    "\n",
    "    plt.figure(figsize=(12,8))\n",
    "    epoch = np.arange(len(loss))\n",
    "    plt.subplot(211)\n",
    "    if vloss != None:\n",
    "        plt.plot(epoch, vloss, 'r',  marker='.',label='validation_loss')\n",
    "    plt.plot(epoch, loss, 'b',  marker='.', label='loss')\n",
    "    plt.legend(loc='best')\n",
    "    \n",
    "    vacc = fit_history.history.get('val_accuracy') # 검증셋 정확도\n",
    "    acc = fit_history.history.get('accuracy') # 학습셋 \n",
    "\n",
    "    plt.subplot(212)\n",
    "    if vacc != None:\n",
    "        plt.plot(epoch, vacc, 'r', marker='.',label='validation_acc')\n",
    "    plt.plot(epoch, acc, 'b', marker='.', label='accuracy')\n",
    "    plt.legend(loc='best')\n",
    "    plt.show()"
   ]
  },
  {
   "cell_type": "code",
   "execution_count": null,
   "metadata": {
    "colab": {
     "base_uri": "https://localhost:8080/",
     "height": 485
    },
    "executionInfo": {
     "elapsed": 609,
     "status": "ok",
     "timestamp": 1677995837862,
     "user": {
      "displayName": "Victoria Kim",
      "userId": "08333052824334996602"
     },
     "user_tz": -540
    },
    "id": "gBK0lMYCQDwP",
    "outputId": "2c52897f-e605-4613-8734-4029bbb531ca"
   },
   "outputs": [],
   "source": [
    " history_plot(fit_history)"
   ]
  },
  {
   "cell_type": "code",
   "execution_count": null,
   "metadata": {
    "colab": {
     "base_uri": "https://localhost:8080/"
    },
    "executionInfo": {
     "elapsed": 360,
     "status": "ok",
     "timestamp": 1677995874442,
     "user": {
      "displayName": "Victoria Kim",
      "userId": "08333052824334996602"
     },
     "user_tz": -540
    },
    "id": "S-21KfGrQDwP",
    "outputId": "5318c210-6e37-41d8-d3f5-e43ede1bba80"
   },
   "outputs": [],
   "source": [
    "pred = model.predict(sx)"
   ]
  },
  {
   "cell_type": "markdown",
   "metadata": {
    "id": "U-Eilk1NQDwP"
   },
   "source": [
    "## 예측값(Predicted values)"
   ]
  },
  {
   "cell_type": "code",
   "execution_count": null,
   "metadata": {
    "executionInfo": {
     "elapsed": 418,
     "status": "ok",
     "timestamp": 1677995877551,
     "user": {
      "displayName": "Victoria Kim",
      "userId": "08333052824334996602"
     },
     "user_tz": -540
    },
    "id": "INEb7CXwQDwP"
   },
   "outputs": [],
   "source": [
    "y_pred = \n",
    "y_true = "
   ]
  },
  {
   "cell_type": "code",
   "execution_count": null,
   "metadata": {
    "colab": {
     "base_uri": "https://localhost:8080/"
    },
    "executionInfo": {
     "elapsed": 4,
     "status": "ok",
     "timestamp": 1677995877920,
     "user": {
      "displayName": "Victoria Kim",
      "userId": "08333052824334996602"
     },
     "user_tz": -540
    },
    "id": "XInRkA18QDwP",
    "outputId": "65c2cb8b-17f4-434c-a69d-9479ba078821",
    "scrolled": true
   },
   "outputs": [],
   "source": [
    "print(  )   # 0: 오답"
   ]
  },
  {
   "cell_type": "code",
   "execution_count": null,
   "metadata": {
    "colab": {
     "base_uri": "https://localhost:8080/"
    },
    "executionInfo": {
     "elapsed": 1,
     "status": "ok",
     "timestamp": 1677995881344,
     "user": {
      "displayName": "Victoria Kim",
      "userId": "08333052824334996602"
     },
     "user_tz": -540
    },
    "id": "IVHugAf5QDwQ",
    "outputId": "81d06031-4b9f-4158-a359-76790af443ad"
   },
   "outputs": [],
   "source": [
    "indices = \n",
    "indices.shape"
   ]
  },
  {
   "cell_type": "code",
   "execution_count": null,
   "metadata": {
    "colab": {
     "base_uri": "https://localhost:8080/",
     "height": 364
    },
    "executionInfo": {
     "elapsed": 4,
     "status": "ok",
     "timestamp": 1677995885645,
     "user": {
      "displayName": "Victoria Kim",
      "userId": "08333052824334996602"
     },
     "user_tz": -540
    },
    "id": "D6zI0xCGQDwQ",
    "outputId": "0e55948e-e67b-40e2-d911-55b7c8d05e61"
   },
   "outputs": [],
   "source": [
    "inc_df = df.iloc[indices]\n",
    "inc_df[  ].describe()"
   ]
  },
  {
   "cell_type": "code",
   "execution_count": null,
   "metadata": {
    "colab": {
     "base_uri": "https://localhost:8080/",
     "height": 364
    },
    "executionInfo": {
     "elapsed": 3,
     "status": "ok",
     "timestamp": 1677995888392,
     "user": {
      "displayName": "Victoria Kim",
      "userId": "08333052824334996602"
     },
     "user_tz": -540
    },
    "id": "1r01rc1yQDwQ",
    "outputId": "27f70711-f2f6-4fce-f84e-d4eef3e536b1",
    "scrolled": true
   },
   "outputs": [],
   "source": []
  },
  {
   "cell_type": "code",
   "execution_count": null,
   "metadata": {
    "executionInfo": {
     "elapsed": 1,
     "status": "ok",
     "timestamp": 1677995889879,
     "user": {
      "displayName": "Victoria Kim",
      "userId": "08333052824334996602"
     },
     "user_tz": -540
    },
    "id": "svMWIiF6QDwQ"
   },
   "outputs": [],
   "source": []
  },
  {
   "cell_type": "markdown",
   "metadata": {
    "id": "-3RBii_zQDwS"
   },
   "source": [
    "## 전체 평가 지표를 한 번에.."
   ]
  },
  {
   "cell_type": "code",
   "execution_count": null,
   "metadata": {
    "colab": {
     "base_uri": "https://localhost:8080/"
    },
    "executionInfo": {
     "elapsed": 1,
     "status": "ok",
     "timestamp": 1677995904019,
     "user": {
      "displayName": "Victoria Kim",
      "userId": "08333052824334996602"
     },
     "user_tz": -540
    },
    "id": "okL2eTd9QDwS",
    "outputId": "cff0d9f6-8203-4831-ae5f-c0d05e96982d",
    "scrolled": true
   },
   "outputs": [],
   "source": [
    "print(\"Classification Report:\\n\",  )"
   ]
  },
  {
   "cell_type": "code",
   "execution_count": null,
   "metadata": {
    "executionInfo": {
     "elapsed": 1,
     "status": "ok",
     "timestamp": 1677995904803,
     "user": {
      "displayName": "Victoria Kim",
      "userId": "08333052824334996602"
     },
     "user_tz": -540
    },
    "id": "qvmNXuwiQDwS"
   },
   "outputs": [],
   "source": [
    "def dispConfusionMatrix(y_true, y_pred):\n",
    "    plt.figure( figsize=(4,3))\n",
    "    sns.heatmap( , annot=True, fmt='d' )\n",
    "    plt.xlabel('Predicted')\n",
    "    plt.ylabel('Ground truth')\n",
    "    plt.show()"
   ]
  },
  {
   "cell_type": "code",
   "execution_count": null,
   "metadata": {
    "colab": {
     "base_uri": "https://localhost:8080/",
     "height": 230
    },
    "executionInfo": {
     "elapsed": 507,
     "status": "ok",
     "timestamp": 1677995905764,
     "user": {
      "displayName": "Victoria Kim",
      "userId": "08333052824334996602"
     },
     "user_tz": -540
    },
    "id": "qzKs_NdkQDwS",
    "outputId": "cd77993d-93e7-4937-da3d-4efbfba3853c",
    "scrolled": true
   },
   "outputs": [],
   "source": [
    "dispConfusionMatrix(y_true, y_pred)"
   ]
  },
  {
   "cell_type": "markdown",
   "metadata": {
    "id": "-gNKtXruQDwT"
   },
   "source": [
    "\n",
    "# 2.Wine 분류\n",
    "- https://archive.ics.uci.edu/ml/datasets/wine+quality"
   ]
  },
  {
   "cell_type": "code",
   "execution_count": null,
   "metadata": {
    "colab": {
     "base_uri": "https://localhost:8080/",
     "height": 206
    },
    "executionInfo": {
     "elapsed": 942,
     "status": "ok",
     "timestamp": 1677995938487,
     "user": {
      "displayName": "Victoria Kim",
      "userId": "08333052824334996602"
     },
     "user_tz": -540
    },
    "id": "tZH2gSftQDwT",
    "outputId": "7ac069c0-c635-410b-da31-938a8717b9ff",
    "scrolled": true
   },
   "outputs": [],
   "source": [
    "wine = pd.read_csv(PATH + 'wine.csv', header=None)\n",
    "wine.head()"
   ]
  },
  {
   "cell_type": "code",
   "execution_count": null,
   "metadata": {
    "colab": {
     "base_uri": "https://localhost:8080/"
    },
    "executionInfo": {
     "elapsed": 1,
     "status": "ok",
     "timestamp": 1677995942906,
     "user": {
      "displayName": "Victoria Kim",
      "userId": "08333052824334996602"
     },
     "user_tz": -540
    },
    "id": "SKF9oLp8QDwT",
    "outputId": "af113af5-a9d2-4c56-c877-52c62febbff6"
   },
   "outputs": [],
   "source": [
    "wine[12].value_counts()"
   ]
  },
  {
   "cell_type": "code",
   "execution_count": null,
   "metadata": {
    "colab": {
     "base_uri": "https://localhost:8080/"
    },
    "executionInfo": {
     "elapsed": 2,
     "status": "ok",
     "timestamp": 1677995944059,
     "user": {
      "displayName": "Victoria Kim",
      "userId": "08333052824334996602"
     },
     "user_tz": -540
    },
    "id": "ZOraFECHQDwT",
    "outputId": "bd54ab94-6a30-4d41-cf69-98ad9927315f"
   },
   "outputs": [],
   "source": []
  },
  {
   "cell_type": "code",
   "execution_count": null,
   "metadata": {
    "colab": {
     "base_uri": "https://localhost:8080/",
     "height": 206
    },
    "executionInfo": {
     "elapsed": 4,
     "status": "ok",
     "timestamp": 1677995945466,
     "user": {
      "displayName": "Victoria Kim",
      "userId": "08333052824334996602"
     },
     "user_tz": -540
    },
    "id": "UA-10vHmQDwT",
    "outputId": "3e1a0b71-9432-4941-cf54-e04497015904"
   },
   "outputs": [],
   "source": [
    "df =   # 원본 데이터에서 자료를 random하게 뽑아냄. 1*100%\n",
    "df.head()"
   ]
  },
  {
   "cell_type": "code",
   "execution_count": null,
   "metadata": {
    "colab": {
     "base_uri": "https://localhost:8080/"
    },
    "executionInfo": {
     "elapsed": 1,
     "status": "ok",
     "timestamp": 1677995947294,
     "user": {
      "displayName": "Victoria Kim",
      "userId": "08333052824334996602"
     },
     "user_tz": -540
    },
    "id": "1jRbruFdQDwT",
    "outputId": "aaeb4f3f-7cdf-4799-85f7-8f2de5a6db97"
   },
   "outputs": [],
   "source": [
    "df.info()"
   ]
  },
  {
   "cell_type": "code",
   "execution_count": null,
   "metadata": {
    "executionInfo": {
     "elapsed": 3,
     "status": "ok",
     "timestamp": 1677995948699,
     "user": {
      "displayName": "Victoria Kim",
      "userId": "08333052824334996602"
     },
     "user_tz": -540
    },
    "id": "yXUmtyr0QDwT"
   },
   "outputs": [],
   "source": [
    "x = \n",
    "y ="
   ]
  },
  {
   "cell_type": "code",
   "execution_count": null,
   "metadata": {
    "colab": {
     "base_uri": "https://localhost:8080/"
    },
    "executionInfo": {
     "elapsed": 2,
     "status": "ok",
     "timestamp": 1677995950196,
     "user": {
      "displayName": "Victoria Kim",
      "userId": "08333052824334996602"
     },
     "user_tz": -540
    },
    "id": "pC-mZdrmQDwT",
    "outputId": "a6a8acde-f593-44d2-c7f5-54bfadd5f76f"
   },
   "outputs": [],
   "source": [
    "\n",
    "x_train, x_test, y_train, y_test = train_test_split(x, y, \n",
    "                                                    test_size=0.3, \n",
    "                                                    random_state = 0)\n",
    "x_train.shape, x_test.shape"
   ]
  },
  {
   "cell_type": "markdown",
   "metadata": {
    "id": "Vql3XrYdQDwT"
   },
   "source": [
    "## 2.1 수행 1"
   ]
  },
  {
   "cell_type": "code",
   "execution_count": null,
   "metadata": {
    "colab": {
     "base_uri": "https://localhost:8080/"
    },
    "executionInfo": {
     "elapsed": 743866,
     "status": "ok",
     "timestamp": 1677996697619,
     "user": {
      "displayName": "Victoria Kim",
      "userId": "08333052824334996602"
     },
     "user_tz": -540
    },
    "id": "6y_wNimWQDwT",
    "outputId": "6f41d3d8-3d42-4084-f9ae-fc1855c30be4",
    "scrolled": true
   },
   "outputs": [],
   "source": [
    "\n",
    "\n",
    "# 모델 학습 및 저장\n",
    "\n",
    "\n",
    "print(\"Train set accuracy: %.4f\" % (model.evaluate(x_train, y_train)[1]))\n",
    "print(\"Test set accuracy: %.4f\" % (model.evaluate(x_test, y_test)[1]))"
   ]
  },
  {
   "cell_type": "code",
   "execution_count": null,
   "metadata": {
    "colab": {
     "base_uri": "https://localhost:8080/"
    },
    "executionInfo": {
     "elapsed": 3,
     "status": "ok",
     "timestamp": 1677996697994,
     "user": {
      "displayName": "Victoria Kim",
      "userId": "08333052824334996602"
     },
     "user_tz": -540
    },
    "id": "Q9NPfymkQDwU",
    "outputId": "dd5818d1-734f-4074-f0fa-3014392d16d0"
   },
   "outputs": [],
   "source": [
    "fit_history.history.keys()"
   ]
  },
  {
   "cell_type": "code",
   "execution_count": null,
   "metadata": {
    "colab": {
     "base_uri": "https://localhost:8080/",
     "height": 485
    },
    "executionInfo": {
     "elapsed": 608,
     "status": "ok",
     "timestamp": 1677996698600,
     "user": {
      "displayName": "Victoria Kim",
      "userId": "08333052824334996602"
     },
     "user_tz": -540
    },
    "id": "g6VxkoE4QDwU",
    "outputId": "e07b2e23-b7e3-4e8c-9224-295d9e061fc8"
   },
   "outputs": [],
   "source": [
    "history_plot(fit_history)"
   ]
  },
  {
   "cell_type": "markdown",
   "metadata": {
    "id": "S9RYxjhSQDwU"
   },
   "source": [
    "## 2.2 수행 2:Early Stopping"
   ]
  },
  {
   "cell_type": "code",
   "execution_count": null,
   "metadata": {
    "colab": {
     "base_uri": "https://localhost:8080/"
    },
    "executionInfo": {
     "elapsed": 98451,
     "status": "ok",
     "timestamp": 1677996886586,
     "user": {
      "displayName": "Victoria Kim",
      "userId": "08333052824334996602"
     },
     "user_tz": -540
    },
    "id": "0uz4Hj8mQDwU",
    "outputId": "b575abfe-ff0c-4b7f-e370-a6bf30a6ea36"
   },
   "outputs": [],
   "source": [
    "\n",
    "\n",
    "\n",
    "    \n",
    "# 모델 저장 조건 설정\n",
    "modelfile = PATH+'wine_best.h5'\n",
    "checkpointer = ModelCheckpoint(filepath=modelfile, monitor= , \n",
    "                               verbose=0, save_best_only= )\n",
    "\n",
    "# 학습의 자동 중단 설정\n",
    "early_stopping_callback = EarlyStopping(monitor= , patience= )\n",
    "\n",
    "\n",
    "\n",
    "print(\"Train set accuracy: %.4f\" % (model.evaluate(x_train, y_train)[1]))\n",
    "print(\"Test set accuracy: %.4f\" % (model.evaluate(x_test, y_test)[1]))"
   ]
  },
  {
   "cell_type": "code",
   "execution_count": null,
   "metadata": {
    "colab": {
     "base_uri": "https://localhost:8080/",
     "height": 485
    },
    "executionInfo": {
     "elapsed": 851,
     "status": "ok",
     "timestamp": 1677996733251,
     "user": {
      "displayName": "Victoria Kim",
      "userId": "08333052824334996602"
     },
     "user_tz": -540
    },
    "id": "-FamdLxBQDwU",
    "outputId": "795dc20c-6cb4-4b19-9c65-1dc5035d90ad"
   },
   "outputs": [],
   "source": [
    "history_plot(fit_history)"
   ]
  },
  {
   "cell_type": "code",
   "execution_count": null,
   "metadata": {
    "colab": {
     "base_uri": "https://localhost:8080/"
    },
    "executionInfo": {
     "elapsed": 2402,
     "status": "ok",
     "timestamp": 1677996890074,
     "user": {
      "displayName": "Victoria Kim",
      "userId": "08333052824334996602"
     },
     "user_tz": -540
    },
    "id": "sSAlcUjvQDwU",
    "outputId": "5d9a1d3d-2e20-4f6b-d389-ec91169dddec"
   },
   "outputs": [],
   "source": [
    "optimal_model = load_model(PATH+\"wine_best.h5\")\n",
    "print(\"Accuracy: %.4f\" % (optimal_model.evaluate(x, y)[1]))\n",
    "print(\"Train set accuracy: %.4f\" % (optimal_model.evaluate(x_train, y_train)[1]))\n",
    "print(\"Test set accuracy: %.4f\" % (optimal_model.evaluate(x_test, y_test)[1]))"
   ]
  },
  {
   "cell_type": "markdown",
   "metadata": {
    "id": "w_fr0Q6AQDwU"
   },
   "source": [
    "##  2.3 수행 3: 교차검증"
   ]
  },
  {
   "cell_type": "code",
   "execution_count": null,
   "metadata": {
    "id": "pA13zIPNQDwU",
    "outputId": "c473fcd7-1039-4443-f9c5-9bfa45d09d30"
   },
   "outputs": [],
   "source": [
    "from sklearn.model_selection import StratifiedKFold\n",
    "seed = 0\n",
    "n_fold = \n",
    "skf = StratifiedKFold( n_splits=n_fold, shuffle=True, random_state=seed)\n",
    "\n",
    "accuracy_list = []\n",
    "for train_index, test_index in skf.split(x, y):\n",
    "\n",
    "    \n",
    "    x_train, x_test = \n",
    "    y_train, y_test = \n",
    "    model.fit(x_train, y_train, epochs=1500, batch_size=128, verbose=0)\n",
    "     \n",
    "    accuracy_list.append(    )\n",
    "else:\n",
    "    print(n_fold,\"-fold accuracy: \", accuracy_list)\n",
    "    print(\"Average accuracy: %.4f\" % (sum(accuracy_list)/n_fold) )"
   ]
  },
  {
   "cell_type": "code",
   "execution_count": null,
   "metadata": {
    "executionInfo": {
     "elapsed": 5,
     "status": "ok",
     "timestamp": 1677996697994,
     "user": {
      "displayName": "Victoria Kim",
      "userId": "08333052824334996602"
     },
     "user_tz": -540
    },
    "id": "E5bjD4-kQDwV"
   },
   "outputs": [],
   "source": []
  },
  {
   "cell_type": "markdown",
   "metadata": {
    "id": "MaaRzLeTQDwV"
   },
   "source": [
    "#  3. 광물 예측\n",
    "-  SONAR TARGET DETECTION by Prof. Sejnowski"
   ]
  },
  {
   "cell_type": "code",
   "execution_count": null,
   "metadata": {},
   "outputs": [],
   "source": [
    "1. where can i get Sejnowski's sonar dataset?"
   ]
  },
  {
   "cell_type": "code",
   "execution_count": null,
   "metadata": {},
   "outputs": [],
   "source": []
  },
  {
   "cell_type": "markdown",
   "metadata": {},
   "source": [
    "# 데이터 확인"
   ]
  },
  {
   "cell_type": "code",
   "execution_count": null,
   "metadata": {},
   "outputs": [],
   "source": [
    "please make a Keras code as followings: \n",
    "1) read dataset as dataframe 'df' that  is in directory '/content/drive/MyDrive/ICTIS_2023/data' \n",
    "   and filename is 'sonar.csv' without index and column names\n",
    "2) plot random 10 samples"
   ]
  },
  {
   "cell_type": "code",
   "execution_count": null,
   "metadata": {},
   "outputs": [],
   "source": []
  },
  {
   "cell_type": "markdown",
   "metadata": {},
   "source": [
    "## 수행 1: 학습 셋과 테스트 셋 분리 (과적합 확인)"
   ]
  },
  {
   "cell_type": "code",
   "execution_count": null,
   "metadata": {},
   "outputs": [],
   "source": [
    "please make a Keras code as followings: \n",
    "1) encode label 'M' and 'R' in the last column of the dataframe 'df' to integer\n",
    "2) split the whole dataset into training set and test set in the ratio of 7: 3\n",
    "3) make a Sequential perceptron for Senowski's sonar dataset\n",
    "4) the model has 2 hidden layers with 32 and 16 nodes respectively\n",
    "5) trains 10000 epochs with x_train and y_train data\n",
    "6) early stop to prevent overfitting\n",
    "7) save the best model to filename 'sonar_best.h5' \n",
    "8) output train and test accuracy of trained model\n",
    "9) choose the best optimizer and loss function   \n",
    "10) plot train and validation accuracy and loss during training \n",
    "11) save training history and display training accuracy and test accuracy"
   ]
  },
  {
   "cell_type": "code",
   "execution_count": null,
   "metadata": {},
   "outputs": [],
   "source": []
  },
  {
   "cell_type": "markdown",
   "metadata": {},
   "source": [
    "##  수행 2: 교차검증"
   ]
  },
  {
   "cell_type": "code",
   "execution_count": null,
   "metadata": {},
   "outputs": [],
   "source": [
    "- 다음과 같이 수행되도록 프롬프트를 작성하시오.\n",
    "\n",
    "- make 10-fold cross validation and display average accuracy\n",
    "- 데이터를 읽어서 전체 데이터셋을사용\n",
    "- 수행 1과 동일한 모델이며 학습은 200번 수행\n"
   ]
  },
  {
   "cell_type": "code",
   "execution_count": null,
   "metadata": {},
   "outputs": [],
   "source": []
  },
  {
   "cell_type": "code",
   "execution_count": null,
   "metadata": {
    "executionInfo": {
     "elapsed": 4,
     "status": "ok",
     "timestamp": 1677996697994,
     "user": {
      "displayName": "Victoria Kim",
      "userId": "08333052824334996602"
     },
     "user_tz": -540
    },
    "id": "CiJmtwBpQDwX"
   },
   "outputs": [],
   "source": []
  },
  {
   "cell_type": "markdown",
   "metadata": {
    "id": "y_sJJ4ASQDwX"
   },
   "source": [
    "# 4. IRIS 품종 분류\n",
    "- https://archive.ics.uci.edu/ml/index.php"
   ]
  },
  {
   "cell_type": "code",
   "execution_count": null,
   "metadata": {},
   "outputs": [],
   "source": [
    "- 다음과 같이 수행되도록 문제를 풀어보시오.\n",
    "1) 'iris.csv' 을 데이터프레임 df로 읽는다\n",
    "2) 마지막 열을 encode한다\n",
    "3) 전체 데이터셋을 학습셋과 테스트셋으로 분리한다.(비율은 7:3)\n",
    "4) Sequential 모델을 만든다\n",
    "5) 은닉노드는 2층(각각 16과 8개의 뉴런) \n",
    "6) 3500번 학습, validation dataset은 x_test와 y_test\n",
    "7) overfitting 막기 위해 early stopping\n",
    "8) 학습시 최적의 모델은 'iris_best.h5'에 저장\n",
    "9) 정확도 출력\n",
    "10) optimizer와 loss function 을 정함\n",
    "11) 학습동안의 정확도와 loss plot"
   ]
  },
  {
   "cell_type": "code",
   "execution_count": null,
   "metadata": {},
   "outputs": [],
   "source": []
  },
  {
   "cell_type": "markdown",
   "metadata": {
    "id": "Z5noi9LdQDwY"
   },
   "source": [
    "# 5. MNIST Digits"
   ]
  },
  {
   "cell_type": "code",
   "execution_count": null,
   "metadata": {},
   "outputs": [],
   "source": [
    "MNIST digits 분류하는 케라스 프로그램을 다음과 같이 만들어줘.\n",
    "1) 데이터는 케라스 데이터셋에서 읽어온다.\n",
    "2) 학습셋 100개를 임의로 화면에 그린다.\n",
    "3) Sequentail multi-layered perceptron을 사용한다.\n",
    "4) 은닉층은 1개이고 512개의 뉴런을 가진다.\n",
    "5) 출력층의 뉴런의 수는 10개이다.\n",
    "5) x_test, y_test의 검증 데이터를 사용해서 100번 학습한다.\n",
    "6) 과적합이 발생하면 학습을 중단한다.\n",
    "7) 학습하면셔 val_loss가 가장 작은 최적의 모델을  'mnist_best.h5' 파일로 저장한다.\n",
    "8) 학습 셋과 테스트 셋에 대한 정확도를 출력한다.\n",
    "9)  optimizer와 loss function은 가장 적합한 것으로 정한다.   \n",
    "10) 학습하는 동안의 history를 저장하고 accuracy와 loss 그래프를 그린다.  \n",
    "11) 테스트 데이터셋에 대한 혼동행렬을 출력한다.\n",
    "12) 잘못 예측한 데이터를 40개 화면에 출력한다."
   ]
  },
  {
   "cell_type": "code",
   "execution_count": null,
   "metadata": {
    "id": "NDRuyKkqQDwa"
   },
   "outputs": [],
   "source": []
  },
  {
   "cell_type": "markdown",
   "metadata": {
    "id": "itPNMiu0QDwc"
   },
   "source": [
    "# 6. 보스턴 집값 예측 "
   ]
  },
  {
   "cell_type": "markdown",
   "metadata": {
    "id": "F47wzqvGQDwc"
   },
   "source": [
    "## (1) 단층 perceptron "
   ]
  },
  {
   "cell_type": "code",
   "execution_count": null,
   "metadata": {
    "executionInfo": {
     "elapsed": 368,
     "status": "ok",
     "timestamp": 1678001333424,
     "user": {
      "displayName": "Victoria Kim",
      "userId": "08333052824334996602"
     },
     "user_tz": -540
    },
    "id": "sKACqES6QDwc"
   },
   "outputs": [],
   "source": [
    "보스턴 집값 예측하는 Keras 프로그램을 다음과 같이 작성해줘.\n",
    "1) 단층 퍼셉트론으로 구현한다. \n",
    "2) 출력층의 뉴런은 1개이다.\n",
    "3) optimizer와 loss function은 가장 적합한 것으로 정한다. \n",
    "4) 20000번 학습한다.\n",
    "5) 학습 완료 후, 학습 셋과 테스트 셋에 대한 MSE를 계산한다.\n",
    "6) 테스트 셋으로 예측하고, 실제값과 예측값을 비교 분석한다.\n",
    "7) 모델의 weight를 출력한다."
   ]
  },
  {
   "cell_type": "code",
   "execution_count": null,
   "metadata": {},
   "outputs": [],
   "source": []
  },
  {
   "cell_type": "code",
   "execution_count": null,
   "metadata": {},
   "outputs": [],
   "source": []
  },
  {
   "cell_type": "markdown",
   "metadata": {
    "id": "aKy1jICiQDwf"
   },
   "source": [
    "## (2) Deep Neural Network"
   ]
  },
  {
   "cell_type": "code",
   "execution_count": null,
   "metadata": {},
   "outputs": [],
   "source": [
    "보스턴 집값 예측하는 Keras 프로그램을 다음과 같이 작성해줘.\n",
    "1) 다층 퍼셉트론으로 구현한다. \n",
    "2) 은닉층은 4개이며, 각각 32, 16, 16, 16, 8개의 뉴런을 가진다.\n",
    "\n",
    ".. 더 필요한 사항은 추가작성하시오 ..."
   ]
  },
  {
   "cell_type": "code",
   "execution_count": null,
   "metadata": {
    "id": "JObGY4r-QDwg"
   },
   "outputs": [],
   "source": []
  },
  {
   "cell_type": "code",
   "execution_count": null,
   "metadata": {
    "id": "aTl9hWeiQDwg"
   },
   "outputs": [],
   "source": [
    "실제값과 예측값을 비교해서 그래프로 출력하는 Python 프로그램 작성해줘"
   ]
  },
  {
   "cell_type": "code",
   "execution_count": null,
   "metadata": {
    "id": "LJAvUfwFQDwg"
   },
   "outputs": [],
   "source": []
  },
  {
   "cell_type": "code",
   "execution_count": null,
   "metadata": {
    "id": "TofdCZHiQDwg"
   },
   "outputs": [],
   "source": []
  }
 ],
 "metadata": {
  "accelerator": "GPU",
  "colab": {
   "provenance": []
  },
  "gpuClass": "standard",
  "kernelspec": {
   "display_name": "Python 3 (ipykernel)",
   "language": "python",
   "name": "python3"
  },
  "language_info": {
   "codemirror_mode": {
    "name": "ipython",
    "version": 3
   },
   "file_extension": ".py",
   "mimetype": "text/x-python",
   "name": "python",
   "nbconvert_exporter": "python",
   "pygments_lexer": "ipython3",
   "version": "3.8.10"
  }
 },
 "nbformat": 4,
 "nbformat_minor": 1
}
