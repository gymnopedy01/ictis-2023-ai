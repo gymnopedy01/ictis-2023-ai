{
  "cells": [
    {
      "cell_type": "code",
      "execution_count": null,
      "metadata": {
        "id": "SBSUwfkFL0KC"
      },
      "outputs": [],
      "source": [
        "import pandas as pd"
      ]
    },
    {
      "cell_type": "markdown",
      "source": [
        "# Series"
      ],
      "metadata": {
        "id": "wfoW4ugUMYw-"
      }
    },
    {
      "cell_type": "markdown",
      "source": [
        "## 1. Series의 생성"
      ],
      "metadata": {
        "id": "PX6bF155L-jx"
      }
    },
    {
      "cell_type": "code",
      "execution_count": null,
      "metadata": {
        "id": "gsBe8lFkL0KC"
      },
      "outputs": [],
      "source": [
        "names1 = ['철수', '영이', '길동', '미영', '순이', '철이']\n",
        "score1 = [84, 21, 87, 100, 59, 46]"
      ]
    },
    {
      "cell_type": "code",
      "execution_count": null,
      "metadata": {
        "id": "cJmQDUfoL0KC"
      },
      "outputs": [],
      "source": [
        "s1 = "
      ]
    },
    {
      "cell_type": "code",
      "execution_count": null,
      "metadata": {
        "id": "sEgnwp3vL0KD"
      },
      "outputs": [],
      "source": [
        "s1"
      ]
    },
    {
      "cell_type": "code",
      "execution_count": null,
      "metadata": {
        "id": "HjU5oCIhL0KD"
      },
      "outputs": [],
      "source": []
    },
    {
      "cell_type": "code",
      "execution_count": null,
      "metadata": {
        "id": "a-9drXwML0KD"
      },
      "outputs": [],
      "source": []
    },
    {
      "cell_type": "code",
      "execution_count": null,
      "metadata": {
        "id": "6Q-PiU9yL0KD"
      },
      "outputs": [],
      "source": []
    },
    {
      "cell_type": "markdown",
      "source": [
        "## 2. Series의 연산"
      ],
      "metadata": {
        "id": "NwVIjLpmMH8e"
      }
    },
    {
      "cell_type": "code",
      "source": [],
      "metadata": {
        "id": "WcKiQiXPMHp2"
      },
      "execution_count": null,
      "outputs": []
    },
    {
      "cell_type": "code",
      "execution_count": null,
      "metadata": {
        "id": "QWB7620OL0KD"
      },
      "outputs": [],
      "source": []
    },
    {
      "cell_type": "code",
      "source": [],
      "metadata": {
        "id": "kDQ5z7l7MO33"
      },
      "execution_count": null,
      "outputs": []
    },
    {
      "cell_type": "code",
      "source": [
        "score3  = [86, 88, 90, 45, 93, 82]\n",
        "s3 = \n",
        "s3"
      ],
      "metadata": {
        "id": "Ni-_zH8BMPAK"
      },
      "execution_count": null,
      "outputs": []
    },
    {
      "cell_type": "code",
      "source": [],
      "metadata": {
        "id": "eZ9p9R16MPDO"
      },
      "execution_count": null,
      "outputs": []
    },
    {
      "cell_type": "code",
      "execution_count": null,
      "metadata": {
        "id": "7IHiei8hL0KD"
      },
      "outputs": [],
      "source": [
        "['cat', 'dog', 'rabbit']\n",
        "s"
      ]
    },
    {
      "cell_type": "code",
      "execution_count": null,
      "metadata": {
        "id": "z8rraxSpL0KD"
      },
      "outputs": [],
      "source": []
    },
    {
      "cell_type": "markdown",
      "metadata": {
        "id": "WherToz3L0KD"
      },
      "source": [
        "## DataFrame"
      ]
    },
    {
      "cell_type": "markdown",
      "source": [
        "## ◆ DataFrame의 생성\n",
        "### (1) Series를 이용하여 생성"
      ],
      "metadata": {
        "id": "Zpu2aYWIMfXo"
      }
    },
    {
      "cell_type": "code",
      "execution_count": null,
      "metadata": {
        "id": "JjWsQ4P4L0KJ"
      },
      "outputs": [],
      "source": []
    },
    {
      "cell_type": "code",
      "execution_count": null,
      "metadata": {
        "id": "e2EHnSVbL0KJ"
      },
      "outputs": [],
      "source": []
    },
    {
      "cell_type": "markdown",
      "source": [
        "### (2) 데이터 직접 넣어 생성: \n",
        "#### ① index와 columns 지정 없을 때"
      ],
      "metadata": {
        "id": "zlwSye37MoLf"
      }
    },
    {
      "cell_type": "code",
      "execution_count": null,
      "metadata": {
        "id": "obWYpKwLL0KJ"
      },
      "outputs": [],
      "source": [
        "scores = [[84, 87, 78], [21, 15, 84], [87, 84, 76], \n",
        "          [100, 87, 99], [59, 99, 59], [46, 77, 56]]"
      ]
    },
    {
      "cell_type": "code",
      "source": [],
      "metadata": {
        "id": "NF8YVlOPMrJq"
      },
      "execution_count": null,
      "outputs": []
    },
    {
      "cell_type": "code",
      "source": [],
      "metadata": {
        "id": "8TdLkJDyMq-i"
      },
      "execution_count": null,
      "outputs": []
    },
    {
      "cell_type": "markdown",
      "source": [
        "#### ② index와 columns 지정 있을 때"
      ],
      "metadata": {
        "id": "SNvJNEq4MtUi"
      }
    },
    {
      "cell_type": "code",
      "source": [],
      "metadata": {
        "id": "Lh8PEImMMq5e"
      },
      "execution_count": null,
      "outputs": []
    },
    {
      "cell_type": "code",
      "source": [
        "scores = [[84, 87, 78], [21, 15, 84], [87, 84, 76], [100, 87, 99], [59, 99, 59], [46, 77, 56]]\n",
        "names = ['철수', '영이', '길동', '미영', '순이', '철이']\n",
        "lectures =  ['국어','영어', '수학']"
      ],
      "metadata": {
        "id": "ucUQOkNzMq2t"
      },
      "execution_count": null,
      "outputs": []
    },
    {
      "cell_type": "code",
      "source": [],
      "metadata": {
        "id": "F8oWra5WM0jY"
      },
      "execution_count": null,
      "outputs": []
    },
    {
      "cell_type": "code",
      "source": [],
      "metadata": {
        "id": "afsuTn2eM0g-"
      },
      "execution_count": null,
      "outputs": []
    },
    {
      "cell_type": "markdown",
      "source": [
        "#### ③ dictionary를 사용할 때"
      ],
      "metadata": {
        "id": "iQJd0WfOM1Ww"
      }
    },
    {
      "cell_type": "code",
      "source": [
        "oresWithLectures = {  : [84, 21, 87,100, 59, 46],\n",
        "                       : [87, 15, 84, 87, 99, 77],\n",
        "                       : [78, 84, 76, 99, 59, 56]}"
      ],
      "metadata": {
        "id": "m-jHJ2BMM0d4"
      },
      "execution_count": null,
      "outputs": []
    },
    {
      "cell_type": "code",
      "source": [],
      "metadata": {
        "id": "ecNW8tfRNCqX"
      },
      "execution_count": null,
      "outputs": []
    },
    {
      "cell_type": "code",
      "source": [],
      "metadata": {
        "id": "RqR92eKZNCnN"
      },
      "execution_count": null,
      "outputs": []
    },
    {
      "cell_type": "code",
      "source": [],
      "metadata": {
        "id": "WpY6JTCyNCj8"
      },
      "execution_count": null,
      "outputs": []
    },
    {
      "cell_type": "code",
      "source": [],
      "metadata": {
        "id": "Bty_1kLWMqz3"
      },
      "execution_count": null,
      "outputs": []
    },
    {
      "cell_type": "code",
      "execution_count": null,
      "metadata": {
        "id": "N_HYy9IXL0KJ"
      },
      "outputs": [],
      "source": [
        "=['학생1','학생2','학생3','학생4','학생5','학생6']\n"
      ]
    },
    {
      "cell_type": "code",
      "source": [],
      "metadata": {
        "id": "t2HhQMNHNEqv"
      },
      "execution_count": null,
      "outputs": []
    },
    {
      "cell_type": "code",
      "execution_count": null,
      "metadata": {
        "id": "4OuuhiB8L0KJ"
      },
      "outputs": [],
      "source": [
        "['과목1', '과목2', '과목3']\n"
      ]
    },
    {
      "cell_type": "code",
      "execution_count": null,
      "metadata": {
        "id": "xnYN2heiL0KJ"
      },
      "outputs": [],
      "source": []
    },
    {
      "cell_type": "code",
      "execution_count": null,
      "metadata": {
        "id": "fnoQtc1IL0KJ"
      },
      "outputs": [],
      "source": []
    },
    {
      "cell_type": "code",
      "execution_count": null,
      "metadata": {
        "id": "k8ujcn5pL0KJ"
      },
      "outputs": [],
      "source": []
    },
    {
      "cell_type": "code",
      "execution_count": null,
      "metadata": {
        "id": "Bf5cuY_ML0KJ"
      },
      "outputs": [],
      "source": []
    },
    {
      "cell_type": "code",
      "execution_count": null,
      "metadata": {
        "id": "gHpl9c8vL0KJ"
      },
      "outputs": [],
      "source": []
    },
    {
      "cell_type": "code",
      "execution_count": null,
      "metadata": {
        "id": "cB0qgfVHL0KJ"
      },
      "outputs": [],
      "source": []
    },
    {
      "cell_type": "code",
      "execution_count": null,
      "metadata": {
        "id": "7k42UpXZL0KK"
      },
      "outputs": [],
      "source": []
    },
    {
      "cell_type": "code",
      "execution_count": null,
      "metadata": {
        "id": "7tOPt-esL0KK"
      },
      "outputs": [],
      "source": []
    },
    {
      "cell_type": "code",
      "execution_count": null,
      "metadata": {
        "id": "tIRr5RtAL0KK"
      },
      "outputs": [],
      "source": []
    },
    {
      "cell_type": "markdown",
      "source": [
        "## ▶ 파일 처리"
      ],
      "metadata": {
        "id": "M_Tm506JNdXP"
      }
    },
    {
      "cell_type": "code",
      "execution_count": null,
      "metadata": {
        "id": "69Pskh8gL0KK"
      },
      "outputs": [],
      "source": [
        "from google.colab import drive\n",
        "drive.mount('/content/drive')\n",
        "\n",
        "PATH= '/content/drive/MyDrive/ICTIS_2023/data/'"
      ]
    },
    {
      "cell_type": "code",
      "source": [],
      "metadata": {
        "id": "-LvaHUmrNjV-"
      },
      "execution_count": null,
      "outputs": []
    },
    {
      "cell_type": "code",
      "source": [],
      "metadata": {
        "id": "25lVVtA-NjTG"
      },
      "execution_count": null,
      "outputs": []
    },
    {
      "cell_type": "code",
      "source": [],
      "metadata": {
        "id": "nIBTfXuJNjL3"
      },
      "execution_count": null,
      "outputs": []
    },
    {
      "cell_type": "code",
      "source": [],
      "metadata": {
        "id": "6S1GVmucNjGy"
      },
      "execution_count": null,
      "outputs": []
    },
    {
      "cell_type": "code",
      "source": [],
      "metadata": {
        "id": "00uCsoNYNjES"
      },
      "execution_count": null,
      "outputs": []
    },
    {
      "cell_type": "code",
      "source": [],
      "metadata": {
        "id": "_TaPwkBuNjBQ"
      },
      "execution_count": null,
      "outputs": []
    },
    {
      "cell_type": "markdown",
      "source": [
        "## ▶ 응용"
      ],
      "metadata": {
        "id": "iZANfSWlNnoJ"
      }
    },
    {
      "cell_type": "code",
      "execution_count": null,
      "metadata": {
        "id": "UYMX-CuaL0KK"
      },
      "outputs": [],
      "source": [
        "names1  =  ['철수', '영이', '길동', '미영', '순이', '철이']\n",
        "\n",
        "columns= ['성별', '점수']\n",
        "\n",
        "scores = [['M', 45], ['F', 100], ['M', 70], ['F', 85], ['F', 100], ['M', 97]]\n",
        "\n",
        "d2 = "
      ]
    },
    {
      "cell_type": "code",
      "execution_count": null,
      "metadata": {
        "id": "FKFedIwVL0KK"
      },
      "outputs": [],
      "source": []
    },
    {
      "cell_type": "code",
      "execution_count": null,
      "metadata": {
        "id": "V6-a9bOpL0KK"
      },
      "outputs": [],
      "source": []
    },
    {
      "cell_type": "code",
      "execution_count": null,
      "metadata": {
        "id": "SISWqWaBL0KK"
      },
      "outputs": [],
      "source": []
    },
    {
      "cell_type": "code",
      "execution_count": null,
      "metadata": {
        "id": "PiV4ggQML0KK"
      },
      "outputs": [],
      "source": [
        "df = pd.read_csv( \"boston_house_price.csv\", index_col= )\n",
        "df"
      ]
    },
    {
      "cell_type": "code",
      "execution_count": null,
      "metadata": {
        "id": "270mkbaiL0KL"
      },
      "outputs": [],
      "source": []
    },
    {
      "cell_type": "code",
      "execution_count": null,
      "metadata": {
        "id": "s4gx0YjGL0KM"
      },
      "outputs": [],
      "source": []
    },
    {
      "cell_type": "code",
      "source": [],
      "metadata": {
        "id": "AKQvuFpjN6Lb"
      },
      "execution_count": null,
      "outputs": []
    },
    {
      "cell_type": "code",
      "source": [],
      "metadata": {
        "id": "TkOXxQomN6Iy"
      },
      "execution_count": null,
      "outputs": []
    },
    {
      "cell_type": "code",
      "source": [],
      "metadata": {
        "id": "0tdnCAawN6GJ"
      },
      "execution_count": null,
      "outputs": []
    },
    {
      "cell_type": "markdown",
      "source": [
        "## ▶ 유용한 데이터 전처리"
      ],
      "metadata": {
        "id": "5ahx4novN6sQ"
      }
    },
    {
      "cell_type": "code",
      "source": [
        "d = pd.read_csv(PATH+'scores.csv', index_col=0)"
      ],
      "metadata": {
        "id": "pUKR2MG5N8WU"
      },
      "execution_count": null,
      "outputs": []
    },
    {
      "cell_type": "code",
      "source": [],
      "metadata": {
        "id": "yUDNyY5sN8Tt"
      },
      "execution_count": null,
      "outputs": []
    },
    {
      "cell_type": "code",
      "source": [],
      "metadata": {
        "id": "tXVvP_K5N8Qz"
      },
      "execution_count": null,
      "outputs": []
    }
  ],
  "metadata": {
    "kernelspec": {
      "display_name": "Python 3 (ipykernel)",
      "language": "python",
      "name": "python3"
    },
    "language_info": {
      "codemirror_mode": {
        "name": "ipython",
        "version": 3
      },
      "file_extension": ".py",
      "mimetype": "text/x-python",
      "name": "python",
      "nbconvert_exporter": "python",
      "pygments_lexer": "ipython3",
      "version": "3.9.13"
    },
    "colab": {
      "provenance": []
    }
  },
  "nbformat": 4,
  "nbformat_minor": 0
}