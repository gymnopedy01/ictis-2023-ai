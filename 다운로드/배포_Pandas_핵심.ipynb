{
  "cells": [
    {
      "cell_type": "markdown",
      "source": [
        "- Pandas는 Numpy의 고성능 배열 계산 기능과 스프레드시트, SQL과 같은 관계형 데이터베이스의 데이터 조작 기능을 조합한 것.\n",
        "\n",
        "- Pandas는 series와 dataframe자료구조를 제공.\n",
        "  - Series"
      ],
      "metadata": {
        "id": "tFiWiP_YduXQ"
      }
    },
    {
      "cell_type": "code",
      "execution_count": 2,
      "metadata": {
        "id": "SBSUwfkFL0KC"
      },
      "outputs": [],
      "source": [
        "import pandas as pd"
      ]
    },
    {
      "cell_type": "markdown",
      "source": [
        "# Series\n",
        "1차원 배열 + index\n",
        "index : values를 선택할 때 주소 역할을 하는  배열(값이 모두 달라야 함)\n",
        "values: 데이터 부분에 해당하는 배열\n",
        "1차원 배열 vs Series : list vs dictionary 와 비슷\n"
      ],
      "metadata": {
        "id": "wfoW4ugUMYw-"
      }
    },
    {
      "cell_type": "markdown",
      "source": [
        "## 1. Series의 생성"
      ],
      "metadata": {
        "id": "PX6bF155L-jx"
      }
    },
    {
      "cell_type": "code",
      "execution_count": 3,
      "metadata": {
        "id": "gsBe8lFkL0KC"
      },
      "outputs": [],
      "source": [
        "names1 = ['철수', '영이', '길동', '미영', '순이', '철이']\n",
        "score1 = [84, 21, 87, 100, 59, 46]"
      ]
    },
    {
      "cell_type": "code",
      "execution_count": 6,
      "metadata": {
        "id": "cJmQDUfoL0KC",
        "outputId": "aca26fe7-345e-4ed1-b2f1-413c5e1547a4",
        "colab": {
          "base_uri": "https://localhost:8080/"
        }
      },
      "outputs": [
        {
          "output_type": "execute_result",
          "data": {
            "text/plain": [
              "0     84\n",
              "1     21\n",
              "2     87\n",
              "3    100\n",
              "4     59\n",
              "5     46\n",
              "dtype: int64"
            ]
          },
          "metadata": {},
          "execution_count": 6
        }
      ],
      "source": [
        "s = pd.Series(score1)\n",
        "s\n"
      ]
    },
    {
      "cell_type": "code",
      "source": [
        "%whos"
      ],
      "metadata": {
        "id": "A15M5tmIgLOy"
      },
      "execution_count": null,
      "outputs": []
    },
    {
      "cell_type": "code",
      "source": [
        "type(s)"
      ],
      "metadata": {
        "id": "UaO-syYRgMiv"
      },
      "execution_count": null,
      "outputs": []
    },
    {
      "cell_type": "code",
      "execution_count": 10,
      "metadata": {
        "id": "sEgnwp3vL0KD",
        "outputId": "cb599b30-f473-4825-d3db-7a900b7f9d3f",
        "colab": {
          "base_uri": "https://localhost:8080/"
        }
      },
      "outputs": [
        {
          "output_type": "execute_result",
          "data": {
            "text/plain": [
              "철수     84\n",
              "영이     21\n",
              "길동     87\n",
              "미영    100\n",
              "순이     59\n",
              "철이     46\n",
              "dtype: int64"
            ]
          },
          "metadata": {},
          "execution_count": 10
        }
      ],
      "source": [
        "s1 = pd.Series(score1, index= names1)\n",
        "s1"
      ]
    },
    {
      "cell_type": "code",
      "execution_count": 12,
      "metadata": {
        "id": "HjU5oCIhL0KD",
        "outputId": "e4f7f60e-2fc8-4b18-9ecb-0e8a31d58121",
        "colab": {
          "base_uri": "https://localhost:8080/"
        }
      },
      "outputs": [
        {
          "output_type": "stream",
          "name": "stdout",
          "text": [
            "Variable   Type      Data/Info\n",
            "------------------------------\n",
            "names1     list      n=6\n",
            "pd         module    <module 'pandas' from '/u<...>ages/pandas/__init__.py'>\n",
            "s          Series    0     84\\n1     21\\n2    <...>9\\n5     46\\ndtype: int64\n",
            "s1         Series    철수     84\\n영이     21\\n길동 <...>\\n철이     46\\ndtype: int64\n",
            "score1     list      n=6\n"
          ]
        }
      ],
      "source": [
        "%whos"
      ]
    },
    {
      "cell_type": "code",
      "execution_count": 17,
      "metadata": {
        "id": "a-9drXwML0KD",
        "outputId": "82d77c17-9bfa-4b94-d3c3-1d9dca68694a",
        "colab": {
          "base_uri": "https://localhost:8080/"
        }
      },
      "outputs": [
        {
          "output_type": "stream",
          "name": "stdout",
          "text": [
            "<class 'pandas.core.series.Series'>\n",
            "1\n",
            "(6,)\n",
            "Index(['철수', '영이', '길동', '미영', '순이', '철이'], dtype='object')\n",
            "[ 84  21  87 100  59  46]\n"
          ]
        }
      ],
      "source": [
        "print(type(s1))\n",
        "print(s1.ndim)\n",
        "print(s1.shape)\n",
        "print(s1.index)\n",
        "print(s1.values)"
      ]
    },
    {
      "cell_type": "code",
      "execution_count": 20,
      "metadata": {
        "id": "6Q-PiU9yL0KD",
        "outputId": "4b3ce447-d40d-4d64-e048-92f05b635a2a",
        "colab": {
          "base_uri": "https://localhost:8080/"
        }
      },
      "outputs": [
        {
          "output_type": "execute_result",
          "data": {
            "text/plain": [
              "철수     84\n",
              "영희     21\n",
              "길동     87\n",
              "미영    100\n",
              "순이     59\n",
              "철이     46\n",
              "dtype: int64"
            ]
          },
          "metadata": {},
          "execution_count": 20
        }
      ],
      "source": [
        "dic = {'철수' : 84, '영희':21, '길동':87, '미영':100, '순이': 59, '철이':46}\n",
        "s = pd.Series(dic)\n",
        "s"
      ]
    },
    {
      "cell_type": "code",
      "source": [
        "%whos"
      ],
      "metadata": {
        "id": "1WwRMvHxhrtR",
        "outputId": "dc1e2e3e-84ff-474e-8d44-a02d94d033e6",
        "colab": {
          "base_uri": "https://localhost:8080/"
        }
      },
      "execution_count": 21,
      "outputs": [
        {
          "output_type": "stream",
          "name": "stdout",
          "text": [
            "Variable   Type      Data/Info\n",
            "------------------------------\n",
            "dic        dict      n=6\n",
            "names1     list      n=6\n",
            "pd         module    <module 'pandas' from '/u<...>ages/pandas/__init__.py'>\n",
            "s          Series    철수     84\\n영희     21\\n길동 <...>\\n철이     46\\ndtype: int64\n",
            "s1         Series    철수     84\\n영이     21\\n길동 <...>\\n철이     46\\ndtype: int64\n",
            "score1     list      n=6\n"
          ]
        }
      ]
    },
    {
      "cell_type": "code",
      "source": [
        "names2 = ['길동', '철수', '영이','철이', '순이', '미영']\n",
        "scores2 = [99,87,87,84,77,15]\n",
        "\n",
        "s2 = pd.Series(scores2, index=names2)\n",
        "s2"
      ],
      "metadata": {
        "id": "VE2WdZWdiDGo",
        "outputId": "101c20b7-2cd5-48cd-cf03-23a4cfca4e20",
        "colab": {
          "base_uri": "https://localhost:8080/"
        }
      },
      "execution_count": 24,
      "outputs": [
        {
          "output_type": "execute_result",
          "data": {
            "text/plain": [
              "길동    99\n",
              "철수    87\n",
              "영이    87\n",
              "철이    84\n",
              "순이    77\n",
              "미영    15\n",
              "dtype: int64"
            ]
          },
          "metadata": {},
          "execution_count": 24
        }
      ]
    },
    {
      "cell_type": "markdown",
      "source": [
        "## 2. Series의 연산\n",
        "\n",
        "numpy의 array 간 덧셈 : score1 +  score2 -> 같은 위치의 원소끼리더함"
      ],
      "metadata": {
        "id": "NwVIjLpmMH8e"
      }
    },
    {
      "cell_type": "code",
      "source": [
        "print(s1+10)        #broadcating 기능  , 연산\n",
        "\n",
        "print(s1+s2)        # 인덱스 정렬 후 덧셈\n",
        "\n",
        "print(s1-s2)        # \n",
        "\n",
        "print((s1+s2)/2)\n"
      ],
      "metadata": {
        "id": "WcKiQiXPMHp2",
        "outputId": "9ee6e6ff-5ba3-4e84-aa5c-f98997b32687",
        "colab": {
          "base_uri": "https://localhost:8080/"
        }
      },
      "execution_count": 31,
      "outputs": [
        {
          "output_type": "stream",
          "name": "stdout",
          "text": [
            "철수     94\n",
            "영이     31\n",
            "길동     97\n",
            "미영    110\n",
            "순이     69\n",
            "철이     56\n",
            "dtype: int64\n",
            "길동    186\n",
            "미영    115\n",
            "순이    136\n",
            "영이    108\n",
            "철수    171\n",
            "철이    130\n",
            "dtype: int64\n",
            "길동   -12\n",
            "미영    85\n",
            "순이   -18\n",
            "영이   -66\n",
            "철수    -3\n",
            "철이   -38\n",
            "dtype: int64\n",
            "길동    93.0\n",
            "미영    57.5\n",
            "순이    68.0\n",
            "영이    54.0\n",
            "철수    85.5\n",
            "철이    65.0\n",
            "dtype: float64\n"
          ]
        }
      ]
    },
    {
      "cell_type": "code",
      "execution_count": null,
      "metadata": {
        "id": "QWB7620OL0KD"
      },
      "outputs": [],
      "source": []
    },
    {
      "cell_type": "code",
      "source": [],
      "metadata": {
        "id": "kDQ5z7l7MO33"
      },
      "execution_count": null,
      "outputs": []
    },
    {
      "cell_type": "code",
      "source": [
        "score3  = [86, 88, 90, 45, 93, 82]\n",
        "s3 = \n",
        "s3"
      ],
      "metadata": {
        "id": "Ni-_zH8BMPAK"
      },
      "execution_count": null,
      "outputs": []
    },
    {
      "cell_type": "code",
      "source": [],
      "metadata": {
        "id": "eZ9p9R16MPDO"
      },
      "execution_count": null,
      "outputs": []
    },
    {
      "cell_type": "code",
      "execution_count": null,
      "metadata": {
        "id": "7IHiei8hL0KD"
      },
      "outputs": [],
      "source": [
        "['cat', 'dog', 'rabbit']\n",
        "s"
      ]
    },
    {
      "cell_type": "code",
      "execution_count": null,
      "metadata": {
        "id": "z8rraxSpL0KD"
      },
      "outputs": [],
      "source": []
    },
    {
      "cell_type": "markdown",
      "metadata": {
        "id": "WherToz3L0KD"
      },
      "source": [
        "## DataFrame"
      ]
    },
    {
      "cell_type": "markdown",
      "source": [
        "## ◆ DataFrame의 생성\n",
        "### (1) Series를 이용하여 생성"
      ],
      "metadata": {
        "id": "Zpu2aYWIMfXo"
      }
    },
    {
      "cell_type": "code",
      "execution_count": null,
      "metadata": {
        "id": "JjWsQ4P4L0KJ"
      },
      "outputs": [],
      "source": []
    },
    {
      "cell_type": "code",
      "execution_count": null,
      "metadata": {
        "id": "e2EHnSVbL0KJ"
      },
      "outputs": [],
      "source": []
    },
    {
      "cell_type": "markdown",
      "source": [
        "### (2) 데이터 직접 넣어 생성: \n",
        "#### ① index와 columns 지정 없을 때"
      ],
      "metadata": {
        "id": "zlwSye37MoLf"
      }
    },
    {
      "cell_type": "code",
      "execution_count": null,
      "metadata": {
        "id": "obWYpKwLL0KJ"
      },
      "outputs": [],
      "source": [
        "scores = [[84, 87, 78], [21, 15, 84], [87, 84, 76], \n",
        "          [100, 87, 99], [59, 99, 59], [46, 77, 56]]"
      ]
    },
    {
      "cell_type": "code",
      "source": [],
      "metadata": {
        "id": "NF8YVlOPMrJq"
      },
      "execution_count": null,
      "outputs": []
    },
    {
      "cell_type": "code",
      "source": [],
      "metadata": {
        "id": "8TdLkJDyMq-i"
      },
      "execution_count": null,
      "outputs": []
    },
    {
      "cell_type": "markdown",
      "source": [
        "#### ② index와 columns 지정 있을 때"
      ],
      "metadata": {
        "id": "SNvJNEq4MtUi"
      }
    },
    {
      "cell_type": "code",
      "source": [],
      "metadata": {
        "id": "Lh8PEImMMq5e"
      },
      "execution_count": null,
      "outputs": []
    },
    {
      "cell_type": "code",
      "source": [
        "scores = [[84, 87, 78], [21, 15, 84], [87, 84, 76], [100, 87, 99], [59, 99, 59], [46, 77, 56]]\n",
        "names = ['철수', '영이', '길동', '미영', '순이', '철이']\n",
        "lectures =  ['국어','영어', '수학']"
      ],
      "metadata": {
        "id": "ucUQOkNzMq2t"
      },
      "execution_count": null,
      "outputs": []
    },
    {
      "cell_type": "code",
      "source": [],
      "metadata": {
        "id": "F8oWra5WM0jY"
      },
      "execution_count": null,
      "outputs": []
    },
    {
      "cell_type": "code",
      "source": [],
      "metadata": {
        "id": "afsuTn2eM0g-"
      },
      "execution_count": null,
      "outputs": []
    },
    {
      "cell_type": "markdown",
      "source": [
        "#### ③ dictionary를 사용할 때"
      ],
      "metadata": {
        "id": "iQJd0WfOM1Ww"
      }
    },
    {
      "cell_type": "code",
      "source": [
        "oresWithLectures = {  : [84, 21, 87,100, 59, 46],\n",
        "                       : [87, 15, 84, 87, 99, 77],\n",
        "                       : [78, 84, 76, 99, 59, 56]}"
      ],
      "metadata": {
        "id": "m-jHJ2BMM0d4"
      },
      "execution_count": null,
      "outputs": []
    },
    {
      "cell_type": "code",
      "source": [],
      "metadata": {
        "id": "ecNW8tfRNCqX"
      },
      "execution_count": null,
      "outputs": []
    },
    {
      "cell_type": "code",
      "source": [],
      "metadata": {
        "id": "RqR92eKZNCnN"
      },
      "execution_count": null,
      "outputs": []
    },
    {
      "cell_type": "code",
      "source": [],
      "metadata": {
        "id": "WpY6JTCyNCj8"
      },
      "execution_count": null,
      "outputs": []
    },
    {
      "cell_type": "code",
      "source": [],
      "metadata": {
        "id": "Bty_1kLWMqz3"
      },
      "execution_count": null,
      "outputs": []
    },
    {
      "cell_type": "code",
      "execution_count": null,
      "metadata": {
        "id": "N_HYy9IXL0KJ"
      },
      "outputs": [],
      "source": [
        "=['학생1','학생2','학생3','학생4','학생5','학생6']\n"
      ]
    },
    {
      "cell_type": "code",
      "source": [],
      "metadata": {
        "id": "t2HhQMNHNEqv"
      },
      "execution_count": null,
      "outputs": []
    },
    {
      "cell_type": "code",
      "execution_count": null,
      "metadata": {
        "id": "4OuuhiB8L0KJ"
      },
      "outputs": [],
      "source": [
        "['과목1', '과목2', '과목3']\n"
      ]
    },
    {
      "cell_type": "code",
      "execution_count": null,
      "metadata": {
        "id": "xnYN2heiL0KJ"
      },
      "outputs": [],
      "source": []
    },
    {
      "cell_type": "code",
      "execution_count": null,
      "metadata": {
        "id": "fnoQtc1IL0KJ"
      },
      "outputs": [],
      "source": []
    },
    {
      "cell_type": "code",
      "execution_count": null,
      "metadata": {
        "id": "k8ujcn5pL0KJ"
      },
      "outputs": [],
      "source": []
    },
    {
      "cell_type": "code",
      "execution_count": null,
      "metadata": {
        "id": "Bf5cuY_ML0KJ"
      },
      "outputs": [],
      "source": []
    },
    {
      "cell_type": "code",
      "execution_count": null,
      "metadata": {
        "id": "gHpl9c8vL0KJ"
      },
      "outputs": [],
      "source": []
    },
    {
      "cell_type": "code",
      "execution_count": null,
      "metadata": {
        "id": "cB0qgfVHL0KJ"
      },
      "outputs": [],
      "source": []
    },
    {
      "cell_type": "code",
      "execution_count": null,
      "metadata": {
        "id": "7k42UpXZL0KK"
      },
      "outputs": [],
      "source": []
    },
    {
      "cell_type": "code",
      "execution_count": null,
      "metadata": {
        "id": "7tOPt-esL0KK"
      },
      "outputs": [],
      "source": []
    },
    {
      "cell_type": "code",
      "execution_count": null,
      "metadata": {
        "id": "tIRr5RtAL0KK"
      },
      "outputs": [],
      "source": []
    },
    {
      "cell_type": "markdown",
      "source": [
        "## ▶ 파일 처리"
      ],
      "metadata": {
        "id": "M_Tm506JNdXP"
      }
    },
    {
      "cell_type": "code",
      "execution_count": null,
      "metadata": {
        "id": "69Pskh8gL0KK"
      },
      "outputs": [],
      "source": [
        "from google.colab import drive\n",
        "drive.mount('/content/drive')\n",
        "\n",
        "PATH= '/content/drive/MyDrive/ICTIS_2023/data/'"
      ]
    },
    {
      "cell_type": "code",
      "source": [],
      "metadata": {
        "id": "-LvaHUmrNjV-"
      },
      "execution_count": null,
      "outputs": []
    },
    {
      "cell_type": "code",
      "source": [],
      "metadata": {
        "id": "25lVVtA-NjTG"
      },
      "execution_count": null,
      "outputs": []
    },
    {
      "cell_type": "code",
      "source": [],
      "metadata": {
        "id": "nIBTfXuJNjL3"
      },
      "execution_count": null,
      "outputs": []
    },
    {
      "cell_type": "code",
      "source": [],
      "metadata": {
        "id": "6S1GVmucNjGy"
      },
      "execution_count": null,
      "outputs": []
    },
    {
      "cell_type": "code",
      "source": [],
      "metadata": {
        "id": "00uCsoNYNjES"
      },
      "execution_count": null,
      "outputs": []
    },
    {
      "cell_type": "code",
      "source": [],
      "metadata": {
        "id": "_TaPwkBuNjBQ"
      },
      "execution_count": null,
      "outputs": []
    },
    {
      "cell_type": "markdown",
      "source": [
        "## ▶ 응용"
      ],
      "metadata": {
        "id": "iZANfSWlNnoJ"
      }
    },
    {
      "cell_type": "code",
      "execution_count": null,
      "metadata": {
        "id": "UYMX-CuaL0KK"
      },
      "outputs": [],
      "source": [
        "names1  =  ['철수', '영이', '길동', '미영', '순이', '철이']\n",
        "\n",
        "columns= ['성별', '점수']\n",
        "\n",
        "scores = [['M', 45], ['F', 100], ['M', 70], ['F', 85], ['F', 100], ['M', 97]]\n",
        "\n",
        "d2 = "
      ]
    },
    {
      "cell_type": "code",
      "execution_count": null,
      "metadata": {
        "id": "FKFedIwVL0KK"
      },
      "outputs": [],
      "source": []
    },
    {
      "cell_type": "code",
      "execution_count": null,
      "metadata": {
        "id": "V6-a9bOpL0KK"
      },
      "outputs": [],
      "source": []
    },
    {
      "cell_type": "code",
      "execution_count": null,
      "metadata": {
        "id": "SISWqWaBL0KK"
      },
      "outputs": [],
      "source": []
    },
    {
      "cell_type": "code",
      "execution_count": null,
      "metadata": {
        "id": "PiV4ggQML0KK"
      },
      "outputs": [],
      "source": [
        "df = pd.read_csv( \"boston_house_price.csv\", index_col= )\n",
        "df"
      ]
    },
    {
      "cell_type": "code",
      "execution_count": null,
      "metadata": {
        "id": "270mkbaiL0KL"
      },
      "outputs": [],
      "source": []
    },
    {
      "cell_type": "code",
      "execution_count": null,
      "metadata": {
        "id": "s4gx0YjGL0KM"
      },
      "outputs": [],
      "source": []
    },
    {
      "cell_type": "code",
      "source": [],
      "metadata": {
        "id": "AKQvuFpjN6Lb"
      },
      "execution_count": null,
      "outputs": []
    },
    {
      "cell_type": "code",
      "source": [],
      "metadata": {
        "id": "TkOXxQomN6Iy"
      },
      "execution_count": null,
      "outputs": []
    },
    {
      "cell_type": "code",
      "source": [],
      "metadata": {
        "id": "0tdnCAawN6GJ"
      },
      "execution_count": null,
      "outputs": []
    },
    {
      "cell_type": "markdown",
      "source": [
        "## ▶ 유용한 데이터 전처리"
      ],
      "metadata": {
        "id": "5ahx4novN6sQ"
      }
    },
    {
      "cell_type": "code",
      "source": [
        "d = pd.read_csv(PATH+'scores.csv', index_col=0)"
      ],
      "metadata": {
        "id": "pUKR2MG5N8WU"
      },
      "execution_count": null,
      "outputs": []
    },
    {
      "cell_type": "code",
      "source": [],
      "metadata": {
        "id": "yUDNyY5sN8Tt"
      },
      "execution_count": null,
      "outputs": []
    },
    {
      "cell_type": "code",
      "source": [],
      "metadata": {
        "id": "tXVvP_K5N8Qz"
      },
      "execution_count": null,
      "outputs": []
    }
  ],
  "metadata": {
    "kernelspec": {
      "display_name": "Python 3 (ipykernel)",
      "language": "python",
      "name": "python3"
    },
    "language_info": {
      "codemirror_mode": {
        "name": "ipython",
        "version": 3
      },
      "file_extension": ".py",
      "mimetype": "text/x-python",
      "name": "python",
      "nbconvert_exporter": "python",
      "pygments_lexer": "ipython3",
      "version": "3.9.13"
    },
    "colab": {
      "provenance": []
    }
  },
  "nbformat": 4,
  "nbformat_minor": 0
}