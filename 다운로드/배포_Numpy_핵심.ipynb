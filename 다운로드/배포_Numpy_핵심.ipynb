{
  "cells": [
    {
      "cell_type": "markdown",
      "metadata": {
        "id": "pWRX95buRTvt"
      },
      "source": [
        "#### 디스플레이의 색상은 어떻게 만들어질까? 빛의 합성과 디스플레이!\n",
        "- https://news.samsungdisplay.com/24640"
      ]
    },
    {
      "cell_type": "markdown",
      "metadata": {
        "id": "QLWW2nG2RTvu"
      },
      "source": [
        "# NumPy\n",
        "- 파이썬 라이브러리\n",
        "- 행렬이나 대규모 다차원 배열을 쉽게 처리\n",
        "- 배열에는 모두 동일한 자료형만 저장\n",
        "- 메모리에 연속적으로 저장"
      ]
    },
    {
      "cell_type": "code",
      "execution_count": null,
      "metadata": {
        "id": "8kMO51XIRTvu"
      },
      "outputs": [],
      "source": []
    },
    {
      "cell_type": "markdown",
      "metadata": {
        "id": "B8RIv01ZRTvu"
      },
      "source": [
        "## 배열의 생성\n",
        "- numpy.array()\n",
        "- ndim: 배열의 차원 반환\n",
        "- shape: 배열의 형태 반환\n",
        "- type() : 배열 자료형 반환"
      ]
    },
    {
      "cell_type": "code",
      "execution_count": null,
      "metadata": {
        "id": "F_4tdDk-RTvu"
      },
      "outputs": [],
      "source": [
        "ar1 =  [10.3,80.2,15.5,30, 95, 65, 70, 40, 50]   # 1차원 배열"
      ]
    },
    {
      "cell_type": "code",
      "execution_count": null,
      "metadata": {
        "id": "yeMOOBEyRTvu"
      },
      "outputs": [],
      "source": []
    },
    {
      "cell_type": "code",
      "source": [],
      "metadata": {
        "id": "S_TFjk-YU7Ou"
      },
      "execution_count": null,
      "outputs": []
    },
    {
      "cell_type": "code",
      "source": [],
      "metadata": {
        "id": "UBaMdPujU7Jx"
      },
      "execution_count": null,
      "outputs": []
    },
    {
      "cell_type": "code",
      "execution_count": null,
      "metadata": {
        "id": "AWkHDlxERTvu"
      },
      "outputs": [],
      "source": []
    },
    {
      "cell_type": "code",
      "execution_count": null,
      "metadata": {
        "id": "XGPJZEZTRTvv"
      },
      "outputs": [],
      "source": [
        "plt.\n",
        "plt.grid(visible= , linestyle=  )\n",
        "plt.show()"
      ]
    },
    {
      "cell_type": "markdown",
      "metadata": {
        "id": "r-rqX7dfRTvv"
      },
      "source": [
        "- https://matplotlib.org/stable/api/_as_gen/matplotlib.pyplot.grid.html"
      ]
    },
    {
      "cell_type": "code",
      "execution_count": null,
      "metadata": {
        "id": "UDDsCeytRTvv"
      },
      "outputs": [],
      "source": [
        "ar2 = [[ 30, 40,  50,  60,  70,   80], \n",
        "                [110, 120, 130, 140, 150, 160], \n",
        "                [210, 215, 220, 225, 230, 235]] \n"
      ]
    },
    {
      "cell_type": "code",
      "execution_count": null,
      "metadata": {
        "id": "NHhdlyF0RTvv"
      },
      "outputs": [],
      "source": []
    },
    {
      "cell_type": "code",
      "execution_count": null,
      "metadata": {
        "id": "8hv01xUFRTvv"
      },
      "outputs": [],
      "source": []
    },
    {
      "cell_type": "code",
      "execution_count": null,
      "metadata": {
        "id": "D7zmgMdcRTvv"
      },
      "outputs": [],
      "source": []
    },
    {
      "cell_type": "code",
      "execution_count": null,
      "metadata": {
        "id": "fr_xRou1RTvv"
      },
      "outputs": [],
      "source": []
    },
    {
      "cell_type": "code",
      "execution_count": null,
      "metadata": {
        "id": "eEAqO0tNRTvv"
      },
      "outputs": [],
      "source": []
    },
    {
      "cell_type": "code",
      "execution_count": null,
      "metadata": {
        "id": "8Wwx2tlPRTvv"
      },
      "outputs": [],
      "source": []
    },
    {
      "cell_type": "code",
      "execution_count": null,
      "metadata": {
        "id": "mcj0gC8nRTvv"
      },
      "outputs": [],
      "source": [
        "plt.plot(  )\n",
        "plt.grid(visible=True)\n",
        "plt.show()"
      ]
    },
    {
      "cell_type": "code",
      "execution_count": null,
      "metadata": {
        "id": "GT9SGmQKRTvv"
      },
      "outputs": [],
      "source": [
        "plt.imshow( ar2 \n",
        "plt.show()"
      ]
    },
    {
      "cell_type": "code",
      "execution_count": null,
      "metadata": {
        "id": "9JjkQoyQRTvw"
      },
      "outputs": [],
      "source": []
    },
    {
      "cell_type": "code",
      "execution_count": null,
      "metadata": {
        "id": "l8t7s8O8RTvw"
      },
      "outputs": [],
      "source": [
        "ar3 =  ([\n",
        "         [[100,20,30], [40,150,60]],\n",
        "                \n",
        "         [[70,80,190], [100,100,100]]\n",
        "        ])  \n",
        "ar3"
      ]
    },
    {
      "cell_type": "code",
      "execution_count": null,
      "metadata": {
        "id": "rN4qUtwcRTvw"
      },
      "outputs": [],
      "source": []
    },
    {
      "cell_type": "code",
      "execution_count": null,
      "metadata": {
        "id": "49U4uKobRTvw"
      },
      "outputs": [],
      "source": []
    },
    {
      "cell_type": "code",
      "execution_count": null,
      "metadata": {
        "id": "sLCuE8U_RTvw"
      },
      "outputs": [],
      "source": []
    },
    {
      "cell_type": "code",
      "execution_count": null,
      "metadata": {
        "id": "sY6FPAJtRTvw"
      },
      "outputs": [],
      "source": [
        "plt.\n",
        "plt.show()"
      ]
    },
    {
      "cell_type": "code",
      "execution_count": null,
      "metadata": {
        "id": "5CfOTO0RRTvw"
      },
      "outputs": [],
      "source": []
    },
    {
      "cell_type": "code",
      "execution_count": null,
      "metadata": {
        "id": "eEdMJfqVRTvw"
      },
      "outputs": [],
      "source": []
    },
    {
      "cell_type": "code",
      "execution_count": null,
      "metadata": {
        "id": "_Rps8DUZRTvw"
      },
      "outputs": [],
      "source": [
        "plt.plot(range(  ),  , marker='o', label='day1_sensor1')\n",
        "plt.plot(range( ),  , marker='*',label='day1_sensor2')\n",
        "plt.plot(range( ),  , marker='+',label='day2_sensor1')\n",
        "plt.plot(range( ), , marker='.',label='day2_sensor2')\n",
        "plt.grid(visible= )\n",
        "plt.show()"
      ]
    },
    {
      "cell_type": "markdown",
      "metadata": {
        "id": "5bKFY1ceRTvw"
      },
      "source": [
        "## 배열관련 주요 함수\n",
        "- reshape: 배열의 형태 변환\n",
        "- len\n",
        "- T: 행, 열 전환\n",
        "- Slicing: 특정 열이나 행을 선택하여 추출\n",
        "- np.ones, np.ones_like, np.zeros, np.zeros_like\n",
        "- np.arange\n",
        "- np.newaxis: 차원 확장\n",
        "- np.vstack: 수직으로 쌓음\n",
        "- np.hstack: 수평적으로 병합\n"
      ]
    },
    {
      "cell_type": "code",
      "execution_count": null,
      "metadata": {
        "id": "GAGzTIEJRTvw"
      },
      "outputs": [],
      "source": []
    },
    {
      "cell_type": "code",
      "execution_count": null,
      "metadata": {
        "id": "tyVU4lCCRTvw"
      },
      "outputs": [],
      "source": []
    },
    {
      "cell_type": "code",
      "execution_count": null,
      "metadata": {
        "id": "aYNPehRnRTvx"
      },
      "outputs": [],
      "source": []
    },
    {
      "cell_type": "code",
      "execution_count": null,
      "metadata": {
        "id": "7HUtzUu2RTvx"
      },
      "outputs": [],
      "source": []
    },
    {
      "cell_type": "code",
      "execution_count": null,
      "metadata": {
        "id": "Fxs_di1xRTvx"
      },
      "outputs": [],
      "source": []
    },
    {
      "cell_type": "code",
      "execution_count": null,
      "metadata": {
        "id": "KZ6jYNhGRTvx"
      },
      "outputs": [],
      "source": []
    },
    {
      "cell_type": "code",
      "execution_count": null,
      "metadata": {
        "id": "dwMkWHcmRTvx"
      },
      "outputs": [],
      "source": []
    },
    {
      "cell_type": "code",
      "execution_count": null,
      "metadata": {
        "id": "HpJqMNwYRTvx"
      },
      "outputs": [],
      "source": []
    },
    {
      "cell_type": "code",
      "execution_count": null,
      "metadata": {
        "id": "qHOA3yRSRTvx"
      },
      "outputs": [],
      "source": [
        "k =    \n",
        "k"
      ]
    },
    {
      "cell_type": "code",
      "execution_count": null,
      "metadata": {
        "id": "aMT_L6ZERTvx"
      },
      "outputs": [],
      "source": [
        "plt.imshow( )\n",
        "plt.show()"
      ]
    },
    {
      "cell_type": "markdown",
      "metadata": {
        "id": "3O5OgjelRTvx"
      },
      "source": [
        "##### np.reshape\n",
        "\n",
        "- 배열의 원소의 수는 변하지 않음\n",
        "\n",
        "- 차원의 행, 열의 수를 변화시킴"
      ]
    },
    {
      "cell_type": "code",
      "execution_count": null,
      "metadata": {
        "id": "IGPDYzHfRTvx"
      },
      "outputs": [],
      "source": []
    },
    {
      "cell_type": "code",
      "execution_count": null,
      "metadata": {
        "id": "rW3ENZFdRTvx"
      },
      "outputs": [],
      "source": []
    },
    {
      "cell_type": "code",
      "execution_count": null,
      "metadata": {
        "id": "w-BYcHJ4RTvx"
      },
      "outputs": [],
      "source": [
        "\n"
      ]
    },
    {
      "cell_type": "code",
      "execution_count": null,
      "metadata": {
        "id": "Djo1OXDKRTvx"
      },
      "outputs": [],
      "source": []
    },
    {
      "cell_type": "code",
      "execution_count": null,
      "metadata": {
        "id": "TN6HpfReRTvx"
      },
      "outputs": [],
      "source": [
        "\n"
      ]
    },
    {
      "cell_type": "code",
      "execution_count": null,
      "metadata": {
        "id": "3cSngR6rRTvy"
      },
      "outputs": [],
      "source": []
    },
    {
      "cell_type": "code",
      "execution_count": null,
      "metadata": {
        "id": "cmyJ0c41RTvy"
      },
      "outputs": [],
      "source": []
    },
    {
      "cell_type": "code",
      "execution_count": null,
      "metadata": {
        "id": "U9DLwaDzRTvy"
      },
      "outputs": [],
      "source": [
        "plt.scatter( )\n",
        "plt.xlim( )\n",
        "plt.ylim( )\n",
        "plt.grid(True)\n",
        "plt.show()"
      ]
    },
    {
      "cell_type": "markdown",
      "metadata": {
        "id": "ihKdwNYiRTvy"
      },
      "source": [
        "### 차원 확장"
      ]
    },
    {
      "cell_type": "code",
      "execution_count": null,
      "metadata": {
        "id": "oojZYvDwRTvy"
      },
      "outputs": [],
      "source": []
    },
    {
      "cell_type": "code",
      "execution_count": null,
      "metadata": {
        "id": "rJhz3gBoRTvy"
      },
      "outputs": [],
      "source": []
    },
    {
      "cell_type": "markdown",
      "metadata": {
        "id": "aC7e2i12RTvy"
      },
      "source": [
        "### Tanspose"
      ]
    },
    {
      "cell_type": "code",
      "execution_count": null,
      "metadata": {
        "id": "FK412ugbRTvy"
      },
      "outputs": [],
      "source": [
        "\n"
      ]
    },
    {
      "cell_type": "code",
      "execution_count": null,
      "metadata": {
        "id": "8akZbjkRRTvy"
      },
      "outputs": [],
      "source": []
    },
    {
      "cell_type": "code",
      "execution_count": null,
      "metadata": {
        "id": "JsM4wYOxRTvy"
      },
      "outputs": [],
      "source": []
    },
    {
      "cell_type": "markdown",
      "metadata": {
        "id": "aH4kMxpZRTvy"
      },
      "source": [
        "## slicing"
      ]
    },
    {
      "cell_type": "code",
      "execution_count": null,
      "metadata": {
        "id": "DXEYLDg1RTvy"
      },
      "outputs": [],
      "source": [
        "ar1"
      ]
    },
    {
      "cell_type": "code",
      "execution_count": null,
      "metadata": {
        "id": "ZrHR9yheRTvy"
      },
      "outputs": [],
      "source": []
    },
    {
      "cell_type": "code",
      "execution_count": null,
      "metadata": {
        "id": "aqnbv5eURTvz"
      },
      "outputs": [],
      "source": [
        "s = 2\n",
        "w = 3\n"
      ]
    },
    {
      "cell_type": "code",
      "execution_count": null,
      "metadata": {
        "id": "wep5Z1snRTvz"
      },
      "outputs": [],
      "source": []
    },
    {
      "cell_type": "code",
      "execution_count": null,
      "metadata": {
        "id": "f9jR_6NZRTvz"
      },
      "outputs": [],
      "source": [
        "plt.figure(figsize=(10, 5))\n",
        "plt.subplot(1, 2, 1)\n",
        "plt.imshow(ar2, cmap='gray', vmin=0, vmax=255)\n",
        "\n",
        "plt.subplot(1, 2, 2)\n",
        "plt.imshow(p, cmap='gray', vmin=0, vmax=255)\n",
        "plt.show()"
      ]
    },
    {
      "cell_type": "code",
      "execution_count": null,
      "metadata": {
        "id": "d_tgNwb5RTvz"
      },
      "outputs": [],
      "source": []
    },
    {
      "cell_type": "code",
      "execution_count": null,
      "metadata": {
        "id": "pwmcpMh_RTvz"
      },
      "outputs": [],
      "source": []
    },
    {
      "cell_type": "code",
      "execution_count": null,
      "metadata": {
        "id": "dqzzLJTfRTvz"
      },
      "outputs": [],
      "source": []
    },
    {
      "cell_type": "code",
      "execution_count": null,
      "metadata": {
        "id": "SLLtK7VuRTvz"
      },
      "outputs": [],
      "source": [
        "\n"
      ]
    },
    {
      "cell_type": "code",
      "execution_count": null,
      "metadata": {
        "id": "0mEBEUhaRTvz"
      },
      "outputs": [],
      "source": []
    },
    {
      "cell_type": "code",
      "execution_count": null,
      "metadata": {
        "id": "tnxAqqxqRTvz"
      },
      "outputs": [],
      "source": [
        "def disp_2(l, r):\n",
        "    plt.figure()\n",
        "    plt.subplot()\n",
        "    plt.imshow( , cmap='gray', vmin=0, vmax=255)\n",
        "\n",
        "    plt.subplot()\n",
        "    plt.imshow( , cmap='gray', vmin=0, vmax=255)\n",
        "    plt.show()"
      ]
    },
    {
      "cell_type": "code",
      "execution_count": null,
      "metadata": {
        "id": "wHq5VWkcRTvz"
      },
      "outputs": [],
      "source": [
        "disp_2(ar2, p)"
      ]
    },
    {
      "cell_type": "markdown",
      "metadata": {
        "id": "ezeT-mYrRTvz"
      },
      "source": [
        "### 다음 두 슬라이싱 명령은 다른 명령이다."
      ]
    },
    {
      "cell_type": "code",
      "execution_count": null,
      "metadata": {
        "id": "U9y8gzPZRTvz"
      },
      "outputs": [],
      "source": []
    },
    {
      "cell_type": "code",
      "execution_count": null,
      "metadata": {
        "id": "TR2ErE3iRTvz"
      },
      "outputs": [],
      "source": []
    },
    {
      "cell_type": "markdown",
      "metadata": {
        "id": "WpVEpEWdRTv0"
      },
      "source": [
        "### Concatenation(병합)\n",
        "- np.vstack\n",
        "    - 수직으로 쌓음\n",
        "- np.hstack\n",
        "    - 수평적으로 병합\n",
        "- np.stack([ , ]) "
      ]
    },
    {
      "cell_type": "code",
      "execution_count": null,
      "metadata": {
        "id": "Y3c6Jw9BRTv0"
      },
      "outputs": [],
      "source": [
        "grid = np.array([[ 70, 75,  80,  85,  90, 95],\n",
        "                 [170, 175,180, 185, 190, 195]])"
      ]
    },
    {
      "cell_type": "code",
      "execution_count": null,
      "metadata": {
        "id": "nQYyEchERTv0"
      },
      "outputs": [],
      "source": []
    },
    {
      "cell_type": "code",
      "execution_count": null,
      "metadata": {
        "id": "eHDZvyMqRTv0"
      },
      "outputs": [],
      "source": []
    },
    {
      "cell_type": "code",
      "execution_count": null,
      "metadata": {
        "id": "0F8vJu7ZRTv0"
      },
      "outputs": [],
      "source": []
    },
    {
      "cell_type": "code",
      "execution_count": null,
      "metadata": {
        "id": "HTbE3RFQRTv0"
      },
      "outputs": [],
      "source": [
        "y = np.array([[10, 100],\n",
        "              [50, 150],\n",
        "             [80,  180]])"
      ]
    },
    {
      "cell_type": "code",
      "execution_count": null,
      "metadata": {
        "scrolled": true,
        "id": "dU4o_AvwRTv0"
      },
      "outputs": [],
      "source": []
    },
    {
      "cell_type": "code",
      "execution_count": null,
      "metadata": {
        "id": "XwbK67nFRTv0"
      },
      "outputs": [],
      "source": []
    },
    {
      "cell_type": "code",
      "execution_count": null,
      "metadata": {
        "id": "VT9PxJ4qRTv0"
      },
      "outputs": [],
      "source": [
        "y"
      ]
    },
    {
      "cell_type": "code",
      "execution_count": null,
      "metadata": {
        "id": "3Xyvb0pXRTv1"
      },
      "outputs": [],
      "source": []
    },
    {
      "cell_type": "code",
      "execution_count": null,
      "metadata": {
        "id": "FnxeSUg0RTv1"
      },
      "outputs": [],
      "source": []
    },
    {
      "cell_type": "code",
      "execution_count": null,
      "metadata": {
        "id": "_3pQAJirRTv1"
      },
      "outputs": [],
      "source": []
    },
    {
      "cell_type": "markdown",
      "metadata": {
        "id": "M63jrC5RRTv1"
      },
      "source": [
        "## 벡터화 계산 \n",
        "- 원소 하나 하나씩 계산하는 것이 아니라 배열 단위로 계산\n",
        "- loops없이 연산하여 코딩의 양이 줄어듦\n",
        "- 병렬처리가 가능(multi-core)\n",
        "- 브로드캐스팅(broadcasting): 행렬끼리 연산할 때 크기가 다른 경우 이를 알아서 확대 해주는 기능\n",
        "- Filtering"
      ]
    },
    {
      "cell_type": "code",
      "execution_count": null,
      "metadata": {
        "id": "BbEsVORXRTv1"
      },
      "outputs": [],
      "source": [
        "y = \n",
        "print('y: \\n', y)\n",
        "\n",
        "print('-'*30)\n",
        "\n",
        "p = \n",
        "print('p: \\n', p)"
      ]
    },
    {
      "cell_type": "markdown",
      "metadata": {
        "id": "xQcyoAgqRTv1"
      },
      "source": [
        "## list와 ndarray 벡터화 연산 속도 비교"
      ]
    },
    {
      "cell_type": "code",
      "execution_count": null,
      "metadata": {
        "id": "ddC32jNRRTv1"
      },
      "outputs": [],
      "source": [
        "datanum = 100_000"
      ]
    },
    {
      "cell_type": "code",
      "execution_count": null,
      "metadata": {
        "id": "qxpvTn9aRTv1"
      },
      "outputs": [],
      "source": [
        "p = list(range(datanum))\n",
        "y = list(range(datanum))"
      ]
    },
    {
      "cell_type": "code",
      "execution_count": null,
      "metadata": {
        "id": "SlhIvA37RTv1"
      },
      "outputs": [],
      "source": [
        "%%time\n",
        "# Python 리스트로 계산하는 코드\n",
        "\n"
      ]
    },
    {
      "cell_type": "code",
      "execution_count": null,
      "metadata": {
        "id": "UcJAeu2URTv1"
      },
      "outputs": [],
      "source": [
        "p = np.arange(datanum)\n",
        "y = np.arange(datanum)"
      ]
    },
    {
      "cell_type": "code",
      "execution_count": null,
      "metadata": {
        "id": "hiuApJ7sRTv1"
      },
      "outputs": [],
      "source": [
        "%%time\n",
        "# Numpy 배열로 계산하는 코드\n"
      ]
    },
    {
      "cell_type": "markdown",
      "metadata": {
        "id": "_6gq-wqsRTv2"
      },
      "source": [
        "### broadcasting"
      ]
    },
    {
      "cell_type": "code",
      "execution_count": null,
      "metadata": {
        "id": "H6t91R2_RTv2"
      },
      "outputs": [],
      "source": [
        "\n",
        "print('ar2: \\n', ar2)\n",
        "print('-'*30)\n",
        "print('p: \\n', p)\n",
        "\n"
      ]
    },
    {
      "cell_type": "code",
      "execution_count": null,
      "metadata": {
        "id": "hOcgOO4URTv2"
      },
      "outputs": [],
      "source": []
    },
    {
      "cell_type": "code",
      "execution_count": null,
      "metadata": {
        "id": "Gi57BOL0RTv2"
      },
      "outputs": [],
      "source": []
    },
    {
      "cell_type": "code",
      "execution_count": null,
      "metadata": {
        "id": "54GIuTJURTv2"
      },
      "outputs": [],
      "source": []
    },
    {
      "cell_type": "markdown",
      "metadata": {
        "id": "W9HMBKHGRTv2"
      },
      "source": [
        "### filter"
      ]
    },
    {
      "cell_type": "code",
      "execution_count": null,
      "metadata": {
        "id": "0qooX2JDRTv2"
      },
      "outputs": [],
      "source": [
        "ar2"
      ]
    },
    {
      "cell_type": "code",
      "execution_count": null,
      "metadata": {
        "id": "DA16oBE-RTv2"
      },
      "outputs": [],
      "source": []
    },
    {
      "cell_type": "code",
      "execution_count": null,
      "metadata": {
        "id": "jbZRZRnjRTv2"
      },
      "outputs": [],
      "source": []
    },
    {
      "cell_type": "code",
      "execution_count": null,
      "metadata": {
        "id": "zYB6Ib6yRTv2"
      },
      "outputs": [],
      "source": []
    },
    {
      "cell_type": "code",
      "execution_count": null,
      "metadata": {
        "id": "_GqYAFruRTv2"
      },
      "outputs": [],
      "source": []
    },
    {
      "cell_type": "markdown",
      "metadata": {
        "id": "yhjmR9PQRTv2"
      },
      "source": [
        "## 배열 생성(추가) & random 배열 생성"
      ]
    },
    {
      "cell_type": "code",
      "execution_count": null,
      "metadata": {
        "id": "g57_IT2oRTv2"
      },
      "outputs": [],
      "source": []
    },
    {
      "cell_type": "code",
      "execution_count": null,
      "metadata": {
        "id": "tdLlP8dFRTv2"
      },
      "outputs": [],
      "source": []
    },
    {
      "cell_type": "code",
      "execution_count": null,
      "metadata": {
        "id": "G7R_sORIRTv2"
      },
      "outputs": [],
      "source": []
    },
    {
      "cell_type": "code",
      "execution_count": null,
      "metadata": {
        "id": "J3SPl5hXRTv3"
      },
      "outputs": [],
      "source": []
    },
    {
      "cell_type": "markdown",
      "metadata": {
        "id": "0B-QEYThRTv3"
      },
      "source": [
        "## Uniform distribution vs normal distribution"
      ]
    },
    {
      "cell_type": "code",
      "execution_count": null,
      "metadata": {
        "id": "yxenGzmdRTv3"
      },
      "outputs": [],
      "source": [
        "n = 20000\n",
        "uniform_d_signal = \n",
        "normal_d_signal = \n",
        "\n",
        "plt.subplot()\n",
        "plt.title('Uniform distribution signal')\n",
        "plt.\n",
        "plt.grid(True)\n",
        "\n",
        "plt.subplot()\n",
        "plt.title('Histogram of Uniform distribution signal')\n",
        "plt.\n",
        "plt.grid(True)\n",
        "\n",
        "\n",
        "plt.show()"
      ]
    },
    {
      "cell_type": "markdown",
      "metadata": {
        "id": "CJmtg2jMRTv3"
      },
      "source": [
        "# 내적(dot product)\n",
        "- numpy.dot()\n",
        "- numpy.matmul()\n",
        "- 가중치 합 (Weighted Sum)\n",
        "- 가중치 평균 (Weighted average)\n",
        "- 유사도 검사 (Similarity check)"
      ]
    },
    {
      "cell_type": "code",
      "execution_count": null,
      "metadata": {
        "id": "cKNXfc78RTv3"
      },
      "outputs": [],
      "source": [
        "a =  \n",
        "b =  "
      ]
    },
    {
      "cell_type": "code",
      "execution_count": null,
      "metadata": {
        "id": "PjVE5kvaRTv3"
      },
      "outputs": [],
      "source": []
    },
    {
      "cell_type": "code",
      "execution_count": null,
      "metadata": {
        "id": "bpGlBWajRTv3"
      },
      "outputs": [],
      "source": [
        "# 과일 구입 총액\n",
        "f = [30,500,70]\n",
        "p = [1000,170,1500]\n"
      ]
    },
    {
      "cell_type": "code",
      "execution_count": null,
      "metadata": {
        "id": "LjK26QKRRTv3"
      },
      "outputs": [],
      "source": [
        "# 가중치 평균\n",
        "a = [87, 93, 90, 100]\n",
        "b =[88, 92, 93, 85]\n",
        "w = [4,4,4,1]\n"
      ]
    },
    {
      "cell_type": "code",
      "execution_count": null,
      "metadata": {
        "id": "BfpDui5lRTv3"
      },
      "outputs": [],
      "source": [
        "s = np.array([[87, 93, 90, 100],\n",
        "              [88, 92, 93, 85],\n",
        "              [92, 91, 80, 70],\n",
        "              [30, 59, 100, 100],\n",
        "              [77, 88, 99, 100]])\n",
        "w = \n"
      ]
    },
    {
      "cell_type": "code",
      "execution_count": null,
      "metadata": {
        "id": "Kurc5xMLRTv4"
      },
      "outputs": [],
      "source": [
        "w"
      ]
    },
    {
      "cell_type": "markdown",
      "metadata": {
        "id": "oZylqwJFRTv4"
      },
      "source": [
        "## 주요 함수\n",
        "- np.min() : 최솟값\n",
        "- np.max() : 최댓값\n",
        "- np.argmin()\n",
        "- np.argmax()\n",
        "- np.sum() : 합계\n",
        "- np.mean() : 평균\n",
        "- np.median() : 중앙값\n",
        "- np.var, np.std(): 분산, 표준편차, 작을 수록 평균값에 뭉쳐있음\n",
        "- np.random.normal() : 정규 분포 자료 생성"
      ]
    },
    {
      "cell_type": "code",
      "execution_count": null,
      "metadata": {
        "id": "9ykKH9S8RTv4"
      },
      "outputs": [],
      "source": [
        "ar2"
      ]
    },
    {
      "cell_type": "code",
      "execution_count": null,
      "metadata": {
        "id": "ntyVvOepRTv4"
      },
      "outputs": [],
      "source": []
    },
    {
      "cell_type": "code",
      "execution_count": null,
      "metadata": {
        "id": "CYTIsuO2RTv4"
      },
      "outputs": [],
      "source": []
    },
    {
      "cell_type": "code",
      "execution_count": null,
      "metadata": {
        "id": "VKg4AhV6RTv4"
      },
      "outputs": [],
      "source": []
    },
    {
      "cell_type": "code",
      "execution_count": null,
      "metadata": {
        "id": "VTwuDe9DRTv4"
      },
      "outputs": [],
      "source": []
    },
    {
      "cell_type": "code",
      "execution_count": null,
      "metadata": {
        "id": "JQYuoUtURTv4"
      },
      "outputs": [],
      "source": [
        "grid = np.array([[ 70, 75,  80,  85,  90, 95],\n",
        "                 [170, 175,180, 185, 190, 195]])\n",
        "print(    )\n",
        "print('-'*30)\n",
        "print(   )"
      ]
    },
    {
      "cell_type": "markdown",
      "metadata": {
        "id": "FH_OB76vRTv4"
      },
      "source": [
        "# 함수 np.extract(조건, 배열)"
      ]
    },
    {
      "cell_type": "code",
      "execution_count": null,
      "metadata": {
        "id": "4YnCG6NzRTv4"
      },
      "outputs": [],
      "source": [
        "ar1"
      ]
    },
    {
      "cell_type": "code",
      "execution_count": null,
      "metadata": {
        "id": "uht3a3HQRTv4"
      },
      "outputs": [],
      "source": []
    },
    {
      "cell_type": "code",
      "execution_count": null,
      "metadata": {
        "id": "JqCsmMSKRTv4"
      },
      "outputs": [],
      "source": []
    },
    {
      "cell_type": "code",
      "execution_count": null,
      "metadata": {
        "id": "kFYaGJHPRTv4"
      },
      "outputs": [],
      "source": []
    },
    {
      "cell_type": "code",
      "execution_count": null,
      "metadata": {
        "id": "TKS7zbj6RTv5"
      },
      "outputs": [],
      "source": []
    },
    {
      "cell_type": "markdown",
      "metadata": {
        "id": "eHlllslYRTv5"
      },
      "source": [
        "# 함수 np.where(조건)"
      ]
    },
    {
      "cell_type": "code",
      "execution_count": null,
      "metadata": {
        "id": "vafsN7NvRTv5"
      },
      "outputs": [],
      "source": [
        "ar1"
      ]
    },
    {
      "cell_type": "code",
      "execution_count": null,
      "metadata": {
        "id": "6DuRb8zCRTv5"
      },
      "outputs": [],
      "source": []
    },
    {
      "cell_type": "code",
      "execution_count": null,
      "metadata": {
        "id": "9CenzAphRTv5"
      },
      "outputs": [],
      "source": []
    },
    {
      "cell_type": "code",
      "execution_count": null,
      "metadata": {
        "id": "Z27p8kAwRTv5"
      },
      "outputs": [],
      "source": []
    },
    {
      "cell_type": "code",
      "execution_count": null,
      "metadata": {
        "id": "95AUWzAxRTv5"
      },
      "outputs": [],
      "source": []
    },
    {
      "cell_type": "code",
      "execution_count": null,
      "metadata": {
        "id": "UDhtmTg7RTv5"
      },
      "outputs": [],
      "source": []
    },
    {
      "cell_type": "code",
      "execution_count": null,
      "metadata": {
        "id": "9SvwJ28IRTv5"
      },
      "outputs": [],
      "source": []
    },
    {
      "cell_type": "code",
      "execution_count": null,
      "metadata": {
        "id": "c1wn3XJCRTv5"
      },
      "outputs": [],
      "source": []
    },
    {
      "cell_type": "code",
      "execution_count": null,
      "metadata": {
        "id": "eEvjYTcURTv5"
      },
      "outputs": [],
      "source": []
    },
    {
      "cell_type": "code",
      "execution_count": null,
      "metadata": {
        "id": "noKk-G69RTv5"
      },
      "outputs": [],
      "source": []
    },
    {
      "cell_type": "markdown",
      "metadata": {
        "id": "_9KD8zOcRTv5"
      },
      "source": [
        "# 배열의 대립 연산 주의점!"
      ]
    },
    {
      "cell_type": "code",
      "execution_count": null,
      "metadata": {
        "id": "L_QUcKLlRTv6"
      },
      "outputs": [],
      "source": []
    },
    {
      "cell_type": "code",
      "execution_count": null,
      "metadata": {
        "id": "lthExhp5RTv6"
      },
      "outputs": [],
      "source": []
    },
    {
      "cell_type": "code",
      "execution_count": null,
      "metadata": {
        "id": "rsVMKRG5RTv6"
      },
      "outputs": [],
      "source": []
    },
    {
      "cell_type": "code",
      "execution_count": null,
      "metadata": {
        "id": "2YiKqRrjRTv6"
      },
      "outputs": [],
      "source": []
    },
    {
      "cell_type": "code",
      "execution_count": null,
      "metadata": {
        "id": "2X5R6C4KRTv6"
      },
      "outputs": [],
      "source": []
    }
  ],
  "metadata": {
    "kernelspec": {
      "display_name": "Python 3 (ipykernel)",
      "language": "python",
      "name": "python3"
    },
    "language_info": {
      "codemirror_mode": {
        "name": "ipython",
        "version": 3
      },
      "file_extension": ".py",
      "mimetype": "text/x-python",
      "name": "python",
      "nbconvert_exporter": "python",
      "pygments_lexer": "ipython3",
      "version": "3.9.13"
    },
    "colab": {
      "provenance": []
    }
  },
  "nbformat": 4,
  "nbformat_minor": 0
}