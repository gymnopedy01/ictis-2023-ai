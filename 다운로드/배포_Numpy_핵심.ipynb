{
  "cells": [
    {
      "cell_type": "markdown",
      "metadata": {
        "id": "pWRX95buRTvt"
      },
      "source": [
        "#### 디스플레이의 색상은 어떻게 만들어질까? 빛의 합성과 디스플레이!\n",
        "- https://news.samsungdisplay.com/24640"
      ]
    },
    {
      "cell_type": "markdown",
      "metadata": {
        "id": "QLWW2nG2RTvu"
      },
      "source": [
        "# NumPy\n",
        "- 파이썬 라이브러리\n",
        "- 행렬이나 대규모 다차원 배열을 쉽게 처리\n",
        "- 배열에는 모두 동일한 자료형만 저장\n",
        "- 메모리에 연속적으로 저장"
      ]
    },
    {
      "cell_type": "code",
      "execution_count": 4,
      "metadata": {
        "id": "8kMO51XIRTvu",
        "outputId": "fdb6b989-740c-4692-9ffa-c8de2861d497",
        "colab": {
          "base_uri": "https://localhost:8080/"
        }
      },
      "outputs": [
        {
          "output_type": "stream",
          "name": "stdout",
          "text": [
            "[1 2 3]\n",
            "[1, 2, 3]\n",
            "2\n"
          ]
        }
      ],
      "source": [
        "import numpy as np\n",
        "import matplotlib.pyplot as plt\n",
        "\n",
        "\n",
        "a = [1,2,3]\n",
        "b = np.array(a)\n",
        "print(b)\n",
        "print(a)\n",
        "type(b)\n",
        "print(b[1])"
      ]
    },
    {
      "cell_type": "code",
      "source": [],
      "metadata": {
        "id": "GSKqk4odsKmA"
      },
      "execution_count": null,
      "outputs": []
    },
    {
      "cell_type": "markdown",
      "metadata": {
        "id": "B8RIv01ZRTvu"
      },
      "source": [
        "## 배열의 생성\n",
        "- numpy.array()\n",
        "- ndim: 배열의 차원 반환\n",
        "- shape: 배열의 형태 반환\n",
        "- type() : 배열 자료형 반환"
      ]
    },
    {
      "cell_type": "code",
      "execution_count": 31,
      "metadata": {
        "id": "F_4tdDk-RTvu",
        "outputId": "35284f17-b8a9-4e83-8e3a-2a09543cb600",
        "colab": {
          "base_uri": "https://localhost:8080/"
        }
      },
      "outputs": [
        {
          "output_type": "execute_result",
          "data": {
            "text/plain": [
              "array([10.3, 80.2, 15.5, 30. , 95. , 65. , 70. , 40. , 50. ],\n",
              "      dtype=float16)"
            ]
          },
          "metadata": {},
          "execution_count": 31
        }
      ],
      "source": [
        "ar1 = np.array( [10.3,80.2,15.5,30, 95, 65, 70, 40, 50], np.float16)   # 1차원 배열\n",
        "\n",
        "ar1"
      ]
    },
    {
      "cell_type": "code",
      "execution_count": null,
      "metadata": {
        "id": "yeMOOBEyRTvu",
        "outputId": "b4481743-e140-468d-a930-f8a4d2a11b7f",
        "colab": {
          "base_uri": "https://localhost:8080/"
        }
      },
      "outputs": [
        {
          "output_type": "stream",
          "name": "stdout",
          "text": [
            "Variable   Type       Data/Info\n",
            "-------------------------------\n",
            "a          list       n=3\n",
            "ar1        ndarray    9: 9 elems, type `float16`, 18 bytes\n",
            "b          ndarray    3: 3 elems, type `int64`, 24 bytes\n",
            "np         module     <module 'numpy' from '/us<...>kages/numpy/__init__.py'>\n"
          ]
        }
      ],
      "source": [
        "%whos"
      ]
    },
    {
      "cell_type": "code",
      "source": [
        "ar1.ndim"
      ],
      "metadata": {
        "id": "S_TFjk-YU7Ou",
        "outputId": "2af4f891-c4b5-448b-e684-b5a0e068ccd9",
        "colab": {
          "base_uri": "https://localhost:8080/"
        }
      },
      "execution_count": null,
      "outputs": [
        {
          "output_type": "execute_result",
          "data": {
            "text/plain": [
              "1"
            ]
          },
          "metadata": {},
          "execution_count": 9
        }
      ]
    },
    {
      "cell_type": "code",
      "source": [
        "ar1.shape #파이썬의 자료형은 튜플이구나, 소갈호에 괄호 들어가면 튜플. 맨앞ㅇ"
      ],
      "metadata": {
        "id": "UBaMdPujU7Jx",
        "outputId": "db3cac4b-acaa-4865-a0b6-d8480fb72cf4",
        "colab": {
          "base_uri": "https://localhost:8080/"
        }
      },
      "execution_count": null,
      "outputs": [
        {
          "output_type": "execute_result",
          "data": {
            "text/plain": [
              "(9,)"
            ]
          },
          "metadata": {},
          "execution_count": 16
        }
      ]
    },
    {
      "cell_type": "code",
      "execution_count": null,
      "metadata": {
        "id": "AWkHDlxERTvu",
        "outputId": "2565f355-6a0b-48f3-cb75-65db7311a51a",
        "colab": {
          "base_uri": "https://localhost:8080/"
        }
      },
      "outputs": [
        {
          "output_type": "execute_result",
          "data": {
            "text/plain": [
              "9"
            ]
          },
          "metadata": {},
          "execution_count": 15
        }
      ],
      "source": [
        "ar1.shape[0] #원소의 수\n"
      ]
    },
    {
      "cell_type": "code",
      "source": [
        "# 1-D array\n",
        "# 원소확인\n",
        "'''\n",
        "'''\n",
        "print(ar1[0])\n",
        "print(ar1[2])\n",
        "ar1[-1]"
      ],
      "metadata": {
        "id": "ebL_jxsdq8IF",
        "outputId": "785bb6f0-fe4f-4212-cfc6-9a0b297da58b",
        "colab": {
          "base_uri": "https://localhost:8080/"
        }
      },
      "execution_count": null,
      "outputs": [
        {
          "output_type": "stream",
          "name": "stdout",
          "text": [
            "10.3\n",
            "15.5\n"
          ]
        },
        {
          "output_type": "execute_result",
          "data": {
            "text/plain": [
              "50.0"
            ]
          },
          "metadata": {},
          "execution_count": 23
        }
      ]
    },
    {
      "cell_type": "code",
      "execution_count": null,
      "metadata": {
        "id": "XGPJZEZTRTvv",
        "outputId": "2495042b-b871-4cbc-a1eb-a76c92af595a",
        "colab": {
          "base_uri": "https://localhost:8080/",
          "height": 265
        }
      },
      "outputs": [
        {
          "output_type": "display_data",
          "data": {
            "text/plain": [
              "<Figure size 432x288 with 1 Axes>"
            ],
            "image/png": "[encoded data removed]"
          },
          "metadata": {
            "needs_background": "light"
          }
        }
      ],
      "source": [
        "plt.plot(ar1)       #꺽은선 그래프\n",
        "plt.grid(visible= True, linestyle= '--' )   #키워드인자 visible=보이느냐, lefestyle='--' dashedline\n",
        "plt.show()\n",
        "\n",
        "# 인덱스번호 x축\n",
        "# 값은 y축"
      ]
    },
    {
      "cell_type": "markdown",
      "metadata": {
        "id": "r-rqX7dfRTvv"
      },
      "source": [
        "- https://matplotlib.org/stable/api/_as_gen/matplotlib.pyplot.grid.html"
      ]
    },
    {
      "cell_type": "code",
      "execution_count": 5,
      "metadata": {
        "id": "UDDsCeytRTvv",
        "outputId": "ae1a5003-46c3-42d6-ae63-db453593e881",
        "colab": {
          "base_uri": "https://localhost:8080/"
        }
      },
      "outputs": [
        {
          "output_type": "execute_result",
          "data": {
            "text/plain": [
              "array([[ 30,  40,  50,  60,  70,  80],\n",
              "       [110, 120, 130, 140, 150, 160],\n",
              "       [210, 215, 220, 225, 230, 235]])"
            ]
          },
          "metadata": {},
          "execution_count": 5
        }
      ],
      "source": [
        "#2-D array 생성하기\n",
        "ar2 = np.array([[ 30, 40,  50,  60,  70,   80], \n",
        "                [110, 120, 130, 140, 150, 160], \n",
        "                [210, 215, 220, 225, 230, 235]]) \n",
        "ar2\n",
        "\n",
        "#행과 열로 구성됨 행렬 3행 6열"
      ]
    },
    {
      "cell_type": "code",
      "source": [
        "ar2[1]"
      ],
      "metadata": {
        "id": "dkqn2HS8u0ER",
        "outputId": "c7764205-df29-487f-873d-96b006c1a0cf",
        "colab": {
          "base_uri": "https://localhost:8080/"
        }
      },
      "execution_count": null,
      "outputs": [
        {
          "output_type": "execute_result",
          "data": {
            "text/plain": [
              "array([110, 120, 130, 140, 150, 160])"
            ]
          },
          "metadata": {},
          "execution_count": 39
        }
      ]
    },
    {
      "cell_type": "code",
      "execution_count": null,
      "metadata": {
        "id": "NHhdlyF0RTvv",
        "outputId": "d2240758-c03c-4ede-9ba3-b34d7b990ac1",
        "colab": {
          "base_uri": "https://localhost:8080/"
        }
      },
      "outputs": [
        {
          "output_type": "execute_result",
          "data": {
            "text/plain": [
              "2"
            ]
          },
          "metadata": {},
          "execution_count": 40
        }
      ],
      "source": [
        "ar2.ndim"
      ]
    },
    {
      "cell_type": "code",
      "execution_count": null,
      "metadata": {
        "id": "8hv01xUFRTvv",
        "outputId": "b7361439-6cc9-421f-fd6a-5ae4c7b9e0c0",
        "colab": {
          "base_uri": "https://localhost:8080/"
        }
      },
      "outputs": [
        {
          "output_type": "execute_result",
          "data": {
            "text/plain": [
              "(3, 6)"
            ]
          },
          "metadata": {},
          "execution_count": 42
        }
      ],
      "source": [
        "ar2.shape"
      ]
    },
    {
      "cell_type": "code",
      "execution_count": null,
      "metadata": {
        "id": "D7zmgMdcRTvv",
        "outputId": "16def68f-335c-44c9-86a0-71a84bff8527",
        "colab": {
          "base_uri": "https://localhost:8080/"
        }
      },
      "outputs": [
        {
          "output_type": "stream",
          "name": "stdout",
          "text": [
            "Variable   Type       Data/Info\n",
            "-------------------------------\n",
            "a          list       n=3\n",
            "ar1        ndarray    9: 9 elems, type `float16`, 18 bytes\n",
            "ar2        ndarray    3x6: 18 elems, type `int64`, 144 bytes\n",
            "b          ndarray    3: 3 elems, type `int64`, 24 bytes\n",
            "np         module     <module 'numpy' from '/us<...>kages/numpy/__init__.py'>\n",
            "plt        module     <module 'matplotlib.pyplo<...>es/matplotlib/pyplot.py'>\n"
          ]
        }
      ],
      "source": [
        "%whos"
      ]
    },
    {
      "cell_type": "code",
      "execution_count": null,
      "metadata": {
        "id": "fr_xRou1RTvv",
        "outputId": "0bbe3ed2-ca6e-4976-fe04-e23d0fc1b9cc",
        "colab": {
          "base_uri": "https://localhost:8080/"
        }
      },
      "outputs": [
        {
          "output_type": "execute_result",
          "data": {
            "text/plain": [
              "3"
            ]
          },
          "metadata": {},
          "execution_count": 44
        }
      ],
      "source": [
        "ar2.shape[0]    #2차원 행렬의 행의수"
      ]
    },
    {
      "cell_type": "code",
      "execution_count": null,
      "metadata": {
        "id": "eEAqO0tNRTvv",
        "outputId": "acff9eab-514f-40c7-fbfe-2eeedb104de8",
        "colab": {
          "base_uri": "https://localhost:8080/"
        }
      },
      "outputs": [
        {
          "output_type": "execute_result",
          "data": {
            "text/plain": [
              "6"
            ]
          },
          "metadata": {},
          "execution_count": 45
        }
      ],
      "source": [
        "ar2.shape[1]"
      ]
    },
    {
      "cell_type": "code",
      "execution_count": null,
      "metadata": {
        "id": "8Wwx2tlPRTvv"
      },
      "outputs": [],
      "source": []
    },
    {
      "cell_type": "code",
      "execution_count": null,
      "metadata": {
        "id": "mcj0gC8nRTvv",
        "outputId": "15237b48-3c6e-4127-c110-76446ac46d24",
        "colab": {
          "base_uri": "https://localhost:8080/",
          "height": 265
        }
      },
      "outputs": [
        {
          "output_type": "display_data",
          "data": {
            "text/plain": [
              "<Figure size 432x288 with 1 Axes>"
            ],
            "image/png": "[encoded data removed]"
          },
          "metadata": {
            "needs_background": "light"
          }
        }
      ],
      "source": [
        "#2-D array 시각화 : 연속데이터\n",
        "# 같은 그래프에 여러선을 그릴수있음\n",
        "\n",
        "# plot( x축값, 1번데이터, 선모양, 2번데이터, 선모양, 3번데이터, 선모양)\n",
        "# r- : red solid line , g-- dashed line, b-.: dash-dot line\n",
        "\n",
        "plt.plot( range(ar2.shape[1]), ar2[0], 'r-' , ar2[1], 'g--', ar2[2], 'b-.')\n",
        "plt.grid(visible=True)\n",
        "plt.show()"
      ]
    },
    {
      "cell_type": "code",
      "execution_count": null,
      "metadata": {
        "id": "GT9SGmQKRTvv",
        "outputId": "33e8a4da-a49e-4828-8a4d-625bb881491c",
        "colab": {
          "base_uri": "https://localhost:8080/",
          "height": 219
        }
      },
      "outputs": [
        {
          "output_type": "display_data",
          "data": {
            "text/plain": [
              "<Figure size 432x288 with 1 Axes>"
            ],
            "image/png": "[encoded data removed]"
          },
          "metadata": {
            "needs_background": "light"
          }
        }
      ],
      "source": [
        "# 2-Darray 시각화 : grayscale image\n",
        "# imshow image\n",
        "# cmap \n",
        "\n",
        "plt.imshow( ar2 , cmap='gray', vmin=0, vmax=255)\n",
        "plt.show()"
      ]
    },
    {
      "cell_type": "code",
      "execution_count": null,
      "metadata": {
        "id": "9JjkQoyQRTvw",
        "outputId": "cfddb306-e007-4744-acd9-3fdd04e61c88",
        "colab": {
          "base_uri": "https://localhost:8080/",
          "height": 219
        }
      },
      "outputs": [
        {
          "output_type": "display_data",
          "data": {
            "text/plain": [
              "<Figure size 432x288 with 1 Axes>"
            ],
            "image/png": "[encoded data removed]"
          },
          "metadata": {
            "needs_background": "light"
          }
        }
      ],
      "source": [
        "plt.imshow( ar2 , cmap='gray')\n",
        "plt.show()"
      ]
    },
    {
      "cell_type": "code",
      "execution_count": null,
      "metadata": {
        "id": "l8t7s8O8RTvw",
        "outputId": "e0cd0019-ce88-4250-c366-f20ca933dfb0",
        "colab": {
          "base_uri": "https://localhost:8080/"
        }
      },
      "outputs": [
        {
          "output_type": "execute_result",
          "data": {
            "text/plain": [
              "array([[[100,  20,  30],\n",
              "        [ 40, 150,  60]],\n",
              "\n",
              "       [[ 70,  80, 190],\n",
              "        [100, 100, 100]]])"
            ]
          },
          "metadata": {},
          "execution_count": 51
        }
      ],
      "source": [
        "# 3-D array 생성하기\n",
        "ar3 = np.array([\n",
        "                 [[100,20,30], [40,150,60]],\n",
        "                \n",
        "                 [[70,80,190], [100,100,100]]\n",
        "                ])  \n",
        "ar3\n",
        "\n"
      ]
    },
    {
      "cell_type": "code",
      "execution_count": null,
      "metadata": {
        "id": "rN4qUtwcRTvw",
        "outputId": "ad38474e-6f5a-4ffd-f818-d5234d450d6b",
        "colab": {
          "base_uri": "https://localhost:8080/"
        }
      },
      "outputs": [
        {
          "output_type": "stream",
          "name": "stdout",
          "text": [
            "Variable   Type       Data/Info\n",
            "-------------------------------\n",
            "a          list       n=3\n",
            "ar1        ndarray    9: 9 elems, type `float16`, 18 bytes\n",
            "ar2        ndarray    3x6: 18 elems, type `int64`, 144 bytes\n",
            "ar3        ndarray    2x2x3: 12 elems, type `int64`, 96 bytes\n",
            "b          ndarray    3: 3 elems, type `int64`, 24 bytes\n",
            "np         module     <module 'numpy' from '/us<...>kages/numpy/__init__.py'>\n",
            "plt        module     <module 'matplotlib.pyplo<...>es/matplotlib/pyplot.py'>\n"
          ]
        }
      ],
      "source": [
        "%whos\n",
        "\n",
        "# ar3        ndarray    2x2x3: 12 elems, type `int64`, 96 bytes\n",
        "# 2x2x3 2면 2행 3열\n",
        "# 1. gray scale 영상 2장\n",
        "# 2. 2x2x3 2일간 센서 두개로 3번 계측\n",
        "# 3. color 영상\n",
        "# 삼차원 자료에대해 일반적으로 해석하는 방법\n",
        "# numpy는 2차원이미지를 2장으로 보여줌"
      ]
    },
    {
      "cell_type": "code",
      "execution_count": null,
      "metadata": {
        "id": "49U4uKobRTvw",
        "outputId": "f2ef8702-069b-4496-ca78-de42251d4002",
        "colab": {
          "base_uri": "https://localhost:8080/"
        }
      },
      "outputs": [
        {
          "output_type": "execute_result",
          "data": {
            "text/plain": [
              "array([100, 100, 100])"
            ]
          },
          "metadata": {},
          "execution_count": 61
        }
      ],
      "source": [
        "ar3[1][1]"
      ]
    },
    {
      "cell_type": "code",
      "execution_count": null,
      "metadata": {
        "id": "sLCuE8U_RTvw",
        "outputId": "849eaca4-65df-4cc2-8832-7ff9fd73e9b3",
        "colab": {
          "base_uri": "https://localhost:8080/"
        }
      },
      "outputs": [
        {
          "output_type": "execute_result",
          "data": {
            "text/plain": [
              "3"
            ]
          },
          "metadata": {},
          "execution_count": 62
        }
      ],
      "source": [
        "ar3.ndim"
      ]
    },
    {
      "cell_type": "code",
      "source": [
        "ar3.shape   \n",
        "\n",
        "#채널 deptth"
      ],
      "metadata": {
        "id": "toOlMokS-d5I",
        "outputId": "dfafbef6-e059-412b-972f-919c096f570d",
        "colab": {
          "base_uri": "https://localhost:8080/"
        }
      },
      "execution_count": null,
      "outputs": [
        {
          "output_type": "execute_result",
          "data": {
            "text/plain": [
              "(2, 2, 3)"
            ]
          },
          "metadata": {},
          "execution_count": 63
        }
      ]
    },
    {
      "cell_type": "code",
      "source": [
        "ar3.shape[0]    #면\n",
        "ar3.shape[1]    #행\n",
        "ar3.shape[2]    #열"
      ],
      "metadata": {
        "id": "qVEsfd9C-g6N",
        "outputId": "0c00f89e-67c8-430e-f802-4b3a64bcddac",
        "colab": {
          "base_uri": "https://localhost:8080/"
        }
      },
      "execution_count": null,
      "outputs": [
        {
          "output_type": "execute_result",
          "data": {
            "text/plain": [
              "3"
            ]
          },
          "metadata": {},
          "execution_count": 67
        }
      ]
    },
    {
      "cell_type": "code",
      "source": [],
      "metadata": {
        "id": "O5XAxnVv-gc3"
      },
      "execution_count": null,
      "outputs": []
    },
    {
      "cell_type": "code",
      "execution_count": null,
      "metadata": {
        "id": "sY6FPAJtRTvw",
        "outputId": "f5b357bf-2e8d-4d16-8195-ef193c0cd9d5",
        "colab": {
          "base_uri": "https://localhost:8080/",
          "height": 269
        }
      },
      "outputs": [
        {
          "output_type": "display_data",
          "data": {
            "text/plain": [
              "<Figure size 432x288 with 1 Axes>"
            ],
            "image/png": "[encoded data removed]"
          },
          "metadata": {
            "needs_background": "light"
          }
        }
      ],
      "source": [
        "plt.imshow(ar3)\n",
        "plt.show()"
      ]
    },
    {
      "cell_type": "code",
      "execution_count": null,
      "metadata": {
        "id": "5CfOTO0RRTvw"
      },
      "outputs": [],
      "source": []
    },
    {
      "cell_type": "code",
      "execution_count": null,
      "metadata": {
        "id": "eEdMJfqVRTvw",
        "outputId": "523da017-b11c-474f-9eac-1bf9ea75720e",
        "colab": {
          "base_uri": "https://localhost:8080/",
          "height": 265
        }
      },
      "outputs": [
        {
          "output_type": "display_data",
          "data": {
            "text/plain": [
              "<Figure size 432x288 with 1 Axes>"
            ],
            "image/png": "[encoded data removed]"
          },
          "metadata": {
            "needs_background": "light"
          }
        }
      ],
      "source": [
        "# 3-D array 시각화: 계측 데이터\n",
        "# day1 sensor 계측량\n",
        "\n",
        "plt.plot(range(ar3.shape[-1]), ar3[0][0] , marker='o', label='day1_sensor1')\n",
        "plt.plot(range(ar3.shape[-1]), ar3[0][1] , marker='*',label='day1_sensor2')\n",
        "plt.plot(range(ar3.shape[-1]), ar3[1][0] , marker='+',label='day2_sensor1')\n",
        "plt.plot(range(ar3.shape[-1]), ar3[1][1] , marker='.',label='day2_sensor2')\n",
        "plt.grid(visible= True)\n",
        "plt.show()"
      ]
    },
    {
      "cell_type": "code",
      "execution_count": null,
      "metadata": {
        "id": "_Rps8DUZRTvw",
        "outputId": "4f380377-9806-4cf3-a4f8-4ab17d589c2f",
        "colab": {
          "base_uri": "https://localhost:8080/",
          "height": 265
        }
      },
      "outputs": [
        {
          "output_type": "display_data",
          "data": {
            "text/plain": [
              "<Figure size 432x288 with 1 Axes>"
            ],
            "image/png": "[encoded data removed]"
          },
          "metadata": {
            "needs_background": "light"
          }
        }
      ],
      "source": [
        "# 3-D array 시각화: 계측 데이터\n",
        "# day1 sensor 계측량\n",
        "\n",
        "plt.plot(range(ar3.shape[-1]), ar3[0][0] , 'r-' , marker='o', label='day1_sensor1')\n",
        "plt.plot(range(ar3.shape[-1]), ar3[0][1] , 'b-', marker='*',label='day1_sensor2')\n",
        "plt.plot(range(ar3.shape[-1]), ar3[1][0] , 'r--', marker='+',label='day2_sensor1')\n",
        "plt.plot(range(ar3.shape[-1]), ar3[1][1] , 'b--', marker='.',label='day2_sensor2')\n",
        "plt.grid(visible= True)\n",
        "plt.legend(loc='best')  #'best' : 알아서 적당한곳에 넣어줘~ \n",
        "plt.show()"
      ]
    },
    {
      "cell_type": "markdown",
      "metadata": {
        "id": "5bKFY1ceRTvw"
      },
      "source": [
        "## 배열관련 주요 함수\n",
        "- reshape: 배열의 형태 변환\n",
        "- len: 길이를 확인\n",
        "- T: 행, 열 전환\n",
        "- Slicing: 특정 열이나 행을 선택하여 추출\n",
        "- np.ones, np.ones_like, np.zeros, np.zeros_like\n",
        "- np.arange\n",
        "- np.newaxis: 차원 확장\n",
        "- np.vstack: 수직으로 쌓음\n",
        "- np.hstack: 수평적으로 병합\n",
        "\n",
        "명령어|설명|사용법\n",
        "--|--|--\n",
        "len|길이를 확인|len(ar), len(ar[0])\n",
        "\n",
        "ar2.\n"
      ]
    },
    {
      "cell_type": "code",
      "execution_count": null,
      "metadata": {
        "id": "GAGzTIEJRTvw",
        "outputId": "b000ceaa-f68f-4f41-b44b-d12837687a2d",
        "colab": {
          "base_uri": "https://localhost:8080/"
        }
      },
      "outputs": [
        {
          "output_type": "stream",
          "name": "stdout",
          "text": [
            "True\n",
            "True\n",
            "True\n"
          ]
        },
        {
          "output_type": "execute_result",
          "data": {
            "text/plain": [
              "12"
            ]
          },
          "metadata": {},
          "execution_count": 83
        }
      ],
      "source": [
        "print(ar2.shape[0] == len(ar2))\n",
        "print(len(ar3[1]) == ar3.shape[1])\n",
        "print(len(ar3[0][0]) == ar3.shape[2])\n",
        "\n",
        "ar3.size"
      ]
    },
    {
      "cell_type": "markdown",
      "source": [
        "명령어|설명|사용법|\n",
        "--|--|--|\n",
        "np.ones|행렬을 1로 채워준다.|np.ones(3,6))|\n",
        "np.zeros|행렬을 0으로 채워준다.|np.zeros((3,6))\n",
        "np.zeros_like|"
      ],
      "metadata": {
        "id": "CN6GV8_OELXP"
      }
    },
    {
      "cell_type": "code",
      "execution_count": null,
      "metadata": {
        "id": "tyVU4lCCRTvw"
      },
      "outputs": [],
      "source": [
        "k"
      ]
    },
    {
      "cell_type": "code",
      "execution_count": null,
      "metadata": {
        "id": "aYNPehRnRTvx"
      },
      "outputs": [],
      "source": []
    },
    {
      "cell_type": "code",
      "execution_count": null,
      "metadata": {
        "id": "7HUtzUu2RTvx"
      },
      "outputs": [],
      "source": []
    },
    {
      "cell_type": "code",
      "execution_count": null,
      "metadata": {
        "id": "Fxs_di1xRTvx"
      },
      "outputs": [],
      "source": []
    },
    {
      "cell_type": "code",
      "execution_count": null,
      "metadata": {
        "id": "KZ6jYNhGRTvx"
      },
      "outputs": [],
      "source": []
    },
    {
      "cell_type": "code",
      "execution_count": null,
      "metadata": {
        "id": "dwMkWHcmRTvx"
      },
      "outputs": [],
      "source": []
    },
    {
      "cell_type": "code",
      "execution_count": null,
      "metadata": {
        "id": "HpJqMNwYRTvx"
      },
      "outputs": [],
      "source": []
    },
    {
      "cell_type": "code",
      "execution_count": null,
      "metadata": {
        "id": "qHOA3yRSRTvx",
        "outputId": "f0b93beb-66f7-4ea6-a03c-ff747ca13d75",
        "colab": {
          "base_uri": "https://localhost:8080/"
        }
      },
      "outputs": [
        {
          "output_type": "execute_result",
          "data": {
            "text/plain": [
              "array([[1, 1, 1, 1, 1, 1],\n",
              "       [1, 1, 1, 1, 1, 1],\n",
              "       [1, 1, 1, 1, 1, 1]])"
            ]
          },
          "metadata": {},
          "execution_count": 84
        }
      ],
      "source": [
        "k =    np.ones_like(ar2)\n",
        "k"
      ]
    },
    {
      "cell_type": "code",
      "execution_count": null,
      "metadata": {
        "id": "aMT_L6ZERTvx",
        "outputId": "883b60ae-da94-45fe-fd86-935e5aa19fb4",
        "colab": {
          "base_uri": "https://localhost:8080/",
          "height": 219
        }
      },
      "outputs": [
        {
          "output_type": "display_data",
          "data": {
            "text/plain": [
              "<Figure size 432x288 with 1 Axes>"
            ],
            "image/png": "[encoded data removed]"
          },
          "metadata": {
            "needs_background": "light"
          }
        }
      ],
      "source": [
        "plt.imshow(k )\n",
        "plt.show()"
      ]
    },
    {
      "cell_type": "markdown",
      "metadata": {
        "id": "3O5OgjelRTvx"
      },
      "source": [
        "##### np.reshape\n",
        "\n",
        "- 배열의 원소의 수는 변하지 않음\n",
        "\n",
        "- 차원의 행, 열의 수를 변화시킴"
      ]
    },
    {
      "cell_type": "code",
      "execution_count": null,
      "metadata": {
        "id": "IGPDYzHfRTvx",
        "outputId": "7a2dc9c9-ec73-4273-9fad-f13cdc06eaf1",
        "colab": {
          "base_uri": "https://localhost:8080/"
        }
      },
      "outputs": [
        {
          "output_type": "execute_result",
          "data": {
            "text/plain": [
              "array([100, 101, 102, 103, 104, 105, 106, 107, 108, 109])"
            ]
          },
          "metadata": {},
          "execution_count": 86
        }
      ],
      "source": [
        "np.array(range(100,110))"
      ]
    },
    {
      "cell_type": "code",
      "execution_count": null,
      "metadata": {
        "id": "rW3ENZFdRTvx",
        "outputId": "0fa848d1-81c8-42e8-ee1e-a3001c20b1a5",
        "colab": {
          "base_uri": "https://localhost:8080/"
        }
      },
      "outputs": [
        {
          "output_type": "execute_result",
          "data": {
            "text/plain": [
              "array([100, 101, 102, 103, 104, 105, 106, 107, 108, 109])"
            ]
          },
          "metadata": {},
          "execution_count": 90
        }
      ],
      "source": [
        "np.arange(100,110)"
      ]
    },
    {
      "cell_type": "code",
      "execution_count": null,
      "metadata": {
        "id": "w-BYcHJ4RTvx",
        "outputId": "cc8abbe1-6dab-4ca5-a730-f7535ec7860f",
        "colab": {
          "base_uri": "https://localhost:8080/"
        }
      },
      "outputs": [
        {
          "output_type": "execute_result",
          "data": {
            "text/plain": [
              "array([[100, 101, 102, 103, 104],\n",
              "       [105, 106, 107, 108, 109]])"
            ]
          },
          "metadata": {},
          "execution_count": 98
        }
      ],
      "source": [
        "# np.reshape\n",
        "# 배열의 원소의 수는 변하지 않음\n",
        "# 차원, 행, 열의 수를 변화시킴\n",
        "\n",
        "ar = np.arange(100,110).reshape(2,5)\n",
        "ar\n"
      ]
    },
    {
      "cell_type": "code",
      "execution_count": null,
      "metadata": {
        "id": "Djo1OXDKRTvx",
        "outputId": "5099ab06-6c61-459d-a18b-5511c0df6896",
        "colab": {
          "base_uri": "https://localhost:8080/"
        }
      },
      "outputs": [
        {
          "output_type": "execute_result",
          "data": {
            "text/plain": [
              "array([[100, 101],\n",
              "       [102, 103],\n",
              "       [104, 105],\n",
              "       [106, 107],\n",
              "       [108, 109]])"
            ]
          },
          "metadata": {},
          "execution_count": 100
        }
      ],
      "source": [
        "arr = ar.reshape(5,2)\n",
        "arr"
      ]
    },
    {
      "cell_type": "code",
      "execution_count": null,
      "metadata": {
        "id": "TN6HpfReRTvx",
        "outputId": "c4eae21c-42bf-4214-ad91-27cd7c2ad4c4",
        "colab": {
          "base_uri": "https://localhost:8080/"
        }
      },
      "outputs": [
        {
          "output_type": "execute_result",
          "data": {
            "text/plain": [
              "array([[ 30,  40,  50],\n",
              "       [ 60,  70,  80],\n",
              "       [110, 120, 130],\n",
              "       [140, 150, 160],\n",
              "       [210, 215, 220],\n",
              "       [225, 230, 235]])"
            ]
          },
          "metadata": {},
          "execution_count": 101
        }
      ],
      "source": [
        "arr = ar2.reshape(6,3)\n",
        "arr"
      ]
    },
    {
      "cell_type": "code",
      "execution_count": null,
      "metadata": {
        "id": "3cSngR6rRTvy",
        "outputId": "a8820910-a482-4739-de5b-5d75a5b0703e",
        "colab": {
          "base_uri": "https://localhost:8080/",
          "height": 265
        }
      },
      "outputs": [
        {
          "output_type": "display_data",
          "data": {
            "text/plain": [
              "<Figure size 432x288 with 1 Axes>"
            ],
            "image/png": "[encoded data removed]"
          },
          "metadata": {
            "needs_background": "light"
          }
        }
      ],
      "source": [
        "plt.imshow(arr, cmap='gray', vmin=0, vmax=255)\n",
        "plt.show()"
      ]
    },
    {
      "cell_type": "code",
      "execution_count": null,
      "metadata": {
        "id": "cmyJ0c41RTvy",
        "outputId": "ed9a65f4-3446-4385-da9e-f92589aca6a9",
        "colab": {
          "base_uri": "https://localhost:8080/"
        }
      },
      "outputs": [
        {
          "output_type": "execute_result",
          "data": {
            "text/plain": [
              "array([ 30,  40,  50,  60,  70,  80, 110, 120, 130, 140, 150, 160, 210,\n",
              "       215, 220, 225, 230, 235])"
            ]
          },
          "metadata": {},
          "execution_count": 127
        }
      ],
      "source": [
        "a = ar2.reshape(-1)     # -1로 쓰면 알아서 계산함. 만능키\n",
        "a"
      ]
    },
    {
      "cell_type": "code",
      "source": [
        "a = ar2.flatten()\n",
        "a\n"
      ],
      "metadata": {
        "id": "Rij15NmEHtJJ",
        "outputId": "98c275ef-ca2d-4dfe-d4cb-fdabfc4aaab8",
        "colab": {
          "base_uri": "https://localhost:8080/"
        }
      },
      "execution_count": null,
      "outputs": [
        {
          "output_type": "execute_result",
          "data": {
            "text/plain": [
              "array([ 30,  40,  50,  60,  70,  80, 110, 120, 130, 140, 150, 160, 210,\n",
              "       215, 220, 225, 230, 235])"
            ]
          },
          "metadata": {},
          "execution_count": 112
        }
      ]
    },
    {
      "cell_type": "code",
      "execution_count": null,
      "metadata": {
        "id": "U9DLwaDzRTvy",
        "outputId": "8a695da0-a2ac-4784-9b5d-f63fa48d7e1a",
        "colab": {
          "base_uri": "https://localhost:8080/",
          "height": 265
        }
      },
      "outputs": [
        {
          "output_type": "display_data",
          "data": {
            "text/plain": [
              "<Figure size 432x288 with 1 Axes>"
            ],
            "image/png": "[encoded data removed]"
          },
          "metadata": {
            "needs_background": "light"
          }
        }
      ],
      "source": [
        "# scatter : 산점도\n",
        "plt.scatter(range(len(a)), a )\n",
        "plt.xlim( 0, len(a))    #x축의 최소, 최대\n",
        "plt.ylim( 0, 256)       #y축의 최소, 최대\n",
        "plt.grid(True)\n",
        "plt.show()"
      ]
    },
    {
      "cell_type": "markdown",
      "metadata": {
        "id": "ihKdwNYiRTvy"
      },
      "source": [
        "### 차원 확장"
      ]
    },
    {
      "cell_type": "code",
      "execution_count": null,
      "metadata": {
        "id": "oojZYvDwRTvy",
        "outputId": "a168358a-d00a-4b44-f360-f4161c7624c5",
        "colab": {
          "base_uri": "https://localhost:8080/"
        }
      },
      "outputs": [
        {
          "output_type": "execute_result",
          "data": {
            "text/plain": [
              "array([ 1,  2,  3,  4,  5,  6,  7,  8,  9, 10])"
            ]
          },
          "metadata": {},
          "execution_count": 131
        }
      ],
      "source": [
        "a= np.arange(1,11)\n",
        "a\n",
        "#10열"
      ]
    },
    {
      "cell_type": "code",
      "execution_count": null,
      "metadata": {
        "id": "rJhz3gBoRTvy",
        "outputId": "36e357a8-b33c-4108-eaab-3e281fe16c53",
        "colab": {
          "base_uri": "https://localhost:8080/"
        }
      },
      "outputs": [
        {
          "output_type": "execute_result",
          "data": {
            "text/plain": [
              "array([[ 1],\n",
              "       [ 2],\n",
              "       [ 3],\n",
              "       [ 4],\n",
              "       [ 5],\n",
              "       [ 6],\n",
              "       [ 7],\n",
              "       [ 8],\n",
              "       [ 9],\n",
              "       [10]])"
            ]
          },
          "metadata": {},
          "execution_count": 143
        }
      ],
      "source": [
        "# 모든 원소를 행으로 보내시오\n",
        "a[:, np.newaxis]\n",
        "# 10행 1열"
      ]
    },
    {
      "cell_type": "code",
      "source": [
        "a[np.newaxis, :].shape\n",
        "#2차원 모든 원소를  1행 10열 으로"
      ],
      "metadata": {
        "id": "728xl72hKfUv",
        "outputId": "8ca76e4e-c69a-4efc-913d-fafe66f65e48",
        "colab": {
          "base_uri": "https://localhost:8080/"
        }
      },
      "execution_count": null,
      "outputs": [
        {
          "output_type": "execute_result",
          "data": {
            "text/plain": [
              "(1, 10)"
            ]
          },
          "metadata": {},
          "execution_count": 148
        }
      ]
    },
    {
      "cell_type": "code",
      "source": [
        "a[np.newaxis, :, np.newaxis]\n",
        "#3차원 1면,10행 1행으로"
      ],
      "metadata": {
        "id": "cHZctek9K1Ac",
        "outputId": "9326b66f-229c-4e86-8253-190c2e6e7eb2",
        "colab": {
          "base_uri": "https://localhost:8080/"
        }
      },
      "execution_count": null,
      "outputs": [
        {
          "output_type": "execute_result",
          "data": {
            "text/plain": [
              "array([[[ 1],\n",
              "        [ 2],\n",
              "        [ 3],\n",
              "        [ 4],\n",
              "        [ 5],\n",
              "        [ 6],\n",
              "        [ 7],\n",
              "        [ 8],\n",
              "        [ 9],\n",
              "        [10]]])"
            ]
          },
          "metadata": {},
          "execution_count": 151
        }
      ]
    },
    {
      "cell_type": "markdown",
      "metadata": {
        "id": "aC7e2i12RTvy"
      },
      "source": [
        "### Tanspose\n",
        "\n",
        "행과 열을 교체   \n",
        "ar.T"
      ]
    },
    {
      "cell_type": "code",
      "execution_count": null,
      "metadata": {
        "id": "FK412ugbRTvy",
        "outputId": "3e20133b-de35-4569-819a-795aeb733422",
        "colab": {
          "base_uri": "https://localhost:8080/"
        }
      },
      "outputs": [
        {
          "output_type": "execute_result",
          "data": {
            "text/plain": [
              "array([[0, 1, 2, 3, 4],\n",
              "       [5, 6, 7, 8, 9]])"
            ]
          },
          "metadata": {},
          "execution_count": 153
        }
      ],
      "source": [
        "np.arange(10).reshape(2,5)\n"
      ]
    },
    {
      "cell_type": "code",
      "execution_count": null,
      "metadata": {
        "id": "8akZbjkRRTvy",
        "outputId": "26cec30c-79b8-4ec3-d236-6cf43e0713a0",
        "colab": {
          "base_uri": "https://localhost:8080/"
        }
      },
      "outputs": [
        {
          "output_type": "execute_result",
          "data": {
            "text/plain": [
              "array([[0, 5],\n",
              "       [1, 6],\n",
              "       [2, 7],\n",
              "       [3, 8],\n",
              "       [4, 9]])"
            ]
          },
          "metadata": {},
          "execution_count": 156
        }
      ],
      "source": [
        "np.arange(10).reshape(2,5).T"
      ]
    },
    {
      "cell_type": "code",
      "execution_count": null,
      "metadata": {
        "id": "JsM4wYOxRTvy"
      },
      "outputs": [],
      "source": []
    },
    {
      "cell_type": "markdown",
      "metadata": {
        "id": "aH4kMxpZRTvy"
      },
      "source": [
        "## slicing\n",
        "- N차원 배열: ',' 로 구별하여 연결"
      ]
    },
    {
      "cell_type": "code",
      "execution_count": null,
      "metadata": {
        "id": "DXEYLDg1RTvy",
        "outputId": "8b6ee64c-c5a9-4bb6-d7a4-84d5e09e37a4",
        "colab": {
          "base_uri": "https://localhost:8080/"
        }
      },
      "outputs": [
        {
          "output_type": "execute_result",
          "data": {
            "text/plain": [
              "array([10.3, 80.2, 15.5, 30. , 95. , 65. , 70. , 40. , 50. ],\n",
              "      dtype=float16)"
            ]
          },
          "metadata": {},
          "execution_count": 157
        }
      ],
      "source": [
        "ar1"
      ]
    },
    {
      "cell_type": "code",
      "execution_count": null,
      "metadata": {
        "id": "ZrHR9yheRTvy",
        "outputId": "ff8127bf-7a75-43f3-a7f6-12167711e6f8",
        "colab": {
          "base_uri": "https://localhost:8080/"
        }
      },
      "outputs": [
        {
          "output_type": "execute_result",
          "data": {
            "text/plain": [
              "array([15.5, 30. , 95. ], dtype=float16)"
            ]
          },
          "metadata": {},
          "execution_count": 159
        }
      ],
      "source": [
        "ar1[2:5]"
      ]
    },
    {
      "cell_type": "code",
      "execution_count": null,
      "metadata": {
        "id": "aqnbv5eURTvz",
        "outputId": "9e0bcb04-a3ba-4657-8cab-6c946ef5ae5b",
        "colab": {
          "base_uri": "https://localhost:8080/"
        }
      },
      "outputs": [
        {
          "output_type": "execute_result",
          "data": {
            "text/plain": [
              "array([70., 40., 50.], dtype=float16)"
            ]
          },
          "metadata": {},
          "execution_count": 162
        }
      ],
      "source": [
        "s = 6\n",
        "w = 3\n",
        "ar1[s:s+w]\n"
      ]
    },
    {
      "cell_type": "code",
      "execution_count": null,
      "metadata": {
        "id": "wep5Z1snRTvz",
        "outputId": "5c0816f3-a9e3-446f-b9cb-fcf898aaba6e",
        "colab": {
          "base_uri": "https://localhost:8080/"
        }
      },
      "outputs": [
        {
          "output_type": "execute_result",
          "data": {
            "text/plain": [
              "array([[ 40,  50,  60,  70],\n",
              "       [120, 130, 140, 150]])"
            ]
          },
          "metadata": {},
          "execution_count": 165
        }
      ],
      "source": [
        "#[행슬라이싱, 열슬라이싱]\n",
        "p = ar2[0:2, 1:5]\n",
        "p"
      ]
    },
    {
      "cell_type": "code",
      "execution_count": null,
      "metadata": {
        "id": "f9jR_6NZRTvz",
        "outputId": "3cdd812f-c240-4b21-cf9e-79e1b7acdfaf",
        "colab": {
          "base_uri": "https://localhost:8080/",
          "height": 179
        }
      },
      "outputs": [
        {
          "output_type": "display_data",
          "data": {
            "text/plain": [
              "<Figure size 720x360 with 2 Axes>"
            ],
            "image/png": "[encoded data removed]"
          },
          "metadata": {
            "needs_background": "light"
          }
        }
      ],
      "source": [
        "# subplot 1행 2열로 조각을 나눔\n",
        "plt.figure(figsize=(10, 5))\n",
        "plt.subplot(1, 2, 1)\n",
        "plt.imshow(ar2, cmap='gray', vmin=0, vmax=255)\n",
        "\n",
        "plt.subplot(1, 2, 2)\n",
        "plt.imshow(p, cmap='gray', vmin=0, vmax=255)\n",
        "plt.show()"
      ]
    },
    {
      "cell_type": "code",
      "execution_count": null,
      "metadata": {
        "id": "d_tgNwb5RTvz",
        "outputId": "5fe05f05-a216-4e52-a17c-474958c085b1",
        "colab": {
          "base_uri": "https://localhost:8080/"
        }
      },
      "outputs": [
        {
          "output_type": "execute_result",
          "data": {
            "text/plain": [
              "array([[120, 150],\n",
              "       [215, 230]])"
            ]
          },
          "metadata": {},
          "execution_count": 168
        }
      ],
      "source": [
        "# 특정열이나 행을 선택하여 추출 1,4 열 추출\n",
        "p = ar2[1:3, [1,4]]\n",
        "p"
      ]
    },
    {
      "cell_type": "code",
      "execution_count": null,
      "metadata": {
        "id": "pwmcpMh_RTvz",
        "outputId": "ec381360-f66a-4111-af2d-ea265f083e77",
        "colab": {
          "base_uri": "https://localhost:8080/"
        }
      },
      "outputs": [
        {
          "output_type": "execute_result",
          "data": {
            "text/plain": [
              "array([[ 30,  40,  50,  60,  70,  80],\n",
              "       [210, 215, 220, 225, 230, 235]])"
            ]
          },
          "metadata": {},
          "execution_count": 173
        }
      ],
      "source": [
        "p = ar2[[0,2], :]\n",
        "p"
      ]
    },
    {
      "cell_type": "code",
      "execution_count": null,
      "metadata": {
        "id": "dqzzLJTfRTvz",
        "outputId": "62071fcf-52e3-41a0-ef37-7acef6433dd3",
        "colab": {
          "base_uri": "https://localhost:8080/"
        }
      },
      "outputs": [
        {
          "output_type": "execute_result",
          "data": {
            "text/plain": [
              "1"
            ]
          },
          "metadata": {},
          "execution_count": 11
        }
      ],
      "source": [
        "\n"
      ]
    },
    {
      "cell_type": "code",
      "execution_count": null,
      "metadata": {
        "id": "SLLtK7VuRTvz",
        "outputId": "0afc28d4-ab92-467c-e288-c58f5f0880ca",
        "colab": {
          "base_uri": "https://localhost:8080/"
        }
      },
      "outputs": [
        {
          "output_type": "execute_result",
          "data": {
            "text/plain": [
              "(3, 1)"
            ]
          },
          "metadata": {},
          "execution_count": 14
        }
      ],
      "source": [
        "\n"
      ]
    },
    {
      "cell_type": "code",
      "execution_count": null,
      "metadata": {
        "id": "0mEBEUhaRTvz"
      },
      "outputs": [],
      "source": []
    },
    {
      "cell_type": "code",
      "execution_count": null,
      "metadata": {
        "id": "tnxAqqxqRTvz"
      },
      "outputs": [],
      "source": [
        "def disp_2(l, r):\n",
        "    plt.figure(figsize=(15,5))      #x축 비율이 10, y축 비율이 5\n",
        "    plt.subplot(1,2,1)\n",
        "    plt.imshow(l , cmap='gray', vmin=0, vmax=255)\n",
        "\n",
        "    plt.subplot(1,2,2)\n",
        "    plt.imshow(r , cmap='gray', vmin=0, vmax=255)\n",
        "    plt.show()"
      ]
    },
    {
      "cell_type": "code",
      "execution_count": null,
      "metadata": {
        "id": "wHq5VWkcRTvz",
        "outputId": "b006ad76-65de-4fc6-a3f2-a48a4d963d1b",
        "colab": {
          "base_uri": "https://localhost:8080/",
          "height": 324
        }
      },
      "outputs": [
        {
          "output_type": "display_data",
          "data": {
            "text/plain": [
              "<Figure size 1800x360 with 2 Axes>"
            ],
            "image/png": "[encoded data removed]"
          },
          "metadata": {
            "needs_background": "light"
          }
        }
      ],
      "source": [
        "disp_2(ar2, p)"
      ]
    },
    {
      "cell_type": "markdown",
      "metadata": {
        "id": "ezeT-mYrRTvz"
      },
      "source": [
        "### 다음 두 슬라이싱 명령은 다른 명령이다."
      ]
    },
    {
      "cell_type": "code",
      "execution_count": null,
      "metadata": {
        "id": "U9y8gzPZRTvz",
        "outputId": "29b0273d-eb61-4cd0-c6cb-206d78e00f2f",
        "colab": {
          "base_uri": "https://localhost:8080/"
        }
      },
      "outputs": [
        {
          "output_type": "execute_result",
          "data": {
            "text/plain": [
              "1"
            ]
          },
          "metadata": {},
          "execution_count": 15
        }
      ],
      "source": [
        "ar2[:,1].ndim"
      ]
    },
    {
      "cell_type": "code",
      "execution_count": null,
      "metadata": {
        "id": "TR2ErE3iRTvz"
      },
      "outputs": [],
      "source": [
        "ar2[:, [-1]].ndim   #차원은\n",
        "ar2[:, [-1]].shape  #"
      ]
    },
    {
      "cell_type": "markdown",
      "metadata": {
        "id": "WpVEpEWdRTv0"
      },
      "source": [
        "### Concatenation(병합)\n",
        "- np.vstack\n",
        "    - 수직으로 쌓음\n",
        "- np.hstack\n",
        "    - 수평적으로 병합\n",
        "- np.stack([ , ]) "
      ]
    },
    {
      "cell_type": "code",
      "execution_count": null,
      "metadata": {
        "id": "Y3c6Jw9BRTv0"
      },
      "outputs": [],
      "source": [
        "grid = np.array([[ 70, 75,  80,  85,  90, 95],\n",
        "                 [170, 175,180, 185, 190, 195]])"
      ]
    },
    {
      "cell_type": "code",
      "execution_count": null,
      "metadata": {
        "id": "nQYyEchERTv0",
        "outputId": "2a732541-47c5-496e-f4f0-af44e6368b07",
        "colab": {
          "base_uri": "https://localhost:8080/",
          "height": 409
        }
      },
      "outputs": [
        {
          "output_type": "stream",
          "name": "stdout",
          "text": [
            "[[ 30  40  50  60  70  80]\n",
            " [110 120 130 140 150 160]\n",
            " [210 215 220 225 230 235]\n",
            " [ 70  75  80  85  90  95]\n",
            " [170 175 180 185 190 195]]\n"
          ]
        },
        {
          "output_type": "display_data",
          "data": {
            "text/plain": [
              "<Figure size 1080x360 with 2 Axes>"
            ],
            "image/png": "[encoded data removed]"
          },
          "metadata": {
            "needs_background": "light"
          }
        }
      ],
      "source": [
        "p = np.vstack([ar2,grid])\n",
        "print(p)\n",
        "\n",
        "disp_2(ar2, p)"
      ]
    },
    {
      "cell_type": "code",
      "execution_count": null,
      "metadata": {
        "id": "eHDZvyMqRTv0",
        "outputId": "3ff5e994-685c-473a-bd6f-9e2b62a4144f",
        "colab": {
          "base_uri": "https://localhost:8080/",
          "height": 409
        }
      },
      "outputs": [
        {
          "output_type": "stream",
          "name": "stdout",
          "text": [
            "[[ 70  75  80  85  90  95]\n",
            " [170 175 180 185 190 195]\n",
            " [ 30  40  50  60  70  80]\n",
            " [110 120 130 140 150 160]\n",
            " [210 215 220 225 230 235]]\n"
          ]
        },
        {
          "output_type": "display_data",
          "data": {
            "text/plain": [
              "<Figure size 1080x360 with 2 Axes>"
            ],
            "image/png": "[encoded data removed]"
          },
          "metadata": {
            "needs_background": "light"
          }
        }
      ],
      "source": [
        "p = np.vstack([grid,ar2])\n",
        "print(p)\n",
        "\n",
        "disp_2(ar2, p)"
      ]
    },
    {
      "cell_type": "code",
      "execution_count": null,
      "metadata": {
        "id": "0F8vJu7ZRTv0"
      },
      "outputs": [],
      "source": []
    },
    {
      "cell_type": "code",
      "execution_count": null,
      "metadata": {
        "id": "HTbE3RFQRTv0"
      },
      "outputs": [],
      "source": [
        "y = np.array([[10, 100],\n",
        "              [50, 150],\n",
        "             [80,  180]])"
      ]
    },
    {
      "cell_type": "code",
      "execution_count": null,
      "metadata": {
        "scrolled": true,
        "id": "dU4o_AvwRTv0",
        "outputId": "b6b54d1e-9f8d-47b6-f3ed-052c2a396a51",
        "colab": {
          "base_uri": "https://localhost:8080/",
          "height": 378
        }
      },
      "outputs": [
        {
          "output_type": "stream",
          "name": "stdout",
          "text": [
            "[[ 30  40  50  60  70  80  10 100]\n",
            " [110 120 130 140 150 160  50 150]\n",
            " [210 215 220 225 230 235  80 180]]\n"
          ]
        },
        {
          "output_type": "display_data",
          "data": {
            "text/plain": [
              "<Figure size 1080x360 with 2 Axes>"
            ],
            "image/png": "[encoded data removed]"
          },
          "metadata": {
            "needs_background": "light"
          }
        }
      ],
      "source": [
        "p = np.hstack([ar2, y])\n",
        "print(p)\n",
        "\n",
        "disp_2(y,p)"
      ]
    },
    {
      "cell_type": "code",
      "execution_count": null,
      "metadata": {
        "id": "XwbK67nFRTv0"
      },
      "outputs": [],
      "source": []
    },
    {
      "cell_type": "code",
      "execution_count": null,
      "metadata": {
        "id": "VT9PxJ4qRTv0",
        "outputId": "0021a532-2725-46c9-a948-e563f5cb77dd",
        "colab": {
          "base_uri": "https://localhost:8080/",
          "height": 296
        }
      },
      "outputs": [
        {
          "output_type": "stream",
          "name": "stdout",
          "text": [
            "[[ 30  40  50  60  70  80  80]\n",
            " [110 120 130 140 150 160 160]\n",
            " [210 215 220 225 230 235 235]]\n"
          ]
        },
        {
          "output_type": "display_data",
          "data": {
            "text/plain": [
              "<Figure size 1080x360 with 2 Axes>"
            ],
            "image/png": "[encoded data removed]"
          },
          "metadata": {
            "needs_background": "light"
          }
        }
      ],
      "source": [
        "y = ar2[:, [-1]]\n",
        "p = np.hstack([ar2,y])\n",
        "print(p)\n",
        "\n",
        "disp_2(ar2,p)"
      ]
    },
    {
      "cell_type": "code",
      "execution_count": null,
      "metadata": {
        "id": "3Xyvb0pXRTv1",
        "outputId": "056fcc00-f268-4a6c-e1e2-267401a4fa7f",
        "colab": {
          "base_uri": "https://localhost:8080/"
        }
      },
      "outputs": [
        {
          "output_type": "execute_result",
          "data": {
            "text/plain": [
              "array([[0.],\n",
              "       [0.],\n",
              "       [0.]])"
            ]
          },
          "metadata": {},
          "execution_count": 42
        }
      ],
      "source": [
        "y =np.zeros((len(ar2), 1))\n",
        "y"
      ]
    },
    {
      "cell_type": "code",
      "execution_count": null,
      "metadata": {
        "id": "FnxeSUg0RTv1"
      },
      "outputs": [],
      "source": [
        "y = np.array([[10, 100],\n",
        "              [50, 150],\n",
        "             [80,  180]])"
      ]
    },
    {
      "cell_type": "code",
      "execution_count": null,
      "metadata": {
        "id": "_3pQAJirRTv1",
        "outputId": "db5960fd-698d-4f46-8fe3-a7b0dfab7d50",
        "colab": {
          "base_uri": "https://localhost:8080/"
        }
      },
      "outputs": [
        {
          "output_type": "stream",
          "name": "stdout",
          "text": [
            "[[[ 10 100]\n",
            "  [ 50 150]\n",
            "  [ 80 180]]\n",
            "\n",
            " [[ 10 100]\n",
            "  [ 50 150]\n",
            "  [ 80 180]]]\n",
            "3\n",
            "(2, 3, 2)\n"
          ]
        }
      ],
      "source": [
        "p = np.stack([y,y])\n",
        "print(p)\n",
        "print(p.ndim)\n",
        "print(p.shape)"
      ]
    },
    {
      "cell_type": "markdown",
      "metadata": {
        "id": "M63jrC5RRTv1"
      },
      "source": [
        "## 벡터화 계산 \n",
        "- 원소 하나 하나씩 계산하는 것이 아니라 배열 단위로 계산\n",
        "- loops없이 연산하여 코딩의 양이 줄어듦\n",
        "- 병렬처리가 가능(multi-core)\n",
        "- 브로드캐스팅(broadcasting): 행렬끼리 연산할 때 크기가 다른 경우 이를 알아서 확대 해주는 기능\n",
        "- Filtering\n",
        "\n",
        "vectorized operation\n",
        "- 사칙연산 모두 가능\n",
        " - 덧셈, 뺄셈, 곱셈, 나눗셈\n",
        "- 논리연산\n"
      ]
    },
    {
      "cell_type": "code",
      "execution_count": null,
      "metadata": {
        "id": "BbEsVORXRTv1",
        "outputId": "b098d76b-531d-4742-ee26-ce3bb4e13c4c",
        "colab": {
          "base_uri": "https://localhost:8080/"
        }
      },
      "outputs": [
        {
          "output_type": "stream",
          "name": "stdout",
          "text": [
            "ar2: \n",
            " [[ 30  40  50  60  70  80]\n",
            " [110 120 130 140 150 160]\n",
            " [210 215 220 225 230 235]]\n",
            "------------------------------\n",
            "y: \n",
            " [[1 1 1 1 1 1]\n",
            " [1 1 1 1 1 1]\n",
            " [1 1 1 1 1 1]]\n",
            "------------------------------\n",
            "p: \n",
            " [[ 29  39  49  59  69  79]\n",
            " [109 119 129 139 149 159]\n",
            " [209 214 219 224 229 234]]\n"
          ]
        }
      ],
      "source": [
        "print('ar2: \\n', ar2)\n",
        "\n",
        "print('-'*30)\n",
        "y = np.ones_like(ar2)\n",
        "print('y: \\n', y)\n",
        "\n",
        "print('-'*30)\n",
        "\n",
        "p = ar2 - y \n",
        "print('p: \\n', p)"
      ]
    },
    {
      "cell_type": "markdown",
      "metadata": {
        "id": "xQcyoAgqRTv1"
      },
      "source": [
        "## list와 ndarray 벡터화 연산 속도 비교"
      ]
    },
    {
      "cell_type": "code",
      "execution_count": null,
      "metadata": {
        "id": "ddC32jNRRTv1"
      },
      "outputs": [],
      "source": [
        "datanum = 100_000"
      ]
    },
    {
      "cell_type": "code",
      "execution_count": null,
      "metadata": {
        "id": "qxpvTn9aRTv1"
      },
      "outputs": [],
      "source": [
        "p = list(range(datanum))\n",
        "y = list(range(datanum))"
      ]
    },
    {
      "cell_type": "code",
      "execution_count": null,
      "metadata": {
        "id": "SlhIvA37RTv1",
        "outputId": "de25e124-347b-40d4-c378-ef19f857140e",
        "colab": {
          "base_uri": "https://localhost:8080/"
        }
      },
      "outputs": [
        {
          "output_type": "stream",
          "name": "stdout",
          "text": [
            "CPU times: user 27.5 ms, sys: 707 µs, total: 28.2 ms\n",
            "Wall time: 29.6 ms\n"
          ]
        }
      ],
      "source": [
        "%%time\n",
        "# Python 리스트로 계산하는 코드\n",
        "\n",
        "r= []\n",
        "for i in range(datanum):\n",
        "    r.append(p[i] + y[i])\n"
      ]
    },
    {
      "cell_type": "code",
      "source": [],
      "metadata": {
        "id": "rIMc-_QpSfk-"
      },
      "execution_count": null,
      "outputs": []
    },
    {
      "cell_type": "code",
      "execution_count": null,
      "metadata": {
        "id": "UcJAeu2URTv1"
      },
      "outputs": [],
      "source": [
        "p = np.arange(datanum)\n",
        "y = np.arange(datanum)"
      ]
    },
    {
      "cell_type": "code",
      "execution_count": null,
      "metadata": {
        "id": "hiuApJ7sRTv1",
        "outputId": "360f4419-0f97-4416-ea64-e17a1fc94d9a",
        "colab": {
          "base_uri": "https://localhost:8080/"
        }
      },
      "outputs": [
        {
          "output_type": "stream",
          "name": "stdout",
          "text": [
            "CPU times: user 417 µs, sys: 52 µs, total: 469 µs\n",
            "Wall time: 482 µs\n"
          ]
        }
      ],
      "source": [
        "%%time\n",
        "# Numpy 배열로 계산하는 코드\n",
        "a= p+y\n"
      ]
    },
    {
      "cell_type": "markdown",
      "metadata": {
        "id": "_6gq-wqsRTv2"
      },
      "source": [
        "### broadcasting"
      ]
    },
    {
      "cell_type": "code",
      "execution_count": null,
      "metadata": {
        "id": "H6t91R2_RTv2",
        "outputId": "af768339-cfab-4b3d-d88b-51a187ab006b",
        "colab": {
          "base_uri": "https://localhost:8080/",
          "height": 403
        }
      },
      "outputs": [
        {
          "output_type": "stream",
          "name": "stdout",
          "text": [
            "ar2: \n",
            " [[ 30  40  50  60  70  80]\n",
            " [110 120 130 140 150 160]\n",
            " [210 215 220 225 230 235]]\n",
            "------------------------------\n",
            "p: \n",
            " [[225 215 205 195 185 175]\n",
            " [145 135 125 115 105  95]\n",
            " [ 45  40  35  30  25  20]]\n"
          ]
        },
        {
          "output_type": "display_data",
          "data": {
            "text/plain": [
              "<Figure size 1080x360 with 2 Axes>"
            ],
            "image/png": "[encoded data removed]"
          },
          "metadata": {
            "needs_background": "light"
          }
        }
      ],
      "source": [
        "p = 255 - ar2\n",
        "print('ar2: \\n', ar2)\n",
        "print('-'*30)\n",
        "print('p: \\n', p)\n",
        "\n",
        "disp_2(ar2,p)"
      ]
    },
    {
      "cell_type": "code",
      "execution_count": null,
      "metadata": {
        "id": "hOcgOO4URTv2",
        "outputId": "3eccf44f-ff22-4c8a-b27a-2a965e68b67d",
        "colab": {
          "base_uri": "https://localhost:8080/",
          "height": 296
        }
      },
      "outputs": [
        {
          "output_type": "stream",
          "name": "stdout",
          "text": [
            "[[  0  10  20  30  40  50]\n",
            " [ 80  90 100 110 120 130]\n",
            " [180 185 190 195 200 205]]\n"
          ]
        },
        {
          "output_type": "display_data",
          "data": {
            "text/plain": [
              "<Figure size 1080x360 with 2 Axes>"
            ],
            "image/png": "[encoded data removed]"
          },
          "metadata": {
            "needs_background": "light"
          }
        }
      ],
      "source": [
        "p = ar2 - 30\n",
        "print(p)\n",
        "\n",
        "disp_2(ar2,p)"
      ]
    },
    {
      "cell_type": "code",
      "execution_count": null,
      "metadata": {
        "id": "Gi57BOL0RTv2",
        "outputId": "d1c733a6-0dd0-4c6e-d6cc-129fd7b16041",
        "colab": {
          "base_uri": "https://localhost:8080/",
          "height": 296
        }
      },
      "outputs": [
        {
          "output_type": "stream",
          "name": "stdout",
          "text": [
            "[[ 80  90 100 110 120 130]\n",
            " [160 170 180 190 200 210]\n",
            " [260 265 270 275 280 285]]\n"
          ]
        },
        {
          "output_type": "display_data",
          "data": {
            "text/plain": [
              "<Figure size 1080x360 with 2 Axes>"
            ],
            "image/png": "[encoded data removed]"
          },
          "metadata": {
            "needs_background": "light"
          }
        }
      ],
      "source": [
        "p = ar2 + 50\n",
        "print(p)\n",
        "\n",
        "disp_2(ar2,p)"
      ]
    },
    {
      "cell_type": "code",
      "execution_count": null,
      "metadata": {
        "id": "54GIuTJURTv2",
        "outputId": "2bc6f607-22e8-4694-92da-772bac563d2e",
        "colab": {
          "base_uri": "https://localhost:8080/",
          "height": 349
        }
      },
      "outputs": [
        {
          "output_type": "stream",
          "name": "stdout",
          "text": [
            "[[ 80  90 100 110 120 130]\n",
            " [160 170 180 190 200 210]\n",
            " [260 265 270 275 280 285]]\n",
            "[[ 80  90 100 110 120 130]\n",
            " [160 170 180 190 200 210]\n",
            " [255 255 255 255 255 255]]\n"
          ]
        },
        {
          "output_type": "display_data",
          "data": {
            "text/plain": [
              "<Figure size 1080x360 with 2 Axes>"
            ],
            "image/png": "[encoded data removed]"
          },
          "metadata": {
            "needs_background": "light"
          }
        }
      ],
      "source": [
        "y = ar2 + 50\n",
        "print(y)\n",
        "\n",
        "p= np.clip(y, 0, 255)       ##최소, 최대 범위 내로 지정\n",
        "print(p)\n",
        "disp_2(ar2,p)"
      ]
    },
    {
      "cell_type": "code",
      "source": [
        "y = ar2 /2\n",
        "print(y)\n",
        "\n",
        "p = y.astype(int)\n",
        "print(p)\n",
        "disp_2(ar2, p)"
      ],
      "metadata": {
        "id": "uLjFnOr6DSoN",
        "outputId": "9c13c695-8e61-46e0-d36f-551e9b8c3df7",
        "colab": {
          "base_uri": "https://localhost:8080/",
          "height": 349
        }
      },
      "execution_count": null,
      "outputs": [
        {
          "output_type": "stream",
          "name": "stdout",
          "text": [
            "[[ 15.   20.   25.   30.   35.   40. ]\n",
            " [ 55.   60.   65.   70.   75.   80. ]\n",
            " [105.  107.5 110.  112.5 115.  117.5]]\n",
            "[[ 15  20  25  30  35  40]\n",
            " [ 55  60  65  70  75  80]\n",
            " [105 107 110 112 115 117]]\n"
          ]
        },
        {
          "output_type": "display_data",
          "data": {
            "text/plain": [
              "<Figure size 1080x360 with 2 Axes>"
            ],
            "image/png": "[encoded data removed]"
          },
          "metadata": {
            "needs_background": "light"
          }
        }
      ]
    },
    {
      "cell_type": "code",
      "source": [
        "y = np.ones_like(ar2) * 30\n",
        "print('y: \\n', y)\n",
        "\n",
        "print('-' * 30)\n",
        "\n",
        "p = ar2 -y\n",
        "print('p:\\n' ,p)\n",
        "\n",
        "disp_2(ar2, p)"
      ],
      "metadata": {
        "id": "WjrIpv8gEFNU",
        "outputId": "f3ff0554-e431-4020-dbc3-b87565b3d524",
        "colab": {
          "base_uri": "https://localhost:8080/",
          "height": 403
        }
      },
      "execution_count": null,
      "outputs": [
        {
          "output_type": "stream",
          "name": "stdout",
          "text": [
            "y: \n",
            " [[30 30 30 30 30 30]\n",
            " [30 30 30 30 30 30]\n",
            " [30 30 30 30 30 30]]\n",
            "------------------------------\n",
            "p:\n",
            " [[  0  10  20  30  40  50]\n",
            " [ 80  90 100 110 120 130]\n",
            " [180 185 190 195 200 205]]\n"
          ]
        },
        {
          "output_type": "display_data",
          "data": {
            "text/plain": [
              "<Figure size 1080x360 with 2 Axes>"
            ],
            "image/png": "[encoded data removed]"
          },
          "metadata": {
            "needs_background": "light"
          }
        }
      ]
    },
    {
      "cell_type": "markdown",
      "metadata": {
        "id": "W9HMBKHGRTv2"
      },
      "source": [
        "### filter"
      ]
    },
    {
      "cell_type": "code",
      "execution_count": null,
      "metadata": {
        "id": "0qooX2JDRTv2",
        "outputId": "5e4bf43c-8d7a-4f1a-9bb8-633604de2f11",
        "colab": {
          "base_uri": "https://localhost:8080/"
        }
      },
      "outputs": [
        {
          "output_type": "execute_result",
          "data": {
            "text/plain": [
              "array([[ True,  True,  True,  True,  True,  True],\n",
              "       [ True,  True, False, False, False, False],\n",
              "       [False, False, False, False, False, False]])"
            ]
          },
          "metadata": {},
          "execution_count": 77
        }
      ],
      "source": [
        "ar2 <128"
      ]
    },
    {
      "cell_type": "code",
      "execution_count": null,
      "metadata": {
        "id": "DA16oBE-RTv2",
        "outputId": "47074c8f-f0be-43c0-ff7a-894737c5d338",
        "colab": {
          "base_uri": "https://localhost:8080/"
        }
      },
      "outputs": [
        {
          "output_type": "execute_result",
          "data": {
            "text/plain": [
              "array([ 30,  40,  50,  60,  70,  80, 110, 120])"
            ]
          },
          "metadata": {},
          "execution_count": 78
        }
      ],
      "source": [
        "ar2[ar2<128]"
      ]
    },
    {
      "cell_type": "code",
      "execution_count": null,
      "metadata": {
        "id": "jbZRZRnjRTv2",
        "outputId": "dcfd6fed-5e44-44c0-83e7-26b9aecbdbc3",
        "colab": {
          "base_uri": "https://localhost:8080/",
          "height": 296
        }
      },
      "outputs": [
        {
          "output_type": "stream",
          "name": "stdout",
          "text": [
            "[[  0   0   0   0   0   0]\n",
            " [  0   0 130 140 150 160]\n",
            " [210 215 220 225 230 235]]\n"
          ]
        },
        {
          "output_type": "display_data",
          "data": {
            "text/plain": [
              "<Figure size 1080x360 with 2 Axes>"
            ],
            "image/png": "[encoded data removed]"
          },
          "metadata": {
            "needs_background": "light"
          }
        }
      ],
      "source": [
        "y = ar2.copy()\n",
        "\n",
        "p= y<128\n",
        "y[p] = 0    # 128 보다 작은값들은 0으로 채우시오\n",
        "print(y)\n",
        "\n",
        "disp_2(ar2, y)"
      ]
    },
    {
      "cell_type": "code",
      "execution_count": null,
      "metadata": {
        "id": "zYB6Ib6yRTv2",
        "outputId": "0811cc89-e058-422a-b6de-548484e9ec4f",
        "colab": {
          "base_uri": "https://localhost:8080/",
          "height": 296
        }
      },
      "outputs": [
        {
          "output_type": "stream",
          "name": "stdout",
          "text": [
            "[[  0   0   0   0   0   0]\n",
            " [  0   0 255 255 255 255]\n",
            " [255 255 255 255 255 255]]\n"
          ]
        },
        {
          "output_type": "display_data",
          "data": {
            "text/plain": [
              "<Figure size 1080x360 with 2 Axes>"
            ],
            "image/png": "[encoded data removed]"
          },
          "metadata": {
            "needs_background": "light"
          }
        }
      ],
      "source": [
        "y = ar2.copy()\n",
        "\n",
        "y[y<128] =0\n",
        "y[y>=128] = 255\n",
        "print(y)\n",
        "\n",
        "disp_2(ar2, y)"
      ]
    },
    {
      "cell_type": "code",
      "execution_count": null,
      "metadata": {
        "id": "_GqYAFruRTv2",
        "outputId": "1c88e4ce-acba-4b23-8a53-2cf2fb9a90d0",
        "colab": {
          "base_uri": "https://localhost:8080/"
        }
      },
      "outputs": [
        {
          "output_type": "execute_result",
          "data": {
            "text/plain": [
              "array([  0.,  10.,  20.,  30.,  40.,  50.,  60.,  70.,  80.,  90., 100.])"
            ]
          },
          "metadata": {},
          "execution_count": 87
        }
      ],
      "source": []
    },
    {
      "cell_type": "markdown",
      "metadata": {
        "id": "yhjmR9PQRTv2"
      },
      "source": [
        "## 배열 생성(추가) & random 배열 생성"
      ]
    },
    {
      "cell_type": "code",
      "execution_count": null,
      "metadata": {
        "id": "g57_IT2oRTv2",
        "outputId": "d31bec78-2b45-4c9b-94e5-e572ebc90089",
        "colab": {
          "base_uri": "https://localhost:8080/"
        }
      },
      "outputs": [
        {
          "output_type": "execute_result",
          "data": {
            "text/plain": [
              "array([  0.,  10.,  20.,  30.,  40.,  50.,  60.,  70.,  80.,  90., 100.])"
            ]
          },
          "metadata": {},
          "execution_count": 94
        }
      ],
      "source": [
        "np.linspace(0,100,11)   # 11은 원소의 개수\n"
      ]
    },
    {
      "cell_type": "code",
      "execution_count": null,
      "metadata": {
        "id": "tdLlP8dFRTv2",
        "outputId": "ee1a3b60-bc6a-481b-ba00-2e43ec7653ec",
        "colab": {
          "base_uri": "https://localhost:8080/"
        }
      },
      "outputs": [
        {
          "output_type": "execute_result",
          "data": {
            "text/plain": [
              "array([[0.59450113, 0.03052911, 0.87875523, 0.02041657, 0.27883236,\n",
              "        0.21478026],\n",
              "       [0.29831527, 0.19963924, 0.01053758, 0.47175053, 0.24255862,\n",
              "        0.37023872],\n",
              "       [0.40963546, 0.58255434, 0.91077538, 0.18696105, 0.53276211,\n",
              "        0.59318832]])"
            ]
          },
          "metadata": {},
          "execution_count": 95
        }
      ],
      "source": [
        "np.random.random((3,6)) ##foseja"
      ]
    },
    {
      "cell_type": "code",
      "execution_count": null,
      "metadata": {
        "id": "G7R_sORIRTv2",
        "outputId": "8f7e5a40-40b3-44b7-9d0c-b2f32c5b6d13",
        "colab": {
          "base_uri": "https://localhost:8080/"
        }
      },
      "outputs": [
        {
          "output_type": "execute_result",
          "data": {
            "text/plain": [
              "array([[-0.08965317,  0.21676174,  0.06041005, -0.28847856, -0.10318214,\n",
              "        -0.48309991],\n",
              "       [-0.1428675 ,  1.99663109,  1.50416037,  0.30122607, -0.76470124,\n",
              "        -0.75617522],\n",
              "       [-0.74240522, -1.43704274,  1.00678392,  0.13827606, -1.4152894 ,\n",
              "        -0.24924114]])"
            ]
          },
          "metadata": {},
          "execution_count": 107
        }
      ],
      "source": [
        "np.random.normal(0, 1,(3,6)) # 평균, 표준편차"
      ]
    },
    {
      "cell_type": "code",
      "execution_count": null,
      "metadata": {
        "id": "J3SPl5hXRTv3",
        "outputId": "75bcc5ae-faaa-4ddd-af6d-0195c4171a3d",
        "colab": {
          "base_uri": "https://localhost:8080/"
        }
      },
      "outputs": [
        {
          "output_type": "execute_result",
          "data": {
            "text/plain": [
              "array([-0.3576047 , -1.28944446,  0.15514997,  0.59622216,  0.94105491,\n",
              "        0.24123789,  0.68163966,  0.56025056,  0.44152625,  0.99859499,\n",
              "       -0.12371993, -2.17864793, -0.9426697 , -0.16059931, -1.1691938 ,\n",
              "       -1.28190369,  1.07132871,  2.04309879])"
            ]
          },
          "metadata": {},
          "execution_count": 98
        }
      ],
      "source": [
        "np.random.randn(18)     #평균0 표준편차:1"
      ]
    },
    {
      "cell_type": "code",
      "source": [
        "np.random.randn(3,6)            #정규분포"
      ],
      "metadata": {
        "id": "KAYpjdZqNbSI",
        "outputId": "bb28f660-5ca6-4110-d9b3-6cac285d3c0f",
        "colab": {
          "base_uri": "https://localhost:8080/"
        }
      },
      "execution_count": null,
      "outputs": [
        {
          "output_type": "execute_result",
          "data": {
            "text/plain": [
              "array([[ 0.14690958,  0.13356573,  0.94093206, -1.67546516,  1.13543775,\n",
              "        -0.04924352],\n",
              "       [-0.57767746,  0.16090591, -1.19816913, -0.96405808, -1.79862041,\n",
              "        -0.85661806],\n",
              "       [ 0.31563399,  0.87496689, -0.51968571, -0.2941353 ,  0.01234083,\n",
              "         0.64253237]])"
            ]
          },
          "metadata": {},
          "execution_count": 111
        }
      ]
    },
    {
      "cell_type": "code",
      "source": [
        "np.random.rand(3,6) #0.0~1사이      #균일분포"
      ],
      "metadata": {
        "id": "7fKjBmUMN1QB",
        "outputId": "f525c93b-e54e-4dd9-e895-cfd3dcc738eb",
        "colab": {
          "base_uri": "https://localhost:8080/"
        }
      },
      "execution_count": null,
      "outputs": [
        {
          "output_type": "execute_result",
          "data": {
            "text/plain": [
              "array([[0.38372718, 0.25102771, 0.26971469, 0.02799557, 0.98809645,\n",
              "        0.78064092],\n",
              "       [0.232673  , 0.57151505, 0.01985346, 0.71854458, 0.58894838,\n",
              "        0.97334735],\n",
              "       [0.59069045, 0.74123446, 0.55556061, 0.48849343, 0.19451715,\n",
              "        0.04771453]])"
            ]
          },
          "metadata": {},
          "execution_count": 110
        }
      ]
    },
    {
      "cell_type": "markdown",
      "metadata": {
        "id": "0B-QEYThRTv3"
      },
      "source": [
        "## Uniform distribution vs normal distribution\n",
        "\n",
        "균일분포 vs 정규분포포"
      ]
    },
    {
      "cell_type": "code",
      "execution_count": null,
      "metadata": {
        "id": "yxenGzmdRTv3",
        "outputId": "7f97ace9-651b-40f0-e869-43550ba783ab",
        "colab": {
          "base_uri": "https://localhost:8080/",
          "height": 1000
        }
      },
      "outputs": [
        {
          "output_type": "display_data",
          "data": {
            "text/plain": [
              "<Figure size 1440x1440 with 4 Axes>"
            ],
            "image/png": "[encoded data removed]"
          },
          "metadata": {
            "needs_background": "light"
          }
        }
      ],
      "source": [
        "n = 10000\n",
        "uniform_d_signal = np.random.random(n)\n",
        "normal_d_signal = np.random.normal(0,1,n)\n",
        "\n",
        "plt.figure(figsize=(20,20))\n",
        "plt.subplot(221)\n",
        "plt.title('Uniform distribution signal')                        #균일분포\n",
        "plt.scatter(range(len(uniform_d_signal)), uniform_d_signal)     # x축,y축\n",
        "plt.grid(True)\n",
        "\n",
        "plt.subplot(222)\n",
        "plt.title('Histogram of Uniform distribution signal')\n",
        "plt.hist(uniform_d_signal, bins=100)\n",
        "plt.grid(True)\n",
        "\n",
        "plt.subplot(223)\n",
        "plt.title('Normal distribution signal')                         #정규분포\n",
        "plt.scatter(range(len(normal_d_signal)), normal_d_signal)       # x축,y축\n",
        "plt.grid(True)\n",
        "\n",
        "plt.subplot(224)\n",
        "plt.title('Histogram of Normal distribution signal')\n",
        "plt.hist(normal_d_signal, bins=100)\n",
        "plt.grid(True)\n",
        "\n",
        "\n",
        "plt.show()"
      ]
    },
    {
      "cell_type": "markdown",
      "metadata": {
        "id": "CJmtg2jMRTv3"
      },
      "source": [
        "# 내적(dot product)\n",
        "- numpy.dot()\n",
        "- numpy.matmul()\n",
        "- 가중치 합 (Weighted Sum)\n",
        "- 가중치 평균 (Weighted average)\n",
        "- 유사도 검사 (Similarity check)\n",
        "\n",
        "dot| 두행렬의 벡터내적 np.dot(ar1,ar2)|   a@b|\n",
        "matmul| 두행렬의 행렬곱|"
      ]
    },
    {
      "cell_type": "code",
      "execution_count": null,
      "metadata": {
        "id": "PjVE5kvaRTv3",
        "outputId": "1d274747-f4b5-44f9-d4f4-6cf8c57bca6e",
        "colab": {
          "base_uri": "https://localhost:8080/"
        }
      },
      "outputs": [
        {
          "output_type": "execute_result",
          "data": {
            "text/plain": [
              "14"
            ]
          },
          "metadata": {},
          "execution_count": 123
        }
      ],
      "source": [
        "np.array([1,2,3])@np.array([1,2,3]).T"
      ]
    },
    {
      "cell_type": "code",
      "execution_count": null,
      "metadata": {
        "id": "cKNXfc78RTv3",
        "outputId": "9f1b5a80-ba44-481f-ddd9-eed7928a7f99",
        "colab": {
          "base_uri": "https://localhost:8080/"
        }
      },
      "outputs": [
        {
          "output_type": "stream",
          "name": "stdout",
          "text": [
            "[[ 7 13]\n",
            " [26 12]]\n",
            "[[ 7 13]\n",
            " [26 12]]\n",
            "[[ 7 13]\n",
            " [26 12]]\n"
          ]
        }
      ],
      "source": [
        "a = np.array([3,2,-1,0,2,4]).reshape(2,3)\n",
        "b = np.array([2,2,3,4,5,1]).reshape(3,2)\n",
        "print(a@b)              #세개의 결과는 같다\n",
        "print(np.matmul(a,b))   #세개의 결과는 같다\n",
        "print(np.dot(a,b))      #세개의 결과는 같다\n"
      ]
    },
    {
      "cell_type": "code",
      "source": [
        "a = np.arange(1,21,2).reshape(2,5)\n",
        "b = np.arange(3,13,1).reshape(5,2)\n",
        "print(a)\n",
        "print(b)\n",
        "print('--'*5)\n",
        "print(a@b)\n",
        "print('--'*5)\n",
        "print(np.dot(a,b))"
      ],
      "metadata": {
        "id": "VyChnnVPYb8y",
        "outputId": "eedc41da-b04e-4909-e4f4-1b18c6ce6d1b",
        "colab": {
          "base_uri": "https://localhost:8080/"
        }
      },
      "execution_count": null,
      "outputs": [
        {
          "output_type": "stream",
          "name": "stdout",
          "text": [
            "[[ 1  3  5  7  9]\n",
            " [11 13 15 17 19]]\n",
            "[[ 3  4]\n",
            " [ 5  6]\n",
            " [ 7  8]\n",
            " [ 9 10]\n",
            " [11 12]]\n",
            "----------\n",
            "[[215 240]\n",
            " [565 640]]\n",
            "----------\n",
            "[[215 240]\n",
            " [565 640]]\n"
          ]
        }
      ]
    },
    {
      "cell_type": "code",
      "execution_count": null,
      "metadata": {
        "id": "bpGlBWajRTv3"
      },
      "outputs": [],
      "source": [
        "# 과일 구입 총액\n",
        "f = [30,500,70]\n",
        "p = [1000,170,1500]\n"
      ]
    },
    {
      "cell_type": "code",
      "execution_count": null,
      "metadata": {
        "id": "LjK26QKRRTv3"
      },
      "outputs": [],
      "source": [
        "# 가중치 평균\n",
        "a = [87, 93, 90, 100]\n",
        "b =[88, 92, 93, 85]\n",
        "w = [4,4,4,1]\n"
      ]
    },
    {
      "cell_type": "code",
      "execution_count": null,
      "metadata": {
        "id": "BfpDui5lRTv3"
      },
      "outputs": [],
      "source": [
        "s = np.array([[87, 93, 90, 100],\n",
        "              [88, 92, 93, 85],\n",
        "              [92, 91, 80, 70],\n",
        "              [30, 59, 100, 100],\n",
        "              [77, 88, 99, 100]])\n",
        "w = \n"
      ]
    },
    {
      "cell_type": "code",
      "execution_count": null,
      "metadata": {
        "id": "Kurc5xMLRTv4"
      },
      "outputs": [],
      "source": [
        "w"
      ]
    },
    {
      "cell_type": "markdown",
      "metadata": {
        "id": "oZylqwJFRTv4"
      },
      "source": [
        "## 주요 함수\n",
        "- np.min() : 최솟값\n",
        "- np.max() : 최댓값\n",
        "- np.argmin()\n",
        "- np.argmax()\n",
        "- np.sum() : 합계\n",
        "- np.mean() : 평균\n",
        "- np.median() : 중앙값\n",
        "- np.var, np.std(): 분산, 표준편차, 작을 수록 평균값에 뭉쳐있음\n",
        "- np.random.normal() : 정규 분포 자료 생성"
      ]
    },
    {
      "cell_type": "code",
      "execution_count": 6,
      "metadata": {
        "id": "9ykKH9S8RTv4"
      },
      "outputs": [],
      "source": [
        "ar2 = np.array([[ 30, 40,  50,  60,  70,   80], \n",
        "                [110, 120, 130, 140, 150, 160], \n",
        "                [210, 215, 220, 225, 230, 235]]) "
      ]
    },
    {
      "cell_type": "code",
      "execution_count": 7,
      "metadata": {
        "id": "ntyVvOepRTv4",
        "outputId": "48c929ba-526b-4510-9314-f358334f30d6",
        "colab": {
          "base_uri": "https://localhost:8080/"
        }
      },
      "outputs": [
        {
          "output_type": "execute_result",
          "data": {
            "text/plain": [
              "235"
            ]
          },
          "metadata": {},
          "execution_count": 7
        }
      ],
      "source": [
        "np.max(ar2)     # 축번호가 없는경우 전체의 최대값"
      ]
    },
    {
      "cell_type": "code",
      "execution_count": 8,
      "metadata": {
        "id": "CYTIsuO2RTv4",
        "outputId": "9e0b5587-795b-412c-db15-91a61ec3809d",
        "colab": {
          "base_uri": "https://localhost:8080/"
        }
      },
      "outputs": [
        {
          "output_type": "execute_result",
          "data": {
            "text/plain": [
              "235"
            ]
          },
          "metadata": {},
          "execution_count": 8
        }
      ],
      "source": [
        "ar2.max()"
      ]
    },
    {
      "cell_type": "code",
      "execution_count": 14,
      "metadata": {
        "id": "VKg4AhV6RTv4",
        "outputId": "f98b930f-e1a3-4c24-a297-57d9c4e501ec",
        "colab": {
          "base_uri": "https://localhost:8080/"
        }
      },
      "outputs": [
        {
          "output_type": "stream",
          "name": "stdout",
          "text": [
            "(3, 6)\n"
          ]
        },
        {
          "output_type": "execute_result",
          "data": {
            "text/plain": [
              "array([210, 215, 220, 225, 230, 235])"
            ]
          },
          "metadata": {},
          "execution_count": 14
        }
      ],
      "source": [
        "print(ar2.shape)\n",
        "np.max(ar2, axis= 0)        # shape의 인덱스 번호 기준 0 번째  (세로)\n"
      ]
    },
    {
      "cell_type": "code",
      "execution_count": 29,
      "metadata": {
        "id": "VTwuDe9DRTv4",
        "outputId": "81f7010f-0a08-4a25-b14f-b3b24674a765",
        "colab": {
          "base_uri": "https://localhost:8080/"
        }
      },
      "outputs": [
        {
          "output_type": "execute_result",
          "data": {
            "text/plain": [
              "array([ 55. , 135. , 222.5])"
            ]
          },
          "metadata": {},
          "execution_count": 29
        }
      ],
      "source": [
        "np.sum(ar2, axis=0)\n",
        "np.sum(ar2, axis=1)\n",
        "ar2.sum(axis=1)\n",
        "\n",
        "np.mean(ar2)\n",
        "np.mean(ar2, axis=1)\n",
        "np.mean(ar2, axis=0)\n",
        "\n",
        "ar2\n",
        "ar2.flatten()\n",
        "np.median(ar2)\n",
        "np.median(ar2,axis=1)\n",
        "#ar2.median(axis=1)         #오류남"
      ]
    },
    {
      "cell_type": "code",
      "execution_count": null,
      "metadata": {
        "id": "JQYuoUtURTv4"
      },
      "outputs": [],
      "source": [
        "grid = np.array([[ 70, 75,  80,  85,  90, 95],\n",
        "                 [170, 175,180, 185, 190, 195]])\n",
        "print(    )\n",
        "print('-'*30)\n",
        "print(   )"
      ]
    },
    {
      "cell_type": "markdown",
      "metadata": {
        "id": "FH_OB76vRTv4"
      },
      "source": [
        "# 함수 np.extract(조건, 배열)\n",
        "\n",
        "조건에 해당하는 원소를 추출함.\n"
      ]
    },
    {
      "cell_type": "code",
      "execution_count": 33,
      "metadata": {
        "id": "4YnCG6NzRTv4",
        "outputId": "abb82188-8bcc-41ee-e5e7-d489caf00534",
        "colab": {
          "base_uri": "https://localhost:8080/"
        }
      },
      "outputs": [
        {
          "output_type": "execute_result",
          "data": {
            "text/plain": [
              "array([10.3, 80.2, 15.5, 30. , 95. , 65. , 70. , 40. , 50. ],\n",
              "      dtype=float16)"
            ]
          },
          "metadata": {},
          "execution_count": 33
        }
      ],
      "source": [
        "ar1 = np.array( [10.3,80.2,15.5,30, 95, 65, 70, 40, 50], np.float16)   # 1차원 배열\n",
        "\n",
        "ar1"
      ]
    },
    {
      "cell_type": "code",
      "execution_count": 34,
      "metadata": {
        "id": "uht3a3HQRTv4",
        "outputId": "9137a14d-f7a6-4f61-e779-653f98093f08",
        "colab": {
          "base_uri": "https://localhost:8080/"
        }
      },
      "outputs": [
        {
          "output_type": "execute_result",
          "data": {
            "text/plain": [
              "array([10.3, 15.5, 30. , 40. ], dtype=float16)"
            ]
          },
          "metadata": {},
          "execution_count": 34
        }
      ],
      "source": [
        "np.extract(ar1<50, ar1)"
      ]
    },
    {
      "cell_type": "code",
      "execution_count": 37,
      "metadata": {
        "id": "JqCsmMSKRTv4",
        "outputId": "ef1388bc-f411-4b6f-d440-2ab78f2a3079",
        "colab": {
          "base_uri": "https://localhost:8080/"
        }
      },
      "outputs": [
        {
          "output_type": "execute_result",
          "data": {
            "text/plain": [
              "array([10.3, 15.5, 30. , 40. ], dtype=float16)"
            ]
          },
          "metadata": {},
          "execution_count": 37
        }
      ],
      "source": [
        "ar1[ar1<50]"
      ]
    },
    {
      "cell_type": "code",
      "execution_count": 36,
      "metadata": {
        "id": "kFYaGJHPRTv4",
        "outputId": "375baed8-cbc9-41a4-f1f5-5cf128f30162",
        "colab": {
          "base_uri": "https://localhost:8080/"
        }
      },
      "outputs": [
        {
          "output_type": "execute_result",
          "data": {
            "text/plain": [
              "4"
            ]
          },
          "metadata": {},
          "execution_count": 36
        }
      ],
      "source": [
        "len(np.extract(ar1<50, ar1))"
      ]
    },
    {
      "cell_type": "code",
      "execution_count": 45,
      "metadata": {
        "id": "TKS7zbj6RTv5",
        "outputId": "73c6cdbd-7913-4f3c-83cc-8c0c56e07a07",
        "colab": {
          "base_uri": "https://localhost:8080/"
        }
      },
      "outputs": [
        {
          "output_type": "stream",
          "name": "stdout",
          "text": [
            "[[ 30  40  50  60  70  80]\n",
            " [110 120 130 140 150 160]\n",
            " [210 215 220 225 230 235]]\n",
            "[0, 0, 0, 0, 0, 0, 0, 0, 0, 0, 0, 0, 0, 0, 0, 0, 0, 0, 0, 0, 0, 0, 0, 0, 0, 0, 0, 0, 0, 0, 1, 0, 0, 0, 0, 0, 0, 0, 0, 0, 1, 0, 0, 0, 0, 0, 0, 0, 0, 0, 1, 0, 0, 0, 0, 0, 0, 0, 0, 0, 1, 0, 0, 0, 0, 0, 0, 0, 0, 0, 1, 0, 0, 0, 0, 0, 0, 0, 0, 0, 1, 0, 0, 0, 0, 0, 0, 0, 0, 0, 0, 0, 0, 0, 0, 0, 0, 0, 0, 0, 0, 0, 0, 0, 0, 0, 0, 0, 0, 0, 1, 0, 0, 0, 0, 0, 0, 0, 0, 0, 1, 0, 0, 0, 0, 0, 0, 0, 0, 0, 1, 0, 0, 0, 0, 0, 0, 0, 0, 0, 1, 0, 0, 0, 0, 0, 0, 0, 0, 0, 1, 0, 0, 0, 0, 0, 0, 0, 0, 0, 1, 0, 0, 0, 0, 0, 0, 0, 0, 0, 0, 0, 0, 0, 0, 0, 0, 0, 0, 0, 0, 0, 0, 0, 0, 0, 0, 0, 0, 0, 0, 0, 0, 0, 0, 0, 0, 0, 0, 0, 0, 0, 0, 0, 0, 0, 0, 0, 0, 0, 1, 0, 0, 0, 0, 1, 0, 0, 0, 0, 1, 0, 0, 0, 0, 1, 0, 0, 0, 0, 1, 0, 0, 0, 0, 1, 0, 0, 0, 0, 0, 0, 0, 0, 0, 0, 0, 0, 0, 0, 0, 0, 0, 0, 0, 0]\n",
            "18\n"
          ]
        }
      ],
      "source": [
        "print(ar2)\n",
        "\n",
        "histo = []\n",
        "for val in range(256): \n",
        "    c = len (np.extract(ar2 == val, ar2))\n",
        "    histo.append(c)\n",
        "\n",
        "print(histo)\n",
        "print(sum(histo))"
      ]
    },
    {
      "cell_type": "code",
      "source": [
        "# 리스트 조건 제시법 풀이\n",
        "a = [ len (np.extract(ar2 == i, ar2)) for i in range(256)  ]\n",
        "print(a)\n",
        "print(sum(a))\n",
        "\n",
        "histo1 = [len(ar2[ar2 == val]) for val in range(256) ]\n",
        "print(histo1)\n",
        "\n",
        "print(np.all(histo == histo1))\n",
        "\n",
        "histo == histo1\n",
        "\n",
        "np.all(True)"
      ],
      "metadata": {
        "id": "TqG4HQwASkGN",
        "outputId": "842c22fe-373b-4be0-9e25-35c2fa4b6121",
        "colab": {
          "base_uri": "https://localhost:8080/",
          "height": 475
        }
      },
      "execution_count": 53,
      "outputs": [
        {
          "output_type": "stream",
          "name": "stdout",
          "text": [
            "[0, 0, 0, 0, 0, 0, 0, 0, 0, 0, 0, 0, 0, 0, 0, 0, 0, 0, 0, 0, 0, 0, 0, 0, 0, 0, 0, 0, 0, 0, 1, 0, 0, 0, 0, 0, 0, 0, 0, 0, 1, 0, 0, 0, 0, 0, 0, 0, 0, 0, 1, 0, 0, 0, 0, 0, 0, 0, 0, 0, 1, 0, 0, 0, 0, 0, 0, 0, 0, 0, 1, 0, 0, 0, 0, 0, 0, 0, 0, 0, 1, 0, 0, 0, 0, 0, 0, 0, 0, 0, 0, 0, 0, 0, 0, 0, 0, 0, 0, 0, 0, 0, 0, 0, 0, 0, 0, 0, 0, 0, 1, 0, 0, 0, 0, 0, 0, 0, 0, 0, 1, 0, 0, 0, 0, 0, 0, 0, 0, 0, 1, 0, 0, 0, 0, 0, 0, 0, 0, 0, 1, 0, 0, 0, 0, 0, 0, 0, 0, 0, 1, 0, 0, 0, 0, 0, 0, 0, 0, 0, 1, 0, 0, 0, 0, 0, 0, 0, 0, 0, 0, 0, 0, 0, 0, 0, 0, 0, 0, 0, 0, 0, 0, 0, 0, 0, 0, 0, 0, 0, 0, 0, 0, 0, 0, 0, 0, 0, 0, 0, 0, 0, 0, 0, 0, 0, 0, 0, 0, 0, 1, 0, 0, 0, 0, 1, 0, 0, 0, 0, 1, 0, 0, 0, 0, 1, 0, 0, 0, 0, 1, 0, 0, 0, 0, 1, 0, 0, 0, 0, 0, 0, 0, 0, 0, 0, 0, 0, 0, 0, 0, 0, 0, 0, 0, 0]\n",
            "18\n",
            "[0, 0, 0, 0, 0, 0, 0, 0, 0, 0, 0, 0, 0, 0, 0, 0, 0, 0, 0, 0, 0, 0, 0, 0, 0, 0, 0, 0, 0, 0, 1, 0, 0, 0, 0, 0, 0, 0, 0, 0, 1, 0, 0, 0, 0, 0, 0, 0, 0, 0, 1, 0, 0, 0, 0, 0, 0, 0, 0, 0, 1, 0, 0, 0, 0, 0, 0, 0, 0, 0, 1, 0, 0, 0, 0, 0, 0, 0, 0, 0, 1, 0, 0, 0, 0, 0, 0, 0, 0, 0, 0, 0, 0, 0, 0, 0, 0, 0, 0, 0, 0, 0, 0, 0, 0, 0, 0, 0, 0, 0, 1, 0, 0, 0, 0, 0, 0, 0, 0, 0, 1, 0, 0, 0, 0, 0, 0, 0, 0, 0, 1, 0, 0, 0, 0, 0, 0, 0, 0, 0, 1, 0, 0, 0, 0, 0, 0, 0, 0, 0, 1, 0, 0, 0, 0, 0, 0, 0, 0, 0, 1, 0, 0, 0, 0, 0, 0, 0, 0, 0, 0, 0, 0, 0, 0, 0, 0, 0, 0, 0, 0, 0, 0, 0, 0, 0, 0, 0, 0, 0, 0, 0, 0, 0, 0, 0, 0, 0, 0, 0, 0, 0, 0, 0, 0, 0, 0, 0, 0, 0, 1, 0, 0, 0, 0, 1, 0, 0, 0, 0, 1, 0, 0, 0, 0, 1, 0, 0, 0, 0, 1, 0, 0, 0, 0, 1, 0, 0, 0, 0, 0, 0, 0, 0, 0, 0, 0, 0, 0, 0, 0, 0, 0, 0, 0, 0]\n"
          ]
        },
        {
          "output_type": "error",
          "ename": "TypeError",
          "evalue": "ignored",
          "traceback": [
            "\u001b[0;31m---------------------------------------------------------------------------\u001b[0m",
            "\u001b[0;31mTypeError\u001b[0m                                 Traceback (most recent call last)",
            "\u001b[0;32m<ipython-input-53-1499aba6db77>\u001b[0m in \u001b[0;36m<module>\u001b[0;34m\u001b[0m\n\u001b[1;32m      7\u001b[0m \u001b[0mprint\u001b[0m\u001b[0;34m(\u001b[0m\u001b[0mhisto1\u001b[0m\u001b[0;34m)\u001b[0m\u001b[0;34m\u001b[0m\u001b[0;34m\u001b[0m\u001b[0m\n\u001b[1;32m      8\u001b[0m \u001b[0;34m\u001b[0m\u001b[0m\n\u001b[0;32m----> 9\u001b[0;31m \u001b[0mprint\u001b[0m\u001b[0;34m(\u001b[0m\u001b[0mnp\u001b[0m\u001b[0;34m.\u001b[0m\u001b[0mall\u001b[0m\u001b[0;34m(\u001b[0m\u001b[0mhisto\u001b[0m\u001b[0;34m,\u001b[0m\u001b[0mhisto1\u001b[0m\u001b[0;34m)\u001b[0m\u001b[0;34m)\u001b[0m\u001b[0;34m\u001b[0m\u001b[0;34m\u001b[0m\u001b[0m\n\u001b[0m\u001b[1;32m     10\u001b[0m \u001b[0;34m\u001b[0m\u001b[0m\n\u001b[1;32m     11\u001b[0m \u001b[0mhisto\u001b[0m \u001b[0;34m==\u001b[0m \u001b[0mhisto1\u001b[0m\u001b[0;34m\u001b[0m\u001b[0;34m\u001b[0m\u001b[0m\n",
            "\u001b[0;32m/usr/local/lib/python3.9/dist-packages/numpy/core/overrides.py\u001b[0m in \u001b[0;36mall\u001b[0;34m(*args, **kwargs)\u001b[0m\n",
            "\u001b[0;32m/usr/local/lib/python3.9/dist-packages/numpy/core/fromnumeric.py\u001b[0m in \u001b[0;36mall\u001b[0;34m(a, axis, out, keepdims, where)\u001b[0m\n\u001b[1;32m   2485\u001b[0m \u001b[0;34m\u001b[0m\u001b[0m\n\u001b[1;32m   2486\u001b[0m     \"\"\"\n\u001b[0;32m-> 2487\u001b[0;31m     return _wrapreduction(a, np.logical_and, 'all', axis, None, out,\n\u001b[0m\u001b[1;32m   2488\u001b[0m                           keepdims=keepdims, where=where)\n\u001b[1;32m   2489\u001b[0m \u001b[0;34m\u001b[0m\u001b[0m\n",
            "\u001b[0;32m/usr/local/lib/python3.9/dist-packages/numpy/core/fromnumeric.py\u001b[0m in \u001b[0;36m_wrapreduction\u001b[0;34m(obj, ufunc, method, axis, dtype, out, **kwargs)\u001b[0m\n\u001b[1;32m     84\u001b[0m                 \u001b[0;32mreturn\u001b[0m \u001b[0mreduction\u001b[0m\u001b[0;34m(\u001b[0m\u001b[0maxis\u001b[0m\u001b[0;34m=\u001b[0m\u001b[0maxis\u001b[0m\u001b[0;34m,\u001b[0m \u001b[0mout\u001b[0m\u001b[0;34m=\u001b[0m\u001b[0mout\u001b[0m\u001b[0;34m,\u001b[0m \u001b[0;34m**\u001b[0m\u001b[0mpasskwargs\u001b[0m\u001b[0;34m)\u001b[0m\u001b[0;34m\u001b[0m\u001b[0;34m\u001b[0m\u001b[0m\n\u001b[1;32m     85\u001b[0m \u001b[0;34m\u001b[0m\u001b[0m\n\u001b[0;32m---> 86\u001b[0;31m     \u001b[0;32mreturn\u001b[0m \u001b[0mufunc\u001b[0m\u001b[0;34m.\u001b[0m\u001b[0mreduce\u001b[0m\u001b[0;34m(\u001b[0m\u001b[0mobj\u001b[0m\u001b[0;34m,\u001b[0m \u001b[0maxis\u001b[0m\u001b[0;34m,\u001b[0m \u001b[0mdtype\u001b[0m\u001b[0;34m,\u001b[0m \u001b[0mout\u001b[0m\u001b[0;34m,\u001b[0m \u001b[0;34m**\u001b[0m\u001b[0mpasskwargs\u001b[0m\u001b[0;34m)\u001b[0m\u001b[0;34m\u001b[0m\u001b[0;34m\u001b[0m\u001b[0m\n\u001b[0m\u001b[1;32m     87\u001b[0m \u001b[0;34m\u001b[0m\u001b[0m\n\u001b[1;32m     88\u001b[0m \u001b[0;34m\u001b[0m\u001b[0m\n",
            "\u001b[0;31mTypeError\u001b[0m: 'list' object cannot be interpreted as an integer"
          ]
        }
      ]
    },
    {
      "cell_type": "markdown",
      "metadata": {
        "id": "eHlllslYRTv5"
      },
      "source": [
        "# 함수 np.where(조건)\n",
        "\n",
        "|a|a|a\n",
        "|--|--|--|\n",
        "|where | 조건에 해당하는 원소의 인덱스를 추출함| np.where(조건)|"
      ]
    },
    {
      "cell_type": "code",
      "execution_count": 54,
      "metadata": {
        "id": "vafsN7NvRTv5",
        "outputId": "6c60811e-5cc0-4fbf-b587-dead66b041a5",
        "colab": {
          "base_uri": "https://localhost:8080/"
        }
      },
      "outputs": [
        {
          "output_type": "execute_result",
          "data": {
            "text/plain": [
              "array([10.3, 80.2, 15.5, 30. , 95. , 65. , 70. , 40. , 50. ],\n",
              "      dtype=float16)"
            ]
          },
          "metadata": {},
          "execution_count": 54
        }
      ],
      "source": [
        "ar1"
      ]
    },
    {
      "cell_type": "code",
      "execution_count": 55,
      "metadata": {
        "id": "6DuRb8zCRTv5",
        "outputId": "f64f1b91-65c8-42dd-fcfb-a6446215a139",
        "colab": {
          "base_uri": "https://localhost:8080/"
        }
      },
      "outputs": [
        {
          "output_type": "execute_result",
          "data": {
            "text/plain": [
              "(array([0, 2, 3]),)"
            ]
          },
          "metadata": {},
          "execution_count": 55
        }
      ],
      "source": [
        "np.where(ar1<40)"
      ]
    },
    {
      "cell_type": "code",
      "execution_count": 57,
      "metadata": {
        "id": "9CenzAphRTv5",
        "outputId": "f6c38178-7887-4a4c-a255-ffe23f90f8d8",
        "colab": {
          "base_uri": "https://localhost:8080/"
        }
      },
      "outputs": [
        {
          "output_type": "execute_result",
          "data": {
            "text/plain": [
              "array([0, 2, 3])"
            ]
          },
          "metadata": {},
          "execution_count": 57
        }
      ],
      "source": [
        "indicies , = np.where (ar1<40)\n",
        "indicies"
      ]
    },
    {
      "cell_type": "code",
      "execution_count": 59,
      "metadata": {
        "id": "Z27p8kAwRTv5"
      },
      "outputs": [],
      "source": [
        "tmp = ar2"
      ]
    },
    {
      "cell_type": "code",
      "execution_count": 60,
      "metadata": {
        "id": "95AUWzAxRTv5",
        "outputId": "a1b5005d-6bed-4930-fc2e-08b9bf0149fe",
        "colab": {
          "base_uri": "https://localhost:8080/"
        }
      },
      "outputs": [
        {
          "output_type": "stream",
          "name": "stdout",
          "text": [
            "Variable   Type       Data/Info\n",
            "-------------------------------\n",
            "a          list       n=256\n",
            "ar1        ndarray    9: 9 elems, type `float16`, 18 bytes\n",
            "ar2        ndarray    3x6: 18 elems, type `int64`, 144 bytes\n",
            "b          ndarray    3: 3 elems, type `int64`, 24 bytes\n",
            "c          int        0\n",
            "histo      list       n=256\n",
            "histo1     list       n=256\n",
            "indicies   ndarray    3: 3 elems, type `int64`, 24 bytes\n",
            "indicis    ndarray    3: 3 elems, type `int64`, 24 bytes\n",
            "np         module     <module 'numpy' from '/us<...>kages/numpy/__init__.py'>\n",
            "plt        module     <module 'matplotlib.pyplo<...>es/matplotlib/pyplot.py'>\n",
            "tmp        ndarray    3x6: 18 elems, type `int64`, 144 bytes\n",
            "val        int        255\n"
          ]
        }
      ],
      "source": [
        "%whos"
      ]
    },
    {
      "cell_type": "code",
      "execution_count": 61,
      "metadata": {
        "id": "UDhtmTg7RTv5",
        "outputId": "30ec4878-dc21-481a-a650-64445c90d88f",
        "colab": {
          "base_uri": "https://localhost:8080/"
        }
      },
      "outputs": [
        {
          "output_type": "execute_result",
          "data": {
            "text/plain": [
              "140658851065456"
            ]
          },
          "metadata": {},
          "execution_count": 61
        }
      ],
      "source": [
        "id(ar2)"
      ]
    },
    {
      "cell_type": "code",
      "execution_count": 62,
      "metadata": {
        "id": "9SvwJ28IRTv5",
        "outputId": "ceddbb0d-386b-4842-bdd7-fbc3de8dae22",
        "colab": {
          "base_uri": "https://localhost:8080/"
        }
      },
      "outputs": [
        {
          "output_type": "execute_result",
          "data": {
            "text/plain": [
              "140658851065456"
            ]
          },
          "metadata": {},
          "execution_count": 62
        }
      ],
      "source": [
        "id(tmp)"
      ]
    },
    {
      "cell_type": "code",
      "execution_count": 63,
      "metadata": {
        "id": "c1wn3XJCRTv5",
        "outputId": "abb647d5-7e46-4247-e291-df9c74e585df",
        "colab": {
          "base_uri": "https://localhost:8080/"
        }
      },
      "outputs": [
        {
          "output_type": "execute_result",
          "data": {
            "text/plain": [
              "True"
            ]
          },
          "metadata": {},
          "execution_count": 63
        }
      ],
      "source": [
        "tmp is ar2"
      ]
    },
    {
      "cell_type": "code",
      "execution_count": 65,
      "metadata": {
        "id": "eEvjYTcURTv5",
        "outputId": "b04b8a65-c720-4b64-df1c-4362e8334153",
        "colab": {
          "base_uri": "https://localhost:8080/"
        }
      },
      "outputs": [
        {
          "output_type": "execute_result",
          "data": {
            "text/plain": [
              "array([[ 30,  40,  50,  60,  70,  80],\n",
              "       [110, 120, 130, 140, 150, 160],\n",
              "       [100, 100, 100, 100, 100, 100]])"
            ]
          },
          "metadata": {},
          "execution_count": 65
        }
      ],
      "source": [
        "tmp[2] = 100\n",
        "ar2"
      ]
    },
    {
      "cell_type": "code",
      "execution_count": 68,
      "metadata": {
        "id": "noKk-G69RTv5",
        "outputId": "29f30251-9dff-43e1-81bc-c2c200f3c2aa",
        "colab": {
          "base_uri": "https://localhost:8080/"
        }
      },
      "outputs": [
        {
          "output_type": "execute_result",
          "data": {
            "text/plain": [
              "(140658381021808, 140658851065456)"
            ]
          },
          "metadata": {},
          "execution_count": 68
        }
      ],
      "source": [
        "tmp_a = ar2.copy()\n",
        "tmp_a\n",
        "\n",
        "id(tmp_a), id(ar2)"
      ]
    },
    {
      "cell_type": "markdown",
      "metadata": {
        "id": "_9KD8zOcRTv5"
      },
      "source": [
        "# 배열의 대립 연산 주의점!"
      ]
    },
    {
      "cell_type": "code",
      "execution_count": null,
      "metadata": {
        "id": "L_QUcKLlRTv6"
      },
      "outputs": [],
      "source": []
    },
    {
      "cell_type": "code",
      "execution_count": null,
      "metadata": {
        "id": "lthExhp5RTv6"
      },
      "outputs": [],
      "source": []
    },
    {
      "cell_type": "code",
      "execution_count": null,
      "metadata": {
        "id": "rsVMKRG5RTv6"
      },
      "outputs": [],
      "source": []
    },
    {
      "cell_type": "code",
      "execution_count": null,
      "metadata": {
        "id": "2YiKqRrjRTv6"
      },
      "outputs": [],
      "source": []
    },
    {
      "cell_type": "code",
      "execution_count": null,
      "metadata": {
        "id": "2X5R6C4KRTv6"
      },
      "outputs": [],
      "source": []
    }
  ],
  "metadata": {
    "kernelspec": {
      "display_name": "Python 3 (ipykernel)",
      "language": "python",
      "name": "python3"
    },
    "language_info": {
      "codemirror_mode": {
        "name": "ipython",
        "version": 3
      },
      "file_extension": ".py",
      "mimetype": "text/x-python",
      "name": "python",
      "nbconvert_exporter": "python",
      "pygments_lexer": "ipython3",
      "version": "3.9.13"
    },
    "colab": {
      "provenance": []
    }
  },
  "nbformat": 4,
  "nbformat_minor": 0
}