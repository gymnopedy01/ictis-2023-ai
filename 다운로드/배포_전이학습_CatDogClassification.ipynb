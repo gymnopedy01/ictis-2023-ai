{
 "cells": [
  {
   "cell_type": "markdown",
   "metadata": {
    "id": "_52GiConYLCB"
   },
   "source": [
    "# 전이학습 활용: 영상 분류\n",
    "\n",
    "- source:  https://www.tensorflow.org/guide/keras/transfer_learning?hl=ko\n",
    "- modified by BY Kim"
   ]
  },
  {
   "cell_type": "code",
   "execution_count": null,
   "metadata": {
    "colab": {
     "base_uri": "https://localhost:8080/"
    },
    "id": "FPYzSj5KoisF",
    "outputId": "71cd100b-d83a-46d8-cd23-0bb5011b95d1"
   },
   "outputs": [],
   "source": [
    "from google.colab import drive\n",
    "drive.mount('/content/drive')"
   ]
  },
  {
   "cell_type": "code",
   "execution_count": null,
   "metadata": {
    "colab": {
     "base_uri": "https://localhost:8080/",
     "height": 35
    },
    "id": "UlIkedE6YLCP",
    "outputId": "78f63ce4-5a12-4c95-97f7-f1b190e1b889"
   },
   "outputs": [],
   "source": [
    "import matplotlib.pyplot as plt \n",
    "import numpy as np \n",
    "import pandas as pd \n",
    "import cv2\n",
    "\n",
    "import tensorflow as tf\n",
    "from tensorflow import keras\n",
    "from tensorflow.keras import layers\n",
    "from tensorflow.keras import optimizers\n",
    "from tensorflow.keras.preprocessing.image import ImageDataGenerator\n",
    "from tensorflow.keras.callbacks import ModelCheckpoint, EarlyStopping\n",
    "\n",
    "from sklearn.metrics import confusion_matrix, accuracy_score\n",
    "\n",
    "\n",
    "PATH = '/content/drive/MyDrive/ICTIS_2023/data/'  \n",
    "\n",
    "tf.__version__"
   ]
  },
  {
   "cell_type": "markdown",
   "metadata": {
    "id": "k3x3YK1YYLCR"
   },
   "source": [
    "## 개 & 고양이 데이터 셋 가져오기"
   ]
  },
  {
   "cell_type": "code",
   "execution_count": null,
   "metadata": {
    "colab": {
     "base_uri": "https://localhost:8080/"
    },
    "id": "c3xryrJfjOqb",
    "outputId": "a5c51404-aaea-4580-f373-0b43966ab490"
   },
   "outputs": [],
   "source": [
    "import tensorflow_datasets as tfds\n",
    "\n",
    "tfds.disable_progress_bar()\n",
    "\n",
    "train_ds, validation_ds, test_ds = tfds.load(\n",
    "    \"cats_vs_dogs\",\n",
    "    # Reserve 10% for validation and 10% for test\n",
    "    split=[\"train[:40%]\", \"train[40%:50%]\", \"train[50%:60%]\"],\n",
    "    as_supervised=True,  # Include labels\n",
    ")\n",
    "\n",
    "print(\"Number of training samples: %d\" % tf.data.experimental.cardinality(train_ds))\n",
    "print(\n",
    "    \"Number of validation samples: %d\" % tf.data.experimental.cardinality(validation_ds)\n",
    ")\n",
    "print(\"Number of test samples: %d\" % tf.data.experimental.cardinality(test_ds))"
   ]
  },
  {
   "cell_type": "markdown",
   "metadata": {
    "id": "WcX084QBjOqb"
   },
   "source": [
    "## 데이터 시각화\n",
    "- Dog: 1, Cat: 0"
   ]
  },
  {
   "cell_type": "code",
   "execution_count": null,
   "metadata": {
    "colab": {
     "base_uri": "https://localhost:8080/",
     "height": 821
    },
    "id": "68LY9lbIjOqb",
    "outputId": "ea7ac263-33a1-428c-a69c-b7de9f819287"
   },
   "outputs": [],
   "source": [
    "plt.figure(figsize=(10, 10))\n",
    "for i, (image, label) in enumerate(train_ds.take(25)):\n",
    "    ax = plt.subplot(5, 5, i + 1)\n",
    "    plt.imshow(image.numpy().astype(\"uint8\"))\n",
    "    plt.title(f\"{int(label):d} ({image.shape[0]:d}, {image.shape[1]:d})\")\n",
    "    plt.axis(\"off\")"
   ]
  },
  {
   "cell_type": "markdown",
   "metadata": {
    "id": "XNjLkUwEYLCX"
   },
   "source": [
    "## 데이터 증강\n",
    "- https://www.tensorflow.org/api_docs/python/tf/keras/layers/RandomZoom"
   ]
  },
  {
   "cell_type": "code",
   "execution_count": null,
   "metadata": {
    "id": "NUAwtIWgYLCX"
   },
   "outputs": [],
   "source": [
    "data_augmentation = keras.Sequential(\n",
    "    [\n",
    "        layers.RandomFlip(\"horizontal\"),\n",
    "        layers.RandomRotation(0.1),\n",
    "        layers.RandomZoom(height_factor = 0.1, width_factor=0.1), \n",
    "        layers.RandomBrightness(factor=0.1)\n",
    "    ]\n",
    ")"
   ]
  },
  {
   "cell_type": "markdown",
   "metadata": {
    "id": "3wOVgvopjOqc"
   },
   "source": [
    "## 데이터 생성  map( )"
   ]
  },
  {
   "cell_type": "code",
   "execution_count": null,
   "metadata": {
    "id": "ggKO1HUvjOqc"
   },
   "outputs": [],
   "source": [
    "image_size = (224, 224)\n",
    "batch_size = 4\n",
    "\n",
    "train_ds = train_ds.map(lambda x, y: (tf.image. (x, image_size), y))\n",
    "validation_ds = validation_ds.map(lambda x, y: (tf.image. (x, image_size), y))\n",
    "test_ds = test_ds.map(lambda x, y: (tf.image. (x, image_size), y))"
   ]
  },
  {
   "cell_type": "markdown",
   "metadata": {
    "id": "yaQyHxHMjOqd"
   },
   "source": [
    "## 성능 개선을 위한 배치화"
   ]
  },
  {
   "cell_type": "code",
   "execution_count": null,
   "metadata": {
    "id": "4M9uNKsUjOqd"
   },
   "outputs": [],
   "source": [
    "train_ds = train_ds.cache().batch(batch_size).prefetch(buffer_size=batch_size)\n",
    "validation_ds = validation_ds.cache().batch(batch_size).prefetch(buffer_size=batch_size)\n",
    "test_ds = test_ds.cache().batch(batch_size).prefetch(buffer_size=batch_size)"
   ]
  },
  {
   "cell_type": "markdown",
   "metadata": {
    "id": "6pOYrd8cjOqd"
   },
   "source": [
    "## 증강된 영상 보기"
   ]
  },
  {
   "cell_type": "markdown",
   "metadata": {
    "id": "KObySmDhjOqe"
   },
   "source": [
    "- https://www.tensorflow.org/tutorials/load_data/images"
   ]
  },
  {
   "cell_type": "code",
   "execution_count": null,
   "metadata": {
    "colab": {
     "base_uri": "https://localhost:8080/",
     "height": 566
    },
    "id": "xaYvqsQuYLCX",
    "outputId": "b2e08c1e-73c4-4e0f-b653-626c5b026f85"
   },
   "outputs": [],
   "source": [
    "for images, labels in train_ds.take(3) :  # batch = 4\n",
    "\n",
    "    augmented_images = (images)\n",
    "    plt.figure(figsize=(8, 3))\n",
    "    for i in range(4):\n",
    "        ax = plt.subplot(1, 4, i+1)\n",
    "        plt.imshow(augmented_images[i].numpy().astype(\"uint8\"))\n",
    "        plt.title(int(labels[i]))\n",
    "        plt.axis(\"off\")\n",
    "    plt.show()\n",
    "    \n",
    "print(images.shape, augmented_images.shape)  "
   ]
  },
  {
   "cell_type": "code",
   "execution_count": null,
   "metadata": {
    "colab": {
     "base_uri": "https://localhost:8080/",
     "height": 574
    },
    "id": "5UF4P3EtjOqf",
    "outputId": "cebfb85d-65ba-4852-915c-45162ccbd48a"
   },
   "outputs": [],
   "source": [
    "# 12 types of augmentation for 1 image\n",
    "\n",
    "for images, labels in train_ds.take(1):\n",
    "    plt.figure(figsize=(8, 6))\n",
    "    img_no = 0\n",
    "    img = images[img_no]\n",
    "    for i in range(12):\n",
    "        augmented_images = data_augmentation(\n",
    "            tf.expand_dims(img, 0), training=True)\n",
    "        ax = plt.subplot(3, 4, i+1)\n",
    "        plt.imshow(augmented_images[0].numpy().astype(\"uint8\"))\n",
    "        plt.title(int(labels[img_no]))\n",
    "        plt.axis(\"off\")\n",
    "    plt.show()\n",
    "print(images.shape, augmented_images.shape)"
   ]
  },
  {
   "cell_type": "markdown",
   "metadata": {},
   "source": [
    "## 모델 생성"
   ]
  },
  {
   "cell_type": "code",
   "execution_count": null,
   "metadata": {
    "colab": {
     "base_uri": "https://localhost:8080/"
    },
    "id": "n3uaQmYeYLCd",
    "outputId": "7004c75c-dec9-4253-ba27-fce0a9ae2521"
   },
   "outputs": [],
   "source": [
    "base_model=tf.keras.applications. (include_top= , \n",
    "                                                weights= ,\n",
    "                                                input_shape= ) \n",
    "\n",
    "\n",
    "# Freeze the base_model\n",
    "base_model.trainable =  \n",
    "output = base_model \n",
    "\n",
    "# Create new model on top\n",
    "\n",
    "x = tf.keras.layers.GlobalAveragePooling2D()(output)\n",
    "x = tf.keras.layers.Dropout(rate=.45)(x)   \n",
    "x = tf.keras.layers.Dense(64, activation='relu')(x)\n",
    "x = tf.keras.layers.Dropout(rate=.45)(x)        \n",
    "output = tf.keras.layers.Dense( , activation= )(x)\n",
    "\n",
    "model = tf.keras.Model(inputs=base_model.input, outputs=output)"
   ]
  },
  {
   "cell_type": "code",
   "execution_count": null,
   "metadata": {
    "colab": {
     "base_uri": "https://localhost:8080/"
    },
    "id": "5GfXcr_NjOqg",
    "outputId": "90a737d5-bd2f-4a9c-94bc-9f9cde66dfee"
   },
   "outputs": [],
   "source": [
    "base_model.summary()"
   ]
  },
  {
   "cell_type": "code",
   "execution_count": null,
   "metadata": {
    "colab": {
     "base_uri": "https://localhost:8080/"
    },
    "id": "OH-7Vue_jOqh",
    "outputId": "42ebb5df-f60a-46d8-d5a3-d87ef50bc153"
   },
   "outputs": [],
   "source": [
    "model.summary()"
   ]
  },
  {
   "cell_type": "markdown",
   "metadata": {
    "id": "mHELkescYLCe"
   },
   "source": [
    "## 학습 데이터 셋에 대한 데이터 증강 적용"
   ]
  },
  {
   "cell_type": "code",
   "execution_count": null,
   "metadata": {
    "id": "vIvlMRbOYLCe"
   },
   "outputs": [],
   "source": [
    "# Apply `data_augmentation` to the training images.\n",
    "train_ds = train_ds.map(\n",
    "    lambda img, label: (data_augmentation(img), label),\n",
    "    num_parallel_calls=tf.data.AUTOTUNE\n",
    ")\n",
    "# Prefetching samples in GPU memory helps maximize GPU utilization.\n",
    "train_ds = train_ds.prefetch(tf.data.AUTOTUNE)"
   ]
  },
  {
   "cell_type": "markdown",
   "metadata": {
    "id": "WSzXkA3QYLCe"
   },
   "source": [
    "## 모델 학습"
   ]
  },
  {
   "cell_type": "code",
   "execution_count": null,
   "metadata": {
    "colab": {
     "base_uri": "https://localhost:8080/"
    },
    "id": "7jIK_IvZjOqh",
    "outputId": "34d36a02-506d-47c5-a8e4-14b24eac5f5a"
   },
   "outputs": [],
   "source": [
    "model.compile(optimizer= keras.optimizers.Adam(), \n",
    "              loss=keras.losses.BinaryCrossentropy(),\n",
    "              metrics=['accuracy']) \n",
    "  \n",
    "# 모델 저장 조건 설정\n",
    "modelfile = PATH+ 'TL_ResNet50_CatDog_best.h5'  \n",
    "checkpointer = ModelCheckpoint(filepath=modelfile, \n",
    "                               monitor='val_loss', verbose=1, \n",
    "                               save_best_only=True)\n",
    "\n",
    "# 학습의 자동 중단 설정\n",
    "early_stopping_callback = EarlyStopping(monitor='val_loss',\n",
    "                                        patience=10)\n",
    "\n",
    "\n",
    "fit_history=model.fit(train_ds, validation_data = validation_ds,\n",
    "                      callbacks=[early_stopping_callback, checkpointer],\n",
    "                        epochs=50, verbose=1)"
   ]
  },
  {
   "cell_type": "markdown",
   "metadata": {
    "id": "QGyfPMgwYLCe"
   },
   "source": [
    "We get to ~96% validation accuracy after training for 50 epochs on the full dataset."
   ]
  },
  {
   "cell_type": "code",
   "execution_count": null,
   "metadata": {
    "id": "_OhRCQ1CjOqi"
   },
   "outputs": [],
   "source": [
    "#학습 이력 확인하기\n",
    "def display_training_curves(training, validation, title, subplot):    \n",
    "    if subplot%10==1: # set up the subplots on the first call\n",
    "        plt.subplots(figsize=(10,10), facecolor='#F0F0F0')\n",
    "        plt.tight_layout()\n",
    "    ax = plt.subplot(subplot)\n",
    "    ax.grid(visible=True)\n",
    "    ax.set_facecolor('#D0D0D0')\n",
    "    if subplot%10==1:   # loss\n",
    "        tmin, tmax = min(training), max(training)\n",
    "        vmin, vmax = min(validation), max(validation) \n",
    "        min_val =  tmin if tmin<vmin else vmin\n",
    "        max_val = tmax  if tmax>vmax else vmax\n",
    "        ax.set_ylim(min_val - 0.1, max_val + 0.1)\n",
    "    else:   # accuracy\n",
    "        ax.set_ylim(0.4, 1.0)        \n",
    "    ax.plot(training, marker='o')\n",
    "    ax.plot(validation, marker='o')\n",
    "    ax.set_title('model '+ title)\n",
    "    ax.set_ylabel(title)\n",
    "    ax.set_xlabel('epoch')\n",
    "    ax.legend(['train', 'valid.'])\n",
    "    \n",
    "def display_training_history(fit_history):\n",
    "    display_training_curves(\n",
    "        fit_history.history['loss'], \n",
    "        fit_history.history['val_loss'], \n",
    "        'loss', 211)\n",
    "    display_training_curves(\n",
    "        fit_history.history['accuracy'], \n",
    "        fit_history.history['val_accuracy'], \n",
    "        'accuracy', 212)"
   ]
  },
  {
   "cell_type": "code",
   "execution_count": null,
   "metadata": {
    "colab": {
     "base_uri": "https://localhost:8080/",
     "height": 755
    },
    "id": "7_I7aMZ_jOrG",
    "outputId": "e04ce7e8-6cbd-4c2f-d207-3ffc216454e4"
   },
   "outputs": [],
   "source": [
    "display_training_history(fit_history)"
   ]
  },
  {
   "cell_type": "code",
   "execution_count": null,
   "metadata": {
    "colab": {
     "base_uri": "https://localhost:8080/"
    },
    "id": "UxV4KQbgjOrH",
    "outputId": "94257fab-7f1a-40e4-b187-a1a1c357e73a"
   },
   "outputs": [],
   "source": [
    "type(test_ds)"
   ]
  },
  {
   "cell_type": "code",
   "execution_count": null,
   "metadata": {
    "colab": {
     "base_uri": "https://localhost:8080/"
    },
    "id": "beWd-tpAjOrH",
    "outputId": "ad9f5bab-2241-4430-c3e2-2e7054a05635"
   },
   "outputs": [],
   "source": [
    "test_ds"
   ]
  },
  {
   "cell_type": "code",
   "execution_count": null,
   "metadata": {
    "id": "ugpYd9h8jOrH"
   },
   "outputs": [],
   "source": [
    "optimal_model = keras.models.load_model(PATH+'TL_ResNet50_CatDog_best.h5')"
   ]
  },
  {
   "cell_type": "code",
   "execution_count": null,
   "metadata": {
    "id": "HyLP2L6sjOrH"
   },
   "outputs": [],
   "source": [
    "from sklearn.metrics import confusion_matrix, accuracy_score\n",
    "\n",
    "# Apply `data_augmentation` to the testing images.\n",
    "test_ds = test_ds.map(\n",
    "    lambda  :   ,\n",
    "    num_parallel_calls=tf.data.AUTOTUNE\n",
    ")\n",
    "# Prefetching samples in GPU memory helps maximize GPU utilization.\n",
    "\n",
    "test_ds = test_ds.prefetch(tf.data.AUTOTUNE)"
   ]
  },
  {
   "cell_type": "code",
   "execution_count": null,
   "metadata": {
    "colab": {
     "base_uri": "https://localhost:8080/",
     "height": 797
    },
    "id": "b3kLrphSjOrI",
    "outputId": "56a03326-6f16-409e-8a4b-4d1ec8ae3606"
   },
   "outputs": [],
   "source": [
    "for images, labels in  test_ds :\n",
    "\n",
    "    y_true = labels.numpy().astype(int).flatten()\n",
    "    predictions = optimal_model.predict(images)   \n",
    "    \n",
    "\n",
    "    plt.figure(figsize=(8, 3))\n",
    "    for i in range(4):\n",
    "        ax = plt.subplot(1, 4, i+1)\n",
    "        plt.imshow(images[i].numpy().astype(\"uint8\"))\n",
    "        plt.title(f\"{int(y_pred[i]):d} ({y_true[i]:d}) \")\n",
    "        plt.axis(\"off\")\n",
    "    plt.show()\n",
    "\n",
    "    print(accuracy_score(y_true, y_pred))\n",
    "    print(confusion_matrix(y_true, y_pred))"
   ]
  },
  {
   "cell_type": "markdown",
   "metadata": {
    "id": "92lzPus8jOrI"
   },
   "source": [
    "## Fine Tuning"
   ]
  },
  {
   "cell_type": "code",
   "execution_count": null,
   "metadata": {
    "colab": {
     "base_uri": "https://localhost:8080/"
    },
    "id": "WczjmBJUjOrI",
    "outputId": "53dd8c05-dab2-466c-ca9e-a5afc1bdcc50"
   },
   "outputs": [],
   "source": [
    "model = keras.models.load_model(PATH+'TL_ResNet50_CatDog_best.h5')\n",
    "model.summary()"
   ]
  },
  {
   "cell_type": "code",
   "execution_count": null,
   "metadata": {
    "colab": {
     "base_uri": "https://localhost:8080/"
    },
    "id": "t6HBfSq9jOrI",
    "outputId": "46ce20a1-878d-42b0-bfee-56e319e93578"
   },
   "outputs": [],
   "source": [
    "\n",
    "model.summary()"
   ]
  },
  {
   "cell_type": "code",
   "execution_count": null,
   "metadata": {
    "colab": {
     "base_uri": "https://localhost:8080/"
    },
    "id": "CSxilspXjOrI",
    "outputId": "642643f3-f3a9-4d0f-d8bc-191b4ef1f77b"
   },
   "outputs": [],
   "source": [
    "\n",
    "model.compile(optimizer= keras.optimizers.Adam(  ),  # Very low learning rate\n",
    "              loss=keras.losses.BinaryCrossentropy(),\n",
    "              metrics=['accuracy'])\n",
    "\n",
    "fit_history = model.fit(train_ds, epochs= 3, \n",
    "          validation_data = validation_ds, verbose=1)"
   ]
  },
  {
   "cell_type": "code",
   "execution_count": null,
   "metadata": {
    "colab": {
     "base_uri": "https://localhost:8080/",
     "height": 172
    },
    "id": "j3KVFNL5ViUu",
    "outputId": "42633704-c543-4abd-ac69-1a2ee2156024"
   },
   "outputs": [],
   "source": [
    "model.save(PATH+'TL_ResNet50_CatDog_FineTuned.h5')"
   ]
  },
  {
   "cell_type": "code",
   "execution_count": null,
   "metadata": {
    "id": "I1wOXUiJjOrO"
   },
   "outputs": [],
   "source": []
  }
 ],
 "metadata": {
  "accelerator": "GPU",
  "colab": {
   "gpuType": "T4",
   "provenance": []
  },
  "gpuClass": "standard",
  "kernelspec": {
   "display_name": "Python 3 (ipykernel)",
   "language": "python",
   "name": "python3"
  },
  "language_info": {
   "codemirror_mode": {
    "name": "ipython",
    "version": 3
   },
   "file_extension": ".py",
   "mimetype": "text/x-python",
   "name": "python",
   "nbconvert_exporter": "python",
   "pygments_lexer": "ipython3",
   "version": "3.8.10"
  }
 },
 "nbformat": 4,
 "nbformat_minor": 1
}
