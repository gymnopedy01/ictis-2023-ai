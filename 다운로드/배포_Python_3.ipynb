{
  "cells": [
    {
      "cell_type": "code",
      "execution_count": null,
      "metadata": {
        "id": "hXmBmf5kQyTI"
      },
      "outputs": [],
      "source": [
        "%config Completer.use_jedi = False"
      ]
    },
    {
      "cell_type": "markdown",
      "metadata": {
        "id": "za5WHvD_QyTJ"
      },
      "source": [
        "# 반복문 while\n",
        "- 반복(iteration)은 동일한 문장을 여러 번 반복시키는 구조\n",
        "- 조건식이 True인 동안 실행문장을 반복함"
      ]
    },
    {
      "cell_type": "code",
      "execution_count": null,
      "metadata": {
        "id": "_UscSXhIQyTL"
      },
      "outputs": [],
      "source": [
        "\n",
        "    print ('파이썬은 즐거워')\n",
        "   \n",
        "print('count= ', count)"
      ]
    },
    {
      "cell_type": "code",
      "execution_count": null,
      "metadata": {
        "id": "IGYB9-YNQyTL"
      },
      "outputs": [],
      "source": []
    },
    {
      "cell_type": "markdown",
      "metadata": {
        "id": "aeYsqjEQQyTL"
      },
      "source": [
        "# 반복문 for\n",
        "- 범위의 처음부터 끝까지 반복함\n",
        "- 범위: 리스트, range, 튜플, 문자열  등"
      ]
    },
    {
      "cell_type": "code",
      "execution_count": 4,
      "metadata": {
        "colab": {
          "base_uri": "https://localhost:8080/"
        },
        "id": "WX9FjWG1QyTM",
        "outputId": "370ee6f9-a9ea-4461-95be-4d70ef5033bd"
      },
      "outputs": [
        {
          "output_type": "stream",
          "name": "stdout",
          "text": [
            "나무를 1 번 찍었습니다. 딱! \n",
            "나무를 2 번 찍었습니다. 딱! 딱! \n",
            "나무를 3 번 찍었습니다. 딱! 딱! 딱! \n",
            "나무를 4 번 찍었습니다. 딱! 딱! 딱! 딱! \n",
            "나무를 5 번 찍었습니다. 딱! 딱! 딱! 딱! 딱! \n",
            "나무를 6 번 찍었습니다. 딱! 딱! 딱! 딱! 딱! 딱! \n",
            "넘어가즈아~~~\n"
          ]
        }
      ],
      "source": [
        "import random\n",
        "number = random.randint(1, 10)\n",
        "\n",
        "for count in range(1, number+1)  :\n",
        "      print ('나무를', count, '번 찍었습니다.', '딱! ' *count)\n",
        "\n",
        "print('넘어가즈아~~~')"
      ]
    },
    {
      "cell_type": "code",
      "execution_count": 9,
      "metadata": {
        "colab": {
          "base_uri": "https://localhost:8080/"
        },
        "id": "GlsVmz4YQyTM",
        "outputId": "0a308a86-9227-4d28-d4c1-28ebfb2107e9"
      },
      "outputs": [
        {
          "output_type": "stream",
          "name": "stdout",
          "text": [
            "나무를 1 번 찍었습니다. 딱! \n",
            "나무를 2 번 찍었습니다. 딱! 딱! \n",
            "나무를 3 번 찍었습니다. 딱! 딱! 딱! \n",
            "나무를 4 번 찍었습니다. 딱! 딱! 딱! 딱! \n",
            "나무를 5 번 찍었습니다. 딱! 딱! 딱! 딱! 딱! \n",
            "나무를 6 번 찍었습니다. 딱! 딱! 딱! 딱! 딱! 딱! \n",
            "나무를 7 번 찍었습니다. 딱! 딱! 딱! 딱! 딱! 딱! 딱! \n",
            "나무를 8 번 찍었습니다. 딱! 딱! 딱! 딱! 딱! 딱! 딱! 딱! \n",
            "앗! 곰이 나타났네요;;;\n"
          ]
        }
      ],
      "source": [
        "import random\n",
        "number = random.randint(1, 10)\n",
        "\n",
        "for count in range(1, number+1) :\n",
        "      print ('나무를', count, '번 찍었습니다.', '딱! ' *count)\n",
        "else :\n",
        "    print('앗! 곰이 나타났네요;;;')"
      ]
    },
    {
      "cell_type": "code",
      "execution_count": 1,
      "metadata": {
        "colab": {
          "base_uri": "https://localhost:8080/"
        },
        "id": "j6KMA7q_QyTN",
        "outputId": "cbc7bfaf-22c8-44d8-b04b-f8aebba81eb4"
      },
      "outputs": [
        {
          "output_type": "stream",
          "name": "stdout",
          "text": [
            "H.e.l.l.o. .w.o.r.l.d.!."
          ]
        }
      ],
      "source": [
        "import time\n",
        "for i  in 'Hello world!':\n",
        "    print (i, end='.'  )\n",
        "    time.sleep(1)\n"
      ]
    },
    {
      "cell_type": "code",
      "execution_count": 11,
      "metadata": {
        "colab": {
          "base_uri": "https://localhost:8080/"
        },
        "id": "zUBxd8NEQyTN",
        "outputId": "05fafd2d-612d-4fce-d4e2-d05212ff23b7"
      },
      "outputs": [
        {
          "output_type": "stream",
          "name": "stdout",
          "text": [
            "2 * 1 = 2\n",
            "2 * 2 = 4\n",
            "2 * 3 = 6\n",
            "2 * 4 = 8\n",
            "2 * 5 = 10\n",
            "2 * 6 = 12\n",
            "2 * 7 = 14\n",
            "2 * 8 = 16\n",
            "2 * 9 = 18\n"
          ]
        }
      ],
      "source": [
        "#구구단 예제 1\n",
        "i=2\n",
        "for j in range(1, 10):\n",
        "    print(i, '*', j, '=', i*j  )"
      ]
    },
    {
      "cell_type": "code",
      "execution_count": 14,
      "metadata": {
        "scrolled": true,
        "colab": {
          "base_uri": "https://localhost:8080/"
        },
        "id": "VNOlpIlBQyTN",
        "outputId": "1e054e26-2ef3-4383-e3b5-78d785d30a30"
      },
      "outputs": [
        {
          "output_type": "stream",
          "name": "stdout",
          "text": [
            "=== 2 단 ===\n",
            "2 * 1 = 2\n",
            "2 * 2 = 4\n",
            "2 * 3 = 6\n",
            "2 * 4 = 8\n",
            "2 * 5 = 10\n",
            "2 * 6 = 12\n",
            "2 * 7 = 14\n",
            "2 * 8 = 16\n",
            "2 * 9 = 18\n",
            "=== 3 단 ===\n",
            "3 * 1 = 3\n",
            "3 * 2 = 6\n",
            "3 * 3 = 9\n",
            "3 * 4 = 12\n",
            "3 * 5 = 15\n",
            "3 * 6 = 18\n",
            "3 * 7 = 21\n",
            "3 * 8 = 24\n",
            "3 * 9 = 27\n",
            "=== 4 단 ===\n",
            "4 * 1 = 4\n",
            "4 * 2 = 8\n",
            "4 * 3 = 12\n",
            "4 * 4 = 16\n",
            "4 * 5 = 20\n",
            "4 * 6 = 24\n",
            "4 * 7 = 28\n",
            "4 * 8 = 32\n",
            "4 * 9 = 36\n",
            "=== 5 단 ===\n",
            "5 * 1 = 5\n",
            "5 * 2 = 10\n",
            "5 * 3 = 15\n",
            "5 * 4 = 20\n",
            "5 * 5 = 25\n",
            "5 * 6 = 30\n",
            "5 * 7 = 35\n",
            "5 * 8 = 40\n",
            "5 * 9 = 45\n",
            "=== 6 단 ===\n",
            "6 * 1 = 6\n",
            "6 * 2 = 12\n",
            "6 * 3 = 18\n",
            "6 * 4 = 24\n",
            "6 * 5 = 30\n",
            "6 * 6 = 36\n",
            "6 * 7 = 42\n",
            "6 * 8 = 48\n",
            "6 * 9 = 54\n",
            "=== 7 단 ===\n",
            "7 * 1 = 7\n",
            "7 * 2 = 14\n",
            "7 * 3 = 21\n",
            "7 * 4 = 28\n",
            "7 * 5 = 35\n",
            "7 * 6 = 42\n",
            "7 * 7 = 49\n",
            "7 * 8 = 56\n",
            "7 * 9 = 63\n",
            "=== 8 단 ===\n",
            "8 * 1 = 8\n",
            "8 * 2 = 16\n",
            "8 * 3 = 24\n",
            "8 * 4 = 32\n",
            "8 * 5 = 40\n",
            "8 * 6 = 48\n",
            "8 * 7 = 56\n",
            "8 * 8 = 64\n",
            "8 * 9 = 72\n",
            "=== 9 단 ===\n",
            "9 * 1 = 9\n",
            "9 * 2 = 18\n",
            "9 * 3 = 27\n",
            "9 * 4 = 36\n",
            "9 * 5 = 45\n",
            "9 * 6 = 54\n",
            "9 * 7 = 63\n",
            "9 * 8 = 72\n",
            "9 * 9 = 81\n"
          ]
        }
      ],
      "source": [
        "#구구단 예제 2\n",
        "for  i in range(2,10):\n",
        "    print ('='*3, i, '단', '='*3 )\n",
        "    for  j in range(1,10):\n",
        "        print(i, '*', j, '=', i*j  )\n"
      ]
    },
    {
      "cell_type": "markdown",
      "metadata": {
        "id": "lT1kUJ4yQyTO"
      },
      "source": [
        "### 반복문 + 리스트 실습: 로또 번호 생성기"
      ]
    },
    {
      "cell_type": "code",
      "execution_count": 28,
      "metadata": {
        "colab": {
          "base_uri": "https://localhost:8080/"
        },
        "id": "HyEnKbtJQyTO",
        "outputId": "d2aae610-43ed-47b5-9a98-2d16b1334412"
      },
      "outputs": [
        {
          "output_type": "stream",
          "name": "stdout",
          "text": [
            "로또\n",
            "오늘의 당첨 번호 [2, 2, 2, 3, 2, 3]\n"
          ]
        }
      ],
      "source": [
        "import random\n",
        "print('로또')\n",
        "\n",
        "lottoList = []\n",
        "\n",
        "for i in range(6):\n",
        "    number = random.randint(1,45)\n",
        "    lottoList.append(number)\n",
        "\n",
        "print('오늘의 당첨 번호', lottoList)"
      ]
    },
    {
      "cell_type": "code",
      "execution_count": 57,
      "metadata": {
        "colab": {
          "base_uri": "https://localhost:8080/"
        },
        "id": "lTRzxRVqQyTP",
        "outputId": "ae987686-5469-44d6-8ebe-5f6e74ba6af2"
      },
      "outputs": [
        {
          "output_type": "stream",
          "name": "stdout",
          "text": [
            "로또\n",
            "오늘의 당첨 번호 [10, 39, 7, 26, 17, 1]\n"
          ]
        }
      ],
      "source": [
        "# 도전! 생성된 로또 번호에 중복이 나타나지 않도록 프로그램을 작성하시오.\n",
        "import random\n",
        "print('로또')\n",
        "\n",
        "lottoList = []\n",
        "\n",
        "while len(lottoList) < 6:\n",
        "    number = random.randint(1, 45)\n",
        "    if not number in lottoList:\n",
        "        lottoList.append(number)\n",
        "\n",
        "print('오늘의 당첨 번호', lottoList)\n"
      ]
    },
    {
      "cell_type": "code",
      "source": [
        "# 도전! 생성된 로또 번호에 중복이 나타나지 않도록 프로그램을 작성하시오.\n",
        "import random\n",
        "print('로또')\n",
        "\n",
        "randomList = list(range(1, 46))\n",
        "random.shuffle(randomList)\n",
        "\n",
        "print('오늘의 당첨 번호', randomList[0: 6])"
      ],
      "metadata": {
        "colab": {
          "base_uri": "https://localhost:8080/"
        },
        "id": "USEJ2dN9b9Zz",
        "outputId": "f92eb945-60ee-4a56-e241-496826a05b43"
      },
      "execution_count": 62,
      "outputs": [
        {
          "output_type": "stream",
          "name": "stdout",
          "text": [
            "로또\n",
            "오늘의 당첨 번호 [31, 19, 22, 16, 38, 2]\n"
          ]
        }
      ]
    },
    {
      "cell_type": "code",
      "source": [
        "def mean(x):\n",
        "    return sum(x)/len(x)\n",
        "print(mean([1,2,3,4,5]))\n",
        "print(mean(range(1,6)))"
      ],
      "metadata": {
        "colab": {
          "base_uri": "https://localhost:8080/"
        },
        "id": "sNYkENRRccip",
        "outputId": "b038afa7-c0c5-47f2-d517-cf5656f000fe"
      },
      "execution_count": 76,
      "outputs": [
        {
          "output_type": "stream",
          "name": "stdout",
          "text": [
            "3.0\n",
            "3.0\n"
          ]
        }
      ]
    },
    {
      "cell_type": "code",
      "source": [
        "import numpy as np\n",
        "\n",
        "a = np.array([1,2,3])\n",
        "b = np.array([4,5,6])\n",
        "print(a+b)"
      ],
      "metadata": {
        "colab": {
          "base_uri": "https://localhost:8080/"
        },
        "id": "H3Ub6iCNcVQ6",
        "outputId": "096fb829-c039-4bb1-c2ff-0650ba20b9d7"
      },
      "execution_count": 77,
      "outputs": [
        {
          "output_type": "stream",
          "name": "stdout",
          "text": [
            "[5 7 9]\n"
          ]
        }
      ]
    },
    {
      "cell_type": "markdown",
      "metadata": {
        "id": "oj7cr3YxQyTP"
      },
      "source": [
        "# 논리, in, is"
      ]
    },
    {
      "cell_type": "code",
      "execution_count": 63,
      "metadata": {
        "colab": {
          "base_uri": "https://localhost:8080/",
          "height": 137
        },
        "id": "uzX-aNLEQyTP",
        "outputId": "c70a7e5f-38cb-4a5b-d1a5-cbc81eafaf99"
      },
      "outputs": [
        {
          "output_type": "error",
          "ename": "SyntaxError",
          "evalue": "ignored",
          "traceback": [
            "\u001b[0;36m  File \u001b[0;32m\"<ipython-input-63-b342ae18a50b>\"\u001b[0;36m, line \u001b[0;32m1\u001b[0m\n\u001b[0;31m    any() 하나라도 참이면\u001b[0m\n\u001b[0m          ^\u001b[0m\n\u001b[0;31mSyntaxError\u001b[0m\u001b[0;31m:\u001b[0m invalid syntax\n"
          ]
        }
      ],
      "source": [
        "\n",
        "all()"
      ]
    },
    {
      "cell_type": "code",
      "execution_count": null,
      "metadata": {
        "id": "k0gCg7BWQyTP"
      },
      "outputs": [],
      "source": []
    },
    {
      "cell_type": "code",
      "execution_count": null,
      "metadata": {
        "id": "5TMAvVI0QyTQ"
      },
      "outputs": [],
      "source": []
    },
    {
      "cell_type": "code",
      "execution_count": null,
      "metadata": {
        "id": "yrDEnkNqQyTQ"
      },
      "outputs": [],
      "source": []
    },
    {
      "cell_type": "code",
      "execution_count": 66,
      "metadata": {
        "id": "7DWfSi4mQyTQ"
      },
      "outputs": [],
      "source": [
        "T = True\n",
        "F = False"
      ]
    },
    {
      "cell_type": "code",
      "execution_count": 67,
      "metadata": {
        "colab": {
          "base_uri": "https://localhost:8080/"
        },
        "id": "qoHOoad3QyTQ",
        "outputId": "2f951314-ce75-449a-9f5b-6a03f9316f94"
      },
      "outputs": [
        {
          "output_type": "execute_result",
          "data": {
            "text/plain": [
              "True"
            ]
          },
          "metadata": {},
          "execution_count": 67
        }
      ],
      "source": [
        "T and T"
      ]
    },
    {
      "cell_type": "code",
      "execution_count": null,
      "metadata": {
        "id": "PiqVZrh0QyTQ"
      },
      "outputs": [],
      "source": [
        "T or T"
      ]
    },
    {
      "cell_type": "code",
      "source": [
        "a = any([True, False, False]) # 하나라도 참이면 결과는 참\n",
        "print (a)\n",
        "\n",
        "b = all([True, False, False]) # 모두 참이여야 만 결과는 참\n",
        "print (b)"
      ],
      "metadata": {
        "colab": {
          "base_uri": "https://localhost:8080/"
        },
        "id": "gwjJa-qsfUEX",
        "outputId": "1ca1f932-02a7-4616-cf3d-50828c190f73"
      },
      "execution_count": 73,
      "outputs": [
        {
          "output_type": "stream",
          "name": "stdout",
          "text": [
            "True\n",
            "False\n"
          ]
        }
      ]
    },
    {
      "cell_type": "code",
      "execution_count": null,
      "metadata": {
        "id": "-Hp3SnhDQyTQ"
      },
      "outputs": [],
      "source": [
        "# x는 1과 같고  y는 3과 같다 \n"
      ]
    },
    {
      "cell_type": "code",
      "execution_count": null,
      "metadata": {
        "id": "FCfkICmBQyTR"
      },
      "outputs": [],
      "source": [
        "# x는 y와 같거나 z와 같다\n"
      ]
    },
    {
      "cell_type": "code",
      "execution_count": null,
      "metadata": {
        "id": "ySZmZGMoQyTR"
      },
      "outputs": [],
      "source": [
        "# x는 2도 아니고 3도 아니고 4도 아니다\n"
      ]
    },
    {
      "cell_type": "code",
      "execution_count": null,
      "metadata": {
        "id": "J0FjF-exQyTR"
      },
      "outputs": [],
      "source": [
        "# x는 2이거나 3 이거나 4이다\n"
      ]
    },
    {
      "cell_type": "code",
      "execution_count": null,
      "metadata": {
        "id": "qR5r7PeTQyTR"
      },
      "outputs": [],
      "source": [
        "if [ ]:\n",
        "     print('True')\n",
        "else:\n",
        "     print('False')"
      ]
    },
    {
      "cell_type": "code",
      "execution_count": null,
      "metadata": {
        "id": "4coi_n57QyTS"
      },
      "outputs": [],
      "source": [
        "a=3\n",
        "\n"
      ]
    },
    {
      "cell_type": "code",
      "execution_count": null,
      "metadata": {
        "id": "30pjJv-fQyTS"
      },
      "outputs": [],
      "source": []
    },
    {
      "cell_type": "code",
      "execution_count": null,
      "metadata": {
        "id": "lVmpg_LfQyTS"
      },
      "outputs": [],
      "source": [
        "a=1\n",
        "b=1\n",
        "a is b"
      ]
    },
    {
      "cell_type": "code",
      "execution_count": null,
      "metadata": {
        "id": "hYV47_DuQyTS"
      },
      "outputs": [],
      "source": []
    },
    {
      "cell_type": "markdown",
      "metadata": {
        "id": "5bTIhgg7QyTS"
      },
      "source": [
        "# 가위-바위-보 게임"
      ]
    },
    {
      "cell_type": "code",
      "execution_count": 5,
      "metadata": {
        "colab": {
          "base_uri": "https://localhost:8080/"
        },
        "id": "iGBOzAzAQyTT",
        "outputId": "68181901-2220-4530-d003-b4ada77ed030"
      },
      "outputs": [
        {
          "output_type": "stream",
          "name": "stdout",
          "text": [
            "컴퓨터 손 : 보\n"
          ]
        }
      ],
      "source": [
        "#실습1 \n",
        "#- 컴퓨터가 0~2 사이의 하나의 난수를 생성해 변수 \n",
        "\n",
        "import random\n",
        "\n",
        "number = random.randint(0,2)\n",
        "\n",
        "rspList = ['가위','바위','보']\n",
        "comHand = rspList[number]\n",
        "print('컴퓨터 손 : ' + comHand)"
      ]
    },
    {
      "cell_type": "code",
      "execution_count": 22,
      "metadata": {
        "colab": {
          "base_uri": "https://localhost:8080/"
        },
        "id": "5pk9GH78QyTT",
        "outputId": "8cff6078-8842-4659-dfbd-047093c4ad5e"
      },
      "outputs": [
        {
          "output_type": "stream",
          "name": "stdout",
          "text": [
            "가위 바위 보 중 하나를 입력하세요:보\n",
            "승리: player\n",
            "컴퓨터손 :  바위 , 플레이어손 :  보\n"
          ]
        }
      ],
      "source": [
        "#실습1 \n",
        "#- 컴퓨터가 0~2 사이의 하나의 난수를 생성해 변수 \n",
        "\n",
        "import random\n",
        "\n",
        "number = random.randint(0,2)\n",
        "\n",
        "rspList = ['가위','바위','보']\n",
        "comHand = rspList[number]\n",
        "\n",
        "while True: \n",
        "    playerHand = input('가위 바위 보 중 하나를 입력하세요:')\n",
        "    if playerHand in rspList :\n",
        "        break\n",
        "\n",
        "win = 'computer'\n",
        "if (comHand == playerHand) :\n",
        "    win = 'tie'\n",
        "elif (comHand == '가위' and playerHand == '바위') or (comHand == '바위' and playerHand == '보')  or (comHand == '보' and playerHand == '가위'):\n",
        "    win = 'player'\n",
        "\n",
        "print('승리:', win)\n",
        "print('컴퓨터손 : ', comHand, ', 플레이어손 : ', playerHand)\n",
        "\n"
      ]
    },
    {
      "cell_type": "code",
      "execution_count": 39,
      "metadata": {
        "colab": {
          "base_uri": "https://localhost:8080/",
          "height": 137
        },
        "id": "cZV96KveQyTT",
        "outputId": "e2633ccf-725d-45f3-d956-c03229c32f6e"
      },
      "outputs": [
        {
          "output_type": "error",
          "ename": "SyntaxError",
          "evalue": "ignored",
          "traceback": [
            "\u001b[0;36m  File \u001b[0;32m\"<ipython-input-39-d4cecc355456>\"\u001b[0;36m, line \u001b[0;32m12\u001b[0m\n\u001b[0;31m    playerHand = input(`${rspList} 중에 하나를 입력하세요:`)\u001b[0m\n\u001b[0m                       ^\u001b[0m\n\u001b[0;31mSyntaxError\u001b[0m\u001b[0;31m:\u001b[0m invalid syntax\n"
          ]
        }
      ],
      "source": [
        "import random\n",
        "\n",
        "\n",
        "win = ''\n",
        "winCount = 0\n",
        "while win != 'computer':\n",
        "    number = random.randint(0,2)\n",
        "    rspList = ['가위', '바위','보']\n",
        "    comHand = rspList[number]\n",
        "\n",
        "    while True :\n",
        "        playerHand = input('${rspList} 중에 하나를 입력하세요:')\n",
        "        if playerHand in rspList:\n",
        "            break\n",
        "\n",
        "    win = 'computer'\n",
        "    if (comHand == playerHand) :\n",
        "        win = 'tie'\n",
        "    elif (comHand == '가위' and playerHand == '바위') or (comHand == '바위' and playerHand == '보')  or (comHand == '보' and playerHand == '가위'):\n",
        "        win = 'player'\n",
        "        winCount += 1\n",
        "    \n",
        "    print('승리:', win, '!!', winCount , '연승')\n",
        "    print('컴퓨터손 : ', comHand, ', 플레이어손 : ', playerHand)\n",
        "\n",
        "\n"
      ]
    },
    {
      "cell_type": "code",
      "execution_count": null,
      "metadata": {
        "id": "mBZhk4WYQyTT"
      },
      "outputs": [],
      "source": []
    },
    {
      "cell_type": "markdown",
      "metadata": {
        "id": "aXubwzXrQyTT"
      },
      "source": [
        "# tuple\n",
        "\n",
        "순서가 있는 원소들의 묶음.\n",
        "리스트와 혼동하기 쉬운데 단순한\n",
        "\n",
        "괄호없이도 쓸 수 있음.\n",
        "\n",
        "소괄호로 사용\n",
        "\n",
        "() tuple \n",
        "[] list\n",
        "{} dict\n",
        "\n"
      ]
    },
    {
      "cell_type": "code",
      "execution_count": 40,
      "metadata": {
        "colab": {
          "base_uri": "https://localhost:8080/"
        },
        "id": "yjfTAOKBQyTT",
        "outputId": "75e79a13-96dc-4b89-ce52-604b847916bf"
      },
      "outputs": [
        {
          "output_type": "execute_result",
          "data": {
            "text/plain": [
              "(1, 2, 3, 4, 5)"
            ]
          },
          "metadata": {},
          "execution_count": 40
        }
      ],
      "source": [
        "a= (1,2,3,4,5)\n",
        "a"
      ]
    },
    {
      "cell_type": "code",
      "execution_count": 42,
      "metadata": {
        "colab": {
          "base_uri": "https://localhost:8080/"
        },
        "id": "OWVlgGB0QyTT",
        "outputId": "191a0ae8-a959-4f73-a18e-0acac68582db"
      },
      "outputs": [
        {
          "output_type": "execute_result",
          "data": {
            "text/plain": [
              "(1, 2, 3, 4, 5, 6, 7, 8, 9, 10)"
            ]
          },
          "metadata": {},
          "execution_count": 42
        }
      ],
      "source": []
    },
    {
      "cell_type": "code",
      "execution_count": 43,
      "metadata": {
        "colab": {
          "base_uri": "https://localhost:8080/"
        },
        "id": "maakX0XSQyTU",
        "outputId": "5a541a22-e3ca-4ead-b9c0-815c8720afde"
      },
      "outputs": [
        {
          "output_type": "execute_result",
          "data": {
            "text/plain": [
              "(1, 2, 3, 4, 5, 6, 7, 8, 9, 10)"
            ]
          },
          "metadata": {},
          "execution_count": 43
        }
      ],
      "source": [
        "b=tuple(range(1,11))\n",
        "b"
      ]
    },
    {
      "cell_type": "code",
      "execution_count": 44,
      "metadata": {
        "colab": {
          "base_uri": "https://localhost:8080/"
        },
        "id": "ZBwgxiH2QyTU",
        "outputId": "340c3520-1475-4f2d-9d8d-6ae58680838d"
      },
      "outputs": [
        {
          "output_type": "execute_result",
          "data": {
            "text/plain": [
              "4"
            ]
          },
          "metadata": {},
          "execution_count": 44
        }
      ],
      "source": [
        "b[3]"
      ]
    },
    {
      "cell_type": "code",
      "execution_count": 47,
      "metadata": {
        "colab": {
          "base_uri": "https://localhost:8080/"
        },
        "id": "p8rl2go0QyTU",
        "outputId": "00c2ebb3-e8f5-4ed8-8b9f-ca6ff0af9704"
      },
      "outputs": [
        {
          "output_type": "execute_result",
          "data": {
            "text/plain": [
              "6"
            ]
          },
          "metadata": {},
          "execution_count": 47
        }
      ],
      "source": [
        "b[2:5]\n",
        "b.count(7)\n",
        "b.index(7)"
      ]
    },
    {
      "cell_type": "code",
      "execution_count": 56,
      "metadata": {
        "colab": {
          "base_uri": "https://localhost:8080/"
        },
        "id": "nRAp8PApQyTU",
        "outputId": "dc1d4a96-378e-4e79-c8bd-124160942fbc"
      },
      "outputs": [
        {
          "output_type": "execute_result",
          "data": {
            "text/plain": [
              "(1,)"
            ]
          },
          "metadata": {},
          "execution_count": 56
        }
      ],
      "source": [
        "x = 1,\n",
        "x"
      ]
    },
    {
      "cell_type": "code",
      "source": [
        "type(x)\n",
        "len(x)"
      ],
      "metadata": {
        "id": "Ny79evJmrwe2"
      },
      "execution_count": null,
      "outputs": []
    },
    {
      "cell_type": "code",
      "execution_count": 57,
      "metadata": {
        "colab": {
          "base_uri": "https://localhost:8080/"
        },
        "id": "4198ft12QyTU",
        "outputId": "e2ef27be-8205-4ec4-d45f-38795efb5fb9"
      },
      "outputs": [
        {
          "output_type": "execute_result",
          "data": {
            "text/plain": [
              "(1, 2)"
            ]
          },
          "metadata": {},
          "execution_count": 57
        }
      ],
      "source": [
        "x=1,2\n",
        "x"
      ]
    },
    {
      "cell_type": "code",
      "execution_count": 65,
      "metadata": {
        "colab": {
          "base_uri": "https://localhost:8080/"
        },
        "id": "3r8kWJcJQyTV",
        "outputId": "9f15599f-99e7-4bd2-d0a9-70fd64039b5d"
      },
      "outputs": [
        {
          "output_type": "stream",
          "name": "stdout",
          "text": [
            "1 2\n",
            "<class 'int'> <class 'int'>\n"
          ]
        }
      ],
      "source": [
        "x,y = 1,2\n",
        "print(x, y)\n",
        "print(type(x), type(y))"
      ]
    },
    {
      "cell_type": "code",
      "execution_count": null,
      "metadata": {
        "id": "KrZe0SQDQyTV"
      },
      "outputs": [],
      "source": [
        "x=(1,)\n",
        "type(x)"
      ]
    },
    {
      "cell_type": "code",
      "execution_count": null,
      "metadata": {
        "id": "SplY1VwlQyTV"
      },
      "outputs": [],
      "source": []
    },
    {
      "cell_type": "code",
      "execution_count": 74,
      "metadata": {
        "colab": {
          "base_uri": "https://localhost:8080/"
        },
        "id": "tyh-AnB-QyTV",
        "outputId": "9abca3b6-8f54-4b94-cc32-ac77cd47769b"
      },
      "outputs": [
        {
          "output_type": "stream",
          "name": "stdout",
          "text": [
            "1 2 3\n"
          ]
        }
      ],
      "source": [
        "x=1,(2,3)\n",
        "x\n",
        "len(x)\n",
        "x, (y,z)=1,(2,3)\n",
        "print(x,y,z)"
      ]
    },
    {
      "cell_type": "code",
      "execution_count": 80,
      "metadata": {
        "colab": {
          "base_uri": "https://localhost:8080/"
        },
        "id": "da7r7swUQyTV",
        "outputId": "5ebb341d-30e5-420c-d7bc-5016d14957d0"
      },
      "outputs": [
        {
          "output_type": "stream",
          "name": "stdout",
          "text": [
            "1\n",
            "[2, 3, 4]\n",
            "5\n"
          ]
        }
      ],
      "source": [
        "a, *b, c = 1,2,3,4,5\n",
        "print(a)\n",
        "print(b)\n",
        "print(c)"
      ]
    },
    {
      "cell_type": "code",
      "source": [
        "a, _ = 1,2\n",
        "a"
      ],
      "metadata": {
        "colab": {
          "base_uri": "https://localhost:8080/"
        },
        "id": "aCOAO_LBvvuJ",
        "outputId": "92bda555-a4d6-4de5-d665-3898c3767268"
      },
      "execution_count": 79,
      "outputs": [
        {
          "output_type": "execute_result",
          "data": {
            "text/plain": [
              "1"
            ]
          },
          "metadata": {},
          "execution_count": 79
        }
      ]
    },
    {
      "cell_type": "markdown",
      "metadata": {
        "id": "kjR_OUr0QyTV"
      },
      "source": [
        "# 딕셔너리\n",
        "- 사전식 자료 관리\n",
        "- key와 value 쌍으로 이루어진 자료구조\n",
        "- 딕셔너리는 중괄호{ }로 묶여 있음\n",
        "- key를 인덱스로 사용"
      ]
    },
    {
      "cell_type": "code",
      "execution_count": 114,
      "metadata": {
        "colab": {
          "base_uri": "https://localhost:8080/"
        },
        "id": "paOTsLzUQyTW",
        "outputId": "dffca2ac-0c82-4824-a6e4-3d12a00c228d"
      },
      "outputs": [
        {
          "output_type": "stream",
          "name": "stdout",
          "text": [
            "{'a': 1, 'b': 2}\n"
          ]
        }
      ],
      "source": [
        "a={'a' : 1, 'b': 2}\n",
        "print(a)"
      ]
    },
    {
      "cell_type": "code",
      "execution_count": 115,
      "metadata": {
        "colab": {
          "base_uri": "https://localhost:8080/"
        },
        "id": "Hni8nUknQyTW",
        "outputId": "70d96e70-d9ff-4714-b76a-ca7d0cc291a6"
      },
      "outputs": [
        {
          "output_type": "execute_result",
          "data": {
            "text/plain": [
              "2"
            ]
          },
          "metadata": {},
          "execution_count": 115
        }
      ],
      "source": [
        "len(a)"
      ]
    },
    {
      "cell_type": "code",
      "source": [
        "# 빈 딕셔너리 생성\n",
        "a = dict()\n",
        "b = {}\n",
        "type (a)"
      ],
      "metadata": {
        "colab": {
          "base_uri": "https://localhost:8080/"
        },
        "id": "UhTX8d4SyEjh",
        "outputId": "f6622002-74c2-4988-cf61-099cfe20b5be"
      },
      "execution_count": 116,
      "outputs": [
        {
          "output_type": "execute_result",
          "data": {
            "text/plain": [
              "dict"
            ]
          },
          "metadata": {},
          "execution_count": 116
        }
      ]
    },
    {
      "cell_type": "code",
      "execution_count": 117,
      "metadata": {
        "colab": {
          "base_uri": "https://localhost:8080/"
        },
        "id": "E6AJiNktQyTW",
        "outputId": "2aa56ae7-9626-49e4-972d-3ef94f7f65cf"
      },
      "outputs": [
        {
          "output_type": "execute_result",
          "data": {
            "text/plain": [
              "{'신사임당': '010-1234-5678', '홍길동': '010-4532-4532'}"
            ]
          },
          "metadata": {},
          "execution_count": 117
        }
      ],
      "source": [
        "phone_book={'신사임당': '010-1234-5678', '홍길동': '010-4532-4532'}\n",
        "phone_book"
      ]
    },
    {
      "cell_type": "code",
      "execution_count": 118,
      "metadata": {
        "colab": {
          "base_uri": "https://localhost:8080/",
          "height": 248
        },
        "id": "hqyT8diKQyTW",
        "outputId": "3bb65d8d-6a1c-48b8-bc2b-77180e7a4a0f"
      },
      "outputs": [
        {
          "output_type": "error",
          "ename": "KeyError",
          "evalue": "ignored",
          "traceback": [
            "\u001b[0;31m---------------------------------------------------------------------------\u001b[0m",
            "\u001b[0;31mKeyError\u001b[0m                                  Traceback (most recent call last)",
            "\u001b[0;32m<ipython-input-118-2b7894351a91>\u001b[0m in \u001b[0;36m<module>\u001b[0;34m\u001b[0m\n\u001b[1;32m      4\u001b[0m \u001b[0;34m\u001b[0m\u001b[0m\n\u001b[1;32m      5\u001b[0m \u001b[0;31m#딕셔너리 원소에 대한 섹세스 및 검색: key 를 사용\u001b[0m\u001b[0;34m\u001b[0m\u001b[0;34m\u001b[0m\u001b[0m\n\u001b[0;32m----> 6\u001b[0;31m \u001b[0mprint\u001b[0m\u001b[0;34m(\u001b[0m\u001b[0mphone_book\u001b[0m\u001b[0;34m[\u001b[0m\u001b[0;34m'이순신'\u001b[0m\u001b[0;34m]\u001b[0m\u001b[0;34m)\u001b[0m\u001b[0;34m\u001b[0m\u001b[0;34m\u001b[0m\u001b[0m\n\u001b[0m\u001b[1;32m      7\u001b[0m \u001b[0;34m\u001b[0m\u001b[0m\n\u001b[1;32m      8\u001b[0m \u001b[0mprint\u001b[0m\u001b[0;34m(\u001b[0m\u001b[0;34m'이순신'\u001b[0m \u001b[0;32min\u001b[0m \u001b[0mphone_book\u001b[0m\u001b[0;34m)\u001b[0m\u001b[0;34m\u001b[0m\u001b[0;34m\u001b[0m\u001b[0m\n",
            "\u001b[0;31mKeyError\u001b[0m: '이순신'"
          ]
        }
      ],
      "source": [
        "# 딕셔너리에 원소의 추가: 대입문, key를 인덱스로 사용\n",
        "phone_book['이순신2']= '010-0987-6543'\n",
        "phone_book\n",
        "\n",
        "#딕셔너리 원소에 대한 섹세스 및 검색: key 를 사용\n",
        "print(phone_book['이순신'])\n",
        "\n",
        "print('이순신' in phone_book)\n",
        "print('강감찬' in phone_book)\n",
        "print(phone_book.get('이순신'))\n",
        "print(phone_book.get('강감찬'))\n",
        "#print(phone_book['강감찬']) //ERROR"
      ]
    },
    {
      "cell_type": "code",
      "source": [
        "print(phone_book.keys())\n",
        "print(phone_book.values())"
      ],
      "metadata": {
        "id": "ExSBfYHr1kIa"
      },
      "execution_count": null,
      "outputs": []
    },
    {
      "cell_type": "code",
      "source": [
        "c = dict( one=1, two=2, three=3)\n",
        "c"
      ],
      "metadata": {
        "id": "z7VeHMrJySyY"
      },
      "execution_count": null,
      "outputs": []
    },
    {
      "cell_type": "code",
      "execution_count": null,
      "metadata": {
        "id": "Bfqgre6YQyTW"
      },
      "outputs": [],
      "source": [
        "phone_book[ ]"
      ]
    },
    {
      "cell_type": "code",
      "execution_count": null,
      "metadata": {
        "id": "Kd6TnRanQyTX"
      },
      "outputs": [],
      "source": [
        "'이순신' "
      ]
    },
    {
      "cell_type": "code",
      "execution_count": null,
      "metadata": {
        "id": "iBwdZs81QyTX"
      },
      "outputs": [],
      "source": []
    },
    {
      "cell_type": "code",
      "execution_count": null,
      "metadata": {
        "id": "37-nrRumQyTX"
      },
      "outputs": [],
      "source": []
    },
    {
      "cell_type": "code",
      "execution_count": null,
      "metadata": {
        "id": "21psOn6CQyTX"
      },
      "outputs": [],
      "source": []
    },
    {
      "cell_type": "code",
      "execution_count": null,
      "metadata": {
        "id": "RT5U-a2IQyTX"
      },
      "outputs": [],
      "source": [
        "for i in phone_book :\n",
        "    print(i)"
      ]
    },
    {
      "cell_type": "code",
      "execution_count": null,
      "metadata": {
        "id": "bUeEoDDJQyTY"
      },
      "outputs": [],
      "source": [
        "for i in phone_book.keys() :\n",
        "    print(i)"
      ]
    },
    {
      "cell_type": "code",
      "execution_count": null,
      "metadata": {
        "id": "AiZKtlwUQyTY"
      },
      "outputs": [],
      "source": [
        "for i in phone_book.values() :\n",
        "    print(i)"
      ]
    },
    {
      "cell_type": "code",
      "execution_count": null,
      "metadata": {
        "id": "U1olCu2FQyTY"
      },
      "outputs": [],
      "source": [
        "for i in phone_book.items() :\n",
        "    print(i)"
      ]
    },
    {
      "cell_type": "code",
      "source": [
        "for i,j in phone_book.items() :\n",
        "    print(i, j)"
      ],
      "metadata": {
        "id": "9UOYN6_c3IeU"
      },
      "execution_count": null,
      "outputs": []
    },
    {
      "cell_type": "code",
      "source": [
        "for i in phone_book:\n",
        "    print(i)\n",
        "else:\n",
        "    print('end')"
      ],
      "metadata": {
        "colab": {
          "base_uri": "https://localhost:8080/"
        },
        "id": "KQ2sz9UT39Pz",
        "outputId": "1bc89ab5-18f5-4b0a-96a4-5f987ad57cb6"
      },
      "execution_count": 119,
      "outputs": [
        {
          "output_type": "stream",
          "name": "stdout",
          "text": [
            "신사임당\n",
            "홍길동\n",
            "이순신2\n",
            "end\n"
          ]
        }
      ]
    },
    {
      "cell_type": "code",
      "source": [
        "phone_book.clear()\n",
        "phone_book"
      ],
      "metadata": {
        "colab": {
          "base_uri": "https://localhost:8080/"
        },
        "id": "ipYvH0b84srt",
        "outputId": "f21cedcc-dfc6-4534-f18a-8ff7f8d682d1"
      },
      "execution_count": 120,
      "outputs": [
        {
          "output_type": "execute_result",
          "data": {
            "text/plain": [
              "{}"
            ]
          },
          "metadata": {},
          "execution_count": 120
        }
      ]
    },
    {
      "cell_type": "markdown",
      "metadata": {
        "id": "zgbrw9SiQyTY"
      },
      "source": [
        "### 집합\n",
        "- set 은 순서가 없으며, 수정이 가"
      ]
    },
    {
      "cell_type": "code",
      "execution_count": 121,
      "metadata": {
        "colab": {
          "base_uri": "https://localhost:8080/"
        },
        "id": "6Wmkpq1fQyTY",
        "outputId": "96aed95d-adce-4b3a-b6ec-4ff777a88eb4"
      },
      "outputs": [
        {
          "output_type": "execute_result",
          "data": {
            "text/plain": [
              "{1, 2, 3, 4, 5}"
            ]
          },
          "metadata": {},
          "execution_count": 121
        }
      ],
      "source": [
        "a = {1,2,3,4,5}\n",
        "a"
      ]
    },
    {
      "cell_type": "code",
      "execution_count": 122,
      "metadata": {
        "id": "BfwjY4TgQyTY"
      },
      "outputs": [],
      "source": [
        "a.add(6)"
      ]
    },
    {
      "cell_type": "code",
      "execution_count": 123,
      "metadata": {
        "id": "n93S1KTXQyTY"
      },
      "outputs": [],
      "source": [
        "a.remove(5)"
      ]
    },
    {
      "cell_type": "code",
      "execution_count": 128,
      "metadata": {
        "colab": {
          "base_uri": "https://localhost:8080/"
        },
        "id": "oFYwS_2GQyTZ",
        "outputId": "2b7fee09-ce92-4235-85f8-1c61faf8ef69"
      },
      "outputs": [
        {
          "output_type": "execute_result",
          "data": {
            "text/plain": [
              "4"
            ]
          },
          "metadata": {},
          "execution_count": 128
        }
      ],
      "source": [
        "a.pop()"
      ]
    },
    {
      "cell_type": "code",
      "execution_count": 129,
      "metadata": {
        "id": "X_lPfEhfQyTZ"
      },
      "outputs": [],
      "source": [
        "b=set([1,1,4,2,2,6,6,6,6,7,8,10,4,2,8,6,3])\n"
      ]
    },
    {
      "cell_type": "code",
      "source": [
        "import pandas as pd\n",
        "a = [1, 3, 5]\n",
        "b = pd.Series(a)\n",
        "print(b)"
      ],
      "metadata": {
        "id": "KbPRn9ylh1-f"
      },
      "execution_count": null,
      "outputs": []
    },
    {
      "cell_type": "code",
      "source": [
        "import pandas as pd\n",
        "n1 = ['철수','영이','길동']\n",
        "scr1 = [84,21,87]\n",
        "n2 = ['길동', '철수','영이']\n",
        "scr2 = [99, 87, 87]\n",
        "s1 = pd.Series(scr1, index=n1)\n",
        "s2 = pd.Series(scr2, index=n2)\n",
        "d = pd. DataFrame()\n",
        "d['국어'] = s1\n",
        "d['영어'] = s2\n",
        "d['합'] = d['국어']  + d['영어']\n",
        "print(d)\n",
        "\n"
      ],
      "metadata": {
        "id": "v3QHpEn8jKGX"
      },
      "execution_count": null,
      "outputs": []
    }
  ],
  "metadata": {
    "kernelspec": {
      "display_name": "Python 3 (ipykernel)",
      "language": "python",
      "name": "python3"
    },
    "language_info": {
      "codemirror_mode": {
        "name": "ipython",
        "version": 3
      },
      "file_extension": ".py",
      "mimetype": "text/x-python",
      "name": "python",
      "nbconvert_exporter": "python",
      "pygments_lexer": "ipython3",
      "version": "3.9.13"
    },
    "colab": {
      "provenance": []
    }
  },
  "nbformat": 4,
  "nbformat_minor": 0
}