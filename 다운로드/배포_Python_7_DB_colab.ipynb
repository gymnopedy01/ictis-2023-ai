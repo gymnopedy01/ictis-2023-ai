{
  "cells": [
    {
      "cell_type": "code",
      "execution_count": null,
      "metadata": {
        "colab": {
          "base_uri": "https://localhost:8080/"
        },
        "id": "puqSv8l6Pl4-",
        "outputId": "bb8ce8c1-a4cd-40e9-de82-ac460aea2d64"
      },
      "outputs": [
        {
          "name": "stdout",
          "output_type": "stream",
          "text": [
            "Drive already mounted at /content/drive; to attempt to forcibly remount, call drive.mount(\"/content/drive\", force_remount=True).\n"
          ]
        }
      ],
      "source": [
        "from google.colab import drive\n",
        "drive.mount('/content/drive')"
      ]
    },
    {
      "cell_type": "code",
      "execution_count": null,
      "metadata": {
        "id": "KuV2gFlRPhPw",
        "scrolled": true
      },
      "outputs": [],
      "source": [
        "#userTable 테이블 만들고 저장\n",
        "import sqlite3\n",
        "\n",
        "con = sqlite3.connect('/content/drive/MyDrive/ICTIS_2023/data/myDB')\n",
        "\n",
        "cur = con.cursor()\n",
        "cur.execute(\" userTable (id char(4), userName char(15), email char(15), birthYear int)\")\n",
        "\n",
        "cur.execute(\" userTable VALUES ('john', 'John Bann',  'john@naver.com', 1995)\")\n",
        "cur.execute(\" userTable VALUES ('kim', 'Kim Chi',  'kim@daum.net', 1998)\")\n",
        "cur.execute(\" userTable VALUES ('lee', 'Lee Chingu',  'lee@gmail.com', 2000)\")\n",
        "cur.execute(\" userTable VALUES ('park', 'Park Su',  'park@hotmail.com', 1997)\")\n",
        "con.commit()\n",
        "con.close()"
      ]
    },
    {
      "cell_type": "code",
      "execution_count": null,
      "metadata": {
        "id": "HjltYDidPhPy"
      },
      "outputs": [],
      "source": [
        "# userTable  테이블의 내용 읽어와서 출력\n",
        "import sqlite3\n",
        "\n",
        "con, cur = None, None\n",
        "\n",
        "con = sqlite3.connect(\"/content/drive/MyDrive/ICTIS_2023/data/myDB\")\n",
        "cur = con.cursor()\n",
        "\n",
        "cur.execute(\" \")\n",
        "\n",
        "print(\"사용자ID     사용자이름       이메일        출생연도\")\n",
        "print(\"----------------------------------------------------\")\n",
        "while True:\n",
        "    row = cur.fetchone()\n",
        "    if row == None: break\n",
        "\n",
        "    print(\"%-10s  %-15s  %-15s  %-d\" % \n",
        "          (row[0], row[1], row[2], row[3]))\n",
        "\n",
        "con.close()"
      ]
    },
    {
      "cell_type": "code",
      "source": [
        "# productTable 테이블 만들고 저장\n",
        "import sqlite3\n",
        "\n",
        "con = sqlite3.connect('/content/drive/MyDrive/ICTIS_2023/data/myDB')\n",
        "\n",
        "cur = con.cursor()\n",
        "cur.execute(\"CREATE TABLE  (pCode char(5), pName char(20), \\\n",
        "             price int, amount int)\")\n",
        "\n",
        "cur.execute(\"INSERT INTO productTable VALUES('p0001', '노트북', 1200000, 25)\")\n",
        "cur.execute(\"INSERT INTO productTable VALUES('p0002', '마우스', 10000, 300)\")\n",
        "cur.execute(\"INSERT INTO productTable VALUES('p0003', '키보드', 14000, 100)\")\n",
        "\n",
        "con.commit()"
      ],
      "metadata": {
        "id": "LR03NY7Cv-CA"
      },
      "execution_count": null,
      "outputs": []
    },
    {
      "cell_type": "code",
      "execution_count": null,
      "metadata": {
        "id": "YGO3yFBXPhP0"
      },
      "outputs": [],
      "source": [
        "# productTable 이블의 내용 읽어와서 출력\n",
        "import sqlite3\n",
        "\n",
        "con, cur = None, None\n",
        "con = sqlite3.connect('/content/drive/MyDrive/ICTIS_2023/data/myDB')\n",
        "\n",
        "cur = con.cursor()\n",
        "cur.execute(\"\"\"SELECT * FROM productTable\"\"\")\n",
        "\n",
        "print(\"제품ID     제품이름            가격        수량\")\n",
        "print(\"------------------------------------------------------\")\n",
        "while True:\n",
        "    row = cur.fetchone()\n",
        "    if row == None:\n",
        "        break\n",
        "\n",
        "    print(\"%-10s  %-15s  %-10d  %-d\" % \n",
        "          (row[0], row[1], row[2], row[3]))\n",
        "\n",
        "con.close()"
      ]
    },
    {
      "cell_type": "code",
      "execution_count": null,
      "metadata": {
        "id": "9MPMmxxaPhP1"
      },
      "outputs": [],
      "source": [
        "# productTable 테이블에서 제한된 조건을 만족하는 내용 읽어와서 출력\n",
        "import sqlite3\n",
        "\n",
        "con, cur = None, None\n",
        "con = sqlite3.connect('/content/drive/MyDrive/ICTIS_2023/data/myDB')\n",
        "\n",
        "cur = con.cursor()\n",
        "cur.execute(\"\"\"SELECT * \n",
        "               FROM productTable   \n",
        "                \"\"\")\n",
        "\n",
        "print(\"제품ID     제품이름            가격        수량\")\n",
        "print(\"------------------------------------------------------\")\n",
        "while True:\n",
        "    row = cur.fetchone()\n",
        "    if row == None:\n",
        "        break\n",
        "\n",
        "    print(\"%-10s  %-15s  %-10d  %-d\" % \n",
        "          (row[0], row[1], row[2], row[3]))\n",
        "\n",
        "con.close()"
      ]
    },
    {
      "cell_type": "code",
      "source": [
        "# salesTable 테이블 만들고 저장\n",
        "import sqlite3\n",
        "con = sqlite3.connect('/content/drive/MyDrive/ICTIS_2023/data/myDB')\n",
        "cur = con.cursor()\n",
        "\n",
        "cur.execute(\"CREATE TABLE  ( id char(4), pCode char(5), \\\n",
        "            saleYear int, saleAmount int)\")\n",
        "\n",
        "cur.execute(\"INSERT INTO salesTable VALUES('john', 'p0002', 2020, 1)\")\n",
        "cur.execute(\"INSERT INTO salesTable VALUES('kim', 'p0002', 2019, 2)\")\n",
        "cur.execute(\"INSERT INTO salesTable VALUES('lee', 'p0003', 2020, 1)\")\n",
        "cur.execute(\"INSERT INTO salesTable VALUES('park', 'p0002', 2019, 2)\")\n",
        "cur.execute(\"INSERT INTO salesTable VALUES('park', 'p0001', 2020, 1)\")\n",
        "cur.execute(\"INSERT INTO salesTable VALUES('park', 'p0002', 2021, 3)\")\n",
        "cur.execute(\"INSERT INTO salesTable VALUES('kim', 'p0001', 2021, 2)\")\n",
        "con.commit()\n",
        "con.close()"
      ],
      "metadata": {
        "id": "giZmLjGQwLWW"
      },
      "execution_count": null,
      "outputs": []
    },
    {
      "cell_type": "code",
      "execution_count": null,
      "metadata": {
        "id": "-NpzPerFPhP1"
      },
      "outputs": [],
      "source": [
        "# salesTable 테이블의 내용 읽어와서 출력\n",
        "import sqlite3\n",
        "\n",
        "con, cur = None, None\n",
        "con = sqlite3.connect('/content/drive/MyDrive/ICTIS_2023/data/myDB')\n",
        "\n",
        "cur = con.cursor()\n",
        "cur.execute(\"\"\"SELECT * \n",
        "               FROM salesTable \"\"\")\n",
        "\n",
        "print(\"사용자ID     제품ID       판매연도     판매수량\")\n",
        "print(\"------------------------------------------------------\")\n",
        "while True:\n",
        "    row = cur.fetchone()\n",
        "    if row == None:\n",
        "        break\n",
        "\n",
        "    print(\"%-10s  %-15s  %-10d  %-d\" % \n",
        "          (row[0], row[1], row[2], row[3]))\n",
        "\n",
        "con.close()"
      ]
    },
    {
      "cell_type": "code",
      "execution_count": null,
      "metadata": {
        "id": "aHbLs0YKPhP2"
      },
      "outputs": [],
      "source": [
        "# 테이블의 내용 읽어와서 출력\n",
        "import sqlite3\n",
        "\n",
        "con, cur = None, None\n",
        "con = sqlite3.connect('/content/drive/MyDrive/ICTIS_2023/data/myDB')\n",
        "\n",
        "cur = con.cursor()\n",
        "cur.execute(\"\"\"SELECT * \n",
        "               FROM salesTable\n",
        "                pCode, saleYear\"\"\")\n",
        "\n",
        "print(\"사용자ID     제품ID       판매연도     판매수량\")\n",
        "print(\"------------------------------------------------------\")\n",
        "while True:\n",
        "    row = cur.fetchone()\n",
        "    if row == None:\n",
        "        break\n",
        "\n",
        "    print(\"%-10s  %-15s  %-10d  %-d\" % \n",
        "          (row[0], row[1], row[2], row[3]))\n",
        "\n",
        "con.close()"
      ]
    },
    {
      "cell_type": "code",
      "execution_count": null,
      "metadata": {
        "id": "RM4EuJisPhP2"
      },
      "outputs": [],
      "source": [
        "import sqlite3\n",
        "\n",
        "con, cur = None, None\n",
        "data1, data2, data3, data4 = \"\",\"\",\"\",\"\"\n",
        "sql = \"\"\n",
        "\n",
        "con = sqlite3.connect(\"/content/drive/MyDrive/ICTIS_2023/data/myDB\")\n",
        "cur = con.cursor()\n",
        "\n",
        "cur.execute(\"\"\"SELECT pCode,   ,  \n",
        "             salesTable\n",
        "             pCode\"\"\")\n",
        "\n",
        "print(\"제품ID     판매건수   총판매량   \")\n",
        "print(\"--------------------------------\")\n",
        "while True:\n",
        "    row = cur.fetchone()\n",
        "    if row == None: break\n",
        "\n",
        "    data1 = row[0]\n",
        "    data2 = row[1]    \n",
        "    data3 = row[2]\n",
        "    print(\"%-10s  %-10d  %-d\" % (data1, data2, data3))\n",
        "\n",
        "con.close()"
      ]
    },
    {
      "cell_type": "code",
      "execution_count": null,
      "metadata": {
        "id": "IfLMqkbrPhP4"
      },
      "outputs": [],
      "source": [
        "import sqlite3\n",
        "\n",
        "con, cur = None, None\n",
        "\n",
        "con = sqlite3.connect(\"/content/drive/MyDrive/ICTIS_2023/data/myDB\")\n",
        "cur = con.cursor()\n",
        "\n",
        "cur.execute(\"\"\"SELECT userTable.userName, productTable.pName, salesTable.saleYear, \n",
        "         salesTable.saleAmount, userTable.email\n",
        "          userTable, productTable, salesTable\n",
        "         userTable.id = salesTable.id   productTable.pCode = salesTable.pCode  \"\"\")\n",
        "\n",
        "\n",
        "print(\"고객명      제품명      판매연도     판매수량      고객이메일\")\n",
        "print(\"------------------------------------------------------------\")\n",
        "while True:\n",
        "    row = cur.fetchone()\n",
        "    if row == None: break\n",
        "\n",
        "    print(\"%-10s  %-10s  %-10d  %-10d %s\" % \n",
        "          (row[0], row[1], row[2], row[3],row[4]))\n",
        "\n",
        "con.close()"
      ]
    },
    {
      "cell_type": "code",
      "source": [
        "import sqlite3\n",
        "\n",
        "con, cur = None, None\n",
        "\n",
        "con = sqlite3.connect(\"/content/drive/MyDrive/ICTIS_2023/data/myDB\")\n",
        "cur = con.cursor()\n",
        "\n",
        "cur.execute(\"\"\"SELECT userTable.userName, productTable.pName, salesTable.saleYear, \n",
        "         salesTable.saleAmount, userTable.email\n",
        "          userTable, productTable, salesTable\n",
        "         userTable.id = salesTable.id AND productTable.pCode = salesTable.pCode  \"\"\")\n",
        "\n",
        "\n",
        "print(\"고객명      제품명      판매연도     판매수량      고객이메일\")\n",
        "print(\"------------------------------------------------------------\")\n",
        "while True:\n",
        "    row = cur.fetchone()\n",
        "    if row == None: break\n",
        "\n",
        "    print(\"%-10s  %-10s  %-10d  %-10d %s\" % \n",
        "          (row[0], row[1], row[2], row[3],row[4]))\n",
        "\n",
        "con.close()"
      ],
      "metadata": {
        "id": "eXRuAgc8tJ1S"
      },
      "execution_count": null,
      "outputs": []
    }
  ],
  "metadata": {
    "colab": {
      "provenance": []
    },
    "kernelspec": {
      "display_name": "Python 3 (ipykernel)",
      "language": "python",
      "name": "python3"
    },
    "language_info": {
      "codemirror_mode": {
        "name": "ipython",
        "version": 3
      },
      "file_extension": ".py",
      "mimetype": "text/x-python",
      "name": "python",
      "nbconvert_exporter": "python",
      "pygments_lexer": "ipython3",
      "version": "3.9.13"
    }
  },
  "nbformat": 4,
  "nbformat_minor": 0
}