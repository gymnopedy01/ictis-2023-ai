{
 "cells": [
  {
   "cell_type": "code",
   "execution_count": null,
   "id": "ff15b1c8",
   "metadata": {},
   "outputs": [],
   "source": [
    "%config Completer.use_jedi = False"
   ]
  },
  {
   "cell_type": "markdown",
   "id": "70608ba8",
   "metadata": {},
   "source": [
    "# 객체지향 프로그래밍(OOP) :\n",
    "- 관련 함수와 변수를 묶어 하나의 객체로 관리하는 프로그래밍 방법\n",
    "- 클래스(class) 를 먼저 만들고, \n",
    "객체(object, 혹은 인스턴스 instance)를 만든다\n",
    "- 하나의 클래스로 여러 개의 객체를 생성할 수 있다"
   ]
  },
  {
   "cell_type": "code",
   "execution_count": null,
   "id": "d997bcbb",
   "metadata": {},
   "outputs": [],
   "source": [
    "class Person:\n",
    "    pass"
   ]
  },
  {
   "cell_type": "code",
   "execution_count": null,
   "id": "1bd41354",
   "metadata": {},
   "outputs": [],
   "source": [
    "%whos"
   ]
  },
  {
   "cell_type": "code",
   "execution_count": null,
   "id": "92cb208c",
   "metadata": {},
   "outputs": [],
   "source": [
    "p=Person()"
   ]
  },
  {
   "cell_type": "code",
   "execution_count": null,
   "id": "163f4daa",
   "metadata": {},
   "outputs": [],
   "source": [
    "%whos"
   ]
  },
  {
   "cell_type": "markdown",
   "id": "7fa94840",
   "metadata": {},
   "source": [
    "#### 메소드(Method)\n",
    "- 클래스 내에서 정의된 함수\n",
    "\n",
    "#### 객체 변수 ( 인스턴스 변수)\n",
    "개별 객체 / 인스턴스에 속해 있는 변수 (각 객체마다 독립적으로 존재)\n",
    "다른 인스턴스들이 접근할 수 없음\n",
    "\n",
    "#### __init__(self) \n",
    "-  ‘생성자’라고 불리우며 클래스에 대한 인스턴스 생성시에 실행됨\n",
    "- 객체 초기화\n"
   ]
  },
  {
   "cell_type": "code",
   "execution_count": null,
   "id": "5ac903e0",
   "metadata": {},
   "outputs": [],
   "source": [
    "class Person:\n",
    "    def say_hi( ):\n",
    "        name  = '길동'\n",
    "        print('나', name , '이야, 안녕!')"
   ]
  },
  {
   "cell_type": "code",
   "execution_count": null,
   "id": "b45cb817",
   "metadata": {},
   "outputs": [],
   "source": [
    "p = "
   ]
  },
  {
   "cell_type": "code",
   "execution_count": null,
   "id": "7d935034",
   "metadata": {},
   "outputs": [],
   "source": [
    "p."
   ]
  },
  {
   "cell_type": "code",
   "execution_count": null,
   "id": "380decfa",
   "metadata": {},
   "outputs": [],
   "source": [
    "p."
   ]
  },
  {
   "cell_type": "code",
   "execution_count": null,
   "id": "d9ed6ce1",
   "metadata": {},
   "outputs": [],
   "source": [
    "# Counter 클래스\n",
    "\n",
    "class Counter:\n",
    "    def reset(self):\n",
    "        \n",
    "        \n",
    "    def increment(self):\n",
    "        \n",
    "    \n",
    "    def get(self):\n",
    "        "
   ]
  },
  {
   "cell_type": "code",
   "execution_count": null,
   "id": "905681ab",
   "metadata": {},
   "outputs": [],
   "source": [
    "a = Counter()\n",
    "\n",
    "\n",
    "print(\"카운터 a의 값은\",  )"
   ]
  },
  {
   "cell_type": "code",
   "execution_count": null,
   "id": "1a140e49",
   "metadata": {},
   "outputs": [],
   "source": []
  },
  {
   "cell_type": "code",
   "execution_count": null,
   "id": "5a1f0cab",
   "metadata": {},
   "outputs": [],
   "source": []
  },
  {
   "cell_type": "markdown",
   "id": "7ba5e571",
   "metadata": {},
   "source": [
    "### 생성자"
   ]
  },
  {
   "cell_type": "code",
   "execution_count": null,
   "id": "45ea6ecf",
   "metadata": {},
   "outputs": [],
   "source": [
    "# 기본 생성자 \n",
    "class Counter:\n",
    "    "
   ]
  },
  {
   "cell_type": "code",
   "execution_count": null,
   "id": "f6879050",
   "metadata": {},
   "outputs": [],
   "source": [
    "a = Counter()\n",
    "print(\"카운터 a의 값은\", )"
   ]
  },
  {
   "cell_type": "code",
   "execution_count": null,
   "id": "ec54899b",
   "metadata": {},
   "outputs": [],
   "source": [
    "# 매개 변수가 있는 생성자\n",
    "class Person:\n",
    "    \n",
    "    "
   ]
  },
  {
   "cell_type": "code",
   "execution_count": null,
   "id": "f1bf77e1",
   "metadata": {},
   "outputs": [],
   "source": [
    "\n"
   ]
  },
  {
   "cell_type": "code",
   "execution_count": null,
   "id": "2af16b5f",
   "metadata": {},
   "outputs": [],
   "source": []
  },
  {
   "cell_type": "markdown",
   "id": "c5a22933",
   "metadata": {},
   "source": [
    "## 클래스 변수\n",
    "- 모든 객체(혹은 인스턴스)에 의해 공유되는 멤버 변수\n",
    "- 여러 개의 객체가 생성되어도 클래스 변수는 한 개만 존재\n",
    "- 클래스이름.클래스변수"
   ]
  },
  {
   "cell_type": "code",
   "execution_count": null,
   "id": "3e12cb28",
   "metadata": {},
   "outputs": [],
   "source": [
    "class Robot:\n",
    "    '''로봇 클래스'''\n",
    "    population = 0\n",
    "    \n",
    "    def __init__(self):\n",
    "        '''먼저 시작되는 메소드'''\n",
    "        population += 1\n",
    "        serial_no = population\n",
    "        print('로봇 #'+str(serial_no)+' 생성되었습니다.')        \n",
    "        \n",
    "    def say_hi(self):\n",
    "        '''인사'''\n",
    "        print('Robot #', serial_no,': 반갑습니다.')\n"
   ]
  },
  {
   "cell_type": "code",
   "execution_count": null,
   "id": "fb0704b4",
   "metadata": {},
   "outputs": [],
   "source": [
    "a = "
   ]
  },
  {
   "cell_type": "code",
   "execution_count": null,
   "id": "127c82c1",
   "metadata": {},
   "outputs": [],
   "source": [
    "b = "
   ]
  },
  {
   "cell_type": "code",
   "execution_count": null,
   "id": "dd08c36a",
   "metadata": {},
   "outputs": [],
   "source": []
  },
  {
   "cell_type": "code",
   "execution_count": null,
   "id": "adeb15fb",
   "metadata": {},
   "outputs": [],
   "source": []
  },
  {
   "cell_type": "code",
   "execution_count": null,
   "id": "b029507e",
   "metadata": {},
   "outputs": [],
   "source": []
  },
  {
   "cell_type": "code",
   "execution_count": null,
   "id": "f8c43081",
   "metadata": {},
   "outputs": [],
   "source": []
  },
  {
   "cell_type": "markdown",
   "id": "3fabcb53",
   "metadata": {},
   "source": [
    "## 클래스 함수\n",
    "- 모든 객체(혹은 인스턴스)에 의해 공유되는 멤버 함수\n"
   ]
  },
  {
   "cell_type": "code",
   "execution_count": null,
   "id": "d845a306",
   "metadata": {},
   "outputs": [],
   "source": [
    "\n",
    "\n",
    "\n",
    "\n",
    "    @classmethod\n",
    "    def how_many(cls):\n",
    "        print(cls.population, '개의 로봇이 있습니다.')"
   ]
  },
  {
   "cell_type": "code",
   "execution_count": null,
   "id": "776deed0",
   "metadata": {},
   "outputs": [],
   "source": [
    "r1 = Robot()\n",
    "r1."
   ]
  },
  {
   "cell_type": "code",
   "execution_count": null,
   "id": "883dc05f",
   "metadata": {},
   "outputs": [],
   "source": [
    "Robot.how_many()"
   ]
  },
  {
   "cell_type": "code",
   "execution_count": null,
   "id": "a0c7d1cc",
   "metadata": {},
   "outputs": [],
   "source": [
    "r2 = Robot()\n",
    "r2."
   ]
  },
  {
   "cell_type": "code",
   "execution_count": null,
   "id": "0d32d274",
   "metadata": {},
   "outputs": [],
   "source": [
    "Robot.how_many()"
   ]
  },
  {
   "cell_type": "code",
   "execution_count": null,
   "id": "4722e4ed",
   "metadata": {},
   "outputs": [],
   "source": [
    "del r1\n",
    "del r2"
   ]
  },
  {
   "cell_type": "markdown",
   "id": "bc627fed",
   "metadata": {},
   "source": [
    "#### 소멸자\n",
    "- __del__ 을 이름으로 가지며 instance 삭제 시 실행됨\n"
   ]
  },
  {
   "cell_type": "code",
   "execution_count": null,
   "id": "34c595d0",
   "metadata": {},
   "outputs": [],
   "source": [
    "\n",
    "    def __del__(self):\n",
    "        print('로봇 #'+str(self.serial_no)+' 파괴되었습니다.')\n",
    "        Robot.population -= 1\n",
    "        if Robot.population == 0:\n",
    "            print('... 마지막 로봇입니다.')\n",
    "            \n"
   ]
  },
  {
   "cell_type": "code",
   "execution_count": null,
   "id": "3d96c815",
   "metadata": {},
   "outputs": [],
   "source": [
    "r1 = Robot()\n",
    "r2 = Robot()\n"
   ]
  },
  {
   "cell_type": "code",
   "execution_count": null,
   "id": "bf6818f4",
   "metadata": {},
   "outputs": [],
   "source": []
  },
  {
   "cell_type": "code",
   "execution_count": null,
   "id": "aff30c63",
   "metadata": {},
   "outputs": [],
   "source": []
  },
  {
   "cell_type": "code",
   "execution_count": null,
   "id": "5c73ad2a",
   "metadata": {},
   "outputs": [],
   "source": [
    "Robot.how_many()"
   ]
  },
  {
   "cell_type": "code",
   "execution_count": null,
   "id": "795672c4",
   "metadata": {},
   "outputs": [],
   "source": []
  },
  {
   "cell_type": "markdown",
   "id": "5e269ffb",
   "metadata": {},
   "source": [
    "## 정보 은닉\n",
    "- 구현의 세부 사항을 클래스 안에 감추는 것\n",
    "\n",
    "#### private 변수\n",
    "- 외부 접근 방지하고 싶은 경우 변수 이름을 __로 시작\n",
    "- 클래스 내부에서만 접근 될 수 있다."
   ]
  },
  {
   "cell_type": "code",
   "execution_count": null,
   "id": "d185d87f",
   "metadata": {},
   "outputs": [],
   "source": [
    "r1 = Robot()"
   ]
  },
  {
   "cell_type": "code",
   "execution_count": null,
   "id": "e35c1a48",
   "metadata": {},
   "outputs": [],
   "source": []
  },
  {
   "cell_type": "code",
   "execution_count": null,
   "id": "d092bbcf",
   "metadata": {},
   "outputs": [],
   "source": []
  },
  {
   "cell_type": "code",
   "execution_count": null,
   "id": "b48c9140",
   "metadata": {},
   "outputs": [],
   "source": []
  },
  {
   "cell_type": "code",
   "execution_count": null,
   "id": "e664bd47",
   "metadata": {},
   "outputs": [],
   "source": [
    "r1.how_many()"
   ]
  },
  {
   "cell_type": "code",
   "execution_count": null,
   "id": "73b5bfd3",
   "metadata": {},
   "outputs": [],
   "source": [
    "del r1"
   ]
  },
  {
   "cell_type": "code",
   "execution_count": null,
   "id": "1b2d5232",
   "metadata": {},
   "outputs": [],
   "source": [
    "class Robot:\n",
    "    '''로봇 클래스'''\n"
   ]
  },
  {
   "cell_type": "code",
   "execution_count": null,
   "id": "0801fabf",
   "metadata": {},
   "outputs": [],
   "source": [
    "r1=Robot('길동')"
   ]
  },
  {
   "cell_type": "code",
   "execution_count": null,
   "id": "9a4c14a8",
   "metadata": {},
   "outputs": [],
   "source": [
    "r1.say_hi()"
   ]
  },
  {
   "cell_type": "code",
   "execution_count": null,
   "id": "e984bc84",
   "metadata": {},
   "outputs": [],
   "source": [
    "r1.serial_no"
   ]
  },
  {
   "cell_type": "code",
   "execution_count": null,
   "id": "72558f06",
   "metadata": {},
   "outputs": [],
   "source": [
    "r1.serial_no = 3"
   ]
  },
  {
   "cell_type": "code",
   "execution_count": null,
   "id": "bf472442",
   "metadata": {},
   "outputs": [],
   "source": [
    "del r1"
   ]
  },
  {
   "cell_type": "markdown",
   "id": "b0d14772",
   "metadata": {},
   "source": [
    "#### 접근자와 설정자\n",
    "- 접근자(getter): private 변수의 값을 반환하는 함수\n",
    "- method 정의 전에 “@property” 표기\n",
    "\n",
    "#### 설정자(setter): private 변수를 수정하는 함수\n",
    "- method 정의 전에 “@변수명.setter” 표기\n",
    "- 변수명과 접근자/설정자 method명은 동일하게 짓는 것 권장"
   ]
  },
  {
   "cell_type": "code",
   "execution_count": null,
   "id": "b0b7c3ff",
   "metadata": {},
   "outputs": [],
   "source": []
  },
  {
   "cell_type": "code",
   "execution_count": null,
   "id": "840f80b4",
   "metadata": {},
   "outputs": [],
   "source": [
    "\n",
    "\n",
    "\n",
    "    @property\n",
    "    def serial_no(self):\n",
    "        return self.__serial_no\n",
    "    "
   ]
  },
  {
   "cell_type": "code",
   "execution_count": null,
   "id": "b63e68f8",
   "metadata": {},
   "outputs": [],
   "source": [
    "r1=Robot('길동')\n",
    "r1.say_hi()"
   ]
  },
  {
   "cell_type": "code",
   "execution_count": null,
   "id": "b0bf8a67",
   "metadata": {},
   "outputs": [],
   "source": [
    "r1.serial_no"
   ]
  },
  {
   "cell_type": "code",
   "execution_count": null,
   "id": "3feb2dab",
   "metadata": {},
   "outputs": [],
   "source": [
    "r1.serial_no = "
   ]
  },
  {
   "cell_type": "code",
   "execution_count": null,
   "id": "3e44ad2a",
   "metadata": {},
   "outputs": [],
   "source": [
    "del r1"
   ]
  },
  {
   "cell_type": "code",
   "execution_count": null,
   "id": "bb7b7241",
   "metadata": {},
   "outputs": [],
   "source": []
  },
  {
   "cell_type": "code",
   "execution_count": null,
   "id": "38870715",
   "metadata": {},
   "outputs": [],
   "source": [
    "class BankAccount:\n",
    "    def __init__(self, name):\n",
    "\n",
    "        print(name, '의 계좌가 생성됨. 잔액은 0.')\n",
    "\n",
    "    def withdraw(self, amount):\n",
    "\n",
    "        print(self.name, \"통장에서 \", amount, \"원 출금되었음\")\n",
    "        print('잔액:', self.__balance)\n",
    "\n",
    "    def deposit(self, amount):\n",
    "\n",
    "        print(self.name, \"통장에 \", amount, \"원 입금되었음\")\n",
    "        print('잔액:', self.__balance)"
   ]
  },
  {
   "cell_type": "code",
   "execution_count": null,
   "id": "848e9911",
   "metadata": {},
   "outputs": [],
   "source": []
  },
  {
   "cell_type": "code",
   "execution_count": null,
   "id": "023b73ba",
   "metadata": {},
   "outputs": [],
   "source": [
    "a.deposit(10000)"
   ]
  },
  {
   "cell_type": "code",
   "execution_count": null,
   "id": "bc11064b",
   "metadata": {},
   "outputs": [],
   "source": [
    "a.withdraw(5000)"
   ]
  },
  {
   "cell_type": "code",
   "execution_count": null,
   "id": "d7732349",
   "metadata": {},
   "outputs": [],
   "source": [
    "\n",
    "    def printName(self):\n",
    "        print('통장주:', self.name)"
   ]
  },
  {
   "cell_type": "code",
   "execution_count": null,
   "id": "78c540a7",
   "metadata": {},
   "outputs": [],
   "source": [
    "# 통장주의 이름에 '_보이스피싱범죄'를 추가하여 수정한다.\n",
    "def renameAccount(acc, app_name):\n",
    "    "
   ]
  },
  {
   "cell_type": "code",
   "execution_count": null,
   "id": "8f636818",
   "metadata": {},
   "outputs": [],
   "source": []
  },
  {
   "cell_type": "code",
   "execution_count": null,
   "id": "f6d006b8",
   "metadata": {},
   "outputs": [],
   "source": [
    "renameAccount(a, '_보이스피싱범죄용')"
   ]
  },
  {
   "cell_type": "code",
   "execution_count": null,
   "id": "e10ec4d2",
   "metadata": {},
   "outputs": [],
   "source": [
    "a.printName()"
   ]
  },
  {
   "cell_type": "code",
   "execution_count": null,
   "id": "9c06dbfb",
   "metadata": {},
   "outputs": [],
   "source": []
  },
  {
   "cell_type": "code",
   "execution_count": null,
   "id": "3da84c61",
   "metadata": {},
   "outputs": [],
   "source": []
  },
  {
   "cell_type": "markdown",
   "id": "02d302a7",
   "metadata": {},
   "source": [
    "## magic 메소드"
   ]
  },
  {
   "cell_type": "code",
   "execution_count": null,
   "id": "461e1e9a",
   "metadata": {},
   "outputs": [],
   "source": [
    "\n",
    "\n",
    "    def __call__(self):\n",
    "        print('통장주:', self.name)\n",
    "        print('잔액:', self.__balance)\n"
   ]
  },
  {
   "cell_type": "code",
   "execution_count": null,
   "id": "0cb5dbaa",
   "metadata": {},
   "outputs": [],
   "source": []
  },
  {
   "cell_type": "code",
   "execution_count": null,
   "id": "7128c706",
   "metadata": {},
   "outputs": [],
   "source": []
  },
  {
   "cell_type": "code",
   "execution_count": null,
   "id": "a44622df",
   "metadata": {},
   "outputs": [],
   "source": []
  },
  {
   "cell_type": "code",
   "execution_count": null,
   "id": "4eadf473",
   "metadata": {},
   "outputs": [],
   "source": [
    "class Vector2D :\n",
    "    def __init__(self, x, y):\n",
    "        self.x = x\n",
    "        self.y = y\n",
    "\n",
    "    def __add__(self, other):\n",
    "        return   \n",
    "\n",
    "    def __sub__(self, other):\n",
    "        return   \n",
    "\n",
    "    def __eq__(self, other):\n",
    "        return  \n",
    "\n",
    "    def __str__(self):\n",
    "        return '(%d, %d)' % (self.x, self.y)"
   ]
  },
  {
   "cell_type": "code",
   "execution_count": null,
   "id": "a958f043",
   "metadata": {},
   "outputs": [],
   "source": [
    "u = Vector2D(2, 1)\n",
    "v = Vector2D(4, 3)\n",
    "w = Vector2D(1, 1)"
   ]
  },
  {
   "cell_type": "code",
   "execution_count": null,
   "id": "ea559006",
   "metadata": {},
   "outputs": [],
   "source": []
  },
  {
   "cell_type": "code",
   "execution_count": null,
   "id": "d1f731b0",
   "metadata": {},
   "outputs": [],
   "source": []
  },
  {
   "cell_type": "code",
   "execution_count": null,
   "id": "21c219bb",
   "metadata": {},
   "outputs": [],
   "source": [
    "if u == w:\n",
    "    print( u,'와', w, '는 크기와 방향이 같은 벡터입니다.')\n",
    "else:\n",
    "    print( u,'와', w, '는 같지 않습니다.')"
   ]
  },
  {
   "cell_type": "markdown",
   "id": "895fcd67",
   "metadata": {},
   "source": [
    "# 상속"
   ]
  },
  {
   "cell_type": "code",
   "execution_count": null,
   "id": "1872be1b",
   "metadata": {},
   "outputs": [],
   "source": [
    "class Animal:\n",
    "    def __init__(self, species):   \n",
    "        self.species = \n",
    "        \n",
    "    def speak(self):             \n",
    "        return \n",
    " \n",
    "    def __str__(self):\n",
    "        return "
   ]
  },
  {
   "cell_type": "code",
   "execution_count": null,
   "id": "6c2492a4",
   "metadata": {},
   "outputs": [],
   "source": [
    "class Dog(Animal):"
   ]
  },
  {
   "cell_type": "code",
   "execution_count": null,
   "id": "e2d00597",
   "metadata": {},
   "outputs": [],
   "source": [
    "class Cat(Animal):"
   ]
  },
  {
   "cell_type": "code",
   "execution_count": null,
   "id": "1f57bf53",
   "metadata": {},
   "outputs": [],
   "source": [
    "d = Dog('말티즈', '보리')"
   ]
  },
  {
   "cell_type": "code",
   "execution_count": null,
   "id": "d2a567f7",
   "metadata": {},
   "outputs": [],
   "source": [
    "c = Cat('페르시안', '나비')"
   ]
  }
 ],
 "metadata": {
  "kernelspec": {
   "display_name": "Python 3 (ipykernel)",
   "language": "python",
   "name": "python3"
  },
  "language_info": {
   "codemirror_mode": {
    "name": "ipython",
    "version": 3
   },
   "file_extension": ".py",
   "mimetype": "text/x-python",
   "name": "python",
   "nbconvert_exporter": "python",
   "pygments_lexer": "ipython3",
   "version": "3.9.13"
  }
 },
 "nbformat": 4,
 "nbformat_minor": 5
}
