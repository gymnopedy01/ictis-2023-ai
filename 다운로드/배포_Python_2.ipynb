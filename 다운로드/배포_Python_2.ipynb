{
 "cells": [
  {
   "cell_type": "code",
   "execution_count": null,
   "metadata": {},
   "outputs": [],
   "source": [
    "%config Completer.use_jedi = False"
   ]
  },
  {
   "cell_type": "markdown",
   "metadata": {},
   "source": [
    "# 구문(statement) = 문\n",
    "- 예약어(reserved word, keyword)와 표현식을 결합한 패턴\n",
    "- 컴퓨터가 수행해야 하는 하나의 단일 작업(instruction)을 명시.\n",
    "\n",
    "### 할당(대입, assigning statement)\n",
    "- python에서는 보통 ‘바인딩(binding)’이라는 표현을 씀, 어떤 값에 이름을 붙이는 작업.\n",
    "\n",
    "### 선언(정의, declaration)\n",
    "- 재사용이 가능한 독립적인 단위를 정의. \n",
    "- 별도의 선언 문법과 그 내용을 기술하는 블럭 혹은 블럭들로 구성.\n",
    "\n",
    "### 조건(분기): 조건에 따라 수행할 작업을 나눌 때 사용.\n",
    "- Ex) if 문\n",
    "### 반복: 특정한 작업을 반복수행할때 사용.\n",
    "- Ex) for 문 및 while 문\n",
    "### 예외처리\n"
   ]
  },
  {
   "cell_type": "markdown",
   "metadata": {},
   "source": [
    "## 선택/분기를 처리하는 조건문\n",
    "- 조건이 True일 때 실행해야 할 문장들을 블록으로 만들어 줘야 함\n",
    "- 동일 블록 내의 문장들은 들여쓰기가 일치해야 함"
   ]
  },
  {
   "cell_type": "code",
   "execution_count": null,
   "metadata": {},
   "outputs": [],
   "source": [
    "score = \n",
    "if  :\n",
    "    print('합격입니다. ' )    "
   ]
  },
  {
   "cell_type": "code",
   "execution_count": null,
   "metadata": {},
   "outputs": [],
   "source": [
    "if  :\n",
    "    print('합격입니다. ' )\n",
    "\n",
    "    print('불합격입니다.' )"
   ]
  },
  {
   "cell_type": "code",
   "execution_count": null,
   "metadata": {},
   "outputs": [],
   "source": [
    "score = 75\n",
    "  score >= 90:\n",
    "    print ('A입니다. ' )\n",
    "  score >= 80 :\n",
    "     print ('B입니다.' )\n",
    "  score >= 70 :\n",
    "     print ('C입니다.' )\n",
    "  score >= 60 :\n",
    "     print ('D입니다.' )\n",
    " \n",
    "     print ('F입니다.' )"
   ]
  },
  {
   "cell_type": "code",
   "execution_count": null,
   "metadata": {},
   "outputs": [],
   "source": [
    "score = 75\n",
    "  score >= 90:\n",
    "    print ('A입니다. ' )\n",
    "  score >= 80 :\n",
    "     print ('B입니다.' )\n",
    "  score >= 70 :\n",
    "     print ('C입니다.' )\n",
    "  score >= 60 :\n",
    "     print ('D입니다.' )\n",
    " \n",
    "     print ('F입니다.' )"
   ]
  },
  {
   "cell_type": "code",
   "execution_count": null,
   "metadata": {},
   "outputs": [],
   "source": [
    "number = input('숫자를 입력하시오: ')\n",
    "\n",
    "    print('홀수입니다.')\n",
    "\n",
    "    print('짝수입니다.')"
   ]
  },
  {
   "cell_type": "code",
   "execution_count": null,
   "metadata": {},
   "outputs": [],
   "source": []
  },
  {
   "cell_type": "code",
   "execution_count": null,
   "metadata": {},
   "outputs": [],
   "source": []
  },
  {
   "cell_type": "code",
   "execution_count": null,
   "metadata": {},
   "outputs": [],
   "source": [
    "print('핸드폰으로 링크가 있는 문자 메시지가 왔어요...')\n",
    "ans =input('발신인이 있나요?(예/아니오) ')\n",
    "if ans== '예':\n",
    "\n",
    "    \n",
    "else:\n",
    "    print('메시지를 삭제하세요...')"
   ]
  },
  {
   "cell_type": "code",
   "execution_count": null,
   "metadata": {},
   "outputs": [],
   "source": [
    "input('발신인을 신뢰하나요?(예/아니오) ')\n",
    "print('링크를 열어도 좋습니다~')\n",
    "print('메시지를 삭제하세요...')"
   ]
  },
  {
   "cell_type": "code",
   "execution_count": null,
   "metadata": {},
   "outputs": [],
   "source": []
  },
  {
   "cell_type": "markdown",
   "metadata": {},
   "source": [
    "# List\n",
    "- 여러 개의 데이터를 하나의 변수에 저장하고자 할 때 매우 유용함\n",
    "- 리스트는 [   ]로 묶어주고, 리스트의 아이템은 ,(컴마)로 구분함\n",
    "- 리스트의 아이템에 접근하고자 할 때에는 인덱스를 사용함\n",
    "- 인덱스는 0부터 시작함!!"
   ]
  },
  {
   "cell_type": "code",
   "execution_count": null,
   "metadata": {},
   "outputs": [],
   "source": [
    "shape= ['turtle', 'arrow', 'circle', 'square']"
   ]
  },
  {
   "cell_type": "code",
   "execution_count": null,
   "metadata": {},
   "outputs": [],
   "source": []
  },
  {
   "cell_type": "code",
   "execution_count": null,
   "metadata": {},
   "outputs": [],
   "source": []
  },
  {
   "cell_type": "code",
   "execution_count": null,
   "metadata": {},
   "outputs": [],
   "source": []
  },
  {
   "cell_type": "code",
   "execution_count": null,
   "metadata": {},
   "outputs": [],
   "source": []
  },
  {
   "cell_type": "code",
   "execution_count": null,
   "metadata": {},
   "outputs": [],
   "source": []
  },
  {
   "cell_type": "code",
   "execution_count": null,
   "metadata": {},
   "outputs": [],
   "source": []
  },
  {
   "cell_type": "code",
   "execution_count": null,
   "metadata": {},
   "outputs": [],
   "source": [
    "shape[] = 'ARROW'"
   ]
  },
  {
   "cell_type": "code",
   "execution_count": null,
   "metadata": {},
   "outputs": [],
   "source": [
    "shape"
   ]
  },
  {
   "cell_type": "code",
   "execution_count": null,
   "metadata": {},
   "outputs": [],
   "source": [
    "shape\n",
    "shape"
   ]
  },
  {
   "cell_type": "code",
   "execution_count": null,
   "metadata": {},
   "outputs": [],
   "source": [
    "shape\n",
    "shape"
   ]
  },
  {
   "cell_type": "code",
   "execution_count": null,
   "metadata": {},
   "outputs": [],
   "source": [
    "shape\n",
    "shape"
   ]
  },
  {
   "cell_type": "code",
   "execution_count": null,
   "metadata": {},
   "outputs": [],
   "source": [
    "'heart'   shape"
   ]
  },
  {
   "cell_type": "code",
   "execution_count": null,
   "metadata": {},
   "outputs": [],
   "source": [
    "'rectangle'   shape"
   ]
  },
  {
   "cell_type": "code",
   "execution_count": null,
   "metadata": {},
   "outputs": [],
   "source": [
    "shape"
   ]
  },
  {
   "cell_type": "code",
   "execution_count": null,
   "metadata": {},
   "outputs": [],
   "source": []
  },
  {
   "cell_type": "code",
   "execution_count": null,
   "metadata": {},
   "outputs": [],
   "source": [
    "shape.index('circle')"
   ]
  },
  {
   "cell_type": "markdown",
   "metadata": {},
   "source": [
    "## 리스트 연산자: +"
   ]
  },
  {
   "cell_type": "code",
   "execution_count": null,
   "metadata": {},
   "outputs": [],
   "source": [
    "[1,2,3,4]+[  ]+[ ]"
   ]
  },
  {
   "cell_type": "code",
   "execution_count": null,
   "metadata": {},
   "outputs": [],
   "source": [
    "[1,2,3,4]"
   ]
  },
  {
   "cell_type": "markdown",
   "metadata": {},
   "source": [
    "## len( ) 함수"
   ]
  },
  {
   "cell_type": "code",
   "execution_count": null,
   "metadata": {},
   "outputs": [],
   "source": []
  },
  {
   "cell_type": "code",
   "execution_count": null,
   "metadata": {},
   "outputs": [],
   "source": []
  },
  {
   "cell_type": "markdown",
   "metadata": {},
   "source": [
    "## random 모듈\n",
    "    \n",
    "- 난수를 발생시키는 것과 관련된 함수들을 모아놓은 집합\n",
    "- random 모듈의 randint( ) 함수를 이용하여 지정함 범위의 값 중에서 하나의 난수를 발생시킨다."
   ]
  },
  {
   "cell_type": "code",
   "execution_count": null,
   "metadata": {},
   "outputs": [],
   "source": []
  },
  {
   "cell_type": "code",
   "execution_count": null,
   "metadata": {},
   "outputs": [],
   "source": []
  },
  {
   "cell_type": "markdown",
   "metadata": {},
   "source": [
    "### 소망 룰렛"
   ]
  },
  {
   "cell_type": "code",
   "execution_count": null,
   "metadata": {},
   "outputs": [],
   "source": [
    "import random\n",
    "import time\n",
    "\n",
    "wishList = [  ]\n",
    "\n",
    "idx = \n",
    " \n",
    "print('당신의 이번 달의 행운은...')\n",
    "time.sleep(2)\n",
    "print( , '입니다.')"
   ]
  },
  {
   "cell_type": "markdown",
   "metadata": {},
   "source": [
    "### median "
   ]
  },
  {
   "cell_type": "code",
   "execution_count": null,
   "metadata": {},
   "outputs": [],
   "source": [
    "# 실습 3-1\n",
    "numbers = [ 8, 6, 3, 10, 2, 9, 1, 4, 7, 5, 15]\n",
    "sorted_numbers = \n",
    "mid_idx = \n",
    "\n",
    "print('정렬한 리스트:', sorted_numbers)\n",
    "print('중앙값:', median)"
   ]
  },
  {
   "cell_type": "code",
   "execution_count": null,
   "metadata": {},
   "outputs": [],
   "source": [
    "#실습 3-2\n",
    "numbers = [ 8, 6, 3, 10, 2, 9, 1, 4, 7, 5]\n",
    "sorted_numbers = \n",
    "mid_idx = \n",
    "\n",
    "print('정렬한 리스트:', sorted_numbers)\n",
    "print('중앙값:', median)"
   ]
  },
  {
   "cell_type": "code",
   "execution_count": null,
   "metadata": {},
   "outputs": [],
   "source": [
    "# 실습 3-3\n",
    "numbers = [ 8, 6, 3, 10, 2, 9, 1, 4, 7, 5]\n",
    "sorted_numbers = \n",
    "mid_idx = \n",
    "\n",
    "print('정렬한 리스트:', sorted_numbers)\n",
    "print('중앙값:', median)"
   ]
  },
  {
   "cell_type": "code",
   "execution_count": null,
   "metadata": {},
   "outputs": [],
   "source": []
  },
  {
   "cell_type": "code",
   "execution_count": null,
   "metadata": {},
   "outputs": [],
   "source": [
    "ID = [1, 2]\n",
    "area = ['Seoul', 'Kwangju']\n",
    "name = ['Alice', 'Bob']\n",
    "student = [ID, area, name]"
   ]
  },
  {
   "cell_type": "code",
   "execution_count": null,
   "metadata": {},
   "outputs": [],
   "source": []
  },
  {
   "cell_type": "code",
   "execution_count": null,
   "metadata": {},
   "outputs": [],
   "source": []
  },
  {
   "cell_type": "code",
   "execution_count": null,
   "metadata": {},
   "outputs": [],
   "source": []
  },
  {
   "cell_type": "code",
   "execution_count": null,
   "metadata": {},
   "outputs": [],
   "source": []
  },
  {
   "cell_type": "markdown",
   "metadata": {},
   "source": [
    "### split() 메소드 "
   ]
  },
  {
   "cell_type": "code",
   "execution_count": null,
   "metadata": {},
   "outputs": [],
   "source": [
    "a='1 2 3 4 5'"
   ]
  },
  {
   "cell_type": "code",
   "execution_count": null,
   "metadata": {},
   "outputs": [],
   "source": []
  },
  {
   "cell_type": "code",
   "execution_count": null,
   "metadata": {},
   "outputs": [],
   "source": [
    "a='Hello world'"
   ]
  },
  {
   "cell_type": "markdown",
   "metadata": {},
   "source": [
    "#### 슬라이싱"
   ]
  },
  {
   "cell_type": "code",
   "execution_count": null,
   "metadata": {},
   "outputs": [],
   "source": [
    "a = [0,1,2,3,4,5,6,7,8,9,10]"
   ]
  },
  {
   "cell_type": "code",
   "execution_count": null,
   "metadata": {},
   "outputs": [],
   "source": [
    " "
   ]
  },
  {
   "cell_type": "code",
   "execution_count": null,
   "metadata": {},
   "outputs": [],
   "source": [
    "shape= ['turtle', 'arrow', 'circle', 'square','heart'] "
   ]
  },
  {
   "cell_type": "code",
   "execution_count": null,
   "metadata": {},
   "outputs": [],
   "source": []
  },
  {
   "cell_type": "code",
   "execution_count": null,
   "metadata": {},
   "outputs": [],
   "source": [
    "a = [1,6,2,4,8,5,3,10,9,7]"
   ]
  },
  {
   "cell_type": "code",
   "execution_count": null,
   "metadata": {},
   "outputs": [],
   "source": []
  },
  {
   "cell_type": "code",
   "execution_count": null,
   "metadata": {},
   "outputs": [],
   "source": []
  },
  {
   "cell_type": "markdown",
   "metadata": {},
   "source": [
    "# range() \n",
    "- range(끝)\n",
    "- range(시작, 끝)\n",
    "- range(시작, 끝, 스텝)\n",
    "- range(시작, 끝, -스텝)"
   ]
  },
  {
   "cell_type": "code",
   "execution_count": null,
   "metadata": {},
   "outputs": [],
   "source": [
    "range"
   ]
  },
  {
   "cell_type": "code",
   "execution_count": null,
   "metadata": {},
   "outputs": [],
   "source": []
  },
  {
   "cell_type": "code",
   "execution_count": null,
   "metadata": {},
   "outputs": [],
   "source": []
  },
  {
   "cell_type": "code",
   "execution_count": null,
   "metadata": {},
   "outputs": [],
   "source": []
  }
 ],
 "metadata": {
  "kernelspec": {
   "display_name": "Python 3 (ipykernel)",
   "language": "python",
   "name": "python3"
  },
  "language_info": {
   "codemirror_mode": {
    "name": "ipython",
    "version": 3
   },
   "file_extension": ".py",
   "mimetype": "text/x-python",
   "name": "python",
   "nbconvert_exporter": "python",
   "pygments_lexer": "ipython3",
   "version": "3.9.13"
  }
 },
 "nbformat": 4,
 "nbformat_minor": 4
}
