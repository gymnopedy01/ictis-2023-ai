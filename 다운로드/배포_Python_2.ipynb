{
  "cells": [
    {
      "cell_type": "code",
      "execution_count": null,
      "metadata": {
        "id": "chrLvii2Iv1f"
      },
      "outputs": [],
      "source": [
        "%config Completer.use_jedi = False"
      ]
    },
    {
      "cell_type": "markdown",
      "metadata": {
        "id": "wjlbE9shIv1h"
      },
      "source": [
        "# 구문(statement) = 문\n",
        "- 예약어(reserved word, keyword)와 표현식을 결합한 패턴\n",
        "- 컴퓨터가 수행해야 하는 하나의 단일 작업(instruction)을 명시.\n",
        "\n",
        "### 할당(대입, assigning statement)\n",
        "- python에서는 보통 ‘바인딩(binding)’이라는 표현을 씀, 어떤 값에 이름을 붙이는 작업.\n",
        "\n",
        "### 선언(정의, declaration)\n",
        "- 재사용이 가능한 독립적인 단위를 정의. \n",
        "- 별도의 선언 문법과 그 내용을 기술하는 블럭 혹은 블럭들로 구성.\n",
        "\n",
        "### 조건(분기): 조건에 따라 수행할 작업을 나눌 때 사용.\n",
        "- Ex) if 문\n",
        "### 반복: 특정한 작업을 반복수행할때 사용.\n",
        "- Ex) for 문 및 while 문\n",
        "### 예외처리\n"
      ]
    },
    {
      "cell_type": "markdown",
      "metadata": {
        "id": "fKtqaXd-Iv1i"
      },
      "source": [
        "## 선택/분기를 처리하는 조건문\n",
        "- 조건이 True일 때 실행해야 할 문장들을 블록으로 만들어 줘야 함\n",
        "- 동일 블록 내의 문장들은 들여쓰기가 일치해야 함"
      ]
    },
    {
      "cell_type": "code",
      "execution_count": null,
      "metadata": {
        "id": "8-DrZGESIv1j"
      },
      "outputs": [],
      "source": [
        "score = \n",
        "if  :\n",
        "    print('합격입니다. ' )    "
      ]
    },
    {
      "cell_type": "code",
      "execution_count": null,
      "metadata": {
        "id": "Fqdwv_MNIv1k"
      },
      "outputs": [],
      "source": [
        "if  :\n",
        "    print('합격입니다. ' )\n",
        "\n",
        "    print('불합격입니다.' )"
      ]
    },
    {
      "cell_type": "code",
      "execution_count": null,
      "metadata": {
        "id": "ktxFr2PTIv1k"
      },
      "outputs": [],
      "source": [
        "score = 75\n",
        "  score >= 90:\n",
        "    print ('A입니다. ' )\n",
        "  score >= 80 :\n",
        "     print ('B입니다.' )\n",
        "  score >= 70 :\n",
        "     print ('C입니다.' )\n",
        "  score >= 60 :\n",
        "     print ('D입니다.' )\n",
        " \n",
        "     print ('F입니다.' )"
      ]
    },
    {
      "cell_type": "code",
      "execution_count": null,
      "metadata": {
        "id": "ceEsEmIxIv1l"
      },
      "outputs": [],
      "source": [
        "score = 75\n",
        "  score >= 90:\n",
        "    print ('A입니다. ' )\n",
        "  score >= 80 :\n",
        "     print ('B입니다.' )\n",
        "  score >= 70 :\n",
        "     print ('C입니다.' )\n",
        "  score >= 60 :\n",
        "     print ('D입니다.' )\n",
        " \n",
        "     print ('F입니다.' )"
      ]
    },
    {
      "cell_type": "code",
      "execution_count": null,
      "metadata": {
        "id": "HIZGF-o1Iv1l"
      },
      "outputs": [],
      "source": [
        "number = input('숫자를 입력하시오: ')\n",
        "\n",
        "    print('홀수입니다.')\n",
        "\n",
        "    print('짝수입니다.')"
      ]
    },
    {
      "cell_type": "code",
      "execution_count": 36,
      "metadata": {
        "colab": {
          "base_uri": "https://localhost:8080/"
        },
        "id": "-phsuDUsIv1l",
        "outputId": "c44a6c93-543c-4b58-a5f4-eb4e5eb42010"
      },
      "outputs": [
        {
          "output_type": "stream",
          "name": "stdout",
          "text": [
            "3 3\n"
          ]
        }
      ],
      "source": [
        "a =3 \n",
        "b = 3 if a > 0 else 8\n",
        "print(a, b)"
      ]
    },
    {
      "cell_type": "code",
      "execution_count": null,
      "metadata": {
        "id": "6oSa22MDIv1l"
      },
      "outputs": [],
      "source": []
    },
    {
      "cell_type": "code",
      "execution_count": null,
      "metadata": {
        "id": "uzVtM0FiIv1m"
      },
      "outputs": [],
      "source": [
        "print('핸드폰으로 링크가 있는 문자 메시지가 왔어요...')\n",
        "ans =input('발신인이 있나요?(예/아니오) ')\n",
        "if ans== '예':\n",
        "\n",
        "    \n",
        "else:\n",
        "    print('메시지를 삭제하세요...')"
      ]
    },
    {
      "cell_type": "code",
      "execution_count": null,
      "metadata": {
        "id": "ZOkb47n_Iv1m"
      },
      "outputs": [],
      "source": [
        "input('발신인을 신뢰하나요?(예/아니오) ')\n",
        "print('링크를 열어도 좋습니다~')\n",
        "print('메시지를 삭제하세요...')"
      ]
    },
    {
      "cell_type": "code",
      "execution_count": null,
      "metadata": {
        "id": "w1DKrQriIv1m"
      },
      "outputs": [],
      "source": []
    },
    {
      "cell_type": "markdown",
      "metadata": {
        "id": "3yObNZ5EIv1m"
      },
      "source": [
        "# List\n",
        "- 여러 개의 데이터를 하나의 변수에 저장하고자 할 때 매우 유용함\n",
        "- 리스트는 [   ]로 묶어주고, 리스트의 아이템은 ,(컴마)로 구분함\n",
        "- 리스트의 아이템에 접근하고자 할 때에는 인덱스를 사용함\n",
        "- 인덱스는 0부터 시작함!!"
      ]
    },
    {
      "cell_type": "code",
      "execution_count": 66,
      "metadata": {
        "id": "05ujcxv-Iv1m"
      },
      "outputs": [],
      "source": [
        "shape= ['turtle', 'arrow', 'circle', 'square']"
      ]
    },
    {
      "cell_type": "code",
      "execution_count": 60,
      "metadata": {
        "colab": {
          "base_uri": "https://localhost:8080/"
        },
        "id": "aP5x5UqVIv1n",
        "outputId": "a1e72ee2-e4fa-4b0c-d5bd-d286b86c8912"
      },
      "outputs": [
        {
          "output_type": "execute_result",
          "data": {
            "text/plain": [
              "['h', 'e', 'l', 'l', 'o']"
            ]
          },
          "metadata": {},
          "execution_count": 60
        }
      ],
      "source": [
        "list('hello')"
      ]
    },
    {
      "cell_type": "code",
      "execution_count": 65,
      "metadata": {
        "colab": {
          "base_uri": "https://localhost:8080/",
          "height": 35
        },
        "id": "FQtNPnmOIv1n",
        "outputId": "0608541e-b9cd-4b33-efd4-8bff3a4c6d4e"
      },
      "outputs": [
        {
          "output_type": "execute_result",
          "data": {
            "text/plain": [
              "'e'"
            ],
            "application/vnd.google.colaboratory.intrinsic+json": {
              "type": "string"
            }
          },
          "metadata": {},
          "execution_count": 65
        }
      ],
      "source": [
        "s = 'hello' \n",
        "s[1]"
      ]
    },
    {
      "cell_type": "code",
      "execution_count": 76,
      "metadata": {
        "id": "TWB8SW-PIv1n"
      },
      "outputs": [],
      "source": [
        "#빈 리스트 만들기\n",
        "blank_list = []\n",
        "blank_list = list()"
      ]
    },
    {
      "cell_type": "code",
      "execution_count": null,
      "metadata": {
        "id": "KaMsp0TLIv1n"
      },
      "outputs": [],
      "source": []
    },
    {
      "cell_type": "code",
      "execution_count": null,
      "metadata": {
        "id": "g6id2xFgIv1n"
      },
      "outputs": [],
      "source": []
    },
    {
      "cell_type": "code",
      "execution_count": null,
      "metadata": {
        "id": "FmDPUd3QIv1n"
      },
      "outputs": [],
      "source": []
    },
    {
      "cell_type": "code",
      "execution_count": 72,
      "metadata": {
        "id": "4OcPCla6Iv1n"
      },
      "outputs": [],
      "source": [
        "shape =['abc']\n",
        "shape[0] = 'ARROW'"
      ]
    },
    {
      "cell_type": "code",
      "execution_count": null,
      "metadata": {
        "id": "ZBDz3L8dIv1n"
      },
      "outputs": [],
      "source": [
        "shape"
      ]
    },
    {
      "cell_type": "code",
      "execution_count": null,
      "metadata": {
        "id": "WkLgZ8xMIv1n"
      },
      "outputs": [],
      "source": [
        "shape\n",
        "shape"
      ]
    },
    {
      "cell_type": "code",
      "execution_count": null,
      "metadata": {
        "id": "wrDLzh7FIv1o"
      },
      "outputs": [],
      "source": [
        "shape\n",
        "shape"
      ]
    },
    {
      "cell_type": "code",
      "execution_count": null,
      "metadata": {
        "id": "RAOVksVkIv1o"
      },
      "outputs": [],
      "source": [
        "shape\n",
        "shape"
      ]
    },
    {
      "cell_type": "code",
      "execution_count": null,
      "metadata": {
        "id": "SGg2UrzKIv1o"
      },
      "outputs": [],
      "source": [
        "'heart'   shape"
      ]
    },
    {
      "cell_type": "code",
      "execution_count": null,
      "metadata": {
        "id": "R7GMatbqIv1o"
      },
      "outputs": [],
      "source": [
        "'rectangle'   shape"
      ]
    },
    {
      "cell_type": "code",
      "execution_count": null,
      "metadata": {
        "id": "YMTNMpCCIv1o"
      },
      "outputs": [],
      "source": [
        "shape"
      ]
    },
    {
      "cell_type": "code",
      "execution_count": null,
      "metadata": {
        "id": "mZtPzd8qIv1o"
      },
      "outputs": [],
      "source": []
    },
    {
      "cell_type": "code",
      "execution_count": null,
      "metadata": {
        "id": "Pj_mdQBeIv1o"
      },
      "outputs": [],
      "source": [
        "shape.index('circle')"
      ]
    },
    {
      "cell_type": "markdown",
      "metadata": {
        "id": "MylzeltUIv1o"
      },
      "source": [
        "## 리스트 연산자: +"
      ]
    },
    {
      "cell_type": "code",
      "execution_count": null,
      "metadata": {
        "id": "O4Ic8ByOIv1o"
      },
      "outputs": [],
      "source": [
        "[1,2,3,4]+[  ]+[ ]"
      ]
    },
    {
      "cell_type": "code",
      "execution_count": null,
      "metadata": {
        "id": "ZSL4jEltIv1p"
      },
      "outputs": [],
      "source": [
        "[1,2,3,4]"
      ]
    },
    {
      "cell_type": "markdown",
      "metadata": {
        "id": "-8tBsxFnIv1p"
      },
      "source": [
        "## len( ) 함수"
      ]
    },
    {
      "cell_type": "code",
      "execution_count": null,
      "metadata": {
        "id": "Vs8TRtIWIv1p"
      },
      "outputs": [],
      "source": []
    },
    {
      "cell_type": "code",
      "execution_count": null,
      "metadata": {
        "id": "Ozqt-VpuIv1p"
      },
      "outputs": [],
      "source": []
    },
    {
      "cell_type": "markdown",
      "metadata": {
        "id": "5A75arbdIv1p"
      },
      "source": [
        "## random 모듈\n",
        "    \n",
        "- 난수를 발생시키는 것과 관련된 함수들을 모아놓은 집합\n",
        "- random 모듈의 randint( ) 함수를 이용하여 지정함 범위의 값 중에서 하나의 난수를 발생시킨다."
      ]
    },
    {
      "cell_type": "code",
      "execution_count": 42,
      "metadata": {
        "colab": {
          "base_uri": "https://localhost:8080/"
        },
        "id": "GMfOkK-2Iv1p",
        "outputId": "4db9cc5d-07af-4352-d95c-2d53aa23031f"
      },
      "outputs": [
        {
          "output_type": "stream",
          "name": "stdout",
          "text": [
            "랜덤넘버 :  9 입니다\n"
          ]
        }
      ],
      "source": [
        "import random\n",
        "\n",
        "r = random.randint(1,20)\n",
        "print('랜덤넘버 : ', r, '입니다')"
      ]
    },
    {
      "cell_type": "code",
      "execution_count": 55,
      "metadata": {
        "colab": {
          "base_uri": "https://localhost:8080/"
        },
        "id": "nS-uoYrJIv1p",
        "outputId": "a7295d40-e20a-47b0-d46a-9b94b53e3d63"
      },
      "outputs": [
        {
          "output_type": "execute_result",
          "data": {
            "text/plain": [
              "4"
            ]
          },
          "metadata": {},
          "execution_count": 55
        }
      ],
      "source": [
        "import random\n",
        "random.seed(42)     #시드란 ? 난수를 예측 가능하도록 만든다.  # 시드를 주는경우는? 재현성을 위해  줍니다. # 언제 어디서든 똑같은 값이 나옵니다.\n",
        "random.randint(1,20)"
      ]
    },
    {
      "cell_type": "markdown",
      "metadata": {
        "id": "EFZGH7OPIv1p"
      },
      "source": [
        "### 소망 룰렛"
      ]
    },
    {
      "cell_type": "code",
      "execution_count": 59,
      "metadata": {
        "colab": {
          "base_uri": "https://localhost:8080/"
        },
        "id": "yn9DnSNyIv1q",
        "outputId": "e1e0fb22-e041-4836-e720-8f9a3662930e"
      },
      "outputs": [
        {
          "output_type": "stream",
          "name": "stdout",
          "text": [
            "당신의 이번 달의 행운은...\n",
            "건강하기 입니다.\n"
          ]
        }
      ],
      "source": [
        "import random\n",
        "import time\n",
        "\n",
        "wishList = [ '국토종주', '건강하기' , '사업번창' , '해외여행' , '득템' ]\n",
        "\n",
        "idx = random.randint(0, len(wishList))\n",
        " \n",
        "print('당신의 이번 달의 행운은...')\n",
        "time.sleep(2)\n",
        "print( wishList[idx], '입니다.')"
      ]
    },
    {
      "cell_type": "markdown",
      "metadata": {
        "id": "GV1ysgbGIv1q"
      },
      "source": [
        "### median "
      ]
    },
    {
      "cell_type": "code",
      "execution_count": 6,
      "metadata": {
        "colab": {
          "base_uri": "https://localhost:8080/"
        },
        "id": "p-zQkRy0Iv1q",
        "outputId": "9d17a3d6-07ac-41a5-f703-e5d317719b33"
      },
      "outputs": [
        {
          "output_type": "stream",
          "name": "stdout",
          "text": [
            "정렬한 리스트: [1, 2, 3, 4, 5, 6, 7, 8, 9, 10, 15]\n",
            "중앙값: 6\n"
          ]
        }
      ],
      "source": [
        "# 실습 3-1\n",
        "numbers = [ 8, 6, 3, 10, 2, 9, 1, 4, 7, 5, 15]\n",
        "sorted_numbers = sorted(numbers)\n",
        "mid_idx = len(numbers)//2\n",
        "median = sorted_numbers[mid_idx]\n",
        "\n",
        "print('정렬한 리스트:', sorted_numbers)\n",
        "print('중앙값:', median)"
      ]
    },
    {
      "cell_type": "code",
      "execution_count": 8,
      "metadata": {
        "colab": {
          "base_uri": "https://localhost:8080/"
        },
        "id": "oBZpzSNmIv1q",
        "outputId": "f4420f26-72ec-4746-eed0-c8e3816295be"
      },
      "outputs": [
        {
          "output_type": "stream",
          "name": "stdout",
          "text": [
            "정렬한 리스트: [1, 2, 3, 4, 5, 6, 7, 8, 9, 10]\n",
            "중앙값: 5.5\n"
          ]
        }
      ],
      "source": [
        "#실습 3-2\n",
        "numbers = [ 8, 6, 3, 10, 2, 9, 1, 4, 7, 5]\n",
        "sorted_numbers = sorted(numbers)\n",
        "mid_idx = len(numbers)//2\n",
        "median = (sorted_numbers[mid_idx-1] + sorted_numbers[mid_idx]) /2\n",
        "\n",
        "print('정렬한 리스트:', sorted_numbers)\n",
        "print('중앙값:', median)"
      ]
    },
    {
      "cell_type": "code",
      "execution_count": 23,
      "metadata": {
        "colab": {
          "base_uri": "https://localhost:8080/"
        },
        "id": "hl8Loke9Iv1q",
        "outputId": "ec75bc26-7b12-46cc-8241-d92dcf57d080"
      },
      "outputs": [
        {
          "output_type": "stream",
          "name": "stdout",
          "text": [
            "정렬한 리스트: [1, 2, 3, 4, 5, 6, 7, 8, 9, 10]\n",
            "중앙값: 5.5\n"
          ]
        }
      ],
      "source": [
        "# 실습 3-3\n",
        "numbers = [ 8, 6, 3, 10, 2, 9, 1, 4, 7, 5]\n",
        "sorted_numbers = sorted(numbers)\n",
        "mid_idx = len(numbers)//2\n",
        "\n",
        "if len(numbers) %2 :\n",
        "    median = sorted_numbers[mid_idx]\n",
        "else :\n",
        "    median = (sorted_numbers[mid_idx-1] + sorted_numbers[mid_idx]) / 2\n",
        "\n",
        "print('정렬한 리스트:', sorted_numbers)\n",
        "print('중앙값:', median)"
      ]
    },
    {
      "cell_type": "code",
      "execution_count": 29,
      "metadata": {
        "colab": {
          "base_uri": "https://localhost:8080/"
        },
        "id": "gMtSuxQxIv1q",
        "outputId": "ca7eee3d-c381-4fb9-f2e8-bb2d061b6ba4"
      },
      "outputs": [
        {
          "output_type": "stream",
          "name": "stdout",
          "text": [
            "정렬한 리스트: [1, 2, 3, 4, 5, 6, 7, 8, 9, 10]\n",
            "중앙값: 5.5\n"
          ]
        }
      ],
      "source": [
        "numbers = [ 8, 6, 3, 10, 2, 9, 1, 4, 7, 5]\n",
        "sorted_numbers = sorted(numbers)\n",
        "mid_idx = len(numbers)//2\n",
        "\n",
        "median = sorted_numbers[mid_idx] if len(numbers) %2  \\\n",
        "else (sorted_numbers[mid_idx-1] + sorted_numbers[mid_idx]) / 2\n",
        "\n",
        "print('정렬한 리스트:', sorted_numbers)\n",
        "print('중앙값:', median)"
      ]
    },
    {
      "cell_type": "code",
      "execution_count": null,
      "metadata": {
        "id": "qnsLGB4bIv1r"
      },
      "outputs": [],
      "source": [
        "ID = [1, 2]\n",
        "area = ['Seoul', 'Kwangju']\n",
        "name = ['Alice', 'Bob']\n",
        "student = [ID, area, name]"
      ]
    },
    {
      "cell_type": "code",
      "execution_count": null,
      "metadata": {
        "id": "sfixNoiVIv1r"
      },
      "outputs": [],
      "source": []
    },
    {
      "cell_type": "code",
      "execution_count": null,
      "metadata": {
        "id": "ILSHoj2CIv1r"
      },
      "outputs": [],
      "source": []
    },
    {
      "cell_type": "code",
      "execution_count": null,
      "metadata": {
        "id": "BdSvHYkHIv1r"
      },
      "outputs": [],
      "source": []
    },
    {
      "cell_type": "markdown",
      "metadata": {
        "id": "dIzTIdhTIv1r"
      },
      "source": [
        "### split() 메소드 "
      ]
    },
    {
      "cell_type": "code",
      "execution_count": 80,
      "metadata": {
        "colab": {
          "base_uri": "https://localhost:8080/"
        },
        "id": "yruiiji_Iv1r",
        "outputId": "f6819ea9-5a8f-4c97-da48-86bc8bb4aef5"
      },
      "outputs": [
        {
          "output_type": "execute_result",
          "data": {
            "text/plain": [
              "['1', '2', '3', '4', '5']"
            ]
          },
          "metadata": {},
          "execution_count": 80
        }
      ],
      "source": [
        "# split : 공백을 기준으로 문자열을 나눕니다.\n",
        "# split (\"$구분\") : $구분을 기분으로  문자열을 나눕니다\n",
        "a='1 2 3 4 5'\n",
        "a.split()\n",
        "\n",
        "b= '1:2:3:4:5'\n",
        "b.split(\":\")"
      ]
    },
    {
      "cell_type": "code",
      "execution_count": 83,
      "metadata": {
        "colab": {
          "base_uri": "https://localhost:8080/"
        },
        "id": "APhfY_RcIv1r",
        "outputId": "1fb68209-f11d-46c6-dde1-68c678da255c"
      },
      "outputs": [
        {
          "output_type": "stream",
          "name": "stdout",
          "text": [
            "Hello world\n",
            "['H', 'e', 'l', 'l', 'o', ' ', 'w', 'o', 'r', 'l', 'd']\n",
            "['Hello', 'world']\n"
          ]
        }
      ],
      "source": [
        "a= 'Hello world'\n",
        "b= list(a)\n",
        "c = a.split()\n",
        "d = a.split('o')\n",
        "\n",
        "print(a)\n",
        "print(b)\n",
        "print(c)"
      ]
    },
    {
      "cell_type": "code",
      "execution_count": 87,
      "metadata": {
        "colab": {
          "base_uri": "https://localhost:8080/"
        },
        "id": "v7gHxdnhIv1r",
        "outputId": "55591dde-a5e0-4949-b74a-053a8388c299"
      },
      "outputs": [
        {
          "output_type": "execute_result",
          "data": {
            "text/plain": [
              "[[1, 2], ['Seoul', 'Kwangju'], ['Alice', 'Bob']]"
            ]
          },
          "metadata": {},
          "execution_count": 87
        }
      ],
      "source": [
        "ID = [1,2]\n",
        "area = ['Seoul', 'Kwangju']\n",
        "name = ['Alice', 'Bob']\n",
        "student = [ID, area, name]\n",
        "student"
      ]
    },
    {
      "cell_type": "code",
      "source": [
        "len(student)"
      ],
      "metadata": {
        "id": "wxhjIYelZgmR",
        "outputId": "ef2f7f3a-923a-4abd-eaa3-3d770bcf0332",
        "colab": {
          "base_uri": "https://localhost:8080/"
        }
      },
      "execution_count": 88,
      "outputs": [
        {
          "output_type": "execute_result",
          "data": {
            "text/plain": [
              "3"
            ]
          },
          "metadata": {},
          "execution_count": 88
        }
      ]
    },
    {
      "cell_type": "code",
      "source": [
        "student[0]"
      ],
      "metadata": {
        "id": "ek1rWZLUZkcZ",
        "outputId": "abd96315-ed60-4863-d846-dcb1ff7ea3b7",
        "colab": {
          "base_uri": "https://localhost:8080/"
        }
      },
      "execution_count": 91,
      "outputs": [
        {
          "output_type": "execute_result",
          "data": {
            "text/plain": [
              "[1, 2]"
            ]
          },
          "metadata": {},
          "execution_count": 91
        }
      ]
    },
    {
      "cell_type": "code",
      "source": [
        "student[0][1]"
      ],
      "metadata": {
        "id": "LfcOEktuZwty",
        "outputId": "dc64859d-538f-4ab7-f55c-de7524cf9b82",
        "colab": {
          "base_uri": "https://localhost:8080/"
        }
      },
      "execution_count": 92,
      "outputs": [
        {
          "output_type": "execute_result",
          "data": {
            "text/plain": [
              "2"
            ]
          },
          "metadata": {},
          "execution_count": 92
        }
      ]
    },
    {
      "cell_type": "code",
      "execution_count": null,
      "metadata": {
        "id": "DWDbfZNbIv1r"
      },
      "outputs": [],
      "source": [
        "a='Hello world'"
      ]
    },
    {
      "cell_type": "markdown",
      "source": [
        "멤버십 연산자\n",
        "in : 해당 요소가 있으면 True\n",
        "not in : 해당 요소가 없으면 True"
      ],
      "metadata": {
        "id": "JCHk89CBaZHp"
      }
    },
    {
      "cell_type": "code",
      "source": [
        "'Hell' in a     "
      ],
      "metadata": {
        "id": "DDGB2C-6a5k0",
        "outputId": "3fc0f736-55d1-4f95-86be-28f81d86b0da",
        "colab": {
          "base_uri": "https://localhost:8080/"
        }
      },
      "execution_count": 94,
      "outputs": [
        {
          "output_type": "execute_result",
          "data": {
            "text/plain": [
              "True"
            ]
          },
          "metadata": {},
          "execution_count": 94
        }
      ]
    },
    {
      "cell_type": "code",
      "source": [
        "'H' in a"
      ],
      "metadata": {
        "id": "bh-dH_qYaeva",
        "outputId": "4989112c-fd84-490a-cad7-9554464adac0",
        "colab": {
          "base_uri": "https://localhost:8080/"
        }
      },
      "execution_count": 93,
      "outputs": [
        {
          "output_type": "execute_result",
          "data": {
            "text/plain": [
              "True"
            ]
          },
          "metadata": {},
          "execution_count": 93
        }
      ]
    },
    {
      "cell_type": "code",
      "source": [
        "d = [[4,6]  ,'1','2']"
      ],
      "metadata": {
        "id": "Akou9sUDa53t"
      },
      "execution_count": 97,
      "outputs": []
    },
    {
      "cell_type": "code",
      "source": [
        "[4] in d"
      ],
      "metadata": {
        "id": "KJG6_tSbbb4h",
        "outputId": "d3de3889-64e8-4781-de69-1819f05f2272",
        "colab": {
          "base_uri": "https://localhost:8080/"
        }
      },
      "execution_count": 98,
      "outputs": [
        {
          "output_type": "execute_result",
          "data": {
            "text/plain": [
              "False"
            ]
          },
          "metadata": {},
          "execution_count": 98
        }
      ]
    },
    {
      "cell_type": "code",
      "source": [
        "[4,6] in d"
      ],
      "metadata": {
        "id": "qIpqd2FYbb7F",
        "outputId": "5053018c-117f-459a-d46d-784467a85ef8",
        "colab": {
          "base_uri": "https://localhost:8080/"
        }
      },
      "execution_count": 100,
      "outputs": [
        {
          "output_type": "execute_result",
          "data": {
            "text/plain": [
              "True"
            ]
          },
          "metadata": {},
          "execution_count": 100
        }
      ]
    },
    {
      "cell_type": "code",
      "source": [
        "'1' in d"
      ],
      "metadata": {
        "id": "0tGv2JkVbb9q",
        "outputId": "ac23f02e-7bc6-4d99-da4a-5082dbf2be7b",
        "colab": {
          "base_uri": "https://localhost:8080/"
        }
      },
      "execution_count": 101,
      "outputs": [
        {
          "output_type": "execute_result",
          "data": {
            "text/plain": [
              "True"
            ]
          },
          "metadata": {},
          "execution_count": 101
        }
      ]
    },
    {
      "cell_type": "code",
      "source": [
        "[1] in d"
      ],
      "metadata": {
        "id": "lLTjLyUgbcCZ",
        "outputId": "18fd50fe-294f-4f00-d3a0-ad1df11fd5f7",
        "colab": {
          "base_uri": "https://localhost:8080/"
        }
      },
      "execution_count": 102,
      "outputs": [
        {
          "output_type": "execute_result",
          "data": {
            "text/plain": [
              "False"
            ]
          },
          "metadata": {},
          "execution_count": 102
        }
      ]
    },
    {
      "cell_type": "code",
      "source": [
        "str(2) in d"
      ],
      "metadata": {
        "id": "zPumhC1QbcFw",
        "outputId": "f4b784d4-69a2-4cc4-f550-913488e9994e",
        "colab": {
          "base_uri": "https://localhost:8080/"
        }
      },
      "execution_count": 104,
      "outputs": [
        {
          "output_type": "execute_result",
          "data": {
            "text/plain": [
              "True"
            ]
          },
          "metadata": {},
          "execution_count": 104
        }
      ]
    },
    {
      "cell_type": "markdown",
      "metadata": {
        "id": "60DFGVL5Iv1s"
      },
      "source": [
        "#### 슬라이싱"
      ]
    },
    {
      "cell_type": "code",
      "execution_count": null,
      "metadata": {
        "id": "rJqP9DBxIv1s"
      },
      "outputs": [],
      "source": [
        "a = [0,1,2,3,4,5,6,7,8,9,10]"
      ]
    },
    {
      "cell_type": "code",
      "execution_count": null,
      "metadata": {
        "id": "wAatrkOAIv1s"
      },
      "outputs": [],
      "source": [
        " "
      ]
    },
    {
      "cell_type": "code",
      "execution_count": null,
      "metadata": {
        "id": "Y3VKrByhIv1s"
      },
      "outputs": [],
      "source": [
        "shape= ['turtle', 'arrow', 'circle', 'square','heart'] "
      ]
    },
    {
      "cell_type": "code",
      "execution_count": null,
      "metadata": {
        "id": "msSCgLS_Iv1s"
      },
      "outputs": [],
      "source": []
    },
    {
      "cell_type": "code",
      "execution_count": null,
      "metadata": {
        "id": "8FW68wxCIv1s"
      },
      "outputs": [],
      "source": [
        "a = [1,6,2,4,8,5,3,10,9,7]"
      ]
    },
    {
      "cell_type": "code",
      "execution_count": null,
      "metadata": {
        "id": "UNVxjAMoIv1s"
      },
      "outputs": [],
      "source": []
    },
    {
      "cell_type": "code",
      "execution_count": null,
      "metadata": {
        "id": "kfOm_R7XIv1t"
      },
      "outputs": [],
      "source": []
    },
    {
      "cell_type": "markdown",
      "metadata": {
        "id": "187P8geEIv1t"
      },
      "source": [
        "# range() \n",
        "- range(끝)\n",
        "- range(시작, 끝)\n",
        "- range(시작, 끝, 스텝)\n",
        "- range(시작, 끝, -스텝)"
      ]
    },
    {
      "cell_type": "code",
      "execution_count": null,
      "metadata": {
        "id": "UyMCrHeKIv1t"
      },
      "outputs": [],
      "source": [
        "range"
      ]
    },
    {
      "cell_type": "code",
      "execution_count": null,
      "metadata": {
        "id": "PO6ODc2nIv1t"
      },
      "outputs": [],
      "source": []
    },
    {
      "cell_type": "code",
      "execution_count": null,
      "metadata": {
        "id": "2OU7cmAPIv1t"
      },
      "outputs": [],
      "source": []
    },
    {
      "cell_type": "code",
      "execution_count": null,
      "metadata": {
        "id": "M5gVdTIWIv1t"
      },
      "outputs": [],
      "source": []
    }
  ],
  "metadata": {
    "kernelspec": {
      "display_name": "Python 3 (ipykernel)",
      "language": "python",
      "name": "python3"
    },
    "language_info": {
      "codemirror_mode": {
        "name": "ipython",
        "version": 3
      },
      "file_extension": ".py",
      "mimetype": "text/x-python",
      "name": "python",
      "nbconvert_exporter": "python",
      "pygments_lexer": "ipython3",
      "version": "3.9.13"
    },
    "colab": {
      "provenance": []
    }
  },
  "nbformat": 4,
  "nbformat_minor": 0
}