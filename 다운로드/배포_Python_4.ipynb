{
  "cells": [
    {
      "cell_type": "code",
      "execution_count": 4,
      "metadata": {
        "id": "HzEWTL-MhieI"
      },
      "outputs": [],
      "source": [
        "%config Completer.use_jedi = False"
      ]
    },
    {
      "cell_type": "markdown",
      "metadata": {
        "id": "ICnU4siUhieK"
      },
      "source": [
        "# 함수\n",
        "- 프로그램에서 자주 사용되는 코드를 따로 만들어 두고 필요할 때마다 불러서(호출해서) 사용하는 기능\n",
        "- 내장 함수(built-in function):\n",
        "프로그래밍에서 자주 사용하는 기능을 미리 만들어놓은 함수\n",
        "- 사용자 정의 함수(user-defined function):\n",
        "프로그래머가 필요에 의해서 만든 함수\n",
        "- 함수 정의 파트가 함수 호출 파트보다 먼저 작성되어 있어야 한다. \n"
      ]
    },
    {
      "cell_type": "code",
      "execution_count": 2,
      "metadata": {
        "id": "8duqOtfZhieL",
        "colab": {
          "base_uri": "https://localhost:8080/"
        },
        "outputId": "88f5d1ec-852d-4275-b6ef-0a88af7773e3"
      },
      "outputs": [
        {
          "output_type": "stream",
          "name": "stdout",
          "text": [
            "★\n",
            "★★\n",
            "★★★\n",
            "★★★★\n",
            "★★★★★\n",
            "★★★★★★\n",
            "★★★★★★★\n",
            "★★★★★★★★\n",
            "★★★★★★★★★\n",
            "★★★★★★★★★★\n"
          ]
        }
      ],
      "source": [
        "star = '★'\n",
        "for n in range(1,11):\n",
        "    print(star*n)"
      ]
    },
    {
      "cell_type": "code",
      "execution_count": null,
      "metadata": {
        "id": "Pb0r0_qHhieM"
      },
      "outputs": [],
      "source": []
    },
    {
      "cell_type": "code",
      "execution_count": null,
      "metadata": {
        "id": "74G0doPdhieN"
      },
      "outputs": [],
      "source": [
        "\n",
        "    star = '★'\n",
        "    for n in range(1,11):\n",
        "        print(star*n)"
      ]
    },
    {
      "cell_type": "code",
      "execution_count": 3,
      "metadata": {
        "id": "_YaLoVZLhieN",
        "colab": {
          "base_uri": "https://localhost:8080/"
        },
        "outputId": "3cc84182-d554-4032-ffcb-52558040073b"
      },
      "outputs": [
        {
          "output_type": "stream",
          "name": "stdout",
          "text": [
            "Variable   Type    Data/Info\n",
            "----------------------------\n",
            "n          int     10\n",
            "star       str     ★\n"
          ]
        }
      ],
      "source": [
        "%whos"
      ]
    },
    {
      "cell_type": "code",
      "execution_count": 8,
      "metadata": {
        "id": "VgVn_uRghieN",
        "colab": {
          "base_uri": "https://localhost:8080/"
        },
        "outputId": "f37948a5-65ae-407d-f1c7-805513e02ea4"
      },
      "outputs": [
        {
          "output_type": "stream",
          "name": "stdout",
          "text": [
            "Good morning! Muji\n",
            "60\n",
            "50\n",
            "70\n"
          ]
        }
      ],
      "source": [
        "name = 'Muji'\n",
        "print('Good morning!', name)\n",
        "def calc():\n",
        "    number = 10\n",
        "    print(number*5)\n",
        "number = 12 \n",
        "print(number*5)\n",
        "number = 14\n",
        "calc()\n",
        "print(number * 5)"
      ]
    },
    {
      "cell_type": "code",
      "execution_count": 20,
      "metadata": {
        "id": "ukEfDX-JhieO",
        "colab": {
          "base_uri": "https://localhost:8080/"
        },
        "outputId": "a67a7ca2-5e9e-4e01-875f-b475328323ad"
      },
      "outputs": [
        {
          "output_type": "stream",
          "name": "stdout",
          "text": [
            "8\n"
          ]
        }
      ],
      "source": [
        "number = 5\n",
        "\n",
        "def add():\n",
        "    global number\n",
        "    number = number +3\n",
        "\n",
        "add()\n",
        "\n",
        "print(number)"
      ]
    },
    {
      "cell_type": "code",
      "execution_count": null,
      "metadata": {
        "id": "83-dszNOhieO"
      },
      "outputs": [],
      "source": []
    },
    {
      "cell_type": "code",
      "execution_count": null,
      "metadata": {
        "id": "7IvBpfh-hieO"
      },
      "outputs": [],
      "source": []
    },
    {
      "cell_type": "code",
      "execution_count": null,
      "metadata": {
        "id": "JGbXVDY0hieO"
      },
      "outputs": [],
      "source": []
    },
    {
      "cell_type": "markdown",
      "metadata": {
        "id": "hbhii6MFhieP"
      },
      "source": [
        "## 전역 변수 vs 지역 변수"
      ]
    },
    {
      "cell_type": "markdown",
      "metadata": {
        "id": "9re1ueSxhieP"
      },
      "source": [
        "### 지역변수\n",
        "- 함수 정의 파트(내부)에서만 유효한 변수\n",
        "- 함수가 호출되었을 때 생성되며 함수를 벗어날 때 사라짐\n",
        "\n",
        "### 전역변수\n",
        "- 프로그램 전체에서 유효한 변수\n",
        "- 프로그램이 시작될 때 생성되며, 프로그램이 끝날 때 사라짐"
      ]
    },
    {
      "cell_type": "code",
      "execution_count": null,
      "metadata": {
        "id": "7I_56bjthieP"
      },
      "outputs": [],
      "source": []
    },
    {
      "cell_type": "code",
      "execution_count": 22,
      "metadata": {
        "id": "FHMLZcHShieP",
        "colab": {
          "base_uri": "https://localhost:8080/"
        },
        "outputId": "0ada3714-7d59-4c92-d08e-192e95854953"
      },
      "outputs": [
        {
          "output_type": "stream",
          "name": "stdout",
          "text": [
            "8\n"
          ]
        }
      ],
      "source": [
        "def add():\n",
        "    number = 5\n",
        "    number = number + 3\n",
        "    print(number)\n",
        "\n",
        "add()"
      ]
    },
    {
      "cell_type": "code",
      "execution_count": 23,
      "metadata": {
        "id": "6_MItVcchieP",
        "colab": {
          "base_uri": "https://localhost:8080/"
        },
        "outputId": "5db5ec72-fb9f-416c-f2a2-9f7c0aed7b9a"
      },
      "outputs": [
        {
          "output_type": "stream",
          "name": "stdout",
          "text": [
            "8\n"
          ]
        }
      ],
      "source": [
        "number = 5\n",
        "\n",
        "def add():\n",
        "    global number\n",
        "    number = number +3\n",
        "\n",
        "add()\n",
        "\n",
        "print(number)"
      ]
    },
    {
      "cell_type": "code",
      "execution_count": null,
      "metadata": {
        "id": "QRyEtppIhieP"
      },
      "outputs": [],
      "source": []
    },
    {
      "cell_type": "code",
      "execution_count": null,
      "metadata": {
        "id": "roLIFDU_hieQ"
      },
      "outputs": [],
      "source": []
    },
    {
      "cell_type": "code",
      "execution_count": null,
      "metadata": {
        "id": "JwjbRtJ9hieQ"
      },
      "outputs": [],
      "source": []
    },
    {
      "cell_type": "markdown",
      "metadata": {
        "id": "DXuY3-vGhieQ"
      },
      "source": [
        "### 함수는 블랙 박스\n",
        "- 입력(전달인자 argument, 매개변수 parameter)을 받아 실행하고 결과를 반환(return)\n"
      ]
    },
    {
      "cell_type": "markdown",
      "metadata": {
        "id": "MrptoRs5hieQ"
      },
      "source": [
        "##### 입력: 전달인자(argument) & 매개변수(parameter)\n",
        "- 함수 호출 파트(외부) 에서 함수 정의 파트(내부)로 값을 전달할 때 전달인자(argument)를 사용한다.\n",
        "- 함수 정의 파트에서는 값을 받을 때 매개변수(parameter)로 받는다.\n",
        "\n",
        "##### 출력: 반환(return)\n",
        "- 함수 정의 파트에서 함수 호출 파트로 값을 내 보낼 때에는 반환(return)을 사용한다.\n"
      ]
    },
    {
      "cell_type": "code",
      "execution_count": null,
      "metadata": {
        "id": "9S9SRFfyhieQ"
      },
      "outputs": [],
      "source": []
    },
    {
      "cell_type": "code",
      "execution_count": 24,
      "metadata": {
        "id": "sSJ15GfmhieQ",
        "colab": {
          "base_uri": "https://localhost:8080/"
        },
        "outputId": "f371aef1-9113-46d0-c2ad-e2ae9af1725a"
      },
      "outputs": [
        {
          "output_type": "stream",
          "name": "stdout",
          "text": [
            "result: 5050\n"
          ]
        }
      ],
      "source": [
        "def f_b( ):\n",
        "    result = 0\n",
        "    for count in range(101):\n",
        "        result+=count\n",
        "    return result\n",
        "\n",
        "print ('result:', f_b())"
      ]
    },
    {
      "cell_type": "code",
      "execution_count": 25,
      "metadata": {
        "id": "8c4W-X9-hieQ",
        "colab": {
          "base_uri": "https://localhost:8080/"
        },
        "outputId": "a4129dad-6b51-4144-ef37-846da70c86d5"
      },
      "outputs": [
        {
          "output_type": "stream",
          "name": "stdout",
          "text": [
            "result: 5050\n",
            "None\n"
          ]
        }
      ],
      "source": [
        "def f_c( ):\n",
        "    result = 0\n",
        "    for count in range(101):\n",
        "        result+=count\n",
        "    print('result:', result)\n",
        "\n",
        "result = f_c()\n",
        "print ( result)     # None : 없음"
      ]
    },
    {
      "cell_type": "code",
      "execution_count": 30,
      "metadata": {
        "id": "_WYsl7l9hieR",
        "colab": {
          "base_uri": "https://localhost:8080/"
        },
        "outputId": "9ef72722-0f92-456e-89ae-1095be7ac811"
      },
      "outputs": [
        {
          "output_type": "stream",
          "name": "stdout",
          "text": [
            "1.4142135623730951 -1.4142135623730951\n"
          ]
        }
      ],
      "source": [
        "from math import sqrt\n",
        "\n",
        "def roots(value):\n",
        "    result = sqrt(value)\n",
        "    return result, -result\n",
        "    \n",
        "pos, neg = roots(2)\n",
        "print(pos, neg)"
      ]
    },
    {
      "cell_type": "code",
      "source": [],
      "metadata": {
        "id": "qawuZEqX6Ejz"
      },
      "execution_count": null,
      "outputs": []
    },
    {
      "cell_type": "code",
      "execution_count": 34,
      "metadata": {
        "id": "xq0BcOgUhieR",
        "colab": {
          "base_uri": "https://localhost:8080/"
        },
        "outputId": "80eb479a-903d-4631-eb05-9c18d0b9a87f"
      },
      "outputs": [
        {
          "output_type": "stream",
          "name": "stdout",
          "text": [
            "3.0\n"
          ]
        }
      ],
      "source": [
        "def mean( numbers ):\n",
        "    return sum(numbers) / len(numbers)\n",
        "\n",
        "m = mean(range(1,6))\n",
        "\n",
        "print(m)"
      ]
    },
    {
      "cell_type": "code",
      "execution_count": null,
      "metadata": {
        "id": "ItZdNkQzhieR"
      },
      "outputs": [],
      "source": [
        "print( mean( [1,2,3,4,5] ) )\n",
        "print( mean( range(1,6) ) )\n",
        "print( mean( (1,2,3,4,5) ) )"
      ]
    },
    {
      "cell_type": "code",
      "execution_count": 64,
      "metadata": {
        "id": "Daku69WuhieR",
        "colab": {
          "base_uri": "https://localhost:8080/"
        },
        "outputId": "dbffcee1-b8d7-4893-9bee-e4532bb72d40"
      },
      "outputs": [
        {
          "output_type": "stream",
          "name": "stdout",
          "text": [
            "3.5\n"
          ]
        }
      ],
      "source": [
        "def median(numbers):\n",
        "    sorted_numbers = sorted(numbers)\n",
        "    mid_idx = len(numbers) // 2\n",
        "\n",
        "    if len(numbers) % 2 == 0 :\n",
        "        result = (sorted_numbers[mid_idx-1] + sorted_numbers[mid_idx]) / 2\n",
        "    else :\n",
        "        result = sorted_numbers[mid_idx]\n",
        "\n",
        "    return result\n",
        "\n",
        "print( median( range(1,7) ) )"
      ]
    },
    {
      "cell_type": "code",
      "execution_count": null,
      "metadata": {
        "id": "CYBfk4alhieR"
      },
      "outputs": [],
      "source": [
        "print( median( [1,2,3,4,5] ) )\n",
        "print( median( [1,2,3,4,5,6] ) )"
      ]
    },
    {
      "cell_type": "code",
      "execution_count": 65,
      "metadata": {
        "id": "M2cujuNUhieR",
        "colab": {
          "base_uri": "https://localhost:8080/"
        },
        "outputId": "78977df9-212e-4e3d-c024-4095c678f23c"
      },
      "outputs": [
        {
          "output_type": "stream",
          "name": "stdout",
          "text": [
            "평균: 12.0\n",
            "중앙값: 3\n"
          ]
        }
      ],
      "source": [
        "print('평균:', mean([4,3,1,2,50]))\n",
        "print('중앙값:',median([4,3,1,2,50]))"
      ]
    },
    {
      "cell_type": "markdown",
      "metadata": {
        "id": "v-Ppy7d8hieR"
      },
      "source": [
        "# 예외처리\n",
        "\n",
        "```python\n",
        "try:\n",
        "    response = input(prompt)\n",
        "except <ExceptionType1>:\n",
        "    ...\n",
        "except <ExceptionTypeN>:\n",
        "except:\n",
        "    print ('문제가 있습니다.')\n",
        "else:\n",
        "    print('에외가 없습니다.)\n",
        "finally:\n",
        "    # 예외가 있던 없던 반드시 실행되는 부분\n",
        "```"
      ]
    },
    {
      "cell_type": "code",
      "execution_count": 90,
      "metadata": {
        "id": "Dvl8Rm33hieS",
        "colab": {
          "base_uri": "https://localhost:8080/",
          "height": 229
        },
        "outputId": "1cfbd20e-2d69-4497-c646-8da2efa83b7c"
      },
      "outputs": [
        {
          "name": "stdout",
          "output_type": "stream",
          "text": [
            "식을 입력하세요: sadfasdc\n"
          ]
        },
        {
          "output_type": "error",
          "ename": "NameError",
          "evalue": "ignored",
          "traceback": [
            "\u001b[0;31m---------------------------------------------------------------------------\u001b[0m",
            "\u001b[0;31mNameError\u001b[0m                                 Traceback (most recent call last)",
            "\u001b[0;32m<ipython-input-90-4ca2bf6d6861>\u001b[0m in \u001b[0;36m<module>\u001b[0;34m\u001b[0m\n\u001b[0;32m----> 1\u001b[0;31m \u001b[0mn1\u001b[0m\u001b[0;34m,\u001b[0m\u001b[0mn2\u001b[0m\u001b[0;34m=\u001b[0m \u001b[0meval\u001b[0m\u001b[0;34m(\u001b[0m \u001b[0minput\u001b[0m\u001b[0;34m(\u001b[0m\u001b[0;34m'식을 입력하세요: '\u001b[0m\u001b[0;34m)\u001b[0m \u001b[0;34m)\u001b[0m\u001b[0;34m\u001b[0m\u001b[0;34m\u001b[0m\u001b[0m\n\u001b[0m",
            "\u001b[0;32m<string>\u001b[0m in \u001b[0;36m<module>\u001b[0;34m\u001b[0m\n",
            "\u001b[0;31mNameError\u001b[0m: name 'sadfasdc' is not defined"
          ]
        }
      ],
      "source": [
        "n1,n2= eval( input('식을 입력하세요: ') )"
      ]
    },
    {
      "cell_type": "code",
      "execution_count": 103,
      "metadata": {
        "id": "6qQ92QMkhieS",
        "colab": {
          "base_uri": "https://localhost:8080/"
        },
        "outputId": "c8383177-1c07-498e-de4a-ebe7dd449d84"
      },
      "outputs": [
        {
          "output_type": "stream",
          "name": "stdout",
          "text": [
            "두 숫자를 컴마로 분리하여 입력하세요: 2,3\n",
            "결과는 0.6666666666666666 입니다.\n",
            "예외는 없습니다.\n",
            "finally절이 실행되었습니다.\n",
            "프로그램은 계속됩니다...\n"
          ]
        }
      ],
      "source": [
        "try :\n",
        "    number1, number2 = eval(input('두 숫자를 컴마로 분리하여 입력하세요: '))\n",
        "    result = number1 /  number2\n",
        "    print('결과는', result,'입니다.')\n",
        "except  ZeroDivisionError:\n",
        "    print('0으로 나누기')\n",
        "except  SyntaxError:\n",
        "    print('입력에 컴마가 빠졌습니다.')\n",
        "except :\n",
        "    print('입력에 문제가 있습니다.')\n",
        "else :\n",
        "    print('예외는 없습니다.')\n",
        "finally :\n",
        "    print('finally절이 실행되었습니다.')\n",
        "\n",
        "print('프로그램은 계속됩니다...')"
      ]
    },
    {
      "cell_type": "code",
      "source": [],
      "metadata": {
        "id": "UMn5lEcZCAmV"
      },
      "execution_count": null,
      "outputs": []
    },
    {
      "cell_type": "code",
      "execution_count": null,
      "metadata": {
        "id": "ELgTakoUhieS"
      },
      "outputs": [],
      "source": []
    },
    {
      "cell_type": "markdown",
      "source": [],
      "metadata": {
        "id": "oulKTIRKAQbR"
      }
    }
  ],
  "metadata": {
    "kernelspec": {
      "display_name": "Python 3 (ipykernel)",
      "language": "python",
      "name": "python3"
    },
    "language_info": {
      "codemirror_mode": {
        "name": "ipython",
        "version": 3
      },
      "file_extension": ".py",
      "mimetype": "text/x-python",
      "name": "python",
      "nbconvert_exporter": "python",
      "pygments_lexer": "ipython3",
      "version": "3.9.13"
    },
    "colab": {
      "provenance": []
    }
  },
  "nbformat": 4,
  "nbformat_minor": 0
}