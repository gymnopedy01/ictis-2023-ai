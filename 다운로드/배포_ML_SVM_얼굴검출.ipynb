{
 "cells": [
  {
   "cell_type": "markdown",
   "metadata": {
    "id": "dd5ygHbA_lM7"
   },
   "source": [
    "# SVM을 사용한 얼굴 검출"
   ]
  },
  {
   "cell_type": "markdown",
   "metadata": {
    "id": "3PgmINGhCcie"
   },
   "source": [
    "- 런타임 유형: 하드웨어 가속기=None"
   ]
  },
  {
   "cell_type": "markdown",
   "metadata": {
    "id": "j0oAYoFA_lM-"
   },
   "source": [
    "- 출처: https://jakevdp.github.io/PythonDataScienceHandbook/05.14-image-features.html\n",
    "- modified by 김보연"
   ]
  },
  {
   "cell_type": "code",
   "execution_count": null,
   "metadata": {
    "executionInfo": {
     "elapsed": 584,
     "status": "ok",
     "timestamp": 1677990632536,
     "user": {
      "displayName": "Victoria Kim",
      "userId": "08333052824334996602"
     },
     "user_tz": -540
    },
    "id": "ITph70Ge_lM_"
   },
   "outputs": [],
   "source": [
    "from skimage import data, color, feature\n",
    "import skimage.data\n",
    "import matplotlib.pyplot as plt\n",
    "import numpy as np"
   ]
  },
  {
   "cell_type": "markdown",
   "metadata": {
    "id": "IgLfeYiK_lM_"
   },
   "source": [
    "# 영상과 filter 개념"
   ]
  },
  {
   "cell_type": "markdown",
   "metadata": {
    "id": "xcGxJO8S_lNA"
   },
   "source": [
    "- https://scikit-image.org/docs/stable/api/skimage.data.html"
   ]
  },
  {
   "cell_type": "code",
   "execution_count": null,
   "metadata": {
    "colab": {
     "base_uri": "https://localhost:8080/",
     "height": 299
    },
    "executionInfo": {
     "elapsed": 846,
     "status": "ok",
     "timestamp": 1677990633801,
     "user": {
      "displayName": "Victoria Kim",
      "userId": "08333052824334996602"
     },
     "user_tz": -540
    },
    "id": "8BanFDvN_lNA",
    "outputId": "ff5115a5-3af4-4846-a721-76952594b023"
   },
   "outputs": [],
   "source": [
    "image = data.chelsea()\n",
    "plt.imshow(image)\n",
    "plt.title('input image')"
   ]
  },
  {
   "cell_type": "markdown",
   "metadata": {},
   "source": [
    "- https://scikit-image.org/docs/dev/auto_examples/features_detection/plot_hog.html"
   ]
  },
  {
   "cell_type": "code",
   "execution_count": null,
   "metadata": {
    "colab": {
     "base_uri": "https://localhost:8080/",
     "height": 307
    },
    "executionInfo": {
     "elapsed": 983,
     "status": "ok",
     "timestamp": 1677990634782,
     "user": {
      "displayName": "Victoria Kim",
      "userId": "08333052824334996602"
     },
     "user_tz": -540
    },
    "id": "EvJKqOOw_lNA",
    "outputId": "5fc7995e-1ec1-4cb9-f1e7-e4b9e51543da"
   },
   "outputs": [],
   "source": [
    "image = color.(data.chelsea())\n",
    "hog_vec, hog_image = feature.(image, visualize=True)\n",
    "\n",
    "print(hog_image.max(), hog_image.min(), image.min(), image.max())\n",
    "print(type(hog_vec), hog_vec.shape, hog_vec[:5])\n",
    "\n",
    "fig, ax = plt.subplots(1, 2, figsize=(12, 6), \n",
    "                      subplot_kw = dict(xticks=[], yticks=[]))\n",
    "ax[0].imshow(image, cmap='gray', vmin=0, vmax=1)\n",
    "ax[0].set_title('input image')\n",
    "\n",
    "ax[1].imshow(hog_image, cmap='gray')\n",
    "ax[1].set_title('Visualization of HOG features')"
   ]
  },
  {
   "cell_type": "markdown",
   "metadata": {
    "id": "Xho3n9p-_lNB"
   },
   "source": [
    "# 안면 인식 알고리즘 구현: linear SVM 사용"
   ]
  },
  {
   "cell_type": "code",
   "execution_count": null,
   "metadata": {
    "executionInfo": {
     "elapsed": 52902,
     "status": "ok",
     "timestamp": 1677990687681,
     "user": {
      "displayName": "Victoria Kim",
      "userId": "08333052824334996602"
     },
     "user_tz": -540
    },
    "id": "-7q8jHsh_lNB"
   },
   "outputs": [],
   "source": [
    "#얼굴 데이터 추출  (최대 1분소요)\n",
    "from sklearn.datasets import fetch_lfw_people\n",
    "faces = fetch_lfw_people()"
   ]
  },
  {
   "cell_type": "code",
   "execution_count": null,
   "metadata": {
    "colab": {
     "base_uri": "https://localhost:8080/"
    },
    "executionInfo": {
     "elapsed": 9,
     "status": "ok",
     "timestamp": 1677990687681,
     "user": {
      "displayName": "Victoria Kim",
      "userId": "08333052824334996602"
     },
     "user_tz": -540
    },
    "id": "GXNOzlvC_lNC",
    "outputId": "8c5151f8-709f-47ac-f20b-eef394d3539e"
   },
   "outputs": [],
   "source": [
    "#1. 긍정 훈련 표본  \n",
    "positive_patches = faces.\n",
    "positive_patches.shape"
   ]
  },
  {
   "cell_type": "code",
   "execution_count": null,
   "metadata": {
    "colab": {
     "base_uri": "https://localhost:8080/"
    },
    "executionInfo": {
     "elapsed": 6,
     "status": "ok",
     "timestamp": 1677990687681,
     "user": {
      "displayName": "Victoria Kim",
      "userId": "08333052824334996602"
     },
     "user_tz": -540
    },
    "id": "6CMf37uu_lNC",
    "outputId": "73004ae8-e547-4585-99c4-a514780b6acb"
   },
   "outputs": [],
   "source": [
    "print(type(faces))\n",
    "print(faces.target_names)\n",
    "print(faces.images.shape)"
   ]
  },
  {
   "cell_type": "code",
   "execution_count": null,
   "metadata": {
    "colab": {
     "base_uri": "https://localhost:8080/",
     "height": 252
    },
    "executionInfo": {
     "elapsed": 2155,
     "status": "ok",
     "timestamp": 1677990689833,
     "user": {
      "displayName": "Victoria Kim",
      "userId": "08333052824334996602"
     },
     "user_tz": -540
    },
    "id": "AUvClPdV_lND",
    "outputId": "4c961331-2f8c-49f5-ce5c-0e934374fa98"
   },
   "outputs": [],
   "source": [
    "skip = 1000\n",
    "fig, axes = plt.subplots(3,8, figsize=(9,4),\n",
    "                         subplot_kw={'xticks':[], 'yticks':[]},\n",
    "                        gridspec_kw=dict(hspace=0.1, wspace=0.1))\n",
    "for i, ax in enumerate(axes.flat):\n",
    "    ax.imshow(positive_patches[i+skip], cmap='bone')\n",
    "plt.show()                            "
   ]
  },
  {
   "cell_type": "code",
   "execution_count": null,
   "metadata": {
    "colab": {
     "base_uri": "https://localhost:8080/"
    },
    "executionInfo": {
     "elapsed": 5,
     "status": "ok",
     "timestamp": 1677990689834,
     "user": {
      "displayName": "Victoria Kim",
      "userId": "08333052824334996602"
     },
     "user_tz": -540
    },
    "id": "S4X4jzOL_lND",
    "outputId": "f5c3441f-a7e0-4f9b-af0d-fe2d7e05cb95"
   },
   "outputs": [],
   "source": [
    "positive_patches[0].shape"
   ]
  },
  {
   "cell_type": "code",
   "execution_count": null,
   "metadata": {
    "colab": {
     "base_uri": "https://localhost:8080/",
     "height": 259
    },
    "executionInfo": {
     "elapsed": 742,
     "status": "ok",
     "timestamp": 1677990690573,
     "user": {
      "displayName": "Victoria Kim",
      "userId": "08333052824334996602"
     },
     "user_tz": -540
    },
    "id": "MNy2UMux_lNE",
    "outputId": "0c93e3da-7367-4b81-d978-01c231a69e87",
    "scrolled": true
   },
   "outputs": [],
   "source": [
    "#2. 부정 훈련 표본\n",
    "from skimage import data, transform\n",
    "images_to_use = ['camera', 'text', 'coins', 'moon', 'page', 'clock', \n",
    "                 'immunohistochemistry','chelsea', 'coffee', 'hubble_deep_field']\n",
    "images = [getattr(data, images_to_use[i])()  for i in range(6)]\n",
    "images = [color.rgb2gray(getattr(data, images_to_use[i])() )\n",
    "          for i in range(6, 10)]\n",
    "print(len(images))\n",
    "\n",
    "fig, axes = plt.subplots(2,5, figsize=(9,4),\n",
    "                         subplot_kw={'xticks':[], 'yticks':[]},\n",
    "                        gridspec_kw=dict(hspace=0.1, wspace=0.1))                    \n",
    "for i, ax in enumerate(axes.flat):\n",
    "    ax.imshow(images[i], cmap='bone')\n",
    "plt.show()"
   ]
  },
  {
   "cell_type": "code",
   "execution_count": null,
   "metadata": {
    "colab": {
     "base_uri": "https://localhost:8080/"
    },
    "executionInfo": {
     "elapsed": 9982,
     "status": "ok",
     "timestamp": 1677990700552,
     "user": {
      "displayName": "Victoria Kim",
      "userId": "08333052824334996602"
     },
     "user_tz": -540
    },
    "id": "WFJ4X_wR_lNE",
    "outputId": "5fdc5451-0766-4233-fc75-6bd43f49b5b1"
   },
   "outputs": [],
   "source": [
    "from sklearn.feature_extraction.image import PatchExtractor\n",
    "\n",
    "def extract_patches(img, N, scale=1.0, patch_size=positive_patches[0].shape):\n",
    "    extracted_patch_size = \\\n",
    "     ((scale * np.array(patch_size)).astype(int))\n",
    "    extractor = PatchExtractor(patch_size=extracted_patch_size,\n",
    "                              max_patches=N, random_state=0)\n",
    "    patches = extractor.transform(img[np.newaxis])\n",
    "    if scale != 1:\n",
    "        patches = np.array([transform.(patch, patch_size)\n",
    "                           for patch in patches])\n",
    "    #print(patches.shape)\n",
    "    return patches\n",
    "\n",
    "negative_patches = ([extract_patches(im, 1000, scale)\n",
    "                            for im in images for scale in [0.5, 1.0, 2.0]])\n",
    "negative_patches.shape"
   ]
  },
  {
   "cell_type": "code",
   "execution_count": null,
   "metadata": {
    "colab": {
     "base_uri": "https://localhost:8080/",
     "height": 639
    },
    "executionInfo": {
     "elapsed": 3387,
     "status": "ok",
     "timestamp": 1677990703930,
     "user": {
      "displayName": "Victoria Kim",
      "userId": "08333052824334996602"
     },
     "user_tz": -540
    },
    "id": "1weBDoPx_lNE",
    "outputId": "835e50a7-c2c8-4136-e82c-2c60f0ff7ca7"
   },
   "outputs": [],
   "source": [
    "fig, ax = plt.subplots(6, 10, figsize=(20, 12))\n",
    "for i, axi in enumerate(ax.flat):\n",
    "    axi.imshow(negative_patches[500*i], cmap='gray')\n",
    "    axi.axis('off')"
   ]
  },
  {
   "cell_type": "code",
   "execution_count": null,
   "metadata": {
    "executionInfo": {
     "elapsed": 4,
     "status": "ok",
     "timestamp": 1677990703930,
     "user": {
      "displayName": "Victoria Kim",
      "userId": "08333052824334996602"
     },
     "user_tz": -540
    },
    "id": "4BwTzApd_lNE"
   },
   "outputs": [],
   "source": []
  },
  {
   "cell_type": "code",
   "execution_count": null,
   "metadata": {
    "executionInfo": {
     "elapsed": 44202,
     "status": "ok",
     "timestamp": 1677990748129,
     "user": {
      "displayName": "Victoria Kim",
      "userId": "08333052824334996602"
     },
     "user_tz": -540
    },
    "id": "l9YpNXfL_lNE"
   },
   "outputs": [],
   "source": [
    "# 집합을 결합하고 HOG 특징 추출\n",
    "from itertools import chain\n",
    "\n",
    "X_train = np.array([feature.hog(im)\n",
    "                   for im in chain(positive_patches, negative_patches)])\n",
    "y_train = (X_train.shape[0])\n",
    "y_train[:positive_patches.shape[0]] = "
   ]
  },
  {
   "cell_type": "code",
   "execution_count": null,
   "metadata": {
    "colab": {
     "base_uri": "https://localhost:8080/"
    },
    "executionInfo": {
     "elapsed": 11,
     "status": "ok",
     "timestamp": 1677990748130,
     "user": {
      "displayName": "Victoria Kim",
      "userId": "08333052824334996602"
     },
     "user_tz": -540
    },
    "id": "sx8lOYU2_lNE",
    "outputId": "3564c8ce-15c4-4669-d435-5688dd373248"
   },
   "outputs": [],
   "source": [
    "X_train.shape"
   ]
  },
  {
   "cell_type": "code",
   "execution_count": null,
   "metadata": {
    "colab": {
     "base_uri": "https://localhost:8080/"
    },
    "executionInfo": {
     "elapsed": 3050,
     "status": "ok",
     "timestamp": 1677990751178,
     "user": {
      "displayName": "Victoria Kim",
      "userId": "08333052824334996602"
     },
     "user_tz": -540
    },
    "id": "mk0J4xAW_lNF",
    "outputId": "cd025852-e6a8-4d7b-edaf-b7f083867864"
   },
   "outputs": [],
   "source": [
    "# Naive Bayes 의 얼굴 분류 성능\n",
    "from sklearn.naive_bayes import GaussianNB\n",
    "from sklearn.model_selection import cross_val_score\n",
    "\n",
    "cross_val_score(GaussianNB(), X_train, y_train)"
   ]
  },
  {
   "cell_type": "code",
   "execution_count": null,
   "metadata": {
    "colab": {
     "base_uri": "https://localhost:8080/"
    },
    "executionInfo": {
     "elapsed": 2275,
     "status": "ok",
     "timestamp": 1677990753444,
     "user": {
      "displayName": "Victoria Kim",
      "userId": "08333052824334996602"
     },
     "user_tz": -540
    },
    "id": "WFFq2_0C_lNF",
    "outputId": "aec8a405-a75b-48d2-f34b-61c911c03e14"
   },
   "outputs": [],
   "source": [
    "np.sum(cross_val_score(GaussianNB(), X_train, y_train))/5"
   ]
  },
  {
   "cell_type": "code",
   "execution_count": null,
   "metadata": {
    "colab": {
     "base_uri": "https://localhost:8080/"
    },
    "executionInfo": {
     "elapsed": 113375,
     "status": "ok",
     "timestamp": 1677990866818,
     "user": {
      "displayName": "Victoria Kim",
      "userId": "08333052824334996602"
     },
     "user_tz": -540
    },
    "id": "CKOgG266_lNF",
    "outputId": "bfd1efe6-c78f-4bd0-852a-8f385a903f19"
   },
   "outputs": [],
   "source": [
    "from sklearn.svm import LinearSVC\n",
    "from sklearn.model_selection import GridSearchCV\n",
    "\n",
    "grid =(LinearSVC(), {'C':[1.0, 2.0, 4.0, 8.0]})\n",
    "grid.fit(X_train, y_train)\n",
    "grid.best_score_"
   ]
  },
  {
   "cell_type": "markdown",
   "metadata": {
    "id": "0j7VELgS_lNF"
   },
   "source": [
    "- https://scikit-learn.org/stable/modules/generated/sklearn.svm.LinearSVC.html"
   ]
  },
  {
   "cell_type": "code",
   "execution_count": null,
   "metadata": {
    "colab": {
     "base_uri": "https://localhost:8080/"
    },
    "executionInfo": {
     "elapsed": 13,
     "status": "ok",
     "timestamp": 1677990866819,
     "user": {
      "displayName": "Victoria Kim",
      "userId": "08333052824334996602"
     },
     "user_tz": -540
    },
    "id": "Tcick6sB_lNF",
    "outputId": "f336b2c8-c39c-4f28-b26e-765863071bcb"
   },
   "outputs": [],
   "source": [
    "grid.best_params_"
   ]
  },
  {
   "cell_type": "code",
   "execution_count": null,
   "metadata": {
    "colab": {
     "base_uri": "https://localhost:8080/",
     "height": 74
    },
    "executionInfo": {
     "elapsed": 6518,
     "status": "ok",
     "timestamp": 1677990873333,
     "user": {
      "displayName": "Victoria Kim",
      "userId": "08333052824334996602"
     },
     "user_tz": -540
    },
    "id": "t-oRW7qb_lNF",
    "outputId": "ba0c4a15-52c9-4838-d8ed-1bd10efb44e3"
   },
   "outputs": [],
   "source": [
    "model = grid.best_estimator_\n",
    "model.fit(X_train, y_train)"
   ]
  },
  {
   "cell_type": "code",
   "execution_count": null,
   "metadata": {
    "colab": {
     "base_uri": "https://localhost:8080/",
     "height": 287
    },
    "executionInfo": {
     "elapsed": 809,
     "status": "ok",
     "timestamp": 1677990874134,
     "user": {
      "displayName": "Victoria Kim",
      "userId": "08333052824334996602"
     },
     "user_tz": -540
    },
    "id": "UMVFruY8_lNF",
    "outputId": "9abf738d-2cb7-40a7-9d27-da2a780553b1"
   },
   "outputs": [],
   "source": [
    "test_image = skimage.data.astronaut()\n",
    "plt.imshow(test_image)"
   ]
  },
  {
   "cell_type": "code",
   "execution_count": null,
   "metadata": {
    "colab": {
     "base_uri": "https://localhost:8080/",
     "height": 287
    },
    "executionInfo": {
     "elapsed": 8,
     "status": "ok",
     "timestamp": 1677990874135,
     "user": {
      "displayName": "Victoria Kim",
      "userId": "08333052824334996602"
     },
     "user_tz": -540
    },
    "id": "CGbnrOEI_lNF",
    "outputId": "3e364a09-d5f0-4b2c-fe7e-0463d801a8ff"
   },
   "outputs": [],
   "source": [
    "test_image = skimage.color.(test_image)\n",
    "plt.imshow(test_image, cmap='gray')"
   ]
  },
  {
   "cell_type": "code",
   "execution_count": null,
   "metadata": {
    "colab": {
     "base_uri": "https://localhost:8080/",
     "height": 287
    },
    "executionInfo": {
     "elapsed": 616,
     "status": "ok",
     "timestamp": 1677990874747,
     "user": {
      "displayName": "Victoria Kim",
      "userId": "08333052824334996602"
     },
     "user_tz": -540
    },
    "id": "7OR2V7sw_lNF",
    "outputId": "bf37b15a-b526-4e65-e061-f989f589719e"
   },
   "outputs": [],
   "source": [
    "test_image = skimage.transform.(test_image, 0.5)\n",
    "test_image = test_image[:160, 40:180]\n",
    "\n",
    "plt.imshow(test_image, cmap='gray')"
   ]
  },
  {
   "cell_type": "code",
   "execution_count": null,
   "metadata": {
    "executionInfo": {
     "elapsed": 8,
     "status": "ok",
     "timestamp": 1677990874747,
     "user": {
      "displayName": "Victoria Kim",
      "userId": "08333052824334996602"
     },
     "user_tz": -540
    },
    "id": "yxrtdqzU_lNG"
   },
   "outputs": [],
   "source": [
    "def sliding_window(img, patch_size=positive_patches[0].shape,\n",
    "                  istep=2, jstep=2):\n",
    "    \n",
    "    Ni, Nj = patch_size\n",
    "\n",
    "    for i in range(0, img.shape[ ] - Ni, istep): #Ni:rows\n",
    "        for j in range(0, img.shape[ ] - Nj, jstep):  #Nj:columns\n",
    "            patch = img[i:i+ , j:j+ ]\n",
    "             (i, j), patch  # generator"
   ]
  },
  {
   "cell_type": "code",
   "execution_count": null,
   "metadata": {
    "colab": {
     "base_uri": "https://localhost:8080/"
    },
    "executionInfo": {
     "elapsed": 1338,
     "status": "ok",
     "timestamp": 1677990876079,
     "user": {
      "displayName": "Victoria Kim",
      "userId": "08333052824334996602"
     },
     "user_tz": -540
    },
    "id": "SZK6aZmt_lNG",
    "outputId": "193ab007-2b2a-47be-e678-072a23825d9a"
   },
   "outputs": [],
   "source": [
    "indices, patches = zip( sliding_window(test_image))\n",
    "patches_hog = np.array([feature.hog(patch) for patch in patches])\n",
    "patches_hog.shape"
   ]
  },
  {
   "cell_type": "code",
   "execution_count": null,
   "metadata": {
    "colab": {
     "base_uri": "https://localhost:8080/"
    },
    "executionInfo": {
     "elapsed": 2,
     "status": "ok",
     "timestamp": 1677990876079,
     "user": {
      "displayName": "Victoria Kim",
      "userId": "08333052824334996602"
     },
     "user_tz": -540
    },
    "id": "k0oaQ3ZH_lNG",
    "outputId": "a5a54f0d-33f7-4520-c7fe-82e26a37b895"
   },
   "outputs": [],
   "source": [
    "labels = model.predict(patches_hog)\n",
    "labels.sum()"
   ]
  },
  {
   "cell_type": "code",
   "execution_count": null,
   "metadata": {
    "colab": {
     "base_uri": "https://localhost:8080/",
     "height": 248
    },
    "executionInfo": {
     "elapsed": 848,
     "status": "ok",
     "timestamp": 1677990876926,
     "user": {
      "displayName": "Victoria Kim",
      "userId": "08333052824334996602"
     },
     "user_tz": -540
    },
    "id": "9vyqRAkq_lNG",
    "outputId": "6b21761d-536e-4060-a2d8-0dfc875fc5b3"
   },
   "outputs": [],
   "source": [
    "fig, ax = plt.subplots()\n",
    "ax.imshow(test_image, cmap='gray')\n",
    "ax.axis('off')\n",
    "\n",
    "Ni, Nj = positive_patches[0].shape\n",
    "indices = np.array(indices)\n",
    "\n",
    "idxList=[]\n",
    "for i, j in indices[labels  ]:\n",
    "    ax.add_patch(plt.Rectangle((j,i), Nj, Ni, edgecolor='red',\n",
    "                              alpha=0.3, lw=2, facecolor='none'))\n",
    "    idxList.append([ , ])   # 사각형의 중앙 위치를 찾기 위함"
   ]
  },
  {
   "cell_type": "code",
   "execution_count": null,
   "metadata": {
    "colab": {
     "base_uri": "https://localhost:8080/"
    },
    "executionInfo": {
     "elapsed": 11,
     "status": "ok",
     "timestamp": 1677990876927,
     "user": {
      "displayName": "Victoria Kim",
      "userId": "08333052824334996602"
     },
     "user_tz": -540
    },
    "id": "LlR6lHDY_lNG",
    "outputId": "17a7b6f3-16a5-4cbf-9166-56dd92d16559"
   },
   "outputs": [],
   "source": [
    "print(idxList)"
   ]
  },
  {
   "cell_type": "code",
   "execution_count": null,
   "metadata": {
    "executionInfo": {
     "elapsed": 9,
     "status": "ok",
     "timestamp": 1677990876927,
     "user": {
      "displayName": "Victoria Kim",
      "userId": "08333052824334996602"
     },
     "user_tz": -540
    },
    "id": "rx6a4SIU_lNG"
   },
   "outputs": [],
   "source": [
    "idx = (idxList)"
   ]
  },
  {
   "cell_type": "code",
   "execution_count": null,
   "metadata": {
    "colab": {
     "base_uri": "https://localhost:8080/"
    },
    "executionInfo": {
     "elapsed": 9,
     "status": "ok",
     "timestamp": 1677990876927,
     "user": {
      "displayName": "Victoria Kim",
      "userId": "08333052824334996602"
     },
     "user_tz": -540
    },
    "id": "vgPsJLEl_lNG",
    "outputId": "a830fe01-d879-4700-99cb-7e72e49c7f8f"
   },
   "outputs": [],
   "source": [
    "idx.mean(axis= )"
   ]
  },
  {
   "cell_type": "code",
   "execution_count": null,
   "metadata": {
    "colab": {
     "base_uri": "https://localhost:8080/"
    },
    "executionInfo": {
     "elapsed": 7,
     "status": "ok",
     "timestamp": 1677990876927,
     "user": {
      "displayName": "Victoria Kim",
      "userId": "08333052824334996602"
     },
     "user_tz": -540
    },
    "id": "xaNzOsEa_lNG",
    "outputId": "9a1777d7-3aa8-4e1f-9928-f52d62ef3214"
   },
   "outputs": [],
   "source": [
    "i, j = \n",
    "i, j"
   ]
  },
  {
   "cell_type": "code",
   "execution_count": null,
   "metadata": {
    "colab": {
     "base_uri": "https://localhost:8080/"
    },
    "executionInfo": {
     "elapsed": 7,
     "status": "ok",
     "timestamp": 1677990876928,
     "user": {
      "displayName": "Victoria Kim",
      "userId": "08333052824334996602"
     },
     "user_tz": -540
    },
    "id": "zLvy_gD-_lNH",
    "outputId": "dd8946f2-af0c-46cd-f1c6-4034cb25185f"
   },
   "outputs": [],
   "source": [
    "Ni, Nj = positive_patches[0].shape\n",
    "Ni, Nj"
   ]
  },
  {
   "cell_type": "code",
   "execution_count": null,
   "metadata": {
    "colab": {
     "base_uri": "https://localhost:8080/",
     "height": 248
    },
    "executionInfo": {
     "elapsed": 468,
     "status": "ok",
     "timestamp": 1677990877389,
     "user": {
      "displayName": "Victoria Kim",
      "userId": "08333052824334996602"
     },
     "user_tz": -540
    },
    "id": "V_z4xbsy_lNH",
    "outputId": "2304138f-73f9-45bf-8c10-9295bf6bd29d"
   },
   "outputs": [],
   "source": [
    "fig, ax = plt.subplots()\n",
    "ax.imshow(test_image, cmap='gray')\n",
    "ax.axis('off')\n",
    "Ni, Nj = positive_patches[0].shape\n",
    "ax.add_patch(plt.Rectangle( (j,i), Nj, Ni, edgecolor='red',\n",
    "                              alpha=0.5, lw=5, facecolor='none'))\n",
    "plt.show()"
   ]
  },
  {
   "cell_type": "code",
   "execution_count": null,
   "metadata": {
    "colab": {
     "base_uri": "https://localhost:8080/",
     "height": 268
    },
    "executionInfo": {
     "elapsed": 11,
     "status": "ok",
     "timestamp": 1677990877389,
     "user": {
      "displayName": "Victoria Kim",
      "userId": "08333052824334996602"
     },
     "user_tz": -540
    },
    "id": "7b_m6doV_lNH",
    "outputId": "08c21c3b-5a4c-4a0c-ed59-691c6eafd3a7"
   },
   "outputs": [],
   "source": [
    "plt.imshow(test_image[  ,  ], cmap='gray')\n",
    "plt.show()"
   ]
  },
  {
   "cell_type": "code",
   "execution_count": null,
   "metadata": {
    "executionInfo": {
     "elapsed": 8,
     "status": "ok",
     "timestamp": 1677990877389,
     "user": {
      "displayName": "Victoria Kim",
      "userId": "08333052824334996602"
     },
     "user_tz": -540
    },
    "id": "BrTQSErh_lNH"
   },
   "outputs": [],
   "source": []
  },
  {
   "cell_type": "code",
   "execution_count": null,
   "metadata": {
    "executionInfo": {
     "elapsed": 7,
     "status": "ok",
     "timestamp": 1677990877389,
     "user": {
      "displayName": "Victoria Kim",
      "userId": "08333052824334996602"
     },
     "user_tz": -540
    },
    "id": "rCvX1wuQ_lNH"
   },
   "outputs": [],
   "source": []
  },
  {
   "cell_type": "code",
   "execution_count": null,
   "metadata": {
    "executionInfo": {
     "elapsed": 7,
     "status": "ok",
     "timestamp": 1677990877390,
     "user": {
      "displayName": "Victoria Kim",
      "userId": "08333052824334996602"
     },
     "user_tz": -540
    },
    "id": "8cZiOQwQ_lNH"
   },
   "outputs": [],
   "source": []
  },
  {
   "cell_type": "code",
   "execution_count": null,
   "metadata": {
    "executionInfo": {
     "elapsed": 7,
     "status": "ok",
     "timestamp": 1677990877390,
     "user": {
      "displayName": "Victoria Kim",
      "userId": "08333052824334996602"
     },
     "user_tz": -540
    },
    "id": "VDGxSaCD_lNH"
   },
   "outputs": [],
   "source": []
  },
  {
   "cell_type": "code",
   "execution_count": null,
   "metadata": {
    "executionInfo": {
     "elapsed": 7,
     "status": "ok",
     "timestamp": 1677990877390,
     "user": {
      "displayName": "Victoria Kim",
      "userId": "08333052824334996602"
     },
     "user_tz": -540
    },
    "id": "7uJ64xyo_lNH"
   },
   "outputs": [],
   "source": []
  },
  {
   "cell_type": "code",
   "execution_count": null,
   "metadata": {
    "executionInfo": {
     "elapsed": 6,
     "status": "ok",
     "timestamp": 1677990877390,
     "user": {
      "displayName": "Victoria Kim",
      "userId": "08333052824334996602"
     },
     "user_tz": -540
    },
    "id": "innWQHeP_lNH"
   },
   "outputs": [],
   "source": []
  },
  {
   "cell_type": "code",
   "execution_count": null,
   "metadata": {
    "executionInfo": {
     "elapsed": 6,
     "status": "ok",
     "timestamp": 1677990877390,
     "user": {
      "displayName": "Victoria Kim",
      "userId": "08333052824334996602"
     },
     "user_tz": -540
    },
    "id": "P1jl4FUA_lNI"
   },
   "outputs": [],
   "source": []
  }
 ],
 "metadata": {
  "colab": {
   "provenance": []
  },
  "gpuClass": "standard",
  "kernelspec": {
   "display_name": "Python 3 (ipykernel)",
   "language": "python",
   "name": "python3"
  },
  "language_info": {
   "codemirror_mode": {
    "name": "ipython",
    "version": 3
   },
   "file_extension": ".py",
   "mimetype": "text/x-python",
   "name": "python",
   "nbconvert_exporter": "python",
   "pygments_lexer": "ipython3",
   "version": "3.9.13"
  }
 },
 "nbformat": 4,
 "nbformat_minor": 1
}
