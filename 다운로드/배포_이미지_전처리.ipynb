{
 "cells": [
  {
   "cell_type": "markdown",
   "metadata": {
    "id": "ooVMA_w271CU"
   },
   "source": [
    "# **About OpenCV**\n",
    "* Officially launched in 1999, OpenCV (Open Source Computer Vision) from an Intel initiative.\n",
    "* OpenCV’s core is written in C++. In python we are simply using a wrapper that executes C++ code inside of python.\n",
    "* First major release 1.0 was in 2006, second in 2009, third in 2015 and 4th in 2018. with OpenCV 4.0 Beta.\n",
    "* It is an Open source library containing over 2500 optimized algorithms.\n",
    "* It is EXTREMELY useful for almost all computer vision applications and is supported on Windows, Linux, MacOS, Android, iOS with bindings to Python, Java and Matlab. \n",
    "* https://docs.opencv.org/4.x/index.html\n",
    "- https://docs.opencv.org/4.5.4/d7/da8/tutorial_table_of_content_imgproc.html"
   ]
  },
  {
   "cell_type": "markdown",
   "metadata": {
    "id": "oj1FS60X71CW"
   },
   "source": [
    "\n"
   ]
  },
  {
   "cell_type": "code",
   "execution_count": null,
   "metadata": {
    "colab": {
     "base_uri": "https://localhost:8080/",
     "height": 35
    },
    "id": "7x7do7Qf71CX",
    "outputId": "626dcb9f-2591-4258-e4ee-ff4903dcac62"
   },
   "outputs": [],
   "source": [
    "import numpy as np\n",
    "import matplotlib.pyplot as plt\n",
    "import cv2\n",
    "cv2.__version__"
   ]
  },
  {
   "cell_type": "code",
   "execution_count": null,
   "metadata": {
    "colab": {
     "base_uri": "https://localhost:8080/"
    },
    "id": "v_bPEEW679Vc",
    "outputId": "38c832c6-c1a7-415f-cd2a-8d3175c654ec"
   },
   "outputs": [],
   "source": [
    "from google.colab import drive\n",
    "drive.mount('/content/drive')"
   ]
  },
  {
   "cell_type": "code",
   "execution_count": null,
   "metadata": {
    "id": "JHzN7vjP71CY"
   },
   "outputs": [],
   "source": [
    "IMG_DIR = '/content/drive/MyDrive/ICTIS_2023/img/preprocessing/'"
   ]
  },
  {
   "cell_type": "markdown",
   "metadata": {
    "id": "cURn_8qP71CZ"
   },
   "source": [
    "# matplotlib vs. openCV"
   ]
  },
  {
   "cell_type": "code",
   "execution_count": null,
   "metadata": {
    "colab": {
     "base_uri": "https://localhost:8080/"
    },
    "id": "UocgN8wa71CZ",
    "outputId": "0a0c8ecb-d610-4e02-f761-569612dad370"
   },
   "outputs": [],
   "source": [
    "img_list = ['chest_01.png', 'chest_02.png','chest_03.png']\n",
    "for file in img_list:\n",
    "    file_path = IMG_DIR + file\n",
    "    image1 = plt.imread(file_path)\n",
    "    print(f\"FILE........: {file_path}\")\n",
    "    print(f\"Original....: {image1.min()}, {image1.max() }\")\n",
    "    image2 = cv2.imread(file_path, cv2.IMREAD_GRAYSCALE)\n",
    "    print(f\"GrayScaled..: {image2.min()}, {image2.max() }\\n\")"
   ]
  },
  {
   "cell_type": "markdown",
   "metadata": {
    "id": "Q7EXBAPK71Ca"
   },
   "source": [
    "# 1. 그레이 영상과 컬러영상\n",
    "- https://docs.opencv.org/3.4/d8/d01/group__imgproc__color__conversions.html#ga397ae87e1288a81d2363b61574eb8cab"
   ]
  },
  {
   "cell_type": "code",
   "execution_count": null,
   "metadata": {
    "colab": {
     "base_uri": "https://localhost:8080/",
     "height": 471
    },
    "id": "KRxeQXBQ71Ca",
    "outputId": "be6e6c21-1eba-4772-d285-3d52ba8fdae6"
   },
   "outputs": [],
   "source": [
    "image1 = cv2.imread(IMG_DIR+'apple.jpg',cv2.IMREAD_GRAYSCALE)\n",
    "print('영상1의 shape:', image1.shape)\n",
    "\n",
    "image2 = cv2.imread(IMG_DIR+'apple.jpg')\n",
    "image2 = cv2.cvtColor(image2, cv2.COLOR_ )\n",
    "print('영상2의 shape:', image2.shape)\n",
    "\n",
    "plt.figure(figsize=(10, 5))\n",
    "plt.subplot(1, 2, 1)\n",
    "plt.title(\"Gray image\")\n",
    "plt.imshow(image1, cmap='gray', vmin=0, vmax=255)\n",
    "\n",
    "plt.subplot(1, 2, 2)\n",
    "plt.title(\"Color image\")\n",
    "plt.imshow(image2)\n",
    "plt.show()"
   ]
  },
  {
   "cell_type": "markdown",
   "metadata": {
    "id": "84uriGOA71Cc"
   },
   "source": [
    "### color 영상을 R, G, B 각 영상으로 분할해 보기"
   ]
  },
  {
   "cell_type": "code",
   "execution_count": null,
   "metadata": {
    "colab": {
     "base_uri": "https://localhost:8080/",
     "height": 757
    },
    "id": "CIvt3Ozr6A_R",
    "outputId": "b81ceaab-a942-489d-e19e-a99073759e32"
   },
   "outputs": [],
   "source": [
    "image2 = cv2.imread(IMG_DIR+'apple.jpg')\n",
    "image2 = cv2.cvtColor(image2, cv2.COLOR_BGR2RGB)\n",
    "print(image2.shape, type(image2))\n",
    "\n",
    "plt.figure(figsize=(20, 10))\n",
    "plt.subplot(2, 4, 1)\n",
    "plt.title(\"Original image\")\n",
    "plt.imshow(image2)\n",
    "plt.subplot(2, 4, 2)\n",
    "plt.title(\"Red\")\n",
    "plt.imshow(image2[:,:, ], cmap='Reds', vmin=0, vmax=255)\n",
    "plt.subplot(2, 4, 3)\n",
    "plt.title(\"Green\")\n",
    "plt.imshow(image2[:,:, ], cmap='Greens', vmin=0, vmax=255)\n",
    "plt.subplot(2, 4, 4)\n",
    "plt.title(\"Blue\")\n",
    "plt.imshow(image2[:,:, ], cmap='Blues', vmin=0, vmax=255)\n",
    "plt.subplot(2, 4, 5).set_visible(False)\n",
    "plt.subplot(2, 4, 6)\n",
    "plt.title(\"Red\")\n",
    "plt.imshow(image2[:,:,  ], cmap='gray', vmin=0, vmax=255)\n",
    "plt.subplot(2, 4, 7)\n",
    "plt.title(\"Green\")\n",
    "plt.imshow(image2[:,:, ], cmap='gray', vmin=0, vmax=255)\n",
    "plt.subplot(2, 4, 8)\n",
    "plt.title(\"Blue\")\n",
    "plt.imshow(image2[:,:, ], cmap='gray', vmin=0, vmax=255)\n",
    "plt.show()"
   ]
  },
  {
   "cell_type": "markdown",
   "metadata": {
    "id": "VMFYBu3f71Ce"
   },
   "source": [
    "# 2.히스토그램"
   ]
  },
  {
   "cell_type": "markdown",
   "metadata": {
    "id": "Zym58L_U71Ce"
   },
   "source": [
    "- https://docs.opencv.org/4.5.4/d8/dbc/tutorial_histogram_calculation.html"
   ]
  },
  {
   "cell_type": "markdown",
   "metadata": {
    "id": "XNKqlS7L71Ce"
   },
   "source": [
    "## 2.1 밝기가 다른 두 영상의 히스토그램 비교"
   ]
  },
  {
   "cell_type": "code",
   "execution_count": null,
   "metadata": {
    "colab": {
     "base_uri": "https://localhost:8080/",
     "height": 926
    },
    "id": "xmqK8jIq71Ce",
    "outputId": "334b8d41-500d-42d2-d407-eaec3a1106f7"
   },
   "outputs": [],
   "source": [
    "image1 = cv2.imread(IMG_DIR+'chest_01.png',cv2.IMREAD_GRAYSCALE)\n",
    "print(image1.shape)\n",
    "image1_hist = cv2. ([image1], [0], None, [256], [0,256])\n",
    "print('영상 1의 shape:', image1.shape)\n",
    "print('결과 히스토그램의 길이와 타입:', len(image1_hist), type(image1_hist), image1_hist.shape)\n",
    "\n",
    "plt.figure(figsize=(10, 10))\n",
    "plt.subplot(2, 2, 1)\n",
    "plt.title(\"Gray image\")\n",
    "plt.imshow(image1, cmap='gray', vmin=0, vmax=255)\n",
    "plt.subplot(2, 2, 3)\n",
    "plt.title(\"Histogram\")\n",
    "plt.bar(range(len(image1_hist)), image1_hist.reshape(-1,))\n",
    "\n",
    "\n",
    "image2 = cv2.imread(IMG_DIR+'chest_02.png',cv2.IMREAD_GRAYSCALE)\n",
    "print(image2.shape)\n",
    "image2_hist = cv2.calcHist([image2], [0], None, [256], [0,256])\n",
    "\n",
    "plt.subplot(2, 2, 2)\n",
    "plt.title(\"Gray image\")\n",
    "plt.imshow(image2, cmap='gray', vmin=0, vmax=255)\n",
    "plt.subplot(2, 2, 4)\n",
    "plt.title(\"Histogram\")\n",
    "plt.bar(range(len(image2_hist)), image2_hist.flatten())\n",
    "plt.show()"
   ]
  },
  {
   "cell_type": "markdown",
   "metadata": {
    "id": "vbDomjfm71Cg"
   },
   "source": [
    "## 2.2 산술연산: 영상의 밝기 조절"
   ]
  },
  {
   "cell_type": "markdown",
   "metadata": {
    "id": "X3IpIPKD71Ch"
   },
   "source": [
    "####  cv2.convertScaleAbs()\n",
    "- https://docs.opencv.org/3.4/d2/de8/group__core__array.html#ga3460e9c9f37b563ab9dd550c4d8c4e7d"
   ]
  },
  {
   "cell_type": "code",
   "execution_count": null,
   "metadata": {
    "colab": {
     "base_uri": "https://localhost:8080/",
     "height": 907
    },
    "id": "tMELkVcS71Ch",
    "outputId": "6215ebcd-07ba-4a21-b9fd-c30a7431574c"
   },
   "outputs": [],
   "source": [
    "image = cv2.imread(IMG_DIR+'apple.jpg',cv2.IMREAD_GRAYSCALE)\n",
    "print(image.shape)\n",
    "image_hist = cv2.calcHist([image], [0], None, [256], [0,256])\n",
    "\n",
    "num = int(input('조절할 밝기(-:어둡게, +:밝게): '))\n",
    "dst = cv2.convertScaleAbs(image  + num)\n",
    "\n",
    "dst_hist = cv2.calcHist([dst], [0], None, [256], [0,256])\n",
    "print('최댓값:',np.max(dst), '최솟값:', np.min(dst))\n",
    "\n",
    "plt.figure(figsize=(10, 10))\n",
    "plt.subplot(2, 2, 1)\n",
    "plt.title(\"Original image\")\n",
    "plt.imshow(image, cmap='gray', vmin=0, vmax=255)\n",
    "\n",
    "plt.subplot(2, 2, 2)\n",
    "plt.title(\"Brighteness Adjusted image\")\n",
    "plt.imshow(dst, cmap='gray', vmin=0, vmax=255)\n",
    "\n",
    "plt.subplot(2, 2, 3)\n",
    "plt.title(\"Histogram\")\n",
    "plt.bar(range(len(image_hist)), image_hist.flatten())\n",
    "\n",
    "plt.subplot(2, 2, 4)\n",
    "plt.title(\"Histogram\")\n",
    "plt.bar(range(len(dst_hist)), dst_hist.flatten())\n",
    "plt.show()"
   ]
  },
  {
   "cell_type": "markdown",
   "metadata": {
    "id": "oZxckFCd71Cn"
   },
   "source": [
    "# 3. Convolution\n",
    "- https://en.wikipedia.org/wiki/Kernel_(image_processing)"
   ]
  },
  {
   "cell_type": "markdown",
   "metadata": {
    "id": "sqJcFowh71Cn"
   },
   "source": [
    "## 3.1 Convolution: Blurring"
   ]
  },
  {
   "cell_type": "code",
   "execution_count": null,
   "metadata": {
    "colab": {
     "base_uri": "https://localhost:8080/",
     "height": 339
    },
    "id": "9438Uaip71Cn",
    "outputId": "867ea03d-b458-441a-a60d-130c6347050a"
   },
   "outputs": [],
   "source": [
    "image = cv2.imread(IMG_DIR+'pic2.png')\n",
    "src = cv2.cvtColor(image, cv2.COLOR_BGR2RGB)\n",
    "ksize=5  # 7\n",
    "dst1= cv2. (src, (ksize, ksize))\n",
    "\n",
    "plt.figure(figsize=(15, 5))\n",
    "plt.subplot(1, 3, 1)\n",
    "plt.title(\"Original image\")\n",
    "plt.imshow(src )\n",
    "\n",
    "plt.subplot(1, 3, 2)\n",
    "plt.title(\"Blured\")\n",
    "plt.imshow(dst1)\n",
    "\n",
    "dst2= cv2.GaussianBlur(src, (ksize, ksize), 2)\n",
    "plt.subplot(1, 3, 3)\n",
    "plt.title(\"Gaussian blured\")\n",
    "plt.imshow(dst2)\n",
    "plt.show()"
   ]
  },
  {
   "cell_type": "markdown",
   "metadata": {
    "id": "qnqsza3f71Cp"
   },
   "source": [
    "\n",
    "## 3.2 Convolution: Sharpening"
   ]
  },
  {
   "cell_type": "markdown",
   "metadata": {
    "id": "zyw_oU9M71Cp"
   },
   "source": [
    "#### cv2.addWeighted\n",
    "- https://docs.opencv.org/3.4/d2/de8/group__core__array.html#gafafb2513349db3bcff51f54ee5592a19\n",
    "\n",
    "#### cv2.filter2D\n",
    "- https://docs.opencv.org/3.4/d4/d86/group__imgproc__filter.html#ga27c049795ce870216ddfb366086b5a04"
   ]
  },
  {
   "cell_type": "code",
   "execution_count": null,
   "metadata": {
    "colab": {
     "base_uri": "https://localhost:8080/",
     "height": 935
    },
    "id": "0vljW4BJ71Cp",
    "outputId": "c18e55ab-500c-49b6-b4eb-629e132e9b1c"
   },
   "outputs": [],
   "source": [
    "image = cv2.imread(IMG_DIR+'Lena.jpg',cv2.IMREAD_GRAYSCALE)\n",
    "\n",
    "kernel_sharpening = np.array([[ ], \n",
    "                              [ ], \n",
    "                              [  ]])\n",
    "\n",
    "sharpened = cv2.filter2D(image, -1, kernel_sharpening)\n",
    "\n",
    "\n",
    "laplacian_1 = np.array([[0, -1, 0], \n",
    "                      [-1, 5, -1], \n",
    "                      [0, -1, 0]])\n",
    "laplacian_2 = np.array([[1, -2, 1], \n",
    "                      [-2, 5, -2], \n",
    "                      [1, -2, 1]])\n",
    "laplacian_1 = cv2.convertScaleAbs(cv2.filter2D(image, -1, laplacian_1))\n",
    "\n",
    "laplacian_2 = cv2.convertScaleAbs(cv2.filter2D(image, -1, laplacian_2))\n",
    "\n",
    "laplacian_sharpened = cv2.addWeighted(laplacian_1, 0.5, laplacian_2, 0.5, 0)\n",
    "\n",
    "plt.figure(figsize=(15, 10))\n",
    "plt.subplot(2, 3, 1)\n",
    "plt.title(\"Original\")\n",
    "plt.imshow(image, cmap='gray')\n",
    "print(image.min(), image.max())\n",
    "\n",
    "plt.subplot(2, 3, 2)\n",
    "plt.title(\"Kernel Sharpened\")\n",
    "plt.imshow(sharpened, cmap='gray', vmin=0, vmax=255)\n",
    "print(sharpened.min(),sharpened.max())\n",
    "plt.subplot(2, 3, 3)\n",
    "plt.title(\"Laplacian Sharpened\")\n",
    "plt.imshow(laplacian_sharpened, cmap='gray', vmin=0, vmax=255)\n",
    "print(laplacian_sharpened.min(), laplacian_sharpened.max())\n",
    "plt.subplot(2, 3, 4).set_visible(False)\n",
    "plt.subplot(2, 3, 5)\n",
    "plt.title(\"Laplacian 1\")\n",
    "plt.imshow(laplacian_1, cmap='gray')\n",
    "print(laplacian_1.min(), laplacian_1.max())\n",
    "plt.subplot(2, 3, 6)\n",
    "plt.title(\"Laplacian 2\")\n",
    "plt.imshow(laplacian_2, cmap='gray', vmin=0, vmax=255)\n",
    "print(laplacian_2.min(), laplacian_2.max())\n",
    "plt.show()"
   ]
  },
  {
   "cell_type": "markdown",
   "metadata": {
    "id": "RALsOmQm71Cs"
   },
   "source": [
    "## 3.3 Convolution: 에지(모서리) 추출"
   ]
  },
  {
   "cell_type": "code",
   "execution_count": null,
   "metadata": {
    "colab": {
     "base_uri": "https://localhost:8080/",
     "height": 995
    },
    "id": "6kl74mH871Cs",
    "outputId": "c08fd1c8-1069-48e9-8ce0-3ba7663b965f"
   },
   "outputs": [],
   "source": [
    "gray = cv2.imread(IMG_DIR+'Lena.jpg', cv2.IMREAD_GRAYSCALE) # 그레이 스케일 영상\n",
    "\n",
    "roberts_x = np.array([[+1, 0, 0], \n",
    "                      [0, -1, 0], \n",
    "                      [0, 0, 0]])\n",
    "\n",
    "roberts_y = np.array([[0, 0, +1], \n",
    "                      [0, -1, 0], \n",
    "                      [0, 0, 0]])\n",
    "\n",
    "prewitt_x = np.array([[1, 0, -1], \n",
    "                      [1, 0, -1], \n",
    "                      [1, 0, -1]])\n",
    "prewitt_y = np.array([[1, 1, 1], \n",
    "                      [0, 0, 0], \n",
    "                      [-1, -1, -1]])\n",
    "sobel_x = np.array([[ ], \n",
    "                    [ ], \n",
    "                    [ ]])\n",
    "sobel_y = np.array([[ ], \n",
    "                    [ ], \n",
    "                    [ ]])\n",
    "\n",
    "ridge1_k = np.array([[0, -1, 0], \n",
    "                 [-1, 4,-1], \n",
    "                 [0, -1, 0]])\n",
    "\n",
    "ridge2_k = np.array([[-1, -1, -1], \n",
    "                 [-1, 8,-1], \n",
    "                 [-1, -1, -1]])\n",
    "\n",
    "\n",
    "roberts_x = cv2.convertScaleAbs(cv2.filter2D(gray, -1, roberts_x))\n",
    "roberts_y = cv2.convertScaleAbs(cv2.filter2D(gray, -1, roberts_y))\n",
    "\n",
    "prewitt_x = cv2.convertScaleAbs(cv2.filter2D(gray, -1, prewitt_x))\n",
    "prewitt_y = cv2.convertScaleAbs(cv2.filter2D(gray, -1, prewitt_y))\n",
    "\n",
    "sobel_x = cv2.convertScaleAbs(cv2.filter2D(gray, -1, sobel_x))\n",
    "sobel_y = cv2.convertScaleAbs(cv2.filter2D(gray, -1, sobel_y))\n",
    "\n",
    "prewitt = cv2.addWeighted(prewitt_x, 1, prewitt_y, 1, 0)\n",
    "roberts = cv2.addWeighted(roberts_x, 1, roberts_y, 1, 0)\n",
    "sobel = cv2.addWeighted(sobel_x, 1, sobel_y, 1, 0)\n",
    "\n",
    "\n",
    "ridge1 = cv2.convertScaleAbs(cv2.filter2D(gray, -1, ridge1_k))\n",
    "ridge2 = cv2.convertScaleAbs(cv2.filter2D(gray, -1, ridge2_k))\n",
    "\n",
    "\n",
    "plt.figure(figsize=(15,11))\n",
    "plt.subplot(2, 3, 1)\n",
    "plt.title(\"Original\")\n",
    "plt.imshow( gray, cmap='gray', vmin=0, vmax=255)\n",
    "print(gray.min(), gray.max())\n",
    "\n",
    "plt.subplot(2, 3, 2)\n",
    "plt.title(\"Prewitt\")\n",
    "plt.imshow( prewitt, cmap='gray', vmin=0, vmax=255)\n",
    "print(gray.min(), gray.max())\n",
    "\n",
    "plt.subplot(2, 3, 3)\n",
    "plt.title(\"Sobel\")\n",
    "plt.imshow( sobel, cmap='gray', vmin=0, vmax=255)\n",
    "print(prewitt.min(), prewitt.max())\n",
    "\n",
    "plt.subplot(2, 3, 4)\n",
    "plt.title(\"Roberts\")\n",
    "plt.imshow( roberts, cmap='gray', vmin=0, vmax=255)\n",
    "print(roberts.min(), roberts.max())\n",
    "\n",
    "plt.subplot(2, 3, 5)\n",
    "plt.title(\"Ridge1\")\n",
    "plt.imshow( ridge1, cmap='gray', vmin=0, vmax=255)\n",
    "print(ridge1.min(), ridge1.max())\n",
    "\n",
    "plt.subplot(2, 3, 6)\n",
    "plt.title(\"Ridge2\")\n",
    "plt.imshow( ridge2, cmap='gray', vmin=0, vmax=255)\n",
    "print(ridge2.min(), ridge2.max())\n",
    "\n",
    "plt.show()"
   ]
  },
  {
   "cell_type": "markdown",
   "metadata": {
    "id": "9V7MuWwf71Ct"
   },
   "source": [
    "#### edge detector Laplacian\n",
    "- https://docs.opencv.org/3.4/d4/d86/group__imgproc__filter.html#gad78703e4c8fe703d479c1860d76429e6\n",
    "\n",
    "#### edge detector Sobel\n",
    "- https://docs.opencv.org/3.4/d4/d86/group__imgproc__filter.html#gacea54f142e81b6758cb6f375ce782c8d"
   ]
  },
  {
   "cell_type": "markdown",
   "metadata": {
    "id": "yaRxx9XQ71Cv"
   },
   "source": [
    "## 3.4. 팽창(Dilation), 침식(Erosion)\n",
    "- https://docs.opencv.org/3.4/db/df6/tutorial_erosion_dilatation.html"
   ]
  },
  {
   "cell_type": "code",
   "execution_count": null,
   "metadata": {
    "colab": {
     "base_uri": "https://localhost:8080/",
     "height": 424
    },
    "id": "jfJBQ9y64t9g",
    "outputId": "a68e93c0-ea30-4c39-e120-c23091488d89"
   },
   "outputs": [],
   "source": [
    "image = cv2.imread(IMG_DIR+'Lena.jpg', cv2.IMREAD_GRAYSCALE)\n",
    "#image= cv2.cvtColor(image, cv2.COLOR_BGR2RGB)\n",
    "plt.figure(figsize=(15, 5))\n",
    "plt.subplot(1, 3, 2)\n",
    "plt.title(\"Original\")\n",
    "plt.imshow(image, cmap='gray', vmin=0, vmax=255)\n",
    "\n",
    "# Let's define our kernel size\n",
    "kernel = np.ones((5,5), np.uint8)\n",
    "\n",
    "# Now we erode\n",
    "erosion = cv2. (image, kernel, iterations = 1)\n",
    "plt.subplot(1, 3, 1)\n",
    "plt.title(\"Erosion\")\n",
    "plt.imshow(erosion, cmap='gray', vmin=0, vmax=255)\n",
    "\n",
    "dilation = cv2. (image, kernel, iterations = 1)\n",
    "plt.subplot(1, 3, 3)\n",
    "plt.title(\"Dilation\")\n",
    "plt.imshow(dilation, cmap='gray', vmin=0, vmax=255)\n",
    "plt.show()"
   ]
  },
  {
   "cell_type": "code",
   "execution_count": null,
   "metadata": {
    "id": "vXT65_z571Cw"
   },
   "outputs": [],
   "source": []
  },
  {
   "cell_type": "markdown",
   "metadata": {
    "id": "IVdg2kHR71Cj"
   },
   "source": [
    "# 4. Affine Transform\n",
    "\n",
    "- https://docs.opencv.org/3.4/da/d54/group__imgproc__transform.html#ga0203d9ee5fcd28d40dbc4a1ea4451983\n",
    "    "
   ]
  },
  {
   "cell_type": "markdown",
   "metadata": {
    "id": "JuXuFb6G71Cj"
   },
   "source": [
    "## 4.1 Affine Transform: 회전"
   ]
  },
  {
   "cell_type": "code",
   "execution_count": null,
   "metadata": {
    "colab": {
     "base_uri": "https://localhost:8080/",
     "height": 453
    },
    "id": "AFNal4ra71Cj",
    "outputId": "131b6d82-bbb4-4790-e5d4-df49c827b677"
   },
   "outputs": [],
   "source": [
    "import math\n",
    "\n",
    "src = cv2.imread(IMG_DIR+'chest_01.png',cv2.IMREAD_GRAYSCALE)\n",
    "src = cv2.imread(IMG_DIR+'apple.jpg')\n",
    "src = cv2.cvtColor(src, cv2.COLOR_BGR2RGB)\n",
    "\n",
    "theta = int(input('회전 각도: '))\n",
    "rad = theta * math.pi / 180 # 각도 설정\n",
    "\n",
    "# np.array로 Affine 행렬 생성\n",
    "aff = np.array([[math.cos(rad), math.sin(rad), 0],\n",
    "                [-math.sin(rad), math.cos(rad), 0]], dtype=np.float32)\n",
    "\n",
    "dst = cv2. (src, aff, (0, 0))\n",
    "\n",
    "plt.figure(figsize=(10, 10))\n",
    "plt.subplot(1, 2, 1)\n",
    "plt.title(\"Original image\")\n",
    "plt.imshow(src, cmap='gray', vmin=0, vmax=255)\n",
    "\n",
    "plt.subplot(1, 2, 2)\n",
    "plt.title(\"Rotated image\")\n",
    "plt.imshow(dst, cmap='gray', vmin=0, vmax=255)\n",
    "plt.show()"
   ]
  },
  {
   "cell_type": "markdown",
   "metadata": {
    "id": "Ypo7JrMx71Ck"
   },
   "source": [
    "## 4.2 Affine Transform: 확대, 축소"
   ]
  },
  {
   "cell_type": "code",
   "execution_count": null,
   "metadata": {
    "colab": {
     "base_uri": "https://localhost:8080/",
     "height": 698
    },
    "id": "_-pueDNW71Ck",
    "outputId": "321fc79b-9742-4d3b-a8da-8a10e0c8ddce"
   },
   "outputs": [],
   "source": [
    "src = cv2.imread(IMG_DIR+'apple.jpg') \n",
    "src = cv2.cvtColor(src, cv2.COLOR_BGR2RGB)\n",
    "height, width, channel = src.shape\n",
    "\n",
    "alpha = 1.1   # 확대\n",
    "beta = 0.7    # 축소\n",
    "dst = cv2.resize(src, dsize=(int(width * alpha), int(height * alpha)))\n",
    "dst2 = cv2.resize(src,dsize=(int(width * beta), int(height * beta)))\n",
    "\n",
    "aff1 = np.array([[alpha, 0, 0],\n",
    "                [0,  alpha, 0]], dtype=np.float32)\n",
    "dst3 = cv2.warpAffine(src, aff1, (0, 0))\n",
    "\n",
    "aff2 = np.array([[beta, 0, 0],\n",
    "                [0,  beta, 0]], dtype=np.float32)\n",
    "dst4 = cv2.warpAffine(src, aff2, (0, 0))\n",
    "\n",
    "plt.figure(figsize=(15, 12))\n",
    "plt.subplot(3, 3, 1)\n",
    "plt.title(\"Original\")\n",
    "plt.imshow(src)\n",
    "\n",
    "plt.subplot(3, 3, 2)\n",
    "plt.title(\"Enlarged(resize)\")\n",
    "dst = dst\n",
    "plt.imshow(dst)\n",
    "\n",
    "plt.subplot(3, 3, 3)\n",
    "plt.title(\"Enlarged(Affine)\")\n",
    "plt.imshow(dst3)\n",
    "\n",
    "plt.subplot(3, 3, 4)\n",
    "plt.title(\"Reduced-Affined: original size\")\n",
    "plt.imshow(dst4)\n",
    "\n",
    "\n",
    "plt.subplot(3, 3, 5)\n",
    "plt.title(\"Reduced(Affine): reduced size\")\n",
    "dst5 = dst4\n",
    "plt.imshow(dst5)\n",
    "\n",
    "plt.subplot(3, 3, 6)\n",
    "plt.title(\"Reduced(resize): Reduced size\")\n",
    "plt.imshow(dst2)\n",
    "\n",
    "plt.show()\n",
    "\n",
    "print(src.shape, dst.shape, dst2.shape, dst3.shape, dst4.shape, dst5.shape)"
   ]
  },
  {
   "cell_type": "markdown",
   "metadata": {
    "id": "MMeCAJy471Cl"
   },
   "source": [
    "### ▶ 확대 후: 물체가 중앙에 위치하도록 상,하,좌,우 shift 필요\n",
    "- imageGenerator에서는 확대 scale과 shift 같이..\n",
    "\n",
    "### ▶ 축소 후: 물체가 중앙에 위치하면서 원영상 크기로 조정 필요"
   ]
  },
  {
   "cell_type": "code",
   "execution_count": null,
   "metadata": {
    "colab": {
     "base_uri": "https://localhost:8080/",
     "height": 478
    },
    "id": "yEZOvFyU71Cl",
    "outputId": "e166304d-3d4e-4723-bd57-acce5c41c3dc"
   },
   "outputs": [],
   "source": [
    "src = cv2.imread(IMG_DIR+'apple.jpg') \n",
    "src = cv2.cvtColor(src, cv2.COLOR_BGR2RGB)\n",
    "height, width, channel = src.shape\n",
    "\n",
    "alpha = 1.2   # 확대\n",
    "s_w = int(width * alpha)\n",
    "s_h = int(height * alpha)\n",
    "dst = cv2.resize(src, dsize=(s_w, s_h))\n",
    "\n",
    "s_x = ( s_w - width) \n",
    "s_y = ( s_h - height) \n",
    "\n",
    "print(f'복사 시작 위치: ({s_y:d}, {s_x:d}), 확대 후(폭: {s_w}, 높이: {s_h})')\n",
    "dst1 = np. (src)\n",
    "dst1[:height, :width]= dst[s_y:  , s_x: ]\n",
    "\n",
    "beta = 0.9    # 축소\n",
    "s_w = int(width * beta)\n",
    "s_h = int(height * beta)\n",
    "dst = cv2.resize(src,dsize=(s_w, s_h))\n",
    "\n",
    "dst2 = np.zeros_like(src)\n",
    "s_y = (height - s_h) \n",
    "s_x = (width - s_w) \n",
    "dst2[s_y:  , s_x:  ] = dst[:s_h, :s_w]\n",
    "print(f'복사 시작 위치: ({s_y:d}, {s_x:d}), 축소 후(폭: {s_w}, 높이: {s_h})')\n",
    "\n",
    "\n",
    "plt.figure(figsize=(15, 6))\n",
    "plt.subplot(1, 3, 1)\n",
    "plt.title(\"Original image\")\n",
    "plt.imshow(src)\n",
    "\n",
    "plt.subplot(1, 3, 2)\n",
    "plt.title(\"Enlarged\")\n",
    "plt.imshow(dst1)\n",
    "\n",
    "plt.subplot(1, 3, 3)\n",
    "plt.title(\"Reduced: Centered\")\n",
    "plt.imshow(dst2)\n",
    "\n",
    "plt.show()\n",
    "print(src.shape, dst1.shape, dst2.shape)"
   ]
  },
  {
   "cell_type": "markdown",
   "metadata": {
    "id": "ng1WKNT571Cl"
   },
   "source": [
    "## ◆ Resize 시 주의점"
   ]
  },
  {
   "cell_type": "code",
   "execution_count": null,
   "metadata": {
    "colab": {
     "base_uri": "https://localhost:8080/",
     "height": 823
    },
    "id": "9qionDMT71Cm",
    "outputId": "c985a1ae-470a-4fe7-bc65-5b6e92acbf55"
   },
   "outputs": [],
   "source": [
    "image = cv2.imread(IMG_DIR+'butterfly.jpg')\n",
    "image = cv2.cvtColor(image, cv2.COLOR_BGR2RGB)\n",
    "print(image.shape)\n",
    "\n",
    "plt.figure(figsize=(10, 10))\n",
    "\n",
    "plt.subplot(2, 2, 1)\n",
    "plt.title(\"Original\")\n",
    "plt.imshow(image)\n",
    "\n",
    "# 3/4 배로\n",
    "image_scaled = cv2.resize(image, None, fx=0.75, fy=0.75)\n",
    "\n",
    "plt.subplot(2, 2, 2)\n",
    "plt.title(f\"Reduced:{image_scaled.shape[1]:d} X {image_scaled.shape[0]:d}\")\n",
    "plt.imshow(image_scaled)\n",
    "\n",
    "# 2배로 크게\n",
    "img_scaled = cv2.resize(image, None, fx=2, fy=2, interpolation = cv2.INTER_CUBIC)\n",
    "\n",
    "plt.subplot(2, 2, 3)\n",
    "plt.title(f\"Enlarged:{img_scaled.shape[1]:d} X {img_scaled.shape[0]:d}\")\n",
    "plt.imshow(img_scaled)\n",
    "\n",
    "# 224x224로 크기 변환\n",
    "img_scaled = cv2.resize(image,  , interpolation = cv2.INTER_AREA)\n",
    "\n",
    "plt.subplot(2, 2, 4)\n",
    "plt.title(f\"{img_scaled.shape[1]:d} X {img_scaled.shape[0]:d} resized\")\n",
    "plt.imshow(img_scaled)\n",
    "plt.show()"
   ]
  },
  {
   "cell_type": "markdown",
   "metadata": {
    "id": "hHj9p92R71Cu"
   },
   "source": [
    "# 6. 대칭\n",
    "- https://docs.opencv.org/4.6.0/d2/de8/group__core__array.html#gaca7be533e3dac7feb70fc60635adf441"
   ]
  },
  {
   "cell_type": "code",
   "execution_count": null,
   "metadata": {
    "colab": {
     "base_uri": "https://localhost:8080/",
     "height": 853
    },
    "id": "dZsbV-Ym71Cu",
    "outputId": "14c89231-6e3d-42c9-cd73-0dbcb6be6b43"
   },
   "outputs": [],
   "source": [
    "src = cv2.imread(IMG_DIR+'apple.jpg')\n",
    "src = cv2.cvtColor(src, cv2.COLOR_BGR2RGB)\n",
    "\n",
    "dst1 = cv2.flip(src, ) # vertical flip\n",
    "dst2 = cv2.flip(src, )\n",
    "dst3 = cv2.flip(src, )\n",
    "\n",
    "plt.figure(figsize=(10, 10))\n",
    "plt.subplot(2, 2, 1)\n",
    "plt.title(\"Original image\")\n",
    "plt.imshow(src, cmap='gray', vmin=0, vmax=255)\n",
    "\n",
    "plt.subplot(2, 2, 2)\n",
    "plt.title(\"Vertical flip\")\n",
    "plt.imshow(dst1, cmap='gray', vmin=0, vmax=255)\n",
    "\n",
    "plt.subplot(2, 2, 3)\n",
    "plt.title(\"Horizontal flip\")\n",
    "plt.imshow(dst2, cmap='gray', vmin=0, vmax=255)\n",
    "\n",
    "plt.subplot(2, 2, 4)\n",
    "plt.title(\"Antipodal mapping\")\n",
    "plt.imshow(dst3, cmap='gray', vmin=0, vmax=255)\n",
    "\n",
    "plt.show()"
   ]
  }
 ],
 "metadata": {
  "colab": {
   "provenance": []
  },
  "kernelspec": {
   "display_name": "Python 3 (ipykernel)",
   "language": "python",
   "name": "python3"
  },
  "language_info": {
   "codemirror_mode": {
    "name": "ipython",
    "version": 3
   },
   "file_extension": ".py",
   "mimetype": "text/x-python",
   "name": "python",
   "nbconvert_exporter": "python",
   "pygments_lexer": "ipython3",
   "version": "3.8.10"
  }
 },
 "nbformat": 4,
 "nbformat_minor": 1
}
