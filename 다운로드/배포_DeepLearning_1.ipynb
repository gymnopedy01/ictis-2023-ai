{
  "cells": [
    {
      "cell_type": "markdown",
      "id": "fc6bbf4f",
      "metadata": {
        "id": "fc6bbf4f"
      },
      "source": [
        "# ANN in Python"
      ]
    },
    {
      "cell_type": "markdown",
      "id": "a07c47ea",
      "metadata": {
        "id": "a07c47ea"
      },
      "source": [
        "## Artificial Neuron in Python"
      ]
    },
    {
      "cell_type": "code",
      "execution_count": 10,
      "id": "c202e293",
      "metadata": {
        "colab": {
          "base_uri": "https://localhost:8080/"
        },
        "id": "c202e293",
        "outputId": "922497a2-7ace-455d-c3c3-81caeed062bf"
      },
      "outputs": [
        {
          "output_type": "stream",
          "name": "stdout",
          "text": [
            "입력(콤마로 구분하여 입력하시오): 0,1\n",
            "뉴런 출력: 1\n"
          ]
        }
      ],
      "source": [
        "# 연산\n",
        "x1, x2 = eval( input('입력(콤마로 구분하여 입력하시오): '))\n",
        "b  = 1\n",
        "out = 1 if x1+x2>=b else 0\n",
        "print('뉴런 출력:', out)"
      ]
    },
    {
      "cell_type": "markdown",
      "source": [
        "0, 0"
      ],
      "metadata": {
        "id": "ycj0FW7Q8Ssb"
      },
      "id": "ycj0FW7Q8Ssb"
    },
    {
      "cell_type": "markdown",
      "id": "7e074058",
      "metadata": {
        "id": "7e074058"
      },
      "source": [
        "## Hebb's artificial neuron\n",
        "햅의 이론\n",
        " - 학습이 이루어지면 시냅스가 강화된다.\n",
        " - 시냅스의 변화를 \"가중치(weight)로 모델링\n",
        "햅의 인공 신경 세포(artificial neuron)"
      ]
    },
    {
      "cell_type": "code",
      "execution_count": 14,
      "id": "e77f3d6f",
      "metadata": {
        "colab": {
          "base_uri": "https://localhost:8080/"
        },
        "id": "e77f3d6f",
        "outputId": "38e4207a-1edb-43b9-e156-c9404453bf82"
      },
      "outputs": [
        {
          "output_type": "stream",
          "name": "stdout",
          "text": [
            "입력(콤마로 구분하여 입력하시오): 0,1\n",
            "뉴런 출력: 0\n"
          ]
        }
      ],
      "source": [
        "x1, x2 = eval( input('입력(콤마로 구분하여 입력하시오): '))\n",
        "\n",
        "b = -0.5\n",
        "w1 = 0.38\n",
        "w2 = 0.42\n",
        " \n",
        "y = x1*w1 + x2*w2 + b\n",
        "\n",
        "out= 1 if y >= 0.0 else 0\n",
        "\n",
        "print('뉴런 출력:', out)"
      ]
    },
    {
      "cell_type": "code",
      "source": [
        "x1, x2 = eval( input('입력(콤마로 구분하여 입력하시오): '))\n",
        "\n",
        "b = -0.01\n",
        "w1 = 0.36\n",
        "w2 = 0.39\n",
        " \n",
        "y = x1*w1 + x2*w2 + b\n",
        "\n",
        "out= 1 if y >= 0.0 else 0\n",
        "\n",
        "print('뉴런 출력:', out)"
      ],
      "metadata": {
        "colab": {
          "base_uri": "https://localhost:8080/"
        },
        "id": "54WkAqgnHQuR",
        "outputId": "ca3bbafc-210f-42f3-c63c-b6bcb5871d77"
      },
      "id": "54WkAqgnHQuR",
      "execution_count": 16,
      "outputs": [
        {
          "output_type": "stream",
          "name": "stdout",
          "text": [
            "입력(콤마로 구분하여 입력하시오): 0,1\n",
            "뉴런 출력: 1\n"
          ]
        }
      ]
    },
    {
      "cell_type": "code",
      "execution_count": 20,
      "id": "e2e726e8",
      "metadata": {
        "colab": {
          "base_uri": "https://localhost:8080/"
        },
        "id": "e2e726e8",
        "outputId": "b0df8e21-b46d-468c-d02d-bed5edceccb7"
      },
      "outputs": [
        {
          "output_type": "stream",
          "name": "stdout",
          "text": [
            "입력(콤마로 구분하여 입력하시오): 1,0\n",
            "W 출력: [[0.38]\n",
            " [0.42]]\n",
            "y 출력: [-0.12]\n",
            "뉴런 출력: 0\n"
          ]
        }
      ],
      "source": [
        "import numpy as np\n",
        "\n",
        "# 연산\n",
        "x1, x2 = eval( input('입력(콤마로 구분하여 입력하시오): '))\n",
        "x  = np.array([x1, x2])\n",
        "\n",
        "b = -0.5\n",
        "w1 = 0.38  \n",
        "w2 = 0.42\n",
        "W = np.array([w1, w2]).reshape(-1,1)\n",
        "\n",
        "y = np.dot(x,W) + b     #행렬 곱샘 x*W\n",
        "\n",
        "out= 1 if y >= 0.0 else 0\n",
        "\n",
        "print('W 출력:', W)\n",
        "print('y 출력:', y)\n",
        "print('뉴런 출력:', out)"
      ]
    },
    {
      "cell_type": "code",
      "execution_count": 27,
      "id": "cbda2ed2",
      "metadata": {
        "colab": {
          "base_uri": "https://localhost:8080/"
        },
        "id": "cbda2ed2",
        "outputId": "662a3bc3-749f-461e-93d9-f818cbc563b9"
      },
      "outputs": [
        {
          "output_type": "stream",
          "name": "stdout",
          "text": [
            "y:\n",
            " [[-0.5 ]\n",
            " [-0.08]\n",
            " [-0.12]\n",
            " [ 0.3 ]] (4, 1)\n",
            "out:\n",
            " [[0]\n",
            " [0]\n",
            " [0]\n",
            " [1]]\n",
            "error:\n",
            " [[0.5 ]\n",
            " [0.08]\n",
            " [0.12]\n",
            " [0.7 ]]\n"
          ]
        }
      ],
      "source": [
        "x = np.array([[0,0],\n",
        "              [0,1],\n",
        "              [1,0],\n",
        "              [1,1]])\n",
        "#t = np.array([0., 1., 1., 1.] ).reshape(-1,1)\n",
        "t = np.array([0., 0., 0., 1.] ).reshape(-1,1)\n",
        "b = -0.5\n",
        "w1 = 0.38  \n",
        "w2 = 0.42\n",
        "W = np.array([w1, w2]).reshape(-1,1)\n",
        " \n",
        "y = np.dot(x,W) + b  #matrix multiplication\n",
        "\n",
        "print(\"y:\\n\",y, y.shape)\n",
        "\n",
        "out =  (y>=0.0).astype(int)     #step fuctino\n",
        "print('out:\\n',out)\n",
        "\n",
        "e = t - y       # 로젠블라트 방법(SLP)\n",
        "#e = t - out     # 역전파학습(MLP) error back propagation \n",
        "print('error:\\n', e)            #실제값(t)과 예측한값(y)의 차이\n",
        "\n",
        "# t-out 는 빠르지만 \n"
      ]
    },
    {
      "cell_type": "code",
      "execution_count": null,
      "id": "3ca068cb",
      "metadata": {
        "id": "3ca068cb"
      },
      "outputs": [],
      "source": []
    },
    {
      "cell_type": "code",
      "execution_count": null,
      "id": "78d33bea",
      "metadata": {
        "id": "78d33bea"
      },
      "outputs": [],
      "source": []
    },
    {
      "cell_type": "code",
      "execution_count": null,
      "id": "f0a72e9d",
      "metadata": {
        "id": "f0a72e9d"
      },
      "outputs": [],
      "source": []
    },
    {
      "cell_type": "markdown",
      "id": "1505070a",
      "metadata": {
        "id": "1505070a"
      },
      "source": [
        "# 퍼셉트론의 구현 (델타룰로 학습 수행)"
      ]
    },
    {
      "cell_type": "code",
      "execution_count": 37,
      "id": "e6d6f856",
      "metadata": {
        "id": "e6d6f856"
      },
      "outputs": [],
      "source": [
        "def stepfunc(x):\n",
        "    return  (x>=0.0).astype(float) "
      ]
    },
    {
      "cell_type": "code",
      "execution_count": 38,
      "id": "fbb3e397",
      "metadata": {
        "id": "fbb3e397"
      },
      "outputs": [],
      "source": [
        "class Perceptron:\n",
        "    def __init__(self, x, y):\n",
        "        self.input  = x\n",
        "        self.w      = np.random.random((self.input.shape[1],1))       \n",
        "        self.t      = y\n",
        "        self.output = np.zeros_like(self.t) \n",
        "\n",
        "    def feedforward(self):\n",
        "        self.output =  stepfunc(np.dot(self.input, self.w))\n",
        "\n",
        "    def train(self, eta):\n",
        "        o_error =  self.t - self.output\n",
        "        d_w = eta * np.dot(self.input.T, o_error)\n",
        "        # update the weights\n",
        "        self.w +=  d_w\n",
        "    "
      ]
    },
    {
      "cell_type": "code",
      "execution_count": 41,
      "id": "ab9a7e9d",
      "metadata": {
        "colab": {
          "base_uri": "https://localhost:8080/"
        },
        "id": "ab9a7e9d",
        "outputId": "8efd5462-2669-485f-8b7f-1003d78b65d9"
      },
      "outputs": [
        {
          "output_type": "stream",
          "name": "stdout",
          "text": [
            "output:\n",
            " [[0.]\n",
            " [0.]\n",
            " [0.]\n",
            " [1.]]\n",
            "weights:\n",
            " [[ 0.1490287 ]\n",
            " [ 0.20596199]\n",
            " [-0.21473938]]\n"
          ]
        }
      ],
      "source": [
        "# 논리-AND를 수행하는 퍼셉트론 ,\n",
        "# the third input is for bias\n",
        "x = np.array([[0,0, 1],\n",
        "              [0,1, 1],\n",
        "              [1,0, 1],\n",
        "              [1,1, 1]])\n",
        "y = np.array([[0],[0],[0],[1]] )\n",
        "\n",
        "nn = Perceptron( x,y )\n",
        "\n",
        "for i in range(1500):\n",
        "    nn.feedforward()\n",
        "    nn.train(0.01)\n",
        "\n",
        "print('output:\\n', nn.output)\n",
        "print('weights:\\n',nn.w)"
      ]
    },
    {
      "cell_type": "code",
      "execution_count": 42,
      "id": "8b5e20d8",
      "metadata": {
        "colab": {
          "base_uri": "https://localhost:8080/"
        },
        "id": "8b5e20d8",
        "outputId": "1a587a9d-a855-4aa5-d2c7-8efabc430303"
      },
      "outputs": [
        {
          "output_type": "stream",
          "name": "stdout",
          "text": [
            "output:\n",
            " [[0.]\n",
            " [1.]\n",
            " [1.]\n",
            " [1.]]\n",
            "weights:\n",
            " [[ 0.78873149]\n",
            " [ 0.71336605]\n",
            " [-0.00123814]]\n"
          ]
        }
      ],
      "source": [
        "# 논리-OR를 수행하는 퍼셉트론\n",
        "\n",
        "x = np.array([[0,0, 1],\n",
        "              [0,1, 1],\n",
        "              [1,0, 1],\n",
        "              [1,1, 1]])\n",
        "y = np.array([[0],[1],[1],[1]] )\n",
        "\n",
        "nn = Perceptron( x,y )\n",
        "\n",
        "for i in range(1500):\n",
        "    nn.feedforward()\n",
        "    nn.train(0.01)\n",
        "\n",
        "print('output:\\n', nn.output)\n",
        "print('weights:\\n',nn.w)\n"
      ]
    },
    {
      "cell_type": "code",
      "execution_count": 43,
      "id": "ffc2a95d",
      "metadata": {
        "colab": {
          "base_uri": "https://localhost:8080/"
        },
        "id": "ffc2a95d",
        "outputId": "ccd8831b-6ff6-4cc6-ab3c-13ba98b47e39"
      },
      "outputs": [
        {
          "output_type": "stream",
          "name": "stdout",
          "text": [
            "output:\n",
            " [[1.]\n",
            " [1.]\n",
            " [1.]\n",
            " [1.]]\n",
            "weights:\n",
            " [[-0.00023221]\n",
            " [ 0.00269416]\n",
            " [-0.01334462]]\n"
          ]
        }
      ],
      "source": [
        "# 논리-XOR를 수행하는 퍼셉트론\n",
        "\n",
        "x = np.array([[0,0, 1],\n",
        "              [0,1, 1],\n",
        "              [1,0, 1],\n",
        "              [1,1, 1]])\n",
        "y = np.array([[0],[1],[1],[0]] )\n",
        "\n",
        "nn = Perceptron( x,y )\n",
        "\n",
        "for i in range(1500):\n",
        "    nn.feedforward()\n",
        "    nn.train(0.01)\n",
        "\n",
        "print('output:\\n', nn.output)\n",
        "print('weights:\\n',nn.w)"
      ]
    },
    {
      "cell_type": "code",
      "execution_count": null,
      "id": "38b8f469",
      "metadata": {
        "id": "38b8f469"
      },
      "outputs": [],
      "source": []
    },
    {
      "cell_type": "code",
      "execution_count": null,
      "id": "241e4161",
      "metadata": {
        "id": "241e4161"
      },
      "outputs": [],
      "source": []
    },
    {
      "cell_type": "code",
      "execution_count": null,
      "id": "db986376",
      "metadata": {
        "id": "db986376"
      },
      "outputs": [],
      "source": []
    }
  ],
  "metadata": {
    "kernelspec": {
      "display_name": "Python 3 (ipykernel)",
      "language": "python",
      "name": "python3"
    },
    "language_info": {
      "codemirror_mode": {
        "name": "ipython",
        "version": 3
      },
      "file_extension": ".py",
      "mimetype": "text/x-python",
      "name": "python",
      "nbconvert_exporter": "python",
      "pygments_lexer": "ipython3",
      "version": "3.8.10"
    },
    "colab": {
      "provenance": []
    }
  },
  "nbformat": 4,
  "nbformat_minor": 5
}