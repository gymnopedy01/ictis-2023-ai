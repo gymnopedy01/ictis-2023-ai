{
 "cells": [
  {
   "cell_type": "markdown",
   "id": "fc6bbf4f",
   "metadata": {},
   "source": [
    "# ANN in Python"
   ]
  },
  {
   "cell_type": "markdown",
   "id": "a07c47ea",
   "metadata": {},
   "source": [
    "## Artificial Neuron in Python"
   ]
  },
  {
   "cell_type": "code",
   "execution_count": null,
   "id": "c202e293",
   "metadata": {},
   "outputs": [],
   "source": [
    "# 연산\n",
    "x1, x2 = eval( input('입력(콤마로 구분하여 입력하시오): '))\n",
    "b  = 2\n",
    "out = 1 if x1+x2>=b else 0\n",
    "print('뉴런 출력:', out)"
   ]
  },
  {
   "cell_type": "markdown",
   "id": "7e074058",
   "metadata": {},
   "source": [
    "## Hebb's artificial neuron"
   ]
  },
  {
   "cell_type": "code",
   "execution_count": null,
   "id": "e77f3d6f",
   "metadata": {},
   "outputs": [],
   "source": [
    "x1, x2 = eval( input('입력(콤마로 구분하여 입력하시오): '))\n",
    "\n",
    "b = -0.5\n",
    "w1 = 0.38\n",
    "w2 = 0.42\n",
    " \n",
    "y = x1*w1 + x2*w2 + b\n",
    "\n",
    "out= 1 if y >= 0.0 else 0\n",
    "\n",
    "print('뉴런 출력:', out)"
   ]
  },
  {
   "cell_type": "code",
   "execution_count": null,
   "id": "e2e726e8",
   "metadata": {},
   "outputs": [],
   "source": [
    "import numpy as np\n",
    "\n",
    "# 연산\n",
    "x1, x2 = eval( input('입력(콤마로 구분하여 입력하시오): '))\n",
    "x  = np.array([x1, x2])\n",
    "\n",
    "b = -0.5\n",
    "w1 = 0.38  \n",
    "w2 = 0.42\n",
    "W = np.array([w1, w2]).reshape(-1,1)\n",
    "\n",
    "y = np.dot(x,W) + b\n",
    "\n",
    "out= 1 if y >= 0.0 else 0\n",
    "\n",
    "print('뉴런 출력:', out)"
   ]
  },
  {
   "cell_type": "code",
   "execution_count": null,
   "id": "cbda2ed2",
   "metadata": {},
   "outputs": [],
   "source": [
    "x = np.array([[0,0],\n",
    "              [0,1],\n",
    "              [1,0],\n",
    "              [1,1]])\n",
    "t = np.array([0., 1., 1., 1.] ).reshape(-1,1)\n",
    "b = -0.5\n",
    "w1 = 0.38  \n",
    "w2 = 0.42\n",
    "W = np.array([w1, w2]).reshape(-1,1)\n",
    " \n",
    "y = np.dot(x,W) + b  \n",
    "\n",
    "print(\"y:\\n\",y, y.shape)\n",
    "\n",
    "out =  \n",
    "print('out:\\n',out)\n",
    "\n",
    "e = \n",
    "print('error:\\n', e)"
   ]
  },
  {
   "cell_type": "code",
   "execution_count": null,
   "id": "3ca068cb",
   "metadata": {},
   "outputs": [],
   "source": []
  },
  {
   "cell_type": "code",
   "execution_count": null,
   "id": "78d33bea",
   "metadata": {},
   "outputs": [],
   "source": []
  },
  {
   "cell_type": "code",
   "execution_count": null,
   "id": "f0a72e9d",
   "metadata": {},
   "outputs": [],
   "source": []
  },
  {
   "cell_type": "markdown",
   "id": "1505070a",
   "metadata": {},
   "source": [
    "# 퍼셉트론의 구현 (델타룰로 학습 수행)"
   ]
  },
  {
   "cell_type": "code",
   "execution_count": null,
   "id": "e6d6f856",
   "metadata": {},
   "outputs": [],
   "source": [
    "def stepfunc(x):\n",
    "\n",
    "    return "
   ]
  },
  {
   "cell_type": "code",
   "execution_count": null,
   "id": "fbb3e397",
   "metadata": {},
   "outputs": [],
   "source": [
    "class Perceptron:\n",
    "    def __init__(self, x, y):\n",
    "        self.input  = x\n",
    "        self.w      = np.random.random((self.input.shape[1],1))       \n",
    "        self.t      = y\n",
    "        self.output = np.zeros_like(self.t) \n",
    "\n",
    "    def feedforward(self):\n",
    "        self.output =  stepfunc(np.dot(self.input, self.w))\n",
    "\n",
    "    def train(self, eta):\n",
    "        o_error =  \n",
    "        d_w = \n",
    "        # update the weights\n",
    "        self.w +=  \n",
    "    "
   ]
  },
  {
   "cell_type": "code",
   "execution_count": null,
   "id": "ab9a7e9d",
   "metadata": {},
   "outputs": [],
   "source": [
    "# 논리-AND를 수행하는 퍼셉트론 ,\n",
    "# the third input is for bias\n",
    "x = np.array([[0,0, 1],\n",
    "              [0,1, 1],\n",
    "              [1,0, 1],\n",
    "              [1,1, 1]])\n",
    "y = np.array([[0],[0],[0],[1]] )\n",
    "\n",
    "nn = Perceptron(  )\n",
    "\n",
    "print('output:\\n', nn.output)\n",
    "print('weights:\\n',nn.w)"
   ]
  },
  {
   "cell_type": "code",
   "execution_count": null,
   "id": "8b5e20d8",
   "metadata": {},
   "outputs": [],
   "source": [
    "# 논리-OR를 수행하는 퍼셉트론\n"
   ]
  },
  {
   "cell_type": "code",
   "execution_count": null,
   "id": "ffc2a95d",
   "metadata": {},
   "outputs": [],
   "source": [
    "# 논리-XOR를 수행하는 퍼셉트론\n"
   ]
  },
  {
   "cell_type": "code",
   "execution_count": null,
   "id": "38b8f469",
   "metadata": {},
   "outputs": [],
   "source": []
  },
  {
   "cell_type": "code",
   "execution_count": null,
   "id": "241e4161",
   "metadata": {},
   "outputs": [],
   "source": []
  },
  {
   "cell_type": "code",
   "execution_count": null,
   "id": "db986376",
   "metadata": {},
   "outputs": [],
   "source": []
  }
 ],
 "metadata": {
  "kernelspec": {
   "display_name": "Python 3 (ipykernel)",
   "language": "python",
   "name": "python3"
  },
  "language_info": {
   "codemirror_mode": {
    "name": "ipython",
    "version": 3
   },
   "file_extension": ".py",
   "mimetype": "text/x-python",
   "name": "python",
   "nbconvert_exporter": "python",
   "pygments_lexer": "ipython3",
   "version": "3.8.10"
  }
 },
 "nbformat": 4,
 "nbformat_minor": 5
}
